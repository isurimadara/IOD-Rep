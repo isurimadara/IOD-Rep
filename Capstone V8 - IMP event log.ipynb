{
 "cells": [
  {
   "cell_type": "markdown",
   "id": "4be879f4",
   "metadata": {},
   "source": [
    "# IMP Event Log"
   ]
  },
  {
   "cell_type": "markdown",
   "id": "9b27c453",
   "metadata": {},
   "source": [
    "This is an event log of an incident management process extracted from data gathered from the audit system of an instance of the ServiceNowTM platform used by an IT company. The event log is enriched with data loaded from a relational database underlying a corresponding process-aware information system. Information was anonymized for privacy.\n"
   ]
  },
  {
   "cell_type": "markdown",
   "id": "691c347f",
   "metadata": {},
   "source": [
    "Number of instances: 141,712 events (24,918 incidents)\n",
    "Number of attributes: 36 attributes (1 case identifier, 1 state identifier, 32 descriptive attributes, 2 dependent variables)\n",
    "\n",
    "The attributed â€˜closed_atâ€™ is used to determine the dependent variable for the time completion prediction task. The attribute â€˜resolved_atâ€™ is highly correlated with â€˜closed_atâ€™. In this event log, some rows may have the same values (they are equal) since not all attributes involved in the real-world process are present in the log.\n",
    "\n",
    "Attributes used to record textual information are not placed in this log.\n",
    "\n",
    "The missing values should be considered â€˜unknown informationâ€™."
   ]
  },
  {
   "cell_type": "markdown",
   "id": "123cd092",
   "metadata": {},
   "source": [
    "Attribute Information:\n",
    "\n",
    "1. number: incident identifier (24,918 different values);\n",
    "2. incident state: eight levels controlling the incident management process transitions from opening until closing the case;\n",
    "3. active: boolean attribute that shows whether the record is active or closed/canceled;\n",
    "4. reassignment_count: number of times the incident has the group or the support analysts changed;\n",
    "5. reopen_count: number of times the incident resolution was rejected by the caller;\n",
    "6. sys_mod_count: number of incident updates until that moment;\n",
    "7. made_sla: boolean attribute that shows whether the incident exceeded the target SLA;\n",
    "8. caller_id: identifier of the user affected;\n",
    "9. opened_by: identifier of the user who reported the incident;\n",
    "10. opened_at: incident user opening date and time;\n",
    "11. sys_created_by: identifier of the user who registered the incident;\n",
    "12. sys_created_at: incident system creation date and time;\n",
    "13. sys_updated_by: identifier of the user who updated the incident and generated the current log record;\n",
    "14. sys_updated_at: incident system update date and time;\n",
    "15. contact_type: categorical attribute that shows by what means the incident was reported;\n",
    "16. location: identifier of the location of the place affected;\n",
    "17. category: first-level description of the affected service;\n",
    "18. subcategory: second-level description of the affected service (related to the first level description, i.e., to category);\n",
    "19. u_symptom: description of the user perception about service availability;\n",
    "20. cmdb_ci: (confirmation item) identifier used to report the affected item (not mandatory);\n",
    "21. impact: description of the impact caused by the incident (values: 1 High; 2 Medium; 3 Low);\n",
    "22. urgency: description of the urgency informed by the user for the incident resolution (values: 1 High; 2 Medium; 3 Low);\n",
    "23. priority: calculated by the system based on 'impact' and 'urgency';\n",
    "24. assignment_group: identifier of the support group in charge of the incident;\n",
    "25. assigned_to: identifier of the user in charge of the incident;\n",
    "26. knowledge: boolean attribute that shows whether a knowledge base document was used to resolve the incident;\n",
    "27. u_priority_confirmation: boolean attribute that shows whether the priority field has been double-checked;\n",
    "28. notify: categorical attribute that shows whether notifications were generated for the incident;\n",
    "29. problem_id: identifier of the problem associated with the incident;\n",
    "30. rfc: (request for change) identifier of the change request associated with the incident;\n",
    "31. vendor: identifier of the vendor in charge of the incident;\n",
    "32. caused_by: identifier of the RFC responsible by the incident;\n",
    "33. close_code: identifier of the resolution of the incident;\n",
    "34. resolved_by: identifier of the user who resolved the incident;\n",
    "35. resolved_at: incident user resolution date and time (dependent variable);\n",
    "36. closed_at: incident user close date and time (dependent variable).\n",
    "\n"
   ]
  },
  {
   "cell_type": "markdown",
   "id": "bdf8577e",
   "metadata": {},
   "source": [
    "Relevant Papers:\n",
    "\n",
    "Amaral, C. A. L., Fantinato, M., Reijers, H. A., Peres, S. M., Enhancing Completion Time Prediction Through Attribute Selection. Proceedings of the 15th International Conference on Advanced Information Technologies for Management (AITM 2018) and 13th International Conference on Information Systems Management (ISM 2018), Revised Selected Papers â€“ Lecture Notes in Business Information Processing, v. 346, pp. 3-23, 2019. \n",
    "\n",
    "Amaral, C. A. L., Fantinato, M., Peres, S. M., Attribute Selection with Filter and Wrapper: An Application on Incident Management Process. Proceedings of the 14th Federated Conference on Computer Science and Information Systems (FedCSIS 2018), pp. 679-682, 2018. \n",
    "\n",
    "Maita, A. R. C., Martins, L. C., Paz, C. R. L., Rafferty, L., Hung, P., Peres, S. M., Fantinato, M. A systematic mapping study of process mining. Enterprise Information Systems, v. 12, n. 5, pp. 505-549, 2018. \n",
    "\n"
   ]
  },
  {
   "cell_type": "markdown",
   "id": "01c5e3a7",
   "metadata": {},
   "source": [
    "## Importing relevant Libraries"
   ]
  },
  {
   "cell_type": "code",
   "execution_count": 2,
   "id": "1a996e9a",
   "metadata": {},
   "outputs": [],
   "source": [
    "import pandas as pd\n",
    "import matplotlib.pyplot as plt\n",
    "import numpy as np\n",
    "import seaborn as sns\n",
    "\n",
    "from sklearn.model_selection import train_test_split\n",
    "\n",
    "from catboost import CatBoostClassifier\n",
    "from sklearn import svm\n",
    "from sklearn.ensemble import RandomForestClassifier \n",
    "from sklearn.tree import DecisionTreeClassifier \n",
    "\n",
    "from sklearn.metrics import confusion_matrix\n",
    "from sklearn import metrics\n",
    "\n",
    "# Import required libraries for machine learning classifiers\n",
    "from sklearn.linear_model import LogisticRegression\n",
    "from sklearn.svm import LinearSVC\n",
    "from sklearn.tree import DecisionTreeClassifier\n",
    "from sklearn.ensemble import RandomForestClassifier\n",
    "from sklearn.naive_bayes import GaussianNB\n",
    "\n",
    "# Import required libraries for performance metrics\n",
    "from sklearn.metrics import make_scorer\n",
    "from sklearn.metrics import accuracy_score\n",
    "from sklearn.metrics import precision_score\n",
    "from sklearn.metrics import recall_score\n",
    "from sklearn.metrics import f1_score\n",
    "from sklearn.model_selection import cross_validate\n",
    "\n",
    "#Import scikit-learn metrics module for accuracy calculation\n",
    "from sklearn import metrics\n",
    "\n"
   ]
  },
  {
   "cell_type": "markdown",
   "id": "44f513de",
   "metadata": {},
   "source": [
    "## Importing the dataset"
   ]
  },
  {
   "cell_type": "code",
   "execution_count": 3,
   "id": "f4fcf2a8",
   "metadata": {},
   "outputs": [],
   "source": [
    "data = pd.read_csv('incident_event_log.csv')"
   ]
  },
  {
   "cell_type": "markdown",
   "id": "cff4e325",
   "metadata": {},
   "source": [
    "## Getting to know Dataset Nature"
   ]
  },
  {
   "cell_type": "code",
   "execution_count": 4,
   "id": "baf7abc0",
   "metadata": {},
   "outputs": [
    {
     "data": {
      "text/html": [
       "<div>\n",
       "<style scoped>\n",
       "    .dataframe tbody tr th:only-of-type {\n",
       "        vertical-align: middle;\n",
       "    }\n",
       "\n",
       "    .dataframe tbody tr th {\n",
       "        vertical-align: top;\n",
       "    }\n",
       "\n",
       "    .dataframe thead th {\n",
       "        text-align: right;\n",
       "    }\n",
       "</style>\n",
       "<table border=\"1\" class=\"dataframe\">\n",
       "  <thead>\n",
       "    <tr style=\"text-align: right;\">\n",
       "      <th></th>\n",
       "      <th>number</th>\n",
       "      <th>incident_state</th>\n",
       "      <th>active</th>\n",
       "      <th>reassignment_count</th>\n",
       "      <th>reopen_count</th>\n",
       "      <th>sys_mod_count</th>\n",
       "      <th>made_sla</th>\n",
       "      <th>caller_id</th>\n",
       "      <th>opened_by</th>\n",
       "      <th>opened_at</th>\n",
       "      <th>...</th>\n",
       "      <th>u_priority_confirmation</th>\n",
       "      <th>notify</th>\n",
       "      <th>problem_id</th>\n",
       "      <th>rfc</th>\n",
       "      <th>vendor</th>\n",
       "      <th>caused_by</th>\n",
       "      <th>closed_code</th>\n",
       "      <th>resolved_by</th>\n",
       "      <th>resolved_at</th>\n",
       "      <th>closed_at</th>\n",
       "    </tr>\n",
       "  </thead>\n",
       "  <tbody>\n",
       "    <tr>\n",
       "      <th>0</th>\n",
       "      <td>INC0000045</td>\n",
       "      <td>New</td>\n",
       "      <td>True</td>\n",
       "      <td>0</td>\n",
       "      <td>0</td>\n",
       "      <td>0</td>\n",
       "      <td>True</td>\n",
       "      <td>Caller 2403</td>\n",
       "      <td>Opened by  8</td>\n",
       "      <td>29/2/2016 01:16</td>\n",
       "      <td>...</td>\n",
       "      <td>False</td>\n",
       "      <td>Do Not Notify</td>\n",
       "      <td>?</td>\n",
       "      <td>?</td>\n",
       "      <td>?</td>\n",
       "      <td>?</td>\n",
       "      <td>code 5</td>\n",
       "      <td>Resolved by 149</td>\n",
       "      <td>29/2/2016 11:29</td>\n",
       "      <td>5/3/2016 12:00</td>\n",
       "    </tr>\n",
       "    <tr>\n",
       "      <th>1</th>\n",
       "      <td>INC0000045</td>\n",
       "      <td>Resolved</td>\n",
       "      <td>True</td>\n",
       "      <td>0</td>\n",
       "      <td>0</td>\n",
       "      <td>2</td>\n",
       "      <td>True</td>\n",
       "      <td>Caller 2403</td>\n",
       "      <td>Opened by  8</td>\n",
       "      <td>29/2/2016 01:16</td>\n",
       "      <td>...</td>\n",
       "      <td>False</td>\n",
       "      <td>Do Not Notify</td>\n",
       "      <td>?</td>\n",
       "      <td>?</td>\n",
       "      <td>?</td>\n",
       "      <td>?</td>\n",
       "      <td>code 5</td>\n",
       "      <td>Resolved by 149</td>\n",
       "      <td>29/2/2016 11:29</td>\n",
       "      <td>5/3/2016 12:00</td>\n",
       "    </tr>\n",
       "    <tr>\n",
       "      <th>2</th>\n",
       "      <td>INC0000045</td>\n",
       "      <td>Resolved</td>\n",
       "      <td>True</td>\n",
       "      <td>0</td>\n",
       "      <td>0</td>\n",
       "      <td>3</td>\n",
       "      <td>True</td>\n",
       "      <td>Caller 2403</td>\n",
       "      <td>Opened by  8</td>\n",
       "      <td>29/2/2016 01:16</td>\n",
       "      <td>...</td>\n",
       "      <td>False</td>\n",
       "      <td>Do Not Notify</td>\n",
       "      <td>?</td>\n",
       "      <td>?</td>\n",
       "      <td>?</td>\n",
       "      <td>?</td>\n",
       "      <td>code 5</td>\n",
       "      <td>Resolved by 149</td>\n",
       "      <td>29/2/2016 11:29</td>\n",
       "      <td>5/3/2016 12:00</td>\n",
       "    </tr>\n",
       "    <tr>\n",
       "      <th>3</th>\n",
       "      <td>INC0000045</td>\n",
       "      <td>Closed</td>\n",
       "      <td>False</td>\n",
       "      <td>0</td>\n",
       "      <td>0</td>\n",
       "      <td>4</td>\n",
       "      <td>True</td>\n",
       "      <td>Caller 2403</td>\n",
       "      <td>Opened by  8</td>\n",
       "      <td>29/2/2016 01:16</td>\n",
       "      <td>...</td>\n",
       "      <td>False</td>\n",
       "      <td>Do Not Notify</td>\n",
       "      <td>?</td>\n",
       "      <td>?</td>\n",
       "      <td>?</td>\n",
       "      <td>?</td>\n",
       "      <td>code 5</td>\n",
       "      <td>Resolved by 149</td>\n",
       "      <td>29/2/2016 11:29</td>\n",
       "      <td>5/3/2016 12:00</td>\n",
       "    </tr>\n",
       "    <tr>\n",
       "      <th>4</th>\n",
       "      <td>INC0000047</td>\n",
       "      <td>New</td>\n",
       "      <td>True</td>\n",
       "      <td>0</td>\n",
       "      <td>0</td>\n",
       "      <td>0</td>\n",
       "      <td>True</td>\n",
       "      <td>Caller 2403</td>\n",
       "      <td>Opened by  397</td>\n",
       "      <td>29/2/2016 04:40</td>\n",
       "      <td>...</td>\n",
       "      <td>False</td>\n",
       "      <td>Do Not Notify</td>\n",
       "      <td>?</td>\n",
       "      <td>?</td>\n",
       "      <td>?</td>\n",
       "      <td>?</td>\n",
       "      <td>code 5</td>\n",
       "      <td>Resolved by 81</td>\n",
       "      <td>1/3/2016 09:52</td>\n",
       "      <td>6/3/2016 10:00</td>\n",
       "    </tr>\n",
       "    <tr>\n",
       "      <th>5</th>\n",
       "      <td>INC0000047</td>\n",
       "      <td>Active</td>\n",
       "      <td>True</td>\n",
       "      <td>1</td>\n",
       "      <td>0</td>\n",
       "      <td>1</td>\n",
       "      <td>True</td>\n",
       "      <td>Caller 2403</td>\n",
       "      <td>Opened by  397</td>\n",
       "      <td>29/2/2016 04:40</td>\n",
       "      <td>...</td>\n",
       "      <td>False</td>\n",
       "      <td>Do Not Notify</td>\n",
       "      <td>?</td>\n",
       "      <td>?</td>\n",
       "      <td>?</td>\n",
       "      <td>?</td>\n",
       "      <td>code 5</td>\n",
       "      <td>Resolved by 81</td>\n",
       "      <td>1/3/2016 09:52</td>\n",
       "      <td>6/3/2016 10:00</td>\n",
       "    </tr>\n",
       "    <tr>\n",
       "      <th>6</th>\n",
       "      <td>INC0000047</td>\n",
       "      <td>Active</td>\n",
       "      <td>True</td>\n",
       "      <td>1</td>\n",
       "      <td>0</td>\n",
       "      <td>2</td>\n",
       "      <td>True</td>\n",
       "      <td>Caller 2403</td>\n",
       "      <td>Opened by  397</td>\n",
       "      <td>29/2/2016 04:40</td>\n",
       "      <td>...</td>\n",
       "      <td>False</td>\n",
       "      <td>Do Not Notify</td>\n",
       "      <td>?</td>\n",
       "      <td>?</td>\n",
       "      <td>?</td>\n",
       "      <td>?</td>\n",
       "      <td>code 5</td>\n",
       "      <td>Resolved by 81</td>\n",
       "      <td>1/3/2016 09:52</td>\n",
       "      <td>6/3/2016 10:00</td>\n",
       "    </tr>\n",
       "    <tr>\n",
       "      <th>7</th>\n",
       "      <td>INC0000047</td>\n",
       "      <td>Active</td>\n",
       "      <td>True</td>\n",
       "      <td>1</td>\n",
       "      <td>0</td>\n",
       "      <td>3</td>\n",
       "      <td>True</td>\n",
       "      <td>Caller 2403</td>\n",
       "      <td>Opened by  397</td>\n",
       "      <td>29/2/2016 04:40</td>\n",
       "      <td>...</td>\n",
       "      <td>False</td>\n",
       "      <td>Do Not Notify</td>\n",
       "      <td>?</td>\n",
       "      <td>?</td>\n",
       "      <td>?</td>\n",
       "      <td>?</td>\n",
       "      <td>code 5</td>\n",
       "      <td>Resolved by 81</td>\n",
       "      <td>1/3/2016 09:52</td>\n",
       "      <td>6/3/2016 10:00</td>\n",
       "    </tr>\n",
       "    <tr>\n",
       "      <th>8</th>\n",
       "      <td>INC0000047</td>\n",
       "      <td>Active</td>\n",
       "      <td>True</td>\n",
       "      <td>1</td>\n",
       "      <td>0</td>\n",
       "      <td>4</td>\n",
       "      <td>True</td>\n",
       "      <td>Caller 2403</td>\n",
       "      <td>Opened by  397</td>\n",
       "      <td>29/2/2016 04:40</td>\n",
       "      <td>...</td>\n",
       "      <td>False</td>\n",
       "      <td>Do Not Notify</td>\n",
       "      <td>?</td>\n",
       "      <td>?</td>\n",
       "      <td>?</td>\n",
       "      <td>?</td>\n",
       "      <td>code 5</td>\n",
       "      <td>Resolved by 81</td>\n",
       "      <td>1/3/2016 09:52</td>\n",
       "      <td>6/3/2016 10:00</td>\n",
       "    </tr>\n",
       "    <tr>\n",
       "      <th>9</th>\n",
       "      <td>INC0000047</td>\n",
       "      <td>Active</td>\n",
       "      <td>True</td>\n",
       "      <td>1</td>\n",
       "      <td>0</td>\n",
       "      <td>5</td>\n",
       "      <td>True</td>\n",
       "      <td>Caller 2403</td>\n",
       "      <td>Opened by  397</td>\n",
       "      <td>29/2/2016 04:40</td>\n",
       "      <td>...</td>\n",
       "      <td>False</td>\n",
       "      <td>Do Not Notify</td>\n",
       "      <td>?</td>\n",
       "      <td>?</td>\n",
       "      <td>?</td>\n",
       "      <td>?</td>\n",
       "      <td>code 5</td>\n",
       "      <td>Resolved by 81</td>\n",
       "      <td>1/3/2016 09:52</td>\n",
       "      <td>6/3/2016 10:00</td>\n",
       "    </tr>\n",
       "    <tr>\n",
       "      <th>10</th>\n",
       "      <td>INC0000047</td>\n",
       "      <td>Awaiting User Info</td>\n",
       "      <td>True</td>\n",
       "      <td>1</td>\n",
       "      <td>0</td>\n",
       "      <td>6</td>\n",
       "      <td>True</td>\n",
       "      <td>Caller 2403</td>\n",
       "      <td>Opened by  397</td>\n",
       "      <td>29/2/2016 04:40</td>\n",
       "      <td>...</td>\n",
       "      <td>False</td>\n",
       "      <td>Do Not Notify</td>\n",
       "      <td>?</td>\n",
       "      <td>?</td>\n",
       "      <td>?</td>\n",
       "      <td>?</td>\n",
       "      <td>code 5</td>\n",
       "      <td>Resolved by 81</td>\n",
       "      <td>1/3/2016 09:52</td>\n",
       "      <td>6/3/2016 10:00</td>\n",
       "    </tr>\n",
       "    <tr>\n",
       "      <th>11</th>\n",
       "      <td>INC0000047</td>\n",
       "      <td>Resolved</td>\n",
       "      <td>True</td>\n",
       "      <td>1</td>\n",
       "      <td>0</td>\n",
       "      <td>7</td>\n",
       "      <td>True</td>\n",
       "      <td>Caller 2403</td>\n",
       "      <td>Opened by  397</td>\n",
       "      <td>29/2/2016 04:40</td>\n",
       "      <td>...</td>\n",
       "      <td>False</td>\n",
       "      <td>Do Not Notify</td>\n",
       "      <td>?</td>\n",
       "      <td>?</td>\n",
       "      <td>?</td>\n",
       "      <td>?</td>\n",
       "      <td>code 5</td>\n",
       "      <td>Resolved by 81</td>\n",
       "      <td>1/3/2016 09:52</td>\n",
       "      <td>6/3/2016 10:00</td>\n",
       "    </tr>\n",
       "    <tr>\n",
       "      <th>12</th>\n",
       "      <td>INC0000047</td>\n",
       "      <td>Closed</td>\n",
       "      <td>False</td>\n",
       "      <td>1</td>\n",
       "      <td>0</td>\n",
       "      <td>8</td>\n",
       "      <td>True</td>\n",
       "      <td>Caller 2403</td>\n",
       "      <td>Opened by  397</td>\n",
       "      <td>29/2/2016 04:40</td>\n",
       "      <td>...</td>\n",
       "      <td>False</td>\n",
       "      <td>Do Not Notify</td>\n",
       "      <td>?</td>\n",
       "      <td>?</td>\n",
       "      <td>?</td>\n",
       "      <td>?</td>\n",
       "      <td>code 5</td>\n",
       "      <td>Resolved by 81</td>\n",
       "      <td>1/3/2016 09:52</td>\n",
       "      <td>6/3/2016 10:00</td>\n",
       "    </tr>\n",
       "    <tr>\n",
       "      <th>13</th>\n",
       "      <td>INC0000057</td>\n",
       "      <td>New</td>\n",
       "      <td>True</td>\n",
       "      <td>0</td>\n",
       "      <td>0</td>\n",
       "      <td>0</td>\n",
       "      <td>True</td>\n",
       "      <td>Caller 4416</td>\n",
       "      <td>Opened by  8</td>\n",
       "      <td>29/2/2016 06:10</td>\n",
       "      <td>...</td>\n",
       "      <td>False</td>\n",
       "      <td>Do Not Notify</td>\n",
       "      <td>?</td>\n",
       "      <td>?</td>\n",
       "      <td>?</td>\n",
       "      <td>?</td>\n",
       "      <td>code 10</td>\n",
       "      <td>Resolved by 5</td>\n",
       "      <td>1/3/2016 02:55</td>\n",
       "      <td>6/3/2016 03:00</td>\n",
       "    </tr>\n",
       "    <tr>\n",
       "      <th>14</th>\n",
       "      <td>INC0000057</td>\n",
       "      <td>New</td>\n",
       "      <td>True</td>\n",
       "      <td>0</td>\n",
       "      <td>0</td>\n",
       "      <td>1</td>\n",
       "      <td>True</td>\n",
       "      <td>Caller 4416</td>\n",
       "      <td>Opened by  8</td>\n",
       "      <td>29/2/2016 06:10</td>\n",
       "      <td>...</td>\n",
       "      <td>False</td>\n",
       "      <td>Do Not Notify</td>\n",
       "      <td>?</td>\n",
       "      <td>?</td>\n",
       "      <td>?</td>\n",
       "      <td>?</td>\n",
       "      <td>code 10</td>\n",
       "      <td>Resolved by 5</td>\n",
       "      <td>1/3/2016 02:55</td>\n",
       "      <td>6/3/2016 03:00</td>\n",
       "    </tr>\n",
       "    <tr>\n",
       "      <th>15</th>\n",
       "      <td>INC0000057</td>\n",
       "      <td>New</td>\n",
       "      <td>True</td>\n",
       "      <td>0</td>\n",
       "      <td>0</td>\n",
       "      <td>2</td>\n",
       "      <td>True</td>\n",
       "      <td>Caller 4416</td>\n",
       "      <td>Opened by  8</td>\n",
       "      <td>29/2/2016 06:10</td>\n",
       "      <td>...</td>\n",
       "      <td>False</td>\n",
       "      <td>Do Not Notify</td>\n",
       "      <td>Problem ID  2</td>\n",
       "      <td>?</td>\n",
       "      <td>?</td>\n",
       "      <td>?</td>\n",
       "      <td>code 10</td>\n",
       "      <td>Resolved by 5</td>\n",
       "      <td>1/3/2016 02:55</td>\n",
       "      <td>6/3/2016 03:00</td>\n",
       "    </tr>\n",
       "    <tr>\n",
       "      <th>16</th>\n",
       "      <td>INC0000057</td>\n",
       "      <td>New</td>\n",
       "      <td>True</td>\n",
       "      <td>0</td>\n",
       "      <td>0</td>\n",
       "      <td>3</td>\n",
       "      <td>True</td>\n",
       "      <td>Caller 4416</td>\n",
       "      <td>Opened by  8</td>\n",
       "      <td>29/2/2016 06:10</td>\n",
       "      <td>...</td>\n",
       "      <td>False</td>\n",
       "      <td>Do Not Notify</td>\n",
       "      <td>Problem ID  2</td>\n",
       "      <td>?</td>\n",
       "      <td>?</td>\n",
       "      <td>?</td>\n",
       "      <td>code 10</td>\n",
       "      <td>Resolved by 5</td>\n",
       "      <td>1/3/2016 02:55</td>\n",
       "      <td>6/3/2016 03:00</td>\n",
       "    </tr>\n",
       "    <tr>\n",
       "      <th>17</th>\n",
       "      <td>INC0000057</td>\n",
       "      <td>New</td>\n",
       "      <td>True</td>\n",
       "      <td>0</td>\n",
       "      <td>0</td>\n",
       "      <td>4</td>\n",
       "      <td>True</td>\n",
       "      <td>Caller 4416</td>\n",
       "      <td>Opened by  8</td>\n",
       "      <td>29/2/2016 06:10</td>\n",
       "      <td>...</td>\n",
       "      <td>False</td>\n",
       "      <td>Do Not Notify</td>\n",
       "      <td>Problem ID  2</td>\n",
       "      <td>?</td>\n",
       "      <td>?</td>\n",
       "      <td>?</td>\n",
       "      <td>code 10</td>\n",
       "      <td>Resolved by 5</td>\n",
       "      <td>1/3/2016 02:55</td>\n",
       "      <td>6/3/2016 03:00</td>\n",
       "    </tr>\n",
       "    <tr>\n",
       "      <th>18</th>\n",
       "      <td>INC0000057</td>\n",
       "      <td>Resolved</td>\n",
       "      <td>True</td>\n",
       "      <td>0</td>\n",
       "      <td>0</td>\n",
       "      <td>5</td>\n",
       "      <td>True</td>\n",
       "      <td>Caller 4416</td>\n",
       "      <td>Opened by  8</td>\n",
       "      <td>29/2/2016 06:10</td>\n",
       "      <td>...</td>\n",
       "      <td>False</td>\n",
       "      <td>Do Not Notify</td>\n",
       "      <td>Problem ID  2</td>\n",
       "      <td>?</td>\n",
       "      <td>?</td>\n",
       "      <td>?</td>\n",
       "      <td>code 10</td>\n",
       "      <td>Resolved by 5</td>\n",
       "      <td>1/3/2016 02:55</td>\n",
       "      <td>6/3/2016 03:00</td>\n",
       "    </tr>\n",
       "    <tr>\n",
       "      <th>19</th>\n",
       "      <td>INC0000057</td>\n",
       "      <td>Closed</td>\n",
       "      <td>False</td>\n",
       "      <td>0</td>\n",
       "      <td>0</td>\n",
       "      <td>6</td>\n",
       "      <td>True</td>\n",
       "      <td>Caller 4416</td>\n",
       "      <td>Opened by  8</td>\n",
       "      <td>29/2/2016 06:10</td>\n",
       "      <td>...</td>\n",
       "      <td>False</td>\n",
       "      <td>Do Not Notify</td>\n",
       "      <td>Problem ID  2</td>\n",
       "      <td>?</td>\n",
       "      <td>?</td>\n",
       "      <td>?</td>\n",
       "      <td>code 10</td>\n",
       "      <td>Resolved by 5</td>\n",
       "      <td>1/3/2016 02:55</td>\n",
       "      <td>6/3/2016 03:00</td>\n",
       "    </tr>\n",
       "  </tbody>\n",
       "</table>\n",
       "<p>20 rows × 36 columns</p>\n",
       "</div>"
      ],
      "text/plain": [
       "        number      incident_state  active  reassignment_count  reopen_count  \\\n",
       "0   INC0000045                 New    True                   0             0   \n",
       "1   INC0000045            Resolved    True                   0             0   \n",
       "2   INC0000045            Resolved    True                   0             0   \n",
       "3   INC0000045              Closed   False                   0             0   \n",
       "4   INC0000047                 New    True                   0             0   \n",
       "5   INC0000047              Active    True                   1             0   \n",
       "6   INC0000047              Active    True                   1             0   \n",
       "7   INC0000047              Active    True                   1             0   \n",
       "8   INC0000047              Active    True                   1             0   \n",
       "9   INC0000047              Active    True                   1             0   \n",
       "10  INC0000047  Awaiting User Info    True                   1             0   \n",
       "11  INC0000047            Resolved    True                   1             0   \n",
       "12  INC0000047              Closed   False                   1             0   \n",
       "13  INC0000057                 New    True                   0             0   \n",
       "14  INC0000057                 New    True                   0             0   \n",
       "15  INC0000057                 New    True                   0             0   \n",
       "16  INC0000057                 New    True                   0             0   \n",
       "17  INC0000057                 New    True                   0             0   \n",
       "18  INC0000057            Resolved    True                   0             0   \n",
       "19  INC0000057              Closed   False                   0             0   \n",
       "\n",
       "    sys_mod_count  made_sla    caller_id       opened_by        opened_at  \\\n",
       "0               0      True  Caller 2403    Opened by  8  29/2/2016 01:16   \n",
       "1               2      True  Caller 2403    Opened by  8  29/2/2016 01:16   \n",
       "2               3      True  Caller 2403    Opened by  8  29/2/2016 01:16   \n",
       "3               4      True  Caller 2403    Opened by  8  29/2/2016 01:16   \n",
       "4               0      True  Caller 2403  Opened by  397  29/2/2016 04:40   \n",
       "5               1      True  Caller 2403  Opened by  397  29/2/2016 04:40   \n",
       "6               2      True  Caller 2403  Opened by  397  29/2/2016 04:40   \n",
       "7               3      True  Caller 2403  Opened by  397  29/2/2016 04:40   \n",
       "8               4      True  Caller 2403  Opened by  397  29/2/2016 04:40   \n",
       "9               5      True  Caller 2403  Opened by  397  29/2/2016 04:40   \n",
       "10              6      True  Caller 2403  Opened by  397  29/2/2016 04:40   \n",
       "11              7      True  Caller 2403  Opened by  397  29/2/2016 04:40   \n",
       "12              8      True  Caller 2403  Opened by  397  29/2/2016 04:40   \n",
       "13              0      True  Caller 4416    Opened by  8  29/2/2016 06:10   \n",
       "14              1      True  Caller 4416    Opened by  8  29/2/2016 06:10   \n",
       "15              2      True  Caller 4416    Opened by  8  29/2/2016 06:10   \n",
       "16              3      True  Caller 4416    Opened by  8  29/2/2016 06:10   \n",
       "17              4      True  Caller 4416    Opened by  8  29/2/2016 06:10   \n",
       "18              5      True  Caller 4416    Opened by  8  29/2/2016 06:10   \n",
       "19              6      True  Caller 4416    Opened by  8  29/2/2016 06:10   \n",
       "\n",
       "    ... u_priority_confirmation         notify     problem_id rfc vendor  \\\n",
       "0   ...                   False  Do Not Notify              ?   ?      ?   \n",
       "1   ...                   False  Do Not Notify              ?   ?      ?   \n",
       "2   ...                   False  Do Not Notify              ?   ?      ?   \n",
       "3   ...                   False  Do Not Notify              ?   ?      ?   \n",
       "4   ...                   False  Do Not Notify              ?   ?      ?   \n",
       "5   ...                   False  Do Not Notify              ?   ?      ?   \n",
       "6   ...                   False  Do Not Notify              ?   ?      ?   \n",
       "7   ...                   False  Do Not Notify              ?   ?      ?   \n",
       "8   ...                   False  Do Not Notify              ?   ?      ?   \n",
       "9   ...                   False  Do Not Notify              ?   ?      ?   \n",
       "10  ...                   False  Do Not Notify              ?   ?      ?   \n",
       "11  ...                   False  Do Not Notify              ?   ?      ?   \n",
       "12  ...                   False  Do Not Notify              ?   ?      ?   \n",
       "13  ...                   False  Do Not Notify              ?   ?      ?   \n",
       "14  ...                   False  Do Not Notify              ?   ?      ?   \n",
       "15  ...                   False  Do Not Notify  Problem ID  2   ?      ?   \n",
       "16  ...                   False  Do Not Notify  Problem ID  2   ?      ?   \n",
       "17  ...                   False  Do Not Notify  Problem ID  2   ?      ?   \n",
       "18  ...                   False  Do Not Notify  Problem ID  2   ?      ?   \n",
       "19  ...                   False  Do Not Notify  Problem ID  2   ?      ?   \n",
       "\n",
       "   caused_by closed_code      resolved_by      resolved_at       closed_at  \n",
       "0          ?      code 5  Resolved by 149  29/2/2016 11:29  5/3/2016 12:00  \n",
       "1          ?      code 5  Resolved by 149  29/2/2016 11:29  5/3/2016 12:00  \n",
       "2          ?      code 5  Resolved by 149  29/2/2016 11:29  5/3/2016 12:00  \n",
       "3          ?      code 5  Resolved by 149  29/2/2016 11:29  5/3/2016 12:00  \n",
       "4          ?      code 5   Resolved by 81   1/3/2016 09:52  6/3/2016 10:00  \n",
       "5          ?      code 5   Resolved by 81   1/3/2016 09:52  6/3/2016 10:00  \n",
       "6          ?      code 5   Resolved by 81   1/3/2016 09:52  6/3/2016 10:00  \n",
       "7          ?      code 5   Resolved by 81   1/3/2016 09:52  6/3/2016 10:00  \n",
       "8          ?      code 5   Resolved by 81   1/3/2016 09:52  6/3/2016 10:00  \n",
       "9          ?      code 5   Resolved by 81   1/3/2016 09:52  6/3/2016 10:00  \n",
       "10         ?      code 5   Resolved by 81   1/3/2016 09:52  6/3/2016 10:00  \n",
       "11         ?      code 5   Resolved by 81   1/3/2016 09:52  6/3/2016 10:00  \n",
       "12         ?      code 5   Resolved by 81   1/3/2016 09:52  6/3/2016 10:00  \n",
       "13         ?     code 10    Resolved by 5   1/3/2016 02:55  6/3/2016 03:00  \n",
       "14         ?     code 10    Resolved by 5   1/3/2016 02:55  6/3/2016 03:00  \n",
       "15         ?     code 10    Resolved by 5   1/3/2016 02:55  6/3/2016 03:00  \n",
       "16         ?     code 10    Resolved by 5   1/3/2016 02:55  6/3/2016 03:00  \n",
       "17         ?     code 10    Resolved by 5   1/3/2016 02:55  6/3/2016 03:00  \n",
       "18         ?     code 10    Resolved by 5   1/3/2016 02:55  6/3/2016 03:00  \n",
       "19         ?     code 10    Resolved by 5   1/3/2016 02:55  6/3/2016 03:00  \n",
       "\n",
       "[20 rows x 36 columns]"
      ]
     },
     "execution_count": 4,
     "metadata": {},
     "output_type": "execute_result"
    }
   ],
   "source": [
    "data.head(20)  "
   ]
  },
  {
   "cell_type": "code",
   "execution_count": 5,
   "id": "074fc12c",
   "metadata": {},
   "outputs": [
    {
     "data": {
      "text/html": [
       "<div>\n",
       "<style scoped>\n",
       "    .dataframe tbody tr th:only-of-type {\n",
       "        vertical-align: middle;\n",
       "    }\n",
       "\n",
       "    .dataframe tbody tr th {\n",
       "        vertical-align: top;\n",
       "    }\n",
       "\n",
       "    .dataframe thead th {\n",
       "        text-align: right;\n",
       "    }\n",
       "</style>\n",
       "<table border=\"1\" class=\"dataframe\">\n",
       "  <thead>\n",
       "    <tr style=\"text-align: right;\">\n",
       "      <th></th>\n",
       "      <th>reassignment_count</th>\n",
       "      <th>reopen_count</th>\n",
       "      <th>sys_mod_count</th>\n",
       "    </tr>\n",
       "  </thead>\n",
       "  <tbody>\n",
       "    <tr>\n",
       "      <th>count</th>\n",
       "      <td>141712.000000</td>\n",
       "      <td>141712.000000</td>\n",
       "      <td>141712.000000</td>\n",
       "    </tr>\n",
       "    <tr>\n",
       "      <th>mean</th>\n",
       "      <td>1.104197</td>\n",
       "      <td>0.021918</td>\n",
       "      <td>5.080946</td>\n",
       "    </tr>\n",
       "    <tr>\n",
       "      <th>std</th>\n",
       "      <td>1.734673</td>\n",
       "      <td>0.207302</td>\n",
       "      <td>7.680652</td>\n",
       "    </tr>\n",
       "    <tr>\n",
       "      <th>min</th>\n",
       "      <td>0.000000</td>\n",
       "      <td>0.000000</td>\n",
       "      <td>0.000000</td>\n",
       "    </tr>\n",
       "    <tr>\n",
       "      <th>25%</th>\n",
       "      <td>0.000000</td>\n",
       "      <td>0.000000</td>\n",
       "      <td>1.000000</td>\n",
       "    </tr>\n",
       "    <tr>\n",
       "      <th>50%</th>\n",
       "      <td>1.000000</td>\n",
       "      <td>0.000000</td>\n",
       "      <td>3.000000</td>\n",
       "    </tr>\n",
       "    <tr>\n",
       "      <th>75%</th>\n",
       "      <td>1.000000</td>\n",
       "      <td>0.000000</td>\n",
       "      <td>6.000000</td>\n",
       "    </tr>\n",
       "    <tr>\n",
       "      <th>max</th>\n",
       "      <td>27.000000</td>\n",
       "      <td>8.000000</td>\n",
       "      <td>129.000000</td>\n",
       "    </tr>\n",
       "  </tbody>\n",
       "</table>\n",
       "</div>"
      ],
      "text/plain": [
       "       reassignment_count   reopen_count  sys_mod_count\n",
       "count       141712.000000  141712.000000  141712.000000\n",
       "mean             1.104197       0.021918       5.080946\n",
       "std              1.734673       0.207302       7.680652\n",
       "min              0.000000       0.000000       0.000000\n",
       "25%              0.000000       0.000000       1.000000\n",
       "50%              1.000000       0.000000       3.000000\n",
       "75%              1.000000       0.000000       6.000000\n",
       "max             27.000000       8.000000     129.000000"
      ]
     },
     "execution_count": 5,
     "metadata": {},
     "output_type": "execute_result"
    }
   ],
   "source": [
    "data.describe()"
   ]
  },
  {
   "cell_type": "markdown",
   "id": "81dd464a",
   "metadata": {},
   "source": [
    "reassignment_count: number of times the incident has the group or the support analysts changed;\n",
    "\n",
    "reopen_count: number of times the incident resolution was rejected by the caller;\n",
    "\n",
    "sys_mod_count: number of incident updates until that moment;\n",
    "\n",
    "made_sla: boolean attribute that shows whether the incident exceeded the target SLA;"
   ]
  },
  {
   "cell_type": "code",
   "execution_count": 6,
   "id": "b2fc27ce",
   "metadata": {},
   "outputs": [
    {
     "name": "stdout",
     "output_type": "stream",
     "text": [
      "<class 'pandas.core.frame.DataFrame'>\n",
      "RangeIndex: 141712 entries, 0 to 141711\n",
      "Data columns (total 36 columns):\n",
      " #   Column                   Non-Null Count   Dtype \n",
      "---  ------                   --------------   ----- \n",
      " 0   number                   141712 non-null  object\n",
      " 1   incident_state           141712 non-null  object\n",
      " 2   active                   141712 non-null  bool  \n",
      " 3   reassignment_count       141712 non-null  int64 \n",
      " 4   reopen_count             141712 non-null  int64 \n",
      " 5   sys_mod_count            141712 non-null  int64 \n",
      " 6   made_sla                 141712 non-null  bool  \n",
      " 7   caller_id                141712 non-null  object\n",
      " 8   opened_by                141712 non-null  object\n",
      " 9   opened_at                141712 non-null  object\n",
      " 10  sys_created_by           141712 non-null  object\n",
      " 11  sys_created_at           141712 non-null  object\n",
      " 12  sys_updated_by           141712 non-null  object\n",
      " 13  sys_updated_at           141712 non-null  object\n",
      " 14  contact_type             141712 non-null  object\n",
      " 15  location                 141712 non-null  object\n",
      " 16  category                 141712 non-null  object\n",
      " 17  subcategory              141712 non-null  object\n",
      " 18  u_symptom                141712 non-null  object\n",
      " 19  cmdb_ci                  141712 non-null  object\n",
      " 20  impact                   141712 non-null  object\n",
      " 21  urgency                  141712 non-null  object\n",
      " 22  priority                 141712 non-null  object\n",
      " 23  assignment_group         141712 non-null  object\n",
      " 24  assigned_to              141712 non-null  object\n",
      " 25  knowledge                141712 non-null  bool  \n",
      " 26  u_priority_confirmation  141712 non-null  bool  \n",
      " 27  notify                   141712 non-null  object\n",
      " 28  problem_id               141712 non-null  object\n",
      " 29  rfc                      141712 non-null  object\n",
      " 30  vendor                   141712 non-null  object\n",
      " 31  caused_by                141712 non-null  object\n",
      " 32  closed_code              141712 non-null  object\n",
      " 33  resolved_by              141712 non-null  object\n",
      " 34  resolved_at              141712 non-null  object\n",
      " 35  closed_at                141712 non-null  object\n",
      "dtypes: bool(4), int64(3), object(29)\n",
      "memory usage: 35.1+ MB\n"
     ]
    }
   ],
   "source": [
    "data.info()"
   ]
  },
  {
   "cell_type": "code",
   "execution_count": 7,
   "id": "d8b84aaf",
   "metadata": {},
   "outputs": [
    {
     "name": "stdout",
     "output_type": "stream",
     "text": [
      "number                     0\n",
      "incident_state             0\n",
      "active                     0\n",
      "reassignment_count         0\n",
      "reopen_count               0\n",
      "sys_mod_count              0\n",
      "made_sla                   0\n",
      "caller_id                  0\n",
      "opened_by                  0\n",
      "opened_at                  0\n",
      "sys_created_by             0\n",
      "sys_created_at             0\n",
      "sys_updated_by             0\n",
      "sys_updated_at             0\n",
      "contact_type               0\n",
      "location                   0\n",
      "category                   0\n",
      "subcategory                0\n",
      "u_symptom                  0\n",
      "cmdb_ci                    0\n",
      "impact                     0\n",
      "urgency                    0\n",
      "priority                   0\n",
      "assignment_group           0\n",
      "assigned_to                0\n",
      "knowledge                  0\n",
      "u_priority_confirmation    0\n",
      "notify                     0\n",
      "problem_id                 0\n",
      "rfc                        0\n",
      "vendor                     0\n",
      "caused_by                  0\n",
      "closed_code                0\n",
      "resolved_by                0\n",
      "resolved_at                0\n",
      "closed_at                  0\n",
      "dtype: int64\n"
     ]
    }
   ],
   "source": [
    "print(data.isnull().sum()) "
   ]
  },
  {
   "cell_type": "code",
   "execution_count": 8,
   "id": "a9ad766b",
   "metadata": {},
   "outputs": [],
   "source": [
    "#incident state: eight levels controlling the incident management process transitions from opening until closing the case;\n",
    "incident_state  = data['incident_state'].value_counts(ascending=False)"
   ]
  },
  {
   "cell_type": "code",
   "execution_count": 9,
   "id": "ec972e2c",
   "metadata": {},
   "outputs": [
    {
     "data": {
      "image/png": "[encoded data removed]",
      "text/plain": [
       "<Figure size 432x288 with 1 Axes>"
      ]
     },
     "metadata": {
      "needs_background": "light"
     },
     "output_type": "display_data"
    }
   ],
   "source": [
    "x_incident_state = incident_state.iloc[:15].plot(kind='barh')"
   ]
  },
  {
   "cell_type": "code",
   "execution_count": 10,
   "id": "3647fd2f",
   "metadata": {},
   "outputs": [
    {
     "data": {
      "text/plain": [
       "Active                38716\n",
       "New                   36407\n",
       "Resolved              25751\n",
       "Closed                24985\n",
       "Awaiting User Info    14642\n",
       "Awaiting Vendor         707\n",
       "Awaiting Problem        461\n",
       "Awaiting Evidence        38\n",
       "-100                      5\n",
       "Name: incident_state, dtype: int64"
      ]
     },
     "execution_count": 10,
     "metadata": {},
     "output_type": "execute_result"
    }
   ],
   "source": [
    "incident_state"
   ]
  },
  {
   "cell_type": "code",
   "execution_count": 11,
   "id": "8a1f617f",
   "metadata": {},
   "outputs": [
    {
     "data": {
      "image/png": "[encoded data removed]",
      "text/plain": [
       "<Figure size 432x288 with 1 Axes>"
      ]
     },
     "metadata": {
      "needs_background": "light"
     },
     "output_type": "display_data"
    }
   ],
   "source": [
    "x_incident_state = incident_state.iloc[:15].plot(kind='barh')"
   ]
  },
  {
   "cell_type": "code",
   "execution_count": 12,
   "id": "ee7d5398",
   "metadata": {},
   "outputs": [
    {
     "data": {
      "text/plain": [
       "made_sla\n",
       "True     132497\n",
       "False      9215\n",
       "dtype: int64"
      ]
     },
     "execution_count": 12,
     "metadata": {},
     "output_type": "execute_result"
    }
   ],
   "source": [
    "data.value_counts(\"made_sla\")"
   ]
  },
  {
   "cell_type": "markdown",
   "id": "be142773",
   "metadata": {},
   "source": [
    "### Selecting all columns that is known as a new job."
   ]
  },
  {
   "cell_type": "code",
   "execution_count": 13,
   "id": "a9263bbf",
   "metadata": {},
   "outputs": [],
   "source": [
    "COLS = ['incident_state','contact_type','location','category','subcategory','u_symptom','impact','urgency','assignment_group','vendor','made_sla']"
   ]
  },
  {
   "cell_type": "code",
   "execution_count": 14,
   "id": "a9e696cd",
   "metadata": {},
   "outputs": [],
   "source": [
    "data_sla = data[COLS]"
   ]
  },
  {
   "cell_type": "code",
   "execution_count": 15,
   "id": "9144e402",
   "metadata": {},
   "outputs": [],
   "source": [
    "resolved_incidents_sla = data_sla[data_sla['incident_state'] == 'Closed']"
   ]
  },
  {
   "cell_type": "code",
   "execution_count": 16,
   "id": "ccbeb5a6",
   "metadata": {},
   "outputs": [
    {
     "data": {
      "text/html": [
       "<div>\n",
       "<style scoped>\n",
       "    .dataframe tbody tr th:only-of-type {\n",
       "        vertical-align: middle;\n",
       "    }\n",
       "\n",
       "    .dataframe tbody tr th {\n",
       "        vertical-align: top;\n",
       "    }\n",
       "\n",
       "    .dataframe thead th {\n",
       "        text-align: right;\n",
       "    }\n",
       "</style>\n",
       "<table border=\"1\" class=\"dataframe\">\n",
       "  <thead>\n",
       "    <tr style=\"text-align: right;\">\n",
       "      <th></th>\n",
       "      <th>incident_state</th>\n",
       "      <th>contact_type</th>\n",
       "      <th>location</th>\n",
       "      <th>category</th>\n",
       "      <th>subcategory</th>\n",
       "      <th>u_symptom</th>\n",
       "      <th>impact</th>\n",
       "      <th>urgency</th>\n",
       "      <th>assignment_group</th>\n",
       "      <th>vendor</th>\n",
       "      <th>made_sla</th>\n",
       "    </tr>\n",
       "  </thead>\n",
       "  <tbody>\n",
       "    <tr>\n",
       "      <th>3</th>\n",
       "      <td>Closed</td>\n",
       "      <td>Phone</td>\n",
       "      <td>Location 143</td>\n",
       "      <td>Category 55</td>\n",
       "      <td>Subcategory 170</td>\n",
       "      <td>Symptom 72</td>\n",
       "      <td>2 - Medium</td>\n",
       "      <td>2 - Medium</td>\n",
       "      <td>Group 56</td>\n",
       "      <td>?</td>\n",
       "      <td>True</td>\n",
       "    </tr>\n",
       "    <tr>\n",
       "      <th>12</th>\n",
       "      <td>Closed</td>\n",
       "      <td>Phone</td>\n",
       "      <td>Location 165</td>\n",
       "      <td>Category 40</td>\n",
       "      <td>Subcategory 215</td>\n",
       "      <td>Symptom 471</td>\n",
       "      <td>2 - Medium</td>\n",
       "      <td>2 - Medium</td>\n",
       "      <td>Group 24</td>\n",
       "      <td>?</td>\n",
       "      <td>True</td>\n",
       "    </tr>\n",
       "    <tr>\n",
       "      <th>19</th>\n",
       "      <td>Closed</td>\n",
       "      <td>Phone</td>\n",
       "      <td>Location 204</td>\n",
       "      <td>Category 20</td>\n",
       "      <td>Subcategory 125</td>\n",
       "      <td>Symptom 471</td>\n",
       "      <td>2 - Medium</td>\n",
       "      <td>2 - Medium</td>\n",
       "      <td>Group 70</td>\n",
       "      <td>?</td>\n",
       "      <td>True</td>\n",
       "    </tr>\n",
       "    <tr>\n",
       "      <th>23</th>\n",
       "      <td>Closed</td>\n",
       "      <td>Phone</td>\n",
       "      <td>Location 204</td>\n",
       "      <td>Category 9</td>\n",
       "      <td>Subcategory 97</td>\n",
       "      <td>Symptom 450</td>\n",
       "      <td>2 - Medium</td>\n",
       "      <td>2 - Medium</td>\n",
       "      <td>Group 25</td>\n",
       "      <td>?</td>\n",
       "      <td>True</td>\n",
       "    </tr>\n",
       "    <tr>\n",
       "      <th>31</th>\n",
       "      <td>Closed</td>\n",
       "      <td>Phone</td>\n",
       "      <td>Location 93</td>\n",
       "      <td>Category 53</td>\n",
       "      <td>Subcategory 168</td>\n",
       "      <td>Symptom 232</td>\n",
       "      <td>1 - High</td>\n",
       "      <td>2 - Medium</td>\n",
       "      <td>Group 23</td>\n",
       "      <td>?</td>\n",
       "      <td>False</td>\n",
       "    </tr>\n",
       "  </tbody>\n",
       "</table>\n",
       "</div>"
      ],
      "text/plain": [
       "   incident_state contact_type      location     category      subcategory  \\\n",
       "3          Closed        Phone  Location 143  Category 55  Subcategory 170   \n",
       "12         Closed        Phone  Location 165  Category 40  Subcategory 215   \n",
       "19         Closed        Phone  Location 204  Category 20  Subcategory 125   \n",
       "23         Closed        Phone  Location 204   Category 9   Subcategory 97   \n",
       "31         Closed        Phone   Location 93  Category 53  Subcategory 168   \n",
       "\n",
       "      u_symptom      impact     urgency assignment_group vendor  made_sla  \n",
       "3    Symptom 72  2 - Medium  2 - Medium         Group 56      ?      True  \n",
       "12  Symptom 471  2 - Medium  2 - Medium         Group 24      ?      True  \n",
       "19  Symptom 471  2 - Medium  2 - Medium         Group 70      ?      True  \n",
       "23  Symptom 450  2 - Medium  2 - Medium         Group 25      ?      True  \n",
       "31  Symptom 232    1 - High  2 - Medium         Group 23      ?     False  "
      ]
     },
     "execution_count": 16,
     "metadata": {},
     "output_type": "execute_result"
    }
   ],
   "source": [
    "resolved_incidents_sla.head()"
   ]
  },
  {
   "cell_type": "code",
   "execution_count": 17,
   "id": "031d7cbd",
   "metadata": {},
   "outputs": [],
   "source": [
    "data_processed_drop_nan_sla = resolved_incidents_sla[resolved_incidents_sla['location'] != \"?\"]"
   ]
  },
  {
   "cell_type": "code",
   "execution_count": 18,
   "id": "05a68c1c",
   "metadata": {},
   "outputs": [],
   "source": [
    "data_processed_drop_nan_sla = data_processed_drop_nan_sla[data_processed_drop_nan_sla['category'] != \"?\"]"
   ]
  },
  {
   "cell_type": "code",
   "execution_count": 19,
   "id": "b0bb6c6d",
   "metadata": {},
   "outputs": [],
   "source": [
    "data_processed_drop_nan_sla = data_processed_drop_nan_sla[data_processed_drop_nan_sla['u_symptom'] != \"?\"]"
   ]
  },
  {
   "cell_type": "code",
   "execution_count": 189,
   "id": "8c50e2a5",
   "metadata": {},
   "outputs": [
    {
     "name": "stdout",
     "output_type": "stream",
     "text": [
      "<class 'pandas.core.frame.DataFrame'>\n",
      "Int64Index: 19129 entries, 3 to 141711\n",
      "Data columns (total 11 columns):\n",
      " #   Column            Non-Null Count  Dtype \n",
      "---  ------            --------------  ----- \n",
      " 0   incident_state    19129 non-null  object\n",
      " 1   contact_type      19129 non-null  object\n",
      " 2   location          19129 non-null  object\n",
      " 3   category          19129 non-null  object\n",
      " 4   subcategory       19129 non-null  object\n",
      " 5   u_symptom         19129 non-null  object\n",
      " 6   impact            19129 non-null  object\n",
      " 7   urgency           19129 non-null  object\n",
      " 8   assignment_group  19129 non-null  object\n",
      " 9   vendor            19129 non-null  object\n",
      " 10  made_sla          19129 non-null  bool  \n",
      "dtypes: bool(1), object(10)\n",
      "memory usage: 1.6+ MB\n"
     ]
    }
   ],
   "source": [
    "data_processed_drop_nan_sla.info()"
   ]
  },
  {
   "cell_type": "code",
   "execution_count": 190,
   "id": "25547dc1",
   "metadata": {},
   "outputs": [
    {
     "data": {
      "text/plain": [
       "made_sla\n",
       "True     12561\n",
       "False     6568\n",
       "dtype: int64"
      ]
     },
     "execution_count": 190,
     "metadata": {},
     "output_type": "execute_result"
    }
   ],
   "source": [
    "data_processed_drop_nan_sla.value_counts(\"made_sla\")"
   ]
  },
  {
   "cell_type": "markdown",
   "id": "01bea6a0",
   "metadata": {},
   "source": [
    "### Barh charts on value counts"
   ]
  },
  {
   "cell_type": "code",
   "execution_count": 20,
   "id": "8e938c77",
   "metadata": {},
   "outputs": [],
   "source": [
    "location  = data_processed_drop_nan_sla['location'].value_counts(ascending=False)"
   ]
  },
  {
   "cell_type": "code",
   "execution_count": 21,
   "id": "82173a16",
   "metadata": {},
   "outputs": [
    {
     "data": {
      "image/png": "[encoded data removed]",
      "text/plain": [
       "<Figure size 432x288 with 1 Axes>"
      ]
     },
     "metadata": {
      "needs_background": "light"
     },
     "output_type": "display_data"
    }
   ],
   "source": [
    "x_location = location.iloc[:15].plot(kind='barh')"
   ]
  },
  {
   "cell_type": "code",
   "execution_count": 22,
   "id": "67000c7b",
   "metadata": {},
   "outputs": [],
   "source": [
    "category = data_processed_drop_nan_sla['category'].value_counts(ascending=False)"
   ]
  },
  {
   "cell_type": "code",
   "execution_count": 23,
   "id": "60f5ead3",
   "metadata": {},
   "outputs": [
    {
     "data": {
      "image/png": "[encoded data removed]",
      "text/plain": [
       "<Figure size 432x288 with 1 Axes>"
      ]
     },
     "metadata": {
      "needs_background": "light"
     },
     "output_type": "display_data"
    }
   ],
   "source": [
    "x_category = category.iloc[:15].plot(kind='barh')"
   ]
  },
  {
   "cell_type": "code",
   "execution_count": 177,
   "id": "06dbee46",
   "metadata": {},
   "outputs": [],
   "source": [
    "category = data_processed_drop_nan_sla['assignment_group'].value_counts(ascending=False)"
   ]
  },
  {
   "cell_type": "code",
   "execution_count": 178,
   "id": "38bf2a15",
   "metadata": {},
   "outputs": [
    {
     "data": {
      "image/png": "[encoded data removed]",
      "text/plain": [
       "<Figure size 432x288 with 1 Axes>"
      ]
     },
     "metadata": {
      "needs_background": "light"
     },
     "output_type": "display_data"
    }
   ],
   "source": [
    "x_assignment_group = category.iloc[:15].plot(kind='barh')"
   ]
  },
  {
   "cell_type": "code",
   "execution_count": 151,
   "id": "20054251",
   "metadata": {},
   "outputs": [
    {
     "name": "stderr",
     "output_type": "stream",
     "text": [
      "C:\\Users\\isuri\\anaconda3\\lib\\site-packages\\pandas\\core\\frame.py:3191: SettingWithCopyWarning: \n",
      "A value is trying to be set on a copy of a slice from a DataFrame.\n",
      "Try using .loc[row_indexer,col_indexer] = value instead\n",
      "\n",
      "See the caveats in the documentation: https://pandas.pydata.org/pandas-docs/stable/user_guide/indexing.html#returning-a-view-versus-a-copy\n",
      "  self[k1] = value[k2]\n"
     ]
    }
   ],
   "source": [
    "cols = ['category']\n",
    "\n",
    "data_sla[cols] = data_sla[cols].replace({'Category ':''}, regex = True) "
   ]
  },
  {
   "cell_type": "code",
   "execution_count": 202,
   "id": "a8155cf5",
   "metadata": {},
   "outputs": [
    {
     "data": {
      "text/plain": [
       "vendor\n",
       "?           141468\n",
       "code 8s        167\n",
       "Vendor 1        69\n",
       "Vendor 3         6\n",
       "Vendor 2         2\n",
       "dtype: int64"
      ]
     },
     "execution_count": 202,
     "metadata": {},
     "output_type": "execute_result"
    }
   ],
   "source": [
    "data_sla.value_counts(\"vendor\")"
   ]
  },
  {
   "cell_type": "code",
   "execution_count": 203,
   "id": "b7f54724",
   "metadata": {},
   "outputs": [
    {
     "data": {
      "text/plain": [
       "assignment_group\n",
       "Group 70    43474\n",
       "?           14213\n",
       "Group 25     7679\n",
       "Group 24     6752\n",
       "Group 20     6170\n",
       "            ...  \n",
       "Group 41        3\n",
       "Group 38        2\n",
       "Group 16        1\n",
       "Group 4         1\n",
       "Group 11        1\n",
       "Length: 79, dtype: int64"
      ]
     },
     "execution_count": 203,
     "metadata": {},
     "output_type": "execute_result"
    }
   ],
   "source": [
    "data_sla.value_counts(\"assignment_group\")"
   ]
  },
  {
   "cell_type": "code",
   "execution_count": 204,
   "id": "a6e2e403",
   "metadata": {},
   "outputs": [
    {
     "data": {
      "text/plain": [
       "category\n",
       "26    18453\n",
       "42    15977\n",
       "53    15968\n",
       "46    13324\n",
       "23     7779\n",
       "9      7365\n",
       "32     7273\n",
       "37     6584\n",
       "57     6532\n",
       "20     5506\n",
       "61     5168\n",
       "24     4561\n",
       "34     3946\n",
       "40     3760\n",
       "45     3619\n",
       "51     2390\n",
       "28     2256\n",
       "35     2037\n",
       "44     1798\n",
       "19     1592\n",
       "13      994\n",
       "43      858\n",
       "55      801\n",
       "17      512\n",
       "22      420\n",
       "56      322\n",
       "38      290\n",
       "8       264\n",
       "7       207\n",
       "33      160\n",
       "54      139\n",
       "50       93\n",
       "31       92\n",
       "63       78\n",
       "?        78\n",
       "2        77\n",
       "21       69\n",
       "47       50\n",
       "59       42\n",
       "41       36\n",
       "29       32\n",
       "5        31\n",
       "25       30\n",
       "62       25\n",
       "10       24\n",
       "4        22\n",
       "52       16\n",
       "30       15\n",
       "48       10\n",
       "6         7\n",
       "16        7\n",
       "58        5\n",
       "14        5\n",
       "12        3\n",
       "15        3\n",
       "49        2\n",
       "36        2\n",
       "27        2\n",
       "3         1\n",
       "dtype: int64"
      ]
     },
     "execution_count": 204,
     "metadata": {},
     "output_type": "execute_result"
    }
   ],
   "source": [
    "data_sla.value_counts(\"category\")"
   ]
  },
  {
   "cell_type": "code",
   "execution_count": 205,
   "id": "79a26d36",
   "metadata": {},
   "outputs": [
    {
     "data": {
      "text/plain": [
       "location\n",
       "204    31690\n",
       "161    22605\n",
       "143    19245\n",
       "108    12623\n",
       "93     11554\n",
       "       ...  \n",
       "141        3\n",
       "211        3\n",
       "166        2\n",
       "132        2\n",
       "31         2\n",
       "Length: 225, dtype: int64"
      ]
     },
     "execution_count": 205,
     "metadata": {},
     "output_type": "execute_result"
    }
   ],
   "source": [
    "data_sla.value_counts(\"location\")"
   ]
  },
  {
   "cell_type": "code",
   "execution_count": 206,
   "id": "fe8733aa",
   "metadata": {},
   "outputs": [],
   "source": [
    "predict = data_sla[data_sla['category'] != '?']"
   ]
  },
  {
   "cell_type": "code",
   "execution_count": 153,
   "id": "3ce51e21",
   "metadata": {},
   "outputs": [],
   "source": [
    "predict = data_sla[data_sla['location'] != '?']"
   ]
  },
  {
   "cell_type": "code",
   "execution_count": 154,
   "id": "53b544dd",
   "metadata": {},
   "outputs": [],
   "source": [
    "predict = data_sla[data_sla['assignment_group'] != '?']"
   ]
  },
  {
   "cell_type": "code",
   "execution_count": 155,
   "id": "e6d74c17",
   "metadata": {},
   "outputs": [],
   "source": [
    "predict = data_sla[data_sla['vendor'] != '?']"
   ]
  },
  {
   "cell_type": "code",
   "execution_count": 156,
   "id": "de0f0751",
   "metadata": {},
   "outputs": [
    {
     "data": {
      "text/html": [
       "<div>\n",
       "<style scoped>\n",
       "    .dataframe tbody tr th:only-of-type {\n",
       "        vertical-align: middle;\n",
       "    }\n",
       "\n",
       "    .dataframe tbody tr th {\n",
       "        vertical-align: top;\n",
       "    }\n",
       "\n",
       "    .dataframe thead th {\n",
       "        text-align: right;\n",
       "    }\n",
       "</style>\n",
       "<table border=\"1\" class=\"dataframe\">\n",
       "  <thead>\n",
       "    <tr style=\"text-align: right;\">\n",
       "      <th></th>\n",
       "      <th>incident_state</th>\n",
       "      <th>contact_type</th>\n",
       "      <th>location</th>\n",
       "      <th>category</th>\n",
       "      <th>subcategory</th>\n",
       "      <th>u_symptom</th>\n",
       "      <th>impact</th>\n",
       "      <th>urgency</th>\n",
       "      <th>assignment_group</th>\n",
       "      <th>vendor</th>\n",
       "      <th>made_sla</th>\n",
       "    </tr>\n",
       "  </thead>\n",
       "  <tbody>\n",
       "    <tr>\n",
       "      <th>7857</th>\n",
       "      <td>Awaiting Vendor</td>\n",
       "      <td>Phone</td>\n",
       "      <td>204</td>\n",
       "      <td>24</td>\n",
       "      <td>Subcategory 174</td>\n",
       "      <td>Symptom 491</td>\n",
       "      <td>2 - Medium</td>\n",
       "      <td>2 - Medium</td>\n",
       "      <td>Group 25</td>\n",
       "      <td>code 8s</td>\n",
       "      <td>True</td>\n",
       "    </tr>\n",
       "    <tr>\n",
       "      <th>7858</th>\n",
       "      <td>Awaiting Vendor</td>\n",
       "      <td>Phone</td>\n",
       "      <td>204</td>\n",
       "      <td>24</td>\n",
       "      <td>Subcategory 174</td>\n",
       "      <td>Symptom 491</td>\n",
       "      <td>2 - Medium</td>\n",
       "      <td>2 - Medium</td>\n",
       "      <td>Group 25</td>\n",
       "      <td>code 8s</td>\n",
       "      <td>True</td>\n",
       "    </tr>\n",
       "    <tr>\n",
       "      <th>9086</th>\n",
       "      <td>Awaiting Vendor</td>\n",
       "      <td>Phone</td>\n",
       "      <td>204</td>\n",
       "      <td>34</td>\n",
       "      <td>Subcategory 154</td>\n",
       "      <td>?</td>\n",
       "      <td>2 - Medium</td>\n",
       "      <td>2 - Medium</td>\n",
       "      <td>Group 25</td>\n",
       "      <td>code 8s</td>\n",
       "      <td>True</td>\n",
       "    </tr>\n",
       "    <tr>\n",
       "      <th>9087</th>\n",
       "      <td>Awaiting Vendor</td>\n",
       "      <td>Phone</td>\n",
       "      <td>204</td>\n",
       "      <td>34</td>\n",
       "      <td>Subcategory 154</td>\n",
       "      <td>?</td>\n",
       "      <td>2 - Medium</td>\n",
       "      <td>2 - Medium</td>\n",
       "      <td>Group 25</td>\n",
       "      <td>code 8s</td>\n",
       "      <td>True</td>\n",
       "    </tr>\n",
       "    <tr>\n",
       "      <th>9088</th>\n",
       "      <td>Awaiting Vendor</td>\n",
       "      <td>Phone</td>\n",
       "      <td>204</td>\n",
       "      <td>34</td>\n",
       "      <td>Subcategory 154</td>\n",
       "      <td>?</td>\n",
       "      <td>2 - Medium</td>\n",
       "      <td>2 - Medium</td>\n",
       "      <td>Group 25</td>\n",
       "      <td>code 8s</td>\n",
       "      <td>True</td>\n",
       "    </tr>\n",
       "    <tr>\n",
       "      <th>...</th>\n",
       "      <td>...</td>\n",
       "      <td>...</td>\n",
       "      <td>...</td>\n",
       "      <td>...</td>\n",
       "      <td>...</td>\n",
       "      <td>...</td>\n",
       "      <td>...</td>\n",
       "      <td>...</td>\n",
       "      <td>...</td>\n",
       "      <td>...</td>\n",
       "      <td>...</td>\n",
       "    </tr>\n",
       "    <tr>\n",
       "      <th>137209</th>\n",
       "      <td>Active</td>\n",
       "      <td>Phone</td>\n",
       "      <td>204</td>\n",
       "      <td>24</td>\n",
       "      <td>Subcategory 228</td>\n",
       "      <td>Symptom 101</td>\n",
       "      <td>2 - Medium</td>\n",
       "      <td>2 - Medium</td>\n",
       "      <td>Group 25</td>\n",
       "      <td>Vendor 1</td>\n",
       "      <td>True</td>\n",
       "    </tr>\n",
       "    <tr>\n",
       "      <th>137210</th>\n",
       "      <td>Awaiting Vendor</td>\n",
       "      <td>Phone</td>\n",
       "      <td>204</td>\n",
       "      <td>24</td>\n",
       "      <td>Subcategory 228</td>\n",
       "      <td>Symptom 101</td>\n",
       "      <td>2 - Medium</td>\n",
       "      <td>2 - Medium</td>\n",
       "      <td>Group 25</td>\n",
       "      <td>Vendor 1</td>\n",
       "      <td>True</td>\n",
       "    </tr>\n",
       "    <tr>\n",
       "      <th>137211</th>\n",
       "      <td>Awaiting Vendor</td>\n",
       "      <td>Phone</td>\n",
       "      <td>204</td>\n",
       "      <td>24</td>\n",
       "      <td>Subcategory 228</td>\n",
       "      <td>Symptom 101</td>\n",
       "      <td>2 - Medium</td>\n",
       "      <td>2 - Medium</td>\n",
       "      <td>Group 25</td>\n",
       "      <td>Vendor 1</td>\n",
       "      <td>True</td>\n",
       "    </tr>\n",
       "    <tr>\n",
       "      <th>137212</th>\n",
       "      <td>Resolved</td>\n",
       "      <td>Phone</td>\n",
       "      <td>204</td>\n",
       "      <td>24</td>\n",
       "      <td>Subcategory 228</td>\n",
       "      <td>Symptom 101</td>\n",
       "      <td>2 - Medium</td>\n",
       "      <td>2 - Medium</td>\n",
       "      <td>Group 25</td>\n",
       "      <td>Vendor 1</td>\n",
       "      <td>True</td>\n",
       "    </tr>\n",
       "    <tr>\n",
       "      <th>137213</th>\n",
       "      <td>Closed</td>\n",
       "      <td>Phone</td>\n",
       "      <td>204</td>\n",
       "      <td>24</td>\n",
       "      <td>Subcategory 228</td>\n",
       "      <td>Symptom 101</td>\n",
       "      <td>2 - Medium</td>\n",
       "      <td>2 - Medium</td>\n",
       "      <td>Group 25</td>\n",
       "      <td>Vendor 1</td>\n",
       "      <td>False</td>\n",
       "    </tr>\n",
       "  </tbody>\n",
       "</table>\n",
       "<p>244 rows × 11 columns</p>\n",
       "</div>"
      ],
      "text/plain": [
       "         incident_state contact_type location category      subcategory  \\\n",
       "7857    Awaiting Vendor        Phone      204       24  Subcategory 174   \n",
       "7858    Awaiting Vendor        Phone      204       24  Subcategory 174   \n",
       "9086    Awaiting Vendor        Phone      204       34  Subcategory 154   \n",
       "9087    Awaiting Vendor        Phone      204       34  Subcategory 154   \n",
       "9088    Awaiting Vendor        Phone      204       34  Subcategory 154   \n",
       "...                 ...          ...      ...      ...              ...   \n",
       "137209           Active        Phone      204       24  Subcategory 228   \n",
       "137210  Awaiting Vendor        Phone      204       24  Subcategory 228   \n",
       "137211  Awaiting Vendor        Phone      204       24  Subcategory 228   \n",
       "137212         Resolved        Phone      204       24  Subcategory 228   \n",
       "137213           Closed        Phone      204       24  Subcategory 228   \n",
       "\n",
       "          u_symptom      impact     urgency assignment_group    vendor  \\\n",
       "7857    Symptom 491  2 - Medium  2 - Medium         Group 25   code 8s   \n",
       "7858    Symptom 491  2 - Medium  2 - Medium         Group 25   code 8s   \n",
       "9086              ?  2 - Medium  2 - Medium         Group 25   code 8s   \n",
       "9087              ?  2 - Medium  2 - Medium         Group 25   code 8s   \n",
       "9088              ?  2 - Medium  2 - Medium         Group 25   code 8s   \n",
       "...             ...         ...         ...              ...       ...   \n",
       "137209  Symptom 101  2 - Medium  2 - Medium         Group 25  Vendor 1   \n",
       "137210  Symptom 101  2 - Medium  2 - Medium         Group 25  Vendor 1   \n",
       "137211  Symptom 101  2 - Medium  2 - Medium         Group 25  Vendor 1   \n",
       "137212  Symptom 101  2 - Medium  2 - Medium         Group 25  Vendor 1   \n",
       "137213  Symptom 101  2 - Medium  2 - Medium         Group 25  Vendor 1   \n",
       "\n",
       "        made_sla  \n",
       "7857        True  \n",
       "7858        True  \n",
       "9086        True  \n",
       "9087        True  \n",
       "9088        True  \n",
       "...          ...  \n",
       "137209      True  \n",
       "137210      True  \n",
       "137211      True  \n",
       "137212      True  \n",
       "137213     False  \n",
       "\n",
       "[244 rows x 11 columns]"
      ]
     },
     "execution_count": 156,
     "metadata": {},
     "output_type": "execute_result"
    }
   ],
   "source": [
    "predict"
   ]
  },
  {
   "cell_type": "code",
   "execution_count": 157,
   "id": "73f4b3f3",
   "metadata": {},
   "outputs": [
    {
     "data": {
      "text/plain": [
       "array(['code 8s', 'Vendor 3', 'Vendor 2', 'Vendor 1'], dtype=object)"
      ]
     },
     "execution_count": 157,
     "metadata": {},
     "output_type": "execute_result"
    }
   ],
   "source": [
    "predict.vendor.unique()"
   ]
  },
  {
   "cell_type": "code",
   "execution_count": 160,
   "id": "2848f1c2",
   "metadata": {},
   "outputs": [
    {
     "name": "stderr",
     "output_type": "stream",
     "text": [
      "C:\\Users\\isuri\\anaconda3\\lib\\site-packages\\pandas\\core\\frame.py:3191: SettingWithCopyWarning: \n",
      "A value is trying to be set on a copy of a slice from a DataFrame.\n",
      "Try using .loc[row_indexer,col_indexer] = value instead\n",
      "\n",
      "See the caveats in the documentation: https://pandas.pydata.org/pandas-docs/stable/user_guide/indexing.html#returning-a-view-versus-a-copy\n",
      "  self[k1] = value[k2]\n"
     ]
    }
   ],
   "source": [
    "cols = ['location']\n",
    "\n",
    "data_sla[cols] = data_sla[cols].replace({'Location ':''}, regex = True) "
   ]
  },
  {
   "cell_type": "code",
   "execution_count": 163,
   "id": "de91a4ac",
   "metadata": {},
   "outputs": [
    {
     "data": {
      "text/html": [
       "<div>\n",
       "<style scoped>\n",
       "    .dataframe tbody tr th:only-of-type {\n",
       "        vertical-align: middle;\n",
       "    }\n",
       "\n",
       "    .dataframe tbody tr th {\n",
       "        vertical-align: top;\n",
       "    }\n",
       "\n",
       "    .dataframe thead th {\n",
       "        text-align: right;\n",
       "    }\n",
       "</style>\n",
       "<table border=\"1\" class=\"dataframe\">\n",
       "  <thead>\n",
       "    <tr style=\"text-align: right;\">\n",
       "      <th></th>\n",
       "      <th>incident_state</th>\n",
       "      <th>contact_type</th>\n",
       "      <th>location</th>\n",
       "      <th>category</th>\n",
       "      <th>subcategory</th>\n",
       "      <th>u_symptom</th>\n",
       "      <th>impact</th>\n",
       "      <th>urgency</th>\n",
       "      <th>assignment_group</th>\n",
       "      <th>vendor</th>\n",
       "      <th>made_sla</th>\n",
       "    </tr>\n",
       "  </thead>\n",
       "  <tbody>\n",
       "    <tr>\n",
       "      <th>7857</th>\n",
       "      <td>Awaiting Vendor</td>\n",
       "      <td>Phone</td>\n",
       "      <td>204</td>\n",
       "      <td>24</td>\n",
       "      <td>Subcategory 174</td>\n",
       "      <td>Symptom 491</td>\n",
       "      <td>2 - Medium</td>\n",
       "      <td>2 - Medium</td>\n",
       "      <td>Group 25</td>\n",
       "      <td>code 8s</td>\n",
       "      <td>True</td>\n",
       "    </tr>\n",
       "    <tr>\n",
       "      <th>7858</th>\n",
       "      <td>Awaiting Vendor</td>\n",
       "      <td>Phone</td>\n",
       "      <td>204</td>\n",
       "      <td>24</td>\n",
       "      <td>Subcategory 174</td>\n",
       "      <td>Symptom 491</td>\n",
       "      <td>2 - Medium</td>\n",
       "      <td>2 - Medium</td>\n",
       "      <td>Group 25</td>\n",
       "      <td>code 8s</td>\n",
       "      <td>True</td>\n",
       "    </tr>\n",
       "    <tr>\n",
       "      <th>9086</th>\n",
       "      <td>Awaiting Vendor</td>\n",
       "      <td>Phone</td>\n",
       "      <td>204</td>\n",
       "      <td>34</td>\n",
       "      <td>Subcategory 154</td>\n",
       "      <td>?</td>\n",
       "      <td>2 - Medium</td>\n",
       "      <td>2 - Medium</td>\n",
       "      <td>Group 25</td>\n",
       "      <td>code 8s</td>\n",
       "      <td>True</td>\n",
       "    </tr>\n",
       "    <tr>\n",
       "      <th>9087</th>\n",
       "      <td>Awaiting Vendor</td>\n",
       "      <td>Phone</td>\n",
       "      <td>204</td>\n",
       "      <td>34</td>\n",
       "      <td>Subcategory 154</td>\n",
       "      <td>?</td>\n",
       "      <td>2 - Medium</td>\n",
       "      <td>2 - Medium</td>\n",
       "      <td>Group 25</td>\n",
       "      <td>code 8s</td>\n",
       "      <td>True</td>\n",
       "    </tr>\n",
       "    <tr>\n",
       "      <th>9088</th>\n",
       "      <td>Awaiting Vendor</td>\n",
       "      <td>Phone</td>\n",
       "      <td>204</td>\n",
       "      <td>34</td>\n",
       "      <td>Subcategory 154</td>\n",
       "      <td>?</td>\n",
       "      <td>2 - Medium</td>\n",
       "      <td>2 - Medium</td>\n",
       "      <td>Group 25</td>\n",
       "      <td>code 8s</td>\n",
       "      <td>True</td>\n",
       "    </tr>\n",
       "    <tr>\n",
       "      <th>...</th>\n",
       "      <td>...</td>\n",
       "      <td>...</td>\n",
       "      <td>...</td>\n",
       "      <td>...</td>\n",
       "      <td>...</td>\n",
       "      <td>...</td>\n",
       "      <td>...</td>\n",
       "      <td>...</td>\n",
       "      <td>...</td>\n",
       "      <td>...</td>\n",
       "      <td>...</td>\n",
       "    </tr>\n",
       "    <tr>\n",
       "      <th>137209</th>\n",
       "      <td>Active</td>\n",
       "      <td>Phone</td>\n",
       "      <td>204</td>\n",
       "      <td>24</td>\n",
       "      <td>Subcategory 228</td>\n",
       "      <td>Symptom 101</td>\n",
       "      <td>2 - Medium</td>\n",
       "      <td>2 - Medium</td>\n",
       "      <td>Group 25</td>\n",
       "      <td>Vendor 1</td>\n",
       "      <td>True</td>\n",
       "    </tr>\n",
       "    <tr>\n",
       "      <th>137210</th>\n",
       "      <td>Awaiting Vendor</td>\n",
       "      <td>Phone</td>\n",
       "      <td>204</td>\n",
       "      <td>24</td>\n",
       "      <td>Subcategory 228</td>\n",
       "      <td>Symptom 101</td>\n",
       "      <td>2 - Medium</td>\n",
       "      <td>2 - Medium</td>\n",
       "      <td>Group 25</td>\n",
       "      <td>Vendor 1</td>\n",
       "      <td>True</td>\n",
       "    </tr>\n",
       "    <tr>\n",
       "      <th>137211</th>\n",
       "      <td>Awaiting Vendor</td>\n",
       "      <td>Phone</td>\n",
       "      <td>204</td>\n",
       "      <td>24</td>\n",
       "      <td>Subcategory 228</td>\n",
       "      <td>Symptom 101</td>\n",
       "      <td>2 - Medium</td>\n",
       "      <td>2 - Medium</td>\n",
       "      <td>Group 25</td>\n",
       "      <td>Vendor 1</td>\n",
       "      <td>True</td>\n",
       "    </tr>\n",
       "    <tr>\n",
       "      <th>137212</th>\n",
       "      <td>Resolved</td>\n",
       "      <td>Phone</td>\n",
       "      <td>204</td>\n",
       "      <td>24</td>\n",
       "      <td>Subcategory 228</td>\n",
       "      <td>Symptom 101</td>\n",
       "      <td>2 - Medium</td>\n",
       "      <td>2 - Medium</td>\n",
       "      <td>Group 25</td>\n",
       "      <td>Vendor 1</td>\n",
       "      <td>True</td>\n",
       "    </tr>\n",
       "    <tr>\n",
       "      <th>137213</th>\n",
       "      <td>Closed</td>\n",
       "      <td>Phone</td>\n",
       "      <td>204</td>\n",
       "      <td>24</td>\n",
       "      <td>Subcategory 228</td>\n",
       "      <td>Symptom 101</td>\n",
       "      <td>2 - Medium</td>\n",
       "      <td>2 - Medium</td>\n",
       "      <td>Group 25</td>\n",
       "      <td>Vendor 1</td>\n",
       "      <td>False</td>\n",
       "    </tr>\n",
       "  </tbody>\n",
       "</table>\n",
       "<p>244 rows × 11 columns</p>\n",
       "</div>"
      ],
      "text/plain": [
       "         incident_state contact_type location category      subcategory  \\\n",
       "7857    Awaiting Vendor        Phone      204       24  Subcategory 174   \n",
       "7858    Awaiting Vendor        Phone      204       24  Subcategory 174   \n",
       "9086    Awaiting Vendor        Phone      204       34  Subcategory 154   \n",
       "9087    Awaiting Vendor        Phone      204       34  Subcategory 154   \n",
       "9088    Awaiting Vendor        Phone      204       34  Subcategory 154   \n",
       "...                 ...          ...      ...      ...              ...   \n",
       "137209           Active        Phone      204       24  Subcategory 228   \n",
       "137210  Awaiting Vendor        Phone      204       24  Subcategory 228   \n",
       "137211  Awaiting Vendor        Phone      204       24  Subcategory 228   \n",
       "137212         Resolved        Phone      204       24  Subcategory 228   \n",
       "137213           Closed        Phone      204       24  Subcategory 228   \n",
       "\n",
       "          u_symptom      impact     urgency assignment_group    vendor  \\\n",
       "7857    Symptom 491  2 - Medium  2 - Medium         Group 25   code 8s   \n",
       "7858    Symptom 491  2 - Medium  2 - Medium         Group 25   code 8s   \n",
       "9086              ?  2 - Medium  2 - Medium         Group 25   code 8s   \n",
       "9087              ?  2 - Medium  2 - Medium         Group 25   code 8s   \n",
       "9088              ?  2 - Medium  2 - Medium         Group 25   code 8s   \n",
       "...             ...         ...         ...              ...       ...   \n",
       "137209  Symptom 101  2 - Medium  2 - Medium         Group 25  Vendor 1   \n",
       "137210  Symptom 101  2 - Medium  2 - Medium         Group 25  Vendor 1   \n",
       "137211  Symptom 101  2 - Medium  2 - Medium         Group 25  Vendor 1   \n",
       "137212  Symptom 101  2 - Medium  2 - Medium         Group 25  Vendor 1   \n",
       "137213  Symptom 101  2 - Medium  2 - Medium         Group 25  Vendor 1   \n",
       "\n",
       "        made_sla  \n",
       "7857        True  \n",
       "7858        True  \n",
       "9086        True  \n",
       "9087        True  \n",
       "9088        True  \n",
       "...          ...  \n",
       "137209      True  \n",
       "137210      True  \n",
       "137211      True  \n",
       "137212      True  \n",
       "137213     False  \n",
       "\n",
       "[244 rows x 11 columns]"
      ]
     },
     "execution_count": 163,
     "metadata": {},
     "output_type": "execute_result"
    }
   ],
   "source": [
    "predict"
   ]
  },
  {
   "cell_type": "code",
   "execution_count": 164,
   "id": "aecbd5f7",
   "metadata": {},
   "outputs": [
    {
     "data": {
      "text/plain": [
       "made_sla\n",
       "True     234\n",
       "False     10\n",
       "dtype: int64"
      ]
     },
     "execution_count": 164,
     "metadata": {},
     "output_type": "execute_result"
    }
   ],
   "source": [
    "predict.value_counts(\"made_sla\")"
   ]
  },
  {
   "cell_type": "markdown",
   "id": "90c37c20",
   "metadata": {},
   "source": [
    "https://pandas.pydata.org/pandas-docs/stable/user_guide/visualization.html"
   ]
  },
  {
   "cell_type": "code",
   "execution_count": 166,
   "id": "7f6633d4",
   "metadata": {},
   "outputs": [],
   "source": [
    "\n",
    "df2 = pd.DataFrame(np.random.rand(10, 3), columns=[\"location\", \"assignment_group\", \"impact\",])"
   ]
  },
  {
   "cell_type": "code",
   "execution_count": 167,
   "id": "75243c64",
   "metadata": {},
   "outputs": [
    {
     "data": {
      "image/png": "[encoded data removed]",
      "text/plain": [
       "<Figure size 432x288 with 1 Axes>"
      ]
     },
     "metadata": {
      "needs_background": "light"
     },
     "output_type": "display_data"
    }
   ],
   "source": [
    "df2.plot.bar();"
   ]
  },
  {
   "cell_type": "code",
   "execution_count": 139,
   "id": "0348e9ea",
   "metadata": {},
   "outputs": [
    {
     "data": {
      "image/png": "[encoded data removed]",
      "text/plain": [
       "<Figure size 432x288 with 1 Axes>"
      ]
     },
     "metadata": {
      "needs_background": "light"
     },
     "output_type": "display_data"
    }
   ],
   "source": [
    "df2.plot.bar(stacked=True);"
   ]
  },
  {
   "cell_type": "code",
   "execution_count": 175,
   "id": "97ab358a",
   "metadata": {},
   "outputs": [],
   "source": [
    "df = pd.DataFrame(\n",
    "    3 * np.random.rand(4, 2), index=[\"location\", \"assignment_group\", \"impact\",\"made_sla\"], columns=[\"x\", \"y\"]\n",
    ")"
   ]
  },
  {
   "cell_type": "code",
   "execution_count": 176,
   "id": "a0b4a7c7",
   "metadata": {},
   "outputs": [
    {
     "data": {
      "image/png": "[encoded data removed]",
      "text/plain": [
       "<Figure size 864x288 with 2 Axes>"
      ]
     },
     "metadata": {},
     "output_type": "display_data"
    }
   ],
   "source": [
    "df.plot.pie(subplots=True, figsize=(12, 4),autopct=\"%.2f\");"
   ]
  },
  {
   "cell_type": "markdown",
   "id": "651fc9ed",
   "metadata": {},
   "source": [
    "## Spliting Data to Train and Test"
   ]
  },
  {
   "cell_type": "markdown",
   "id": "265eb631",
   "metadata": {},
   "source": [
    "### CatBoostClassifier"
   ]
  },
  {
   "cell_type": "code",
   "execution_count": 94,
   "id": "9cb29954",
   "metadata": {},
   "outputs": [],
   "source": [
    "X = data_processed_drop_nan_sla.drop(['made_sla'], axis=1)\n",
    "y = data_processed_drop_nan_sla.made_sla"
   ]
  },
  {
   "cell_type": "code",
   "execution_count": 95,
   "id": "9bdda1c7",
   "metadata": {},
   "outputs": [],
   "source": [
    "X_train, X_validation, y_train, y_validation = train_test_split(X, y, train_size=0.7, random_state=1234, stratify=y)\n"
   ]
  },
  {
   "cell_type": "markdown",
   "id": "5a994366",
   "metadata": {},
   "source": [
    "https://stackoverflow.com/questions/60648547/how-to-increase-accuracy-of-model-using-catboost"
   ]
  },
  {
   "cell_type": "markdown",
   "id": "67ac1a3d",
   "metadata": {},
   "source": [
    "https://www.analyticsvidhya.com/blog/2017/08/catboost-automated-categorical-data/"
   ]
  },
  {
   "cell_type": "code",
   "execution_count": 96,
   "id": "a0e8bf0c",
   "metadata": {},
   "outputs": [],
   "source": [
    "categorical_features_indices = np.where(X.dtypes != np.float)[0]\n"
   ]
  },
  {
   "cell_type": "code",
   "execution_count": 108,
   "id": "18f0dad4",
   "metadata": {},
   "outputs": [],
   "source": [
    " best_params = {\n",
    "            'bagging_temperature': 0.5,\n",
    "            'depth': 12,\n",
    "            'iterations': 600,\n",
    "            'learning_rate': 0.1,\n",
    "            'sampling_frequency': 'PerTreeLevel',\n",
    "            'leaf_estimation_method': 'Gradient',\n",
    "            'random_strength': 0.8,\n",
    "            'l2_leaf_reg': 50,\n",
    "            'max_ctr_complexity': 2,\n",
    "            'fold_len_multiplier': 2, \n",
    "            'eval_metric': 'AUC'\n",
    "     \n",
    "    }"
   ]
  },
  {
   "cell_type": "code",
   "execution_count": 109,
   "id": "f5bbe663",
   "metadata": {},
   "outputs": [
    {
     "data": {
      "application/vnd.jupyter.widget-view+json": {
       "model_id": "faaf5741994f4bb49b8f49173ef89011",
       "version_major": 2,
       "version_minor": 0
      },
      "text/plain": [
       "MetricVisualizer(layout=Layout(align_self='stretch', height='500px'))"
      ]
     },
     "metadata": {},
     "output_type": "display_data"
    },
    {
     "name": "stdout",
     "output_type": "stream",
     "text": [
      "0:\ttest: 0.7583703\tbest: 0.7583703 (0)\ttotal: 114ms\tremaining: 1m 8s\n",
      "1:\ttest: 0.7755424\tbest: 0.7755424 (1)\ttotal: 307ms\tremaining: 1m 31s\n",
      "2:\ttest: 0.7873101\tbest: 0.7873101 (2)\ttotal: 643ms\tremaining: 2m 7s\n",
      "3:\ttest: 0.7868690\tbest: 0.7873101 (2)\ttotal: 777ms\tremaining: 1m 55s\n",
      "4:\ttest: 0.7898075\tbest: 0.7898075 (4)\ttotal: 3.62s\tremaining: 7m 10s\n",
      "5:\ttest: 0.7951051\tbest: 0.7951051 (5)\ttotal: 3.81s\tremaining: 6m 16s\n",
      "6:\ttest: 0.7995564\tbest: 0.7995564 (6)\ttotal: 5.67s\tremaining: 8m\n",
      "7:\ttest: 0.8012197\tbest: 0.8012197 (7)\ttotal: 7.5s\tremaining: 9m 14s\n",
      "8:\ttest: 0.8085644\tbest: 0.8085644 (8)\ttotal: 9.53s\tremaining: 10m 26s\n",
      "9:\ttest: 0.8110442\tbest: 0.8110442 (9)\ttotal: 11.3s\tremaining: 11m 9s\n",
      "10:\ttest: 0.8130535\tbest: 0.8130535 (10)\ttotal: 11.7s\tremaining: 10m 25s\n",
      "11:\ttest: 0.8148713\tbest: 0.8148713 (11)\ttotal: 13.9s\tremaining: 11m 22s\n",
      "12:\ttest: 0.8161501\tbest: 0.8161501 (12)\ttotal: 15.9s\tremaining: 11m 56s\n",
      "13:\ttest: 0.8169093\tbest: 0.8169093 (13)\ttotal: 17.8s\tremaining: 12m 25s\n",
      "14:\ttest: 0.8173753\tbest: 0.8173753 (14)\ttotal: 17.9s\tremaining: 11m 37s\n",
      "15:\ttest: 0.8192994\tbest: 0.8192994 (15)\ttotal: 19.6s\tremaining: 11m 54s\n",
      "16:\ttest: 0.8198179\tbest: 0.8198179 (16)\ttotal: 21.2s\tremaining: 12m 8s\n",
      "17:\ttest: 0.8202815\tbest: 0.8202815 (17)\ttotal: 23.1s\tremaining: 12m 27s\n",
      "18:\ttest: 0.8206137\tbest: 0.8206137 (18)\ttotal: 25s\tremaining: 12m 44s\n",
      "19:\ttest: 0.8209980\tbest: 0.8209980 (19)\ttotal: 26.8s\tremaining: 12m 56s\n",
      "20:\ttest: 0.8213734\tbest: 0.8213734 (20)\ttotal: 28.5s\tremaining: 13m 4s\n",
      "21:\ttest: 0.8216543\tbest: 0.8216543 (21)\ttotal: 30.2s\tremaining: 13m 14s\n",
      "22:\ttest: 0.8219495\tbest: 0.8219495 (22)\ttotal: 31.9s\tremaining: 13m 20s\n",
      "23:\ttest: 0.8225972\tbest: 0.8225972 (23)\ttotal: 33.7s\tremaining: 13m 29s\n",
      "24:\ttest: 0.8234344\tbest: 0.8234344 (24)\ttotal: 35.4s\tremaining: 13m 35s\n",
      "25:\ttest: 0.8236387\tbest: 0.8236387 (25)\ttotal: 37.3s\tremaining: 13m 44s\n",
      "26:\ttest: 0.8236623\tbest: 0.8236623 (26)\ttotal: 37.4s\tremaining: 13m 13s\n",
      "27:\ttest: 0.8239949\tbest: 0.8239949 (27)\ttotal: 39.1s\tremaining: 13m 18s\n",
      "28:\ttest: 0.8245804\tbest: 0.8245804 (28)\ttotal: 40.8s\tremaining: 13m 24s\n",
      "29:\ttest: 0.8247558\tbest: 0.8247558 (29)\ttotal: 40.9s\tremaining: 12m 57s\n",
      "30:\ttest: 0.8248370\tbest: 0.8248370 (30)\ttotal: 42.6s\tremaining: 13m 1s\n",
      "31:\ttest: 0.8250837\tbest: 0.8250837 (31)\ttotal: 44.2s\tremaining: 13m 5s\n",
      "32:\ttest: 0.8251811\tbest: 0.8251811 (32)\ttotal: 44.4s\tremaining: 12m 42s\n",
      "33:\ttest: 0.8259819\tbest: 0.8259819 (33)\ttotal: 46.1s\tremaining: 12m 47s\n",
      "34:\ttest: 0.8261164\tbest: 0.8261164 (34)\ttotal: 47.8s\tremaining: 12m 51s\n",
      "35:\ttest: 0.8265513\tbest: 0.8265513 (35)\ttotal: 49.5s\tremaining: 12m 55s\n",
      "36:\ttest: 0.8263191\tbest: 0.8265513 (35)\ttotal: 51.2s\tremaining: 12m 59s\n",
      "37:\ttest: 0.8262925\tbest: 0.8265513 (35)\ttotal: 52.9s\tremaining: 13m 2s\n",
      "38:\ttest: 0.8266313\tbest: 0.8266313 (38)\ttotal: 54.6s\tremaining: 13m 5s\n",
      "39:\ttest: 0.8267244\tbest: 0.8267244 (39)\ttotal: 56.4s\tremaining: 13m 10s\n",
      "40:\ttest: 0.8271829\tbest: 0.8271829 (40)\ttotal: 58.4s\tremaining: 13m 15s\n",
      "41:\ttest: 0.8272552\tbest: 0.8272552 (41)\ttotal: 1m\tremaining: 13m 17s\n",
      "42:\ttest: 0.8274027\tbest: 0.8274027 (42)\ttotal: 1m 1s\tremaining: 13m 20s\n",
      "43:\ttest: 0.8279524\tbest: 0.8279524 (43)\ttotal: 1m 3s\tremaining: 13m 23s\n",
      "44:\ttest: 0.8280569\tbest: 0.8280569 (44)\ttotal: 1m 3s\tremaining: 13m 5s\n",
      "45:\ttest: 0.8278648\tbest: 0.8280569 (44)\ttotal: 1m 5s\tremaining: 13m 6s\n",
      "46:\ttest: 0.8279868\tbest: 0.8280569 (44)\ttotal: 1m 7s\tremaining: 13m 8s\n",
      "47:\ttest: 0.8282980\tbest: 0.8282980 (47)\ttotal: 1m 8s\tremaining: 13m 10s\n",
      "48:\ttest: 0.8282219\tbest: 0.8282980 (47)\ttotal: 1m 10s\tremaining: 13m 12s\n",
      "49:\ttest: 0.8280317\tbest: 0.8282980 (47)\ttotal: 1m 12s\tremaining: 13m 15s\n",
      "50:\ttest: 0.8275804\tbest: 0.8282980 (47)\ttotal: 1m 14s\tremaining: 13m 19s\n",
      "51:\ttest: 0.8272240\tbest: 0.8282980 (47)\ttotal: 1m 16s\tremaining: 13m 21s\n",
      "52:\ttest: 0.8272935\tbest: 0.8282980 (47)\ttotal: 1m 17s\tremaining: 13m 24s\n",
      "53:\ttest: 0.8275273\tbest: 0.8282980 (47)\ttotal: 1m 19s\tremaining: 13m 26s\n",
      "54:\ttest: 0.8276779\tbest: 0.8282980 (47)\ttotal: 1m 21s\tremaining: 13m 28s\n",
      "55:\ttest: 0.8278219\tbest: 0.8282980 (47)\ttotal: 1m 23s\tremaining: 13m 29s\n",
      "56:\ttest: 0.8278220\tbest: 0.8282980 (47)\ttotal: 1m 25s\tremaining: 13m 33s\n",
      "57:\ttest: 0.8278705\tbest: 0.8282980 (47)\ttotal: 1m 25s\tremaining: 13m 18s\n",
      "58:\ttest: 0.8277490\tbest: 0.8282980 (47)\ttotal: 1m 27s\tremaining: 13m 26s\n",
      "59:\ttest: 0.8279358\tbest: 0.8282980 (47)\ttotal: 1m 29s\tremaining: 13m 27s\n",
      "60:\ttest: 0.8279905\tbest: 0.8282980 (47)\ttotal: 1m 31s\tremaining: 13m 29s\n",
      "61:\ttest: 0.8276642\tbest: 0.8282980 (47)\ttotal: 1m 33s\tremaining: 13m 35s\n",
      "62:\ttest: 0.8277719\tbest: 0.8282980 (47)\ttotal: 1m 35s\tremaining: 13m 37s\n",
      "63:\ttest: 0.8277690\tbest: 0.8282980 (47)\ttotal: 1m 35s\tremaining: 13m 23s\n",
      "64:\ttest: 0.8279109\tbest: 0.8282980 (47)\ttotal: 1m 37s\tremaining: 13m 24s\n",
      "65:\ttest: 0.8281305\tbest: 0.8282980 (47)\ttotal: 1m 39s\tremaining: 13m 24s\n",
      "66:\ttest: 0.8281331\tbest: 0.8282980 (47)\ttotal: 1m 39s\tremaining: 13m 11s\n",
      "67:\ttest: 0.8282420\tbest: 0.8282980 (47)\ttotal: 1m 41s\tremaining: 13m 12s\n",
      "68:\ttest: 0.8284010\tbest: 0.8284010 (68)\ttotal: 1m 43s\tremaining: 13m 14s\n",
      "69:\ttest: 0.8284743\tbest: 0.8284743 (69)\ttotal: 1m 45s\tremaining: 13m 15s\n",
      "70:\ttest: 0.8284566\tbest: 0.8284743 (69)\ttotal: 1m 46s\tremaining: 13m 16s\n",
      "71:\ttest: 0.8283578\tbest: 0.8284743 (69)\ttotal: 1m 49s\tremaining: 13m 19s\n",
      "72:\ttest: 0.8282518\tbest: 0.8284743 (69)\ttotal: 1m 51s\tremaining: 13m 22s\n",
      "73:\ttest: 0.8282991\tbest: 0.8284743 (69)\ttotal: 1m 53s\tremaining: 13m 26s\n",
      "74:\ttest: 0.8282779\tbest: 0.8284743 (69)\ttotal: 1m 55s\tremaining: 13m 27s\n",
      "75:\ttest: 0.8281933\tbest: 0.8284743 (69)\ttotal: 1m 57s\tremaining: 13m 27s\n",
      "76:\ttest: 0.8281523\tbest: 0.8284743 (69)\ttotal: 1m 59s\tremaining: 13m 31s\n",
      "77:\ttest: 0.8283410\tbest: 0.8284743 (69)\ttotal: 2m 1s\tremaining: 13m 32s\n",
      "78:\ttest: 0.8284673\tbest: 0.8284743 (69)\ttotal: 2m 3s\tremaining: 13m 31s\n",
      "79:\ttest: 0.8283632\tbest: 0.8284743 (69)\ttotal: 2m 4s\tremaining: 13m 32s\n",
      "80:\ttest: 0.8284067\tbest: 0.8284743 (69)\ttotal: 2m 6s\tremaining: 13m 33s\n",
      "81:\ttest: 0.8284798\tbest: 0.8284798 (81)\ttotal: 2m 8s\tremaining: 13m 34s\n",
      "82:\ttest: 0.8285463\tbest: 0.8285463 (82)\ttotal: 2m 10s\tremaining: 13m 34s\n",
      "83:\ttest: 0.8285674\tbest: 0.8285674 (83)\ttotal: 2m 12s\tremaining: 13m 35s\n",
      "84:\ttest: 0.8285384\tbest: 0.8285674 (83)\ttotal: 2m 14s\tremaining: 13m 36s\n",
      "85:\ttest: 0.8285281\tbest: 0.8285674 (83)\ttotal: 2m 16s\tremaining: 13m 36s\n",
      "86:\ttest: 0.8284844\tbest: 0.8285674 (83)\ttotal: 2m 18s\tremaining: 13m 36s\n",
      "87:\ttest: 0.8284736\tbest: 0.8285674 (83)\ttotal: 2m 18s\tremaining: 13m 25s\n",
      "88:\ttest: 0.8284278\tbest: 0.8285674 (83)\ttotal: 2m 20s\tremaining: 13m 26s\n",
      "89:\ttest: 0.8282994\tbest: 0.8285674 (83)\ttotal: 2m 22s\tremaining: 13m 27s\n",
      "90:\ttest: 0.8282210\tbest: 0.8285674 (83)\ttotal: 2m 24s\tremaining: 13m 28s\n",
      "91:\ttest: 0.8282446\tbest: 0.8285674 (83)\ttotal: 2m 26s\tremaining: 13m 27s\n",
      "92:\ttest: 0.8281852\tbest: 0.8285674 (83)\ttotal: 2m 28s\tremaining: 13m 28s\n",
      "93:\ttest: 0.8281973\tbest: 0.8285674 (83)\ttotal: 2m 30s\tremaining: 13m 28s\n",
      "94:\ttest: 0.8281496\tbest: 0.8285674 (83)\ttotal: 2m 32s\tremaining: 13m 28s\n",
      "95:\ttest: 0.8282174\tbest: 0.8285674 (83)\ttotal: 2m 33s\tremaining: 13m 28s\n",
      "96:\ttest: 0.8282653\tbest: 0.8285674 (83)\ttotal: 2m 35s\tremaining: 13m 28s\n",
      "97:\ttest: 0.8282607\tbest: 0.8285674 (83)\ttotal: 2m 35s\tremaining: 13m 18s\n",
      "98:\ttest: 0.8281476\tbest: 0.8285674 (83)\ttotal: 2m 38s\tremaining: 13m 19s\n",
      "99:\ttest: 0.8282141\tbest: 0.8285674 (83)\ttotal: 2m 39s\tremaining: 13m 19s\n",
      "100:\ttest: 0.8282310\tbest: 0.8285674 (83)\ttotal: 2m 41s\tremaining: 13m 20s\n",
      "101:\ttest: 0.8282310\tbest: 0.8285674 (83)\ttotal: 2m 42s\tremaining: 13m 11s\n",
      "102:\ttest: 0.8282600\tbest: 0.8285674 (83)\ttotal: 2m 43s\tremaining: 13m 10s\n",
      "103:\ttest: 0.8282417\tbest: 0.8285674 (83)\ttotal: 2m 45s\tremaining: 13m 10s\n",
      "104:\ttest: 0.8281352\tbest: 0.8285674 (83)\ttotal: 2m 47s\tremaining: 13m 10s\n",
      "105:\ttest: 0.8281605\tbest: 0.8285674 (83)\ttotal: 2m 49s\tremaining: 13m 10s\n",
      "106:\ttest: 0.8281884\tbest: 0.8285674 (83)\ttotal: 2m 51s\tremaining: 13m 10s\n",
      "107:\ttest: 0.8281891\tbest: 0.8285674 (83)\ttotal: 2m 51s\tremaining: 13m 1s\n",
      "108:\ttest: 0.8281523\tbest: 0.8285674 (83)\ttotal: 2m 53s\tremaining: 13m 1s\n",
      "109:\ttest: 0.8282794\tbest: 0.8285674 (83)\ttotal: 2m 55s\tremaining: 13m 2s\n",
      "110:\ttest: 0.8282792\tbest: 0.8285674 (83)\ttotal: 2m 57s\tremaining: 13m 1s\n",
      "111:\ttest: 0.8283371\tbest: 0.8285674 (83)\ttotal: 2m 59s\tremaining: 13m 1s\n",
      "112:\ttest: 0.8283336\tbest: 0.8285674 (83)\ttotal: 3m 1s\tremaining: 13m\n"
     ]
    },
    {
     "name": "stdout",
     "output_type": "stream",
     "text": [
      "113:\ttest: 0.8282106\tbest: 0.8285674 (83)\ttotal: 3m 3s\tremaining: 13m\n",
      "114:\ttest: 0.8282016\tbest: 0.8285674 (83)\ttotal: 3m 4s\tremaining: 12m 59s\n",
      "115:\ttest: 0.8282470\tbest: 0.8285674 (83)\ttotal: 3m 6s\tremaining: 12m 59s\n",
      "116:\ttest: 0.8281534\tbest: 0.8285674 (83)\ttotal: 3m 8s\tremaining: 12m 58s\n",
      "117:\ttest: 0.8281599\tbest: 0.8285674 (83)\ttotal: 3m 10s\tremaining: 12m 58s\n",
      "118:\ttest: 0.8281129\tbest: 0.8285674 (83)\ttotal: 3m 12s\tremaining: 12m 57s\n",
      "119:\ttest: 0.8280878\tbest: 0.8285674 (83)\ttotal: 3m 14s\tremaining: 12m 56s\n",
      "120:\ttest: 0.8280042\tbest: 0.8285674 (83)\ttotal: 3m 15s\tremaining: 12m 55s\n",
      "121:\ttest: 0.8279948\tbest: 0.8285674 (83)\ttotal: 3m 17s\tremaining: 12m 54s\n",
      "122:\ttest: 0.8279833\tbest: 0.8285674 (83)\ttotal: 3m 19s\tremaining: 12m 53s\n",
      "123:\ttest: 0.8277956\tbest: 0.8285674 (83)\ttotal: 3m 21s\tremaining: 12m 52s\n",
      "124:\ttest: 0.8277449\tbest: 0.8285674 (83)\ttotal: 3m 23s\tremaining: 12m 51s\n",
      "125:\ttest: 0.8276952\tbest: 0.8285674 (83)\ttotal: 3m 24s\tremaining: 12m 50s\n",
      "126:\ttest: 0.8276841\tbest: 0.8285674 (83)\ttotal: 3m 26s\tremaining: 12m 49s\n",
      "127:\ttest: 0.8275990\tbest: 0.8285674 (83)\ttotal: 3m 28s\tremaining: 12m 48s\n",
      "128:\ttest: 0.8275286\tbest: 0.8285674 (83)\ttotal: 3m 30s\tremaining: 12m 47s\n",
      "129:\ttest: 0.8275176\tbest: 0.8285674 (83)\ttotal: 3m 31s\tremaining: 12m 46s\n",
      "130:\ttest: 0.8275188\tbest: 0.8285674 (83)\ttotal: 3m 33s\tremaining: 12m 45s\n",
      "131:\ttest: 0.8273435\tbest: 0.8285674 (83)\ttotal: 3m 35s\tremaining: 12m 44s\n",
      "132:\ttest: 0.8275200\tbest: 0.8285674 (83)\ttotal: 3m 37s\tremaining: 12m 43s\n",
      "133:\ttest: 0.8274027\tbest: 0.8285674 (83)\ttotal: 3m 39s\tremaining: 12m 43s\n",
      "134:\ttest: 0.8274253\tbest: 0.8285674 (83)\ttotal: 3m 41s\tremaining: 12m 42s\n",
      "135:\ttest: 0.8274827\tbest: 0.8285674 (83)\ttotal: 3m 43s\tremaining: 12m 41s\n",
      "136:\ttest: 0.8274305\tbest: 0.8285674 (83)\ttotal: 3m 45s\tremaining: 12m 41s\n",
      "137:\ttest: 0.8273990\tbest: 0.8285674 (83)\ttotal: 3m 46s\tremaining: 12m 39s\n",
      "138:\ttest: 0.8274581\tbest: 0.8285674 (83)\ttotal: 3m 48s\tremaining: 12m 38s\n",
      "139:\ttest: 0.8274633\tbest: 0.8285674 (83)\ttotal: 3m 50s\tremaining: 12m 37s\n",
      "140:\ttest: 0.8273412\tbest: 0.8285674 (83)\ttotal: 3m 52s\tremaining: 12m 36s\n",
      "141:\ttest: 0.8273082\tbest: 0.8285674 (83)\ttotal: 3m 54s\tremaining: 12m 35s\n",
      "142:\ttest: 0.8270184\tbest: 0.8285674 (83)\ttotal: 3m 56s\tremaining: 12m 34s\n",
      "143:\ttest: 0.8270980\tbest: 0.8285674 (83)\ttotal: 3m 57s\tremaining: 12m 33s\n",
      "144:\ttest: 0.8270846\tbest: 0.8285674 (83)\ttotal: 3m 59s\tremaining: 12m 32s\n",
      "145:\ttest: 0.8272873\tbest: 0.8285674 (83)\ttotal: 4m 1s\tremaining: 12m 31s\n",
      "146:\ttest: 0.8272682\tbest: 0.8285674 (83)\ttotal: 4m 3s\tremaining: 12m 30s\n",
      "147:\ttest: 0.8272658\tbest: 0.8285674 (83)\ttotal: 4m 5s\tremaining: 12m 29s\n",
      "148:\ttest: 0.8273626\tbest: 0.8285674 (83)\ttotal: 4m 7s\tremaining: 12m 28s\n",
      "149:\ttest: 0.8273697\tbest: 0.8285674 (83)\ttotal: 4m 9s\tremaining: 12m 28s\n",
      "150:\ttest: 0.8273015\tbest: 0.8285674 (83)\ttotal: 4m 11s\tremaining: 12m 28s\n",
      "151:\ttest: 0.8273941\tbest: 0.8285674 (83)\ttotal: 4m 13s\tremaining: 12m 27s\n",
      "152:\ttest: 0.8274016\tbest: 0.8285674 (83)\ttotal: 4m 15s\tremaining: 12m 27s\n",
      "153:\ttest: 0.8273602\tbest: 0.8285674 (83)\ttotal: 4m 17s\tremaining: 12m 26s\n",
      "154:\ttest: 0.8273649\tbest: 0.8285674 (83)\ttotal: 4m 19s\tremaining: 12m 25s\n",
      "155:\ttest: 0.8271808\tbest: 0.8285674 (83)\ttotal: 4m 21s\tremaining: 12m 24s\n",
      "156:\ttest: 0.8270882\tbest: 0.8285674 (83)\ttotal: 4m 23s\tremaining: 12m 23s\n",
      "157:\ttest: 0.8270844\tbest: 0.8285674 (83)\ttotal: 4m 25s\tremaining: 12m 21s\n",
      "158:\ttest: 0.8268975\tbest: 0.8285674 (83)\ttotal: 4m 26s\tremaining: 12m 20s\n",
      "159:\ttest: 0.8269440\tbest: 0.8285674 (83)\ttotal: 4m 28s\tremaining: 12m 18s\n",
      "160:\ttest: 0.8267969\tbest: 0.8285674 (83)\ttotal: 4m 30s\tremaining: 12m 17s\n",
      "161:\ttest: 0.8267749\tbest: 0.8285674 (83)\ttotal: 4m 32s\tremaining: 12m 16s\n",
      "162:\ttest: 0.8268356\tbest: 0.8285674 (83)\ttotal: 4m 34s\tremaining: 12m 14s\n",
      "163:\ttest: 0.8268461\tbest: 0.8285674 (83)\ttotal: 4m 36s\tremaining: 12m 14s\n",
      "164:\ttest: 0.8268103\tbest: 0.8285674 (83)\ttotal: 4m 38s\tremaining: 12m 13s\n",
      "165:\ttest: 0.8267983\tbest: 0.8285674 (83)\ttotal: 4m 39s\tremaining: 12m 11s\n",
      "166:\ttest: 0.8267735\tbest: 0.8285674 (83)\ttotal: 4m 41s\tremaining: 12m 10s\n",
      "167:\ttest: 0.8266845\tbest: 0.8285674 (83)\ttotal: 4m 43s\tremaining: 12m 8s\n",
      "168:\ttest: 0.8266853\tbest: 0.8285674 (83)\ttotal: 4m 45s\tremaining: 12m 7s\n",
      "169:\ttest: 0.8267532\tbest: 0.8285674 (83)\ttotal: 4m 46s\tremaining: 12m 5s\n",
      "170:\ttest: 0.8268559\tbest: 0.8285674 (83)\ttotal: 4m 48s\tremaining: 12m 4s\n",
      "171:\ttest: 0.8267052\tbest: 0.8285674 (83)\ttotal: 4m 50s\tremaining: 12m 3s\n",
      "172:\ttest: 0.8266931\tbest: 0.8285674 (83)\ttotal: 4m 52s\tremaining: 12m 2s\n",
      "173:\ttest: 0.8266044\tbest: 0.8285674 (83)\ttotal: 4m 54s\tremaining: 12m\n",
      "174:\ttest: 0.8265894\tbest: 0.8285674 (83)\ttotal: 4m 56s\tremaining: 11m 59s\n",
      "175:\ttest: 0.8266316\tbest: 0.8285674 (83)\ttotal: 4m 58s\tremaining: 11m 58s\n",
      "176:\ttest: 0.8265004\tbest: 0.8285674 (83)\ttotal: 5m\tremaining: 11m 57s\n",
      "177:\ttest: 0.8266293\tbest: 0.8285674 (83)\ttotal: 5m 2s\tremaining: 11m 56s\n",
      "178:\ttest: 0.8266231\tbest: 0.8285674 (83)\ttotal: 5m 3s\tremaining: 11m 54s\n",
      "179:\ttest: 0.8266513\tbest: 0.8285674 (83)\ttotal: 5m 5s\tremaining: 11m 53s\n",
      "180:\ttest: 0.8266825\tbest: 0.8285674 (83)\ttotal: 5m 7s\tremaining: 11m 51s\n",
      "181:\ttest: 0.8264225\tbest: 0.8285674 (83)\ttotal: 5m 9s\tremaining: 11m 50s\n",
      "182:\ttest: 0.8263618\tbest: 0.8285674 (83)\ttotal: 5m 10s\tremaining: 11m 48s\n",
      "183:\ttest: 0.8264218\tbest: 0.8285674 (83)\ttotal: 5m 13s\tremaining: 11m 47s\n",
      "184:\ttest: 0.8264419\tbest: 0.8285674 (83)\ttotal: 5m 15s\tremaining: 11m 47s\n",
      "185:\ttest: 0.8264272\tbest: 0.8285674 (83)\ttotal: 5m 17s\tremaining: 11m 46s\n",
      "186:\ttest: 0.8264774\tbest: 0.8285674 (83)\ttotal: 5m 19s\tremaining: 11m 44s\n",
      "187:\ttest: 0.8265158\tbest: 0.8285674 (83)\ttotal: 5m 20s\tremaining: 11m 43s\n",
      "188:\ttest: 0.8263596\tbest: 0.8285674 (83)\ttotal: 5m 22s\tremaining: 11m 41s\n",
      "189:\ttest: 0.8263448\tbest: 0.8285674 (83)\ttotal: 5m 24s\tremaining: 11m 39s\n",
      "190:\ttest: 0.8262554\tbest: 0.8285674 (83)\ttotal: 5m 26s\tremaining: 11m 38s\n",
      "191:\ttest: 0.8262592\tbest: 0.8285674 (83)\ttotal: 5m 28s\tremaining: 11m 37s\n",
      "192:\ttest: 0.8262652\tbest: 0.8285674 (83)\ttotal: 5m 31s\tremaining: 11m 39s\n",
      "193:\ttest: 0.8260832\tbest: 0.8285674 (83)\ttotal: 5m 33s\tremaining: 11m 38s\n",
      "194:\ttest: 0.8261013\tbest: 0.8285674 (83)\ttotal: 5m 37s\tremaining: 11m 40s\n",
      "195:\ttest: 0.8260566\tbest: 0.8285674 (83)\ttotal: 5m 39s\tremaining: 11m 40s\n",
      "196:\ttest: 0.8259853\tbest: 0.8285674 (83)\ttotal: 5m 42s\tremaining: 11m 40s\n",
      "197:\ttest: 0.8259987\tbest: 0.8285674 (83)\ttotal: 5m 45s\tremaining: 11m 41s\n",
      "198:\ttest: 0.8260910\tbest: 0.8285674 (83)\ttotal: 5m 48s\tremaining: 11m 41s\n",
      "199:\ttest: 0.8262104\tbest: 0.8285674 (83)\ttotal: 5m 51s\tremaining: 11m 42s\n",
      "200:\ttest: 0.8261048\tbest: 0.8285674 (83)\ttotal: 5m 53s\tremaining: 11m 42s\n",
      "201:\ttest: 0.8259909\tbest: 0.8285674 (83)\ttotal: 5m 57s\tremaining: 11m 43s\n",
      "202:\ttest: 0.8259519\tbest: 0.8285674 (83)\ttotal: 5m 59s\tremaining: 11m 43s\n",
      "203:\ttest: 0.8258047\tbest: 0.8285674 (83)\ttotal: 6m 2s\tremaining: 11m 44s\n",
      "204:\ttest: 0.8258190\tbest: 0.8285674 (83)\ttotal: 6m 5s\tremaining: 11m 44s\n",
      "205:\ttest: 0.8258456\tbest: 0.8285674 (83)\ttotal: 6m 8s\tremaining: 11m 45s\n",
      "206:\ttest: 0.8258978\tbest: 0.8285674 (83)\ttotal: 6m 11s\tremaining: 11m 45s\n",
      "207:\ttest: 0.8259026\tbest: 0.8285674 (83)\ttotal: 6m 14s\tremaining: 11m 45s\n",
      "208:\ttest: 0.8258723\tbest: 0.8285674 (83)\ttotal: 6m 17s\tremaining: 11m 45s\n",
      "209:\ttest: 0.8257907\tbest: 0.8285674 (83)\ttotal: 6m 19s\tremaining: 11m 45s\n",
      "210:\ttest: 0.8259108\tbest: 0.8285674 (83)\ttotal: 6m 23s\tremaining: 11m 46s\n",
      "211:\ttest: 0.8259092\tbest: 0.8285674 (83)\ttotal: 6m 25s\tremaining: 11m 46s\n",
      "212:\ttest: 0.8259820\tbest: 0.8285674 (83)\ttotal: 6m 28s\tremaining: 11m 46s\n",
      "213:\ttest: 0.8260412\tbest: 0.8285674 (83)\ttotal: 6m 31s\tremaining: 11m 46s\n",
      "214:\ttest: 0.8258825\tbest: 0.8285674 (83)\ttotal: 6m 34s\tremaining: 11m 46s\n",
      "215:\ttest: 0.8258346\tbest: 0.8285674 (83)\ttotal: 6m 37s\tremaining: 11m 46s\n",
      "216:\ttest: 0.8258233\tbest: 0.8285674 (83)\ttotal: 6m 40s\tremaining: 11m 46s\n",
      "217:\ttest: 0.8258058\tbest: 0.8285674 (83)\ttotal: 6m 43s\tremaining: 11m 46s\n",
      "218:\ttest: 0.8258936\tbest: 0.8285674 (83)\ttotal: 6m 46s\tremaining: 11m 46s\n",
      "219:\ttest: 0.8259815\tbest: 0.8285674 (83)\ttotal: 6m 49s\tremaining: 11m 46s\n",
      "220:\ttest: 0.8258396\tbest: 0.8285674 (83)\ttotal: 6m 52s\tremaining: 11m 46s\n",
      "221:\ttest: 0.8255947\tbest: 0.8285674 (83)\ttotal: 6m 55s\tremaining: 11m 46s\n",
      "222:\ttest: 0.8255692\tbest: 0.8285674 (83)\ttotal: 6m 57s\tremaining: 11m 46s\n"
     ]
    },
    {
     "name": "stdout",
     "output_type": "stream",
     "text": [
      "223:\ttest: 0.8255971\tbest: 0.8285674 (83)\ttotal: 7m\tremaining: 11m 46s\n",
      "224:\ttest: 0.8252575\tbest: 0.8285674 (83)\ttotal: 7m 3s\tremaining: 11m 46s\n",
      "225:\ttest: 0.8252329\tbest: 0.8285674 (83)\ttotal: 7m 6s\tremaining: 11m 45s\n",
      "226:\ttest: 0.8252287\tbest: 0.8285674 (83)\ttotal: 7m 9s\tremaining: 11m 45s\n",
      "227:\ttest: 0.8251849\tbest: 0.8285674 (83)\ttotal: 7m 12s\tremaining: 11m 45s\n",
      "228:\ttest: 0.8250349\tbest: 0.8285674 (83)\ttotal: 7m 15s\tremaining: 11m 45s\n",
      "229:\ttest: 0.8250275\tbest: 0.8285674 (83)\ttotal: 7m 18s\tremaining: 11m 45s\n",
      "230:\ttest: 0.8249190\tbest: 0.8285674 (83)\ttotal: 7m 21s\tremaining: 11m 45s\n",
      "231:\ttest: 0.8249225\tbest: 0.8285674 (83)\ttotal: 7m 24s\tremaining: 11m 44s\n",
      "232:\ttest: 0.8248196\tbest: 0.8285674 (83)\ttotal: 7m 26s\tremaining: 11m 43s\n",
      "233:\ttest: 0.8246819\tbest: 0.8285674 (83)\ttotal: 7m 29s\tremaining: 11m 43s\n",
      "234:\ttest: 0.8244403\tbest: 0.8285674 (83)\ttotal: 7m 32s\tremaining: 11m 42s\n",
      "235:\ttest: 0.8243660\tbest: 0.8285674 (83)\ttotal: 7m 35s\tremaining: 11m 42s\n",
      "236:\ttest: 0.8244464\tbest: 0.8285674 (83)\ttotal: 7m 38s\tremaining: 11m 41s\n",
      "237:\ttest: 0.8246284\tbest: 0.8285674 (83)\ttotal: 7m 40s\tremaining: 11m 41s\n",
      "238:\ttest: 0.8246541\tbest: 0.8285674 (83)\ttotal: 7m 44s\tremaining: 11m 40s\n",
      "239:\ttest: 0.8243676\tbest: 0.8285674 (83)\ttotal: 7m 47s\tremaining: 11m 41s\n",
      "240:\ttest: 0.8244176\tbest: 0.8285674 (83)\ttotal: 7m 50s\tremaining: 11m 40s\n",
      "241:\ttest: 0.8243255\tbest: 0.8285674 (83)\ttotal: 7m 53s\tremaining: 11m 40s\n",
      "242:\ttest: 0.8243325\tbest: 0.8285674 (83)\ttotal: 7m 56s\tremaining: 11m 40s\n",
      "243:\ttest: 0.8242374\tbest: 0.8285674 (83)\ttotal: 7m 59s\tremaining: 11m 39s\n",
      "244:\ttest: 0.8240846\tbest: 0.8285674 (83)\ttotal: 8m 2s\tremaining: 11m 38s\n",
      "245:\ttest: 0.8240896\tbest: 0.8285674 (83)\ttotal: 8m 4s\tremaining: 11m 37s\n",
      "246:\ttest: 0.8240416\tbest: 0.8285674 (83)\ttotal: 8m 8s\tremaining: 11m 37s\n",
      "247:\ttest: 0.8241860\tbest: 0.8285674 (83)\ttotal: 8m 11s\tremaining: 11m 36s\n",
      "248:\ttest: 0.8242479\tbest: 0.8285674 (83)\ttotal: 8m 13s\tremaining: 11m 36s\n",
      "249:\ttest: 0.8242097\tbest: 0.8285674 (83)\ttotal: 8m 16s\tremaining: 11m 35s\n",
      "250:\ttest: 0.8240269\tbest: 0.8285674 (83)\ttotal: 8m 19s\tremaining: 11m 34s\n",
      "251:\ttest: 0.8239572\tbest: 0.8285674 (83)\ttotal: 8m 22s\tremaining: 11m 34s\n",
      "252:\ttest: 0.8240797\tbest: 0.8285674 (83)\ttotal: 8m 25s\tremaining: 11m 33s\n",
      "253:\ttest: 0.8240327\tbest: 0.8285674 (83)\ttotal: 8m 28s\tremaining: 11m 33s\n",
      "254:\ttest: 0.8240848\tbest: 0.8285674 (83)\ttotal: 8m 31s\tremaining: 11m 32s\n",
      "255:\ttest: 0.8241192\tbest: 0.8285674 (83)\ttotal: 8m 34s\tremaining: 11m 31s\n",
      "256:\ttest: 0.8238940\tbest: 0.8285674 (83)\ttotal: 8m 37s\tremaining: 11m 30s\n",
      "257:\ttest: 0.8237603\tbest: 0.8285674 (83)\ttotal: 8m 40s\tremaining: 11m 29s\n",
      "258:\ttest: 0.8237411\tbest: 0.8285674 (83)\ttotal: 8m 43s\tremaining: 11m 28s\n",
      "259:\ttest: 0.8236639\tbest: 0.8285674 (83)\ttotal: 8m 45s\tremaining: 11m 27s\n",
      "260:\ttest: 0.8237084\tbest: 0.8285674 (83)\ttotal: 8m 48s\tremaining: 11m 26s\n",
      "261:\ttest: 0.8238102\tbest: 0.8285674 (83)\ttotal: 8m 51s\tremaining: 11m 25s\n",
      "262:\ttest: 0.8237341\tbest: 0.8285674 (83)\ttotal: 8m 53s\tremaining: 11m 24s\n",
      "263:\ttest: 0.8236934\tbest: 0.8285674 (83)\ttotal: 8m 56s\tremaining: 11m 22s\n",
      "264:\ttest: 0.8236521\tbest: 0.8285674 (83)\ttotal: 8m 59s\tremaining: 11m 21s\n",
      "265:\ttest: 0.8239184\tbest: 0.8285674 (83)\ttotal: 9m 1s\tremaining: 11m 20s\n",
      "266:\ttest: 0.8238702\tbest: 0.8285674 (83)\ttotal: 9m 4s\tremaining: 11m 19s\n",
      "267:\ttest: 0.8239215\tbest: 0.8285674 (83)\ttotal: 9m 7s\tremaining: 11m 18s\n",
      "268:\ttest: 0.8240073\tbest: 0.8285674 (83)\ttotal: 9m 10s\tremaining: 11m 17s\n",
      "269:\ttest: 0.8239172\tbest: 0.8285674 (83)\ttotal: 9m 13s\tremaining: 11m 16s\n",
      "270:\ttest: 0.8239447\tbest: 0.8285674 (83)\ttotal: 9m 16s\tremaining: 11m 15s\n",
      "271:\ttest: 0.8239917\tbest: 0.8285674 (83)\ttotal: 9m 18s\tremaining: 11m 14s\n",
      "272:\ttest: 0.8239040\tbest: 0.8285674 (83)\ttotal: 9m 21s\tremaining: 11m 12s\n",
      "273:\ttest: 0.8239587\tbest: 0.8285674 (83)\ttotal: 9m 24s\tremaining: 11m 12s\n",
      "274:\ttest: 0.8238954\tbest: 0.8285674 (83)\ttotal: 9m 27s\tremaining: 11m 10s\n",
      "275:\ttest: 0.8239138\tbest: 0.8285674 (83)\ttotal: 9m 30s\tremaining: 11m 9s\n",
      "276:\ttest: 0.8238242\tbest: 0.8285674 (83)\ttotal: 9m 33s\tremaining: 11m 8s\n",
      "277:\ttest: 0.8238927\tbest: 0.8285674 (83)\ttotal: 9m 36s\tremaining: 11m 7s\n",
      "278:\ttest: 0.8241150\tbest: 0.8285674 (83)\ttotal: 9m 39s\tremaining: 11m 7s\n",
      "279:\ttest: 0.8240739\tbest: 0.8285674 (83)\ttotal: 9m 43s\tremaining: 11m 6s\n",
      "280:\ttest: 0.8240461\tbest: 0.8285674 (83)\ttotal: 9m 46s\tremaining: 11m 6s\n",
      "281:\ttest: 0.8240265\tbest: 0.8285674 (83)\ttotal: 9m 49s\tremaining: 11m 5s\n",
      "282:\ttest: 0.8240410\tbest: 0.8285674 (83)\ttotal: 9m 52s\tremaining: 11m 3s\n",
      "283:\ttest: 0.8240537\tbest: 0.8285674 (83)\ttotal: 9m 55s\tremaining: 11m 2s\n",
      "284:\ttest: 0.8240594\tbest: 0.8285674 (83)\ttotal: 9m 58s\tremaining: 11m 1s\n",
      "285:\ttest: 0.8240381\tbest: 0.8285674 (83)\ttotal: 10m 1s\tremaining: 11m\n",
      "286:\ttest: 0.8240769\tbest: 0.8285674 (83)\ttotal: 10m 3s\tremaining: 10m 58s\n",
      "287:\ttest: 0.8239997\tbest: 0.8285674 (83)\ttotal: 10m 6s\tremaining: 10m 57s\n",
      "288:\ttest: 0.8238845\tbest: 0.8285674 (83)\ttotal: 10m 9s\tremaining: 10m 56s\n",
      "289:\ttest: 0.8238467\tbest: 0.8285674 (83)\ttotal: 10m 12s\tremaining: 10m 55s\n",
      "290:\ttest: 0.8237883\tbest: 0.8285674 (83)\ttotal: 10m 15s\tremaining: 10m 54s\n",
      "291:\ttest: 0.8239099\tbest: 0.8285674 (83)\ttotal: 10m 18s\tremaining: 10m 52s\n",
      "292:\ttest: 0.8238682\tbest: 0.8285674 (83)\ttotal: 10m 21s\tremaining: 10m 51s\n",
      "293:\ttest: 0.8238615\tbest: 0.8285674 (83)\ttotal: 10m 24s\tremaining: 10m 50s\n",
      "294:\ttest: 0.8238733\tbest: 0.8285674 (83)\ttotal: 10m 27s\tremaining: 10m 49s\n",
      "295:\ttest: 0.8238764\tbest: 0.8285674 (83)\ttotal: 10m 30s\tremaining: 10m 47s\n",
      "296:\ttest: 0.8238324\tbest: 0.8285674 (83)\ttotal: 10m 33s\tremaining: 10m 46s\n",
      "297:\ttest: 0.8238795\tbest: 0.8285674 (83)\ttotal: 10m 36s\tremaining: 10m 45s\n",
      "298:\ttest: 0.8238184\tbest: 0.8285674 (83)\ttotal: 10m 39s\tremaining: 10m 43s\n",
      "299:\ttest: 0.8238114\tbest: 0.8285674 (83)\ttotal: 10m 42s\tremaining: 10m 42s\n",
      "300:\ttest: 0.8236805\tbest: 0.8285674 (83)\ttotal: 10m 45s\tremaining: 10m 41s\n",
      "301:\ttest: 0.8237692\tbest: 0.8285674 (83)\ttotal: 10m 48s\tremaining: 10m 39s\n",
      "302:\ttest: 0.8237314\tbest: 0.8285674 (83)\ttotal: 10m 51s\tremaining: 10m 38s\n",
      "303:\ttest: 0.8237835\tbest: 0.8285674 (83)\ttotal: 10m 54s\tremaining: 10m 36s\n",
      "304:\ttest: 0.8238593\tbest: 0.8285674 (83)\ttotal: 10m 57s\tremaining: 10m 35s\n",
      "305:\ttest: 0.8238732\tbest: 0.8285674 (83)\ttotal: 10m 59s\tremaining: 10m 34s\n",
      "306:\ttest: 0.8237287\tbest: 0.8285674 (83)\ttotal: 11m 2s\tremaining: 10m 32s\n",
      "307:\ttest: 0.8237704\tbest: 0.8285674 (83)\ttotal: 11m 5s\tremaining: 10m 30s\n",
      "308:\ttest: 0.8237018\tbest: 0.8285674 (83)\ttotal: 11m 8s\tremaining: 10m 29s\n",
      "309:\ttest: 0.8236911\tbest: 0.8285674 (83)\ttotal: 11m 11s\tremaining: 10m 27s\n",
      "310:\ttest: 0.8237272\tbest: 0.8285674 (83)\ttotal: 11m 14s\tremaining: 10m 26s\n",
      "311:\ttest: 0.8237340\tbest: 0.8285674 (83)\ttotal: 11m 16s\tremaining: 10m 24s\n",
      "312:\ttest: 0.8237939\tbest: 0.8285674 (83)\ttotal: 11m 19s\tremaining: 10m 23s\n",
      "313:\ttest: 0.8237800\tbest: 0.8285674 (83)\ttotal: 11m 22s\tremaining: 10m 22s\n",
      "314:\ttest: 0.8237680\tbest: 0.8285674 (83)\ttotal: 11m 25s\tremaining: 10m 20s\n",
      "315:\ttest: 0.8236863\tbest: 0.8285674 (83)\ttotal: 11m 28s\tremaining: 10m 19s\n",
      "316:\ttest: 0.8235506\tbest: 0.8285674 (83)\ttotal: 11m 31s\tremaining: 10m 17s\n",
      "317:\ttest: 0.8235743\tbest: 0.8285674 (83)\ttotal: 11m 34s\tremaining: 10m 16s\n",
      "318:\ttest: 0.8236958\tbest: 0.8285674 (83)\ttotal: 11m 37s\tremaining: 10m 14s\n",
      "319:\ttest: 0.8237105\tbest: 0.8285674 (83)\ttotal: 11m 40s\tremaining: 10m 12s\n",
      "320:\ttest: 0.8237288\tbest: 0.8285674 (83)\ttotal: 11m 43s\tremaining: 10m 11s\n",
      "321:\ttest: 0.8237609\tbest: 0.8285674 (83)\ttotal: 11m 45s\tremaining: 10m 9s\n",
      "322:\ttest: 0.8237451\tbest: 0.8285674 (83)\ttotal: 11m 48s\tremaining: 10m 7s\n",
      "323:\ttest: 0.8236151\tbest: 0.8285674 (83)\ttotal: 11m 51s\tremaining: 10m 6s\n",
      "324:\ttest: 0.8235721\tbest: 0.8285674 (83)\ttotal: 11m 54s\tremaining: 10m 4s\n",
      "325:\ttest: 0.8236051\tbest: 0.8285674 (83)\ttotal: 11m 57s\tremaining: 10m 3s\n",
      "326:\ttest: 0.8235893\tbest: 0.8285674 (83)\ttotal: 12m\tremaining: 10m 1s\n",
      "327:\ttest: 0.8236367\tbest: 0.8285674 (83)\ttotal: 12m 3s\tremaining: 9m 59s\n",
      "328:\ttest: 0.8236199\tbest: 0.8285674 (83)\ttotal: 12m 6s\tremaining: 9m 58s\n",
      "329:\ttest: 0.8235891\tbest: 0.8285674 (83)\ttotal: 12m 9s\tremaining: 9m 56s\n",
      "330:\ttest: 0.8235500\tbest: 0.8285674 (83)\ttotal: 12m 11s\tremaining: 9m 54s\n",
      "331:\ttest: 0.8234501\tbest: 0.8285674 (83)\ttotal: 12m 14s\tremaining: 9m 53s\n",
      "332:\ttest: 0.8234372\tbest: 0.8285674 (83)\ttotal: 12m 17s\tremaining: 9m 51s\n"
     ]
    },
    {
     "name": "stdout",
     "output_type": "stream",
     "text": [
      "333:\ttest: 0.8234325\tbest: 0.8285674 (83)\ttotal: 12m 20s\tremaining: 9m 49s\n",
      "334:\ttest: 0.8234239\tbest: 0.8285674 (83)\ttotal: 12m 23s\tremaining: 9m 48s\n",
      "335:\ttest: 0.8233742\tbest: 0.8285674 (83)\ttotal: 12m 26s\tremaining: 9m 46s\n",
      "336:\ttest: 0.8234140\tbest: 0.8285674 (83)\ttotal: 12m 29s\tremaining: 9m 44s\n",
      "337:\ttest: 0.8234614\tbest: 0.8285674 (83)\ttotal: 12m 31s\tremaining: 9m 42s\n",
      "338:\ttest: 0.8234505\tbest: 0.8285674 (83)\ttotal: 12m 34s\tremaining: 9m 41s\n",
      "339:\ttest: 0.8234826\tbest: 0.8285674 (83)\ttotal: 12m 37s\tremaining: 9m 39s\n",
      "340:\ttest: 0.8235189\tbest: 0.8285674 (83)\ttotal: 12m 41s\tremaining: 9m 38s\n",
      "341:\ttest: 0.8235312\tbest: 0.8285674 (83)\ttotal: 12m 44s\tremaining: 9m 36s\n",
      "342:\ttest: 0.8234898\tbest: 0.8285674 (83)\ttotal: 12m 46s\tremaining: 9m 34s\n",
      "343:\ttest: 0.8235240\tbest: 0.8285674 (83)\ttotal: 12m 49s\tremaining: 9m 32s\n",
      "344:\ttest: 0.8235713\tbest: 0.8285674 (83)\ttotal: 12m 52s\tremaining: 9m 31s\n",
      "345:\ttest: 0.8235728\tbest: 0.8285674 (83)\ttotal: 12m 55s\tremaining: 9m 29s\n",
      "346:\ttest: 0.8233813\tbest: 0.8285674 (83)\ttotal: 12m 58s\tremaining: 9m 27s\n",
      "347:\ttest: 0.8233495\tbest: 0.8285674 (83)\ttotal: 13m 1s\tremaining: 9m 25s\n",
      "348:\ttest: 0.8233841\tbest: 0.8285674 (83)\ttotal: 13m 4s\tremaining: 9m 23s\n",
      "349:\ttest: 0.8234533\tbest: 0.8285674 (83)\ttotal: 13m 6s\tremaining: 9m 22s\n",
      "350:\ttest: 0.8234321\tbest: 0.8285674 (83)\ttotal: 13m 9s\tremaining: 9m 20s\n",
      "351:\ttest: 0.8233998\tbest: 0.8285674 (83)\ttotal: 13m 12s\tremaining: 9m 18s\n",
      "352:\ttest: 0.8233688\tbest: 0.8285674 (83)\ttotal: 13m 15s\tremaining: 9m 16s\n",
      "353:\ttest: 0.8234672\tbest: 0.8285674 (83)\ttotal: 13m 18s\tremaining: 9m 14s\n",
      "354:\ttest: 0.8234428\tbest: 0.8285674 (83)\ttotal: 13m 21s\tremaining: 9m 12s\n",
      "355:\ttest: 0.8234144\tbest: 0.8285674 (83)\ttotal: 13m 24s\tremaining: 9m 11s\n",
      "356:\ttest: 0.8232930\tbest: 0.8285674 (83)\ttotal: 13m 26s\tremaining: 9m 9s\n",
      "357:\ttest: 0.8232013\tbest: 0.8285674 (83)\ttotal: 13m 29s\tremaining: 9m 7s\n",
      "358:\ttest: 0.8231948\tbest: 0.8285674 (83)\ttotal: 13m 32s\tremaining: 9m 5s\n",
      "359:\ttest: 0.8231843\tbest: 0.8285674 (83)\ttotal: 13m 35s\tremaining: 9m 3s\n",
      "360:\ttest: 0.8231785\tbest: 0.8285674 (83)\ttotal: 13m 38s\tremaining: 9m 2s\n",
      "361:\ttest: 0.8232281\tbest: 0.8285674 (83)\ttotal: 13m 41s\tremaining: 9m\n",
      "362:\ttest: 0.8230731\tbest: 0.8285674 (83)\ttotal: 13m 44s\tremaining: 8m 58s\n",
      "363:\ttest: 0.8231038\tbest: 0.8285674 (83)\ttotal: 13m 47s\tremaining: 8m 56s\n",
      "364:\ttest: 0.8229822\tbest: 0.8285674 (83)\ttotal: 13m 50s\tremaining: 8m 54s\n",
      "365:\ttest: 0.8229356\tbest: 0.8285674 (83)\ttotal: 13m 53s\tremaining: 8m 52s\n",
      "366:\ttest: 0.8229440\tbest: 0.8285674 (83)\ttotal: 13m 55s\tremaining: 8m 50s\n",
      "367:\ttest: 0.8229922\tbest: 0.8285674 (83)\ttotal: 13m 58s\tremaining: 8m 48s\n",
      "368:\ttest: 0.8229405\tbest: 0.8285674 (83)\ttotal: 14m 1s\tremaining: 8m 46s\n",
      "369:\ttest: 0.8229025\tbest: 0.8285674 (83)\ttotal: 14m 4s\tremaining: 8m 44s\n",
      "370:\ttest: 0.8229409\tbest: 0.8285674 (83)\ttotal: 14m 7s\tremaining: 8m 43s\n",
      "371:\ttest: 0.8228943\tbest: 0.8285674 (83)\ttotal: 14m 10s\tremaining: 8m 41s\n",
      "372:\ttest: 0.8229514\tbest: 0.8285674 (83)\ttotal: 14m 13s\tremaining: 8m 39s\n",
      "373:\ttest: 0.8229265\tbest: 0.8285674 (83)\ttotal: 14m 16s\tremaining: 8m 37s\n",
      "374:\ttest: 0.8229255\tbest: 0.8285674 (83)\ttotal: 14m 19s\tremaining: 8m 35s\n",
      "375:\ttest: 0.8229712\tbest: 0.8285674 (83)\ttotal: 14m 21s\tremaining: 8m 33s\n",
      "376:\ttest: 0.8230363\tbest: 0.8285674 (83)\ttotal: 14m 24s\tremaining: 8m 31s\n",
      "377:\ttest: 0.8230631\tbest: 0.8285674 (83)\ttotal: 14m 27s\tremaining: 8m 29s\n",
      "378:\ttest: 0.8231054\tbest: 0.8285674 (83)\ttotal: 14m 30s\tremaining: 8m 27s\n",
      "379:\ttest: 0.8230755\tbest: 0.8285674 (83)\ttotal: 14m 33s\tremaining: 8m 25s\n",
      "380:\ttest: 0.8230665\tbest: 0.8285674 (83)\ttotal: 14m 36s\tremaining: 8m 23s\n",
      "381:\ttest: 0.8230603\tbest: 0.8285674 (83)\ttotal: 14m 39s\tremaining: 8m 21s\n",
      "382:\ttest: 0.8229473\tbest: 0.8285674 (83)\ttotal: 14m 42s\tremaining: 8m 19s\n",
      "383:\ttest: 0.8229915\tbest: 0.8285674 (83)\ttotal: 14m 45s\tremaining: 8m 17s\n",
      "384:\ttest: 0.8230016\tbest: 0.8285674 (83)\ttotal: 14m 48s\tremaining: 8m 15s\n",
      "385:\ttest: 0.8230425\tbest: 0.8285674 (83)\ttotal: 14m 50s\tremaining: 8m 13s\n",
      "386:\ttest: 0.8230584\tbest: 0.8285674 (83)\ttotal: 14m 53s\tremaining: 8m 11s\n",
      "387:\ttest: 0.8229962\tbest: 0.8285674 (83)\ttotal: 14m 56s\tremaining: 8m 9s\n",
      "388:\ttest: 0.8230326\tbest: 0.8285674 (83)\ttotal: 14m 59s\tremaining: 8m 7s\n",
      "389:\ttest: 0.8230491\tbest: 0.8285674 (83)\ttotal: 15m 2s\tremaining: 8m 5s\n",
      "390:\ttest: 0.8229884\tbest: 0.8285674 (83)\ttotal: 15m 5s\tremaining: 8m 4s\n",
      "391:\ttest: 0.8229197\tbest: 0.8285674 (83)\ttotal: 15m 8s\tremaining: 8m 1s\n",
      "392:\ttest: 0.8230253\tbest: 0.8285674 (83)\ttotal: 15m 10s\tremaining: 7m 59s\n",
      "393:\ttest: 0.8230204\tbest: 0.8285674 (83)\ttotal: 15m 13s\tremaining: 7m 57s\n",
      "394:\ttest: 0.8232094\tbest: 0.8285674 (83)\ttotal: 15m 16s\tremaining: 7m 55s\n",
      "395:\ttest: 0.8232652\tbest: 0.8285674 (83)\ttotal: 15m 19s\tremaining: 7m 53s\n",
      "396:\ttest: 0.8232524\tbest: 0.8285674 (83)\ttotal: 15m 22s\tremaining: 7m 51s\n",
      "397:\ttest: 0.8232701\tbest: 0.8285674 (83)\ttotal: 15m 25s\tremaining: 7m 49s\n",
      "398:\ttest: 0.8231924\tbest: 0.8285674 (83)\ttotal: 15m 28s\tremaining: 7m 47s\n",
      "399:\ttest: 0.8231135\tbest: 0.8285674 (83)\ttotal: 15m 31s\tremaining: 7m 45s\n",
      "400:\ttest: 0.8229710\tbest: 0.8285674 (83)\ttotal: 15m 34s\tremaining: 7m 43s\n",
      "401:\ttest: 0.8230126\tbest: 0.8285674 (83)\ttotal: 15m 36s\tremaining: 7m 41s\n",
      "402:\ttest: 0.8230707\tbest: 0.8285674 (83)\ttotal: 15m 39s\tremaining: 7m 39s\n",
      "403:\ttest: 0.8230230\tbest: 0.8285674 (83)\ttotal: 15m 42s\tremaining: 7m 37s\n",
      "404:\ttest: 0.8229364\tbest: 0.8285674 (83)\ttotal: 15m 45s\tremaining: 7m 35s\n",
      "405:\ttest: 0.8229732\tbest: 0.8285674 (83)\ttotal: 15m 47s\tremaining: 7m 32s\n",
      "406:\ttest: 0.8229065\tbest: 0.8285674 (83)\ttotal: 15m 50s\tremaining: 7m 30s\n",
      "407:\ttest: 0.8228628\tbest: 0.8285674 (83)\ttotal: 15m 52s\tremaining: 7m 28s\n",
      "408:\ttest: 0.8228777\tbest: 0.8285674 (83)\ttotal: 15m 55s\tremaining: 7m 26s\n",
      "409:\ttest: 0.8228240\tbest: 0.8285674 (83)\ttotal: 15m 58s\tremaining: 7m 23s\n",
      "410:\ttest: 0.8228037\tbest: 0.8285674 (83)\ttotal: 16m\tremaining: 7m 21s\n",
      "411:\ttest: 0.8228043\tbest: 0.8285674 (83)\ttotal: 16m 2s\tremaining: 7m 19s\n",
      "412:\ttest: 0.8228578\tbest: 0.8285674 (83)\ttotal: 16m 5s\tremaining: 7m 17s\n",
      "413:\ttest: 0.8228198\tbest: 0.8285674 (83)\ttotal: 16m 8s\tremaining: 7m 14s\n",
      "414:\ttest: 0.8227808\tbest: 0.8285674 (83)\ttotal: 16m 10s\tremaining: 7m 12s\n",
      "415:\ttest: 0.8228027\tbest: 0.8285674 (83)\ttotal: 16m 13s\tremaining: 7m 10s\n",
      "416:\ttest: 0.8228041\tbest: 0.8285674 (83)\ttotal: 16m 15s\tremaining: 7m 8s\n",
      "417:\ttest: 0.8227093\tbest: 0.8285674 (83)\ttotal: 16m 18s\tremaining: 7m 5s\n",
      "418:\ttest: 0.8226209\tbest: 0.8285674 (83)\ttotal: 16m 20s\tremaining: 7m 3s\n",
      "419:\ttest: 0.8225477\tbest: 0.8285674 (83)\ttotal: 16m 23s\tremaining: 7m 1s\n",
      "420:\ttest: 0.8225315\tbest: 0.8285674 (83)\ttotal: 16m 25s\tremaining: 6m 59s\n",
      "421:\ttest: 0.8225799\tbest: 0.8285674 (83)\ttotal: 16m 27s\tremaining: 6m 56s\n",
      "422:\ttest: 0.8225558\tbest: 0.8285674 (83)\ttotal: 16m 30s\tremaining: 6m 54s\n",
      "423:\ttest: 0.8225742\tbest: 0.8285674 (83)\ttotal: 16m 33s\tremaining: 6m 52s\n",
      "424:\ttest: 0.8225583\tbest: 0.8285674 (83)\ttotal: 16m 35s\tremaining: 6m 50s\n",
      "425:\ttest: 0.8225599\tbest: 0.8285674 (83)\ttotal: 16m 38s\tremaining: 6m 47s\n",
      "426:\ttest: 0.8226471\tbest: 0.8285674 (83)\ttotal: 16m 41s\tremaining: 6m 45s\n",
      "427:\ttest: 0.8226764\tbest: 0.8285674 (83)\ttotal: 16m 43s\tremaining: 6m 43s\n",
      "428:\ttest: 0.8225801\tbest: 0.8285674 (83)\ttotal: 16m 46s\tremaining: 6m 41s\n",
      "429:\ttest: 0.8225123\tbest: 0.8285674 (83)\ttotal: 16m 48s\tremaining: 6m 38s\n",
      "430:\ttest: 0.8223902\tbest: 0.8285674 (83)\ttotal: 16m 51s\tremaining: 6m 36s\n",
      "431:\ttest: 0.8222706\tbest: 0.8285674 (83)\ttotal: 16m 54s\tremaining: 6m 34s\n",
      "432:\ttest: 0.8222719\tbest: 0.8285674 (83)\ttotal: 16m 56s\tremaining: 6m 32s\n",
      "433:\ttest: 0.8222535\tbest: 0.8285674 (83)\ttotal: 16m 59s\tremaining: 6m 29s\n",
      "434:\ttest: 0.8221194\tbest: 0.8285674 (83)\ttotal: 17m 1s\tremaining: 6m 27s\n",
      "435:\ttest: 0.8222314\tbest: 0.8285674 (83)\ttotal: 17m 4s\tremaining: 6m 25s\n",
      "436:\ttest: 0.8222616\tbest: 0.8285674 (83)\ttotal: 17m 6s\tremaining: 6m 22s\n",
      "437:\ttest: 0.8221641\tbest: 0.8285674 (83)\ttotal: 17m 9s\tremaining: 6m 20s\n",
      "438:\ttest: 0.8221980\tbest: 0.8285674 (83)\ttotal: 17m 11s\tremaining: 6m 18s\n",
      "439:\ttest: 0.8222508\tbest: 0.8285674 (83)\ttotal: 17m 14s\tremaining: 6m 16s\n",
      "440:\ttest: 0.8222381\tbest: 0.8285674 (83)\ttotal: 17m 16s\tremaining: 6m 13s\n",
      "441:\ttest: 0.8221990\tbest: 0.8285674 (83)\ttotal: 17m 19s\tremaining: 6m 11s\n",
      "442:\ttest: 0.8221960\tbest: 0.8285674 (83)\ttotal: 17m 21s\tremaining: 6m 9s\n"
     ]
    },
    {
     "name": "stdout",
     "output_type": "stream",
     "text": [
      "443:\ttest: 0.8222078\tbest: 0.8285674 (83)\ttotal: 17m 24s\tremaining: 6m 6s\n",
      "444:\ttest: 0.8221837\tbest: 0.8285674 (83)\ttotal: 17m 26s\tremaining: 6m 4s\n",
      "445:\ttest: 0.8222768\tbest: 0.8285674 (83)\ttotal: 17m 29s\tremaining: 6m 2s\n",
      "446:\ttest: 0.8222920\tbest: 0.8285674 (83)\ttotal: 17m 31s\tremaining: 6m\n",
      "447:\ttest: 0.8221402\tbest: 0.8285674 (83)\ttotal: 17m 34s\tremaining: 5m 57s\n",
      "448:\ttest: 0.8221858\tbest: 0.8285674 (83)\ttotal: 17m 37s\tremaining: 5m 55s\n",
      "449:\ttest: 0.8221466\tbest: 0.8285674 (83)\ttotal: 17m 39s\tremaining: 5m 53s\n",
      "450:\ttest: 0.8221724\tbest: 0.8285674 (83)\ttotal: 17m 42s\tremaining: 5m 50s\n",
      "451:\ttest: 0.8221392\tbest: 0.8285674 (83)\ttotal: 17m 44s\tremaining: 5m 48s\n",
      "452:\ttest: 0.8220732\tbest: 0.8285674 (83)\ttotal: 17m 47s\tremaining: 5m 46s\n",
      "453:\ttest: 0.8220387\tbest: 0.8285674 (83)\ttotal: 17m 49s\tremaining: 5m 44s\n",
      "454:\ttest: 0.8220907\tbest: 0.8285674 (83)\ttotal: 17m 52s\tremaining: 5m 41s\n",
      "455:\ttest: 0.8220401\tbest: 0.8285674 (83)\ttotal: 17m 55s\tremaining: 5m 39s\n",
      "456:\ttest: 0.8220624\tbest: 0.8285674 (83)\ttotal: 17m 57s\tremaining: 5m 37s\n",
      "457:\ttest: 0.8220421\tbest: 0.8285674 (83)\ttotal: 18m\tremaining: 5m 34s\n",
      "458:\ttest: 0.8220290\tbest: 0.8285674 (83)\ttotal: 18m 2s\tremaining: 5m 32s\n",
      "459:\ttest: 0.8220483\tbest: 0.8285674 (83)\ttotal: 18m 5s\tremaining: 5m 30s\n",
      "460:\ttest: 0.8220491\tbest: 0.8285674 (83)\ttotal: 18m 7s\tremaining: 5m 27s\n",
      "461:\ttest: 0.8220527\tbest: 0.8285674 (83)\ttotal: 18m 10s\tremaining: 5m 25s\n",
      "462:\ttest: 0.8220275\tbest: 0.8285674 (83)\ttotal: 18m 12s\tremaining: 5m 23s\n",
      "463:\ttest: 0.8220370\tbest: 0.8285674 (83)\ttotal: 18m 15s\tremaining: 5m 21s\n",
      "464:\ttest: 0.8220177\tbest: 0.8285674 (83)\ttotal: 18m 17s\tremaining: 5m 18s\n",
      "465:\ttest: 0.8219581\tbest: 0.8285674 (83)\ttotal: 18m 20s\tremaining: 5m 16s\n",
      "466:\ttest: 0.8219950\tbest: 0.8285674 (83)\ttotal: 18m 22s\tremaining: 5m 14s\n",
      "467:\ttest: 0.8221153\tbest: 0.8285674 (83)\ttotal: 18m 25s\tremaining: 5m 11s\n",
      "468:\ttest: 0.8219674\tbest: 0.8285674 (83)\ttotal: 18m 27s\tremaining: 5m 9s\n",
      "469:\ttest: 0.8220154\tbest: 0.8285674 (83)\ttotal: 18m 30s\tremaining: 5m 7s\n",
      "470:\ttest: 0.8220088\tbest: 0.8285674 (83)\ttotal: 18m 32s\tremaining: 5m 4s\n",
      "471:\ttest: 0.8218534\tbest: 0.8285674 (83)\ttotal: 18m 35s\tremaining: 5m 2s\n",
      "472:\ttest: 0.8218561\tbest: 0.8285674 (83)\ttotal: 18m 37s\tremaining: 5m\n",
      "473:\ttest: 0.8217385\tbest: 0.8285674 (83)\ttotal: 18m 40s\tremaining: 4m 57s\n",
      "474:\ttest: 0.8218401\tbest: 0.8285674 (83)\ttotal: 18m 43s\tremaining: 4m 55s\n",
      "475:\ttest: 0.8218362\tbest: 0.8285674 (83)\ttotal: 18m 45s\tremaining: 4m 53s\n",
      "476:\ttest: 0.8218858\tbest: 0.8285674 (83)\ttotal: 18m 48s\tremaining: 4m 50s\n",
      "477:\ttest: 0.8220533\tbest: 0.8285674 (83)\ttotal: 18m 50s\tremaining: 4m 48s\n",
      "478:\ttest: 0.8220110\tbest: 0.8285674 (83)\ttotal: 18m 53s\tremaining: 4m 46s\n",
      "479:\ttest: 0.8220009\tbest: 0.8285674 (83)\ttotal: 18m 55s\tremaining: 4m 43s\n",
      "480:\ttest: 0.8220467\tbest: 0.8285674 (83)\ttotal: 18m 58s\tremaining: 4m 41s\n",
      "481:\ttest: 0.8220518\tbest: 0.8285674 (83)\ttotal: 19m 1s\tremaining: 4m 39s\n",
      "482:\ttest: 0.8219660\tbest: 0.8285674 (83)\ttotal: 19m 3s\tremaining: 4m 37s\n",
      "483:\ttest: 0.8219551\tbest: 0.8285674 (83)\ttotal: 19m 6s\tremaining: 4m 34s\n",
      "484:\ttest: 0.8219280\tbest: 0.8285674 (83)\ttotal: 19m 8s\tremaining: 4m 32s\n",
      "485:\ttest: 0.8219915\tbest: 0.8285674 (83)\ttotal: 19m 11s\tremaining: 4m 30s\n",
      "486:\ttest: 0.8220086\tbest: 0.8285674 (83)\ttotal: 19m 13s\tremaining: 4m 27s\n",
      "487:\ttest: 0.8219845\tbest: 0.8285674 (83)\ttotal: 19m 16s\tremaining: 4m 25s\n",
      "488:\ttest: 0.8219678\tbest: 0.8285674 (83)\ttotal: 19m 19s\tremaining: 4m 23s\n",
      "489:\ttest: 0.8219663\tbest: 0.8285674 (83)\ttotal: 19m 21s\tremaining: 4m 20s\n",
      "490:\ttest: 0.8220068\tbest: 0.8285674 (83)\ttotal: 19m 24s\tremaining: 4m 18s\n",
      "491:\ttest: 0.8220280\tbest: 0.8285674 (83)\ttotal: 19m 26s\tremaining: 4m 16s\n",
      "492:\ttest: 0.8219441\tbest: 0.8285674 (83)\ttotal: 19m 28s\tremaining: 4m 13s\n",
      "493:\ttest: 0.8219952\tbest: 0.8285674 (83)\ttotal: 19m 31s\tremaining: 4m 11s\n",
      "494:\ttest: 0.8220156\tbest: 0.8285674 (83)\ttotal: 19m 34s\tremaining: 4m 9s\n",
      "495:\ttest: 0.8220129\tbest: 0.8285674 (83)\ttotal: 19m 36s\tremaining: 4m 6s\n",
      "496:\ttest: 0.8219530\tbest: 0.8285674 (83)\ttotal: 19m 39s\tremaining: 4m 4s\n",
      "497:\ttest: 0.8219841\tbest: 0.8285674 (83)\ttotal: 19m 42s\tremaining: 4m 2s\n",
      "498:\ttest: 0.8219504\tbest: 0.8285674 (83)\ttotal: 19m 44s\tremaining: 3m 59s\n",
      "499:\ttest: 0.8219443\tbest: 0.8285674 (83)\ttotal: 19m 46s\tremaining: 3m 57s\n",
      "500:\ttest: 0.8219072\tbest: 0.8285674 (83)\ttotal: 19m 49s\tremaining: 3m 55s\n",
      "501:\ttest: 0.8219958\tbest: 0.8285674 (83)\ttotal: 19m 51s\tremaining: 3m 52s\n",
      "502:\ttest: 0.8219862\tbest: 0.8285674 (83)\ttotal: 19m 54s\tremaining: 3m 50s\n",
      "503:\ttest: 0.8219595\tbest: 0.8285674 (83)\ttotal: 19m 57s\tremaining: 3m 48s\n",
      "504:\ttest: 0.8219764\tbest: 0.8285674 (83)\ttotal: 19m 59s\tremaining: 3m 45s\n",
      "505:\ttest: 0.8219756\tbest: 0.8285674 (83)\ttotal: 20m 2s\tremaining: 3m 43s\n",
      "506:\ttest: 0.8219069\tbest: 0.8285674 (83)\ttotal: 20m 4s\tremaining: 3m 41s\n",
      "507:\ttest: 0.8219284\tbest: 0.8285674 (83)\ttotal: 20m 7s\tremaining: 3m 38s\n",
      "508:\ttest: 0.8220169\tbest: 0.8285674 (83)\ttotal: 20m 10s\tremaining: 3m 36s\n",
      "509:\ttest: 0.8219352\tbest: 0.8285674 (83)\ttotal: 20m 12s\tremaining: 3m 33s\n",
      "510:\ttest: 0.8219338\tbest: 0.8285674 (83)\ttotal: 20m 15s\tremaining: 3m 31s\n",
      "511:\ttest: 0.8219451\tbest: 0.8285674 (83)\ttotal: 20m 17s\tremaining: 3m 29s\n",
      "512:\ttest: 0.8219170\tbest: 0.8285674 (83)\ttotal: 20m 20s\tremaining: 3m 26s\n",
      "513:\ttest: 0.8219319\tbest: 0.8285674 (83)\ttotal: 20m 22s\tremaining: 3m 24s\n",
      "514:\ttest: 0.8218917\tbest: 0.8285674 (83)\ttotal: 20m 25s\tremaining: 3m 22s\n",
      "515:\ttest: 0.8218252\tbest: 0.8285674 (83)\ttotal: 20m 27s\tremaining: 3m 19s\n",
      "516:\ttest: 0.8218303\tbest: 0.8285674 (83)\ttotal: 20m 29s\tremaining: 3m 17s\n",
      "517:\ttest: 0.8218139\tbest: 0.8285674 (83)\ttotal: 20m 32s\tremaining: 3m 15s\n",
      "518:\ttest: 0.8217964\tbest: 0.8285674 (83)\ttotal: 20m 34s\tremaining: 3m 12s\n",
      "519:\ttest: 0.8218147\tbest: 0.8285674 (83)\ttotal: 20m 37s\tremaining: 3m 10s\n",
      "520:\ttest: 0.8217527\tbest: 0.8285674 (83)\ttotal: 20m 39s\tremaining: 3m 7s\n",
      "521:\ttest: 0.8217239\tbest: 0.8285674 (83)\ttotal: 20m 42s\tremaining: 3m 5s\n",
      "522:\ttest: 0.8217490\tbest: 0.8285674 (83)\ttotal: 20m 44s\tremaining: 3m 3s\n",
      "523:\ttest: 0.8216811\tbest: 0.8285674 (83)\ttotal: 20m 47s\tremaining: 3m\n",
      "524:\ttest: 0.8216722\tbest: 0.8285674 (83)\ttotal: 20m 49s\tremaining: 2m 58s\n",
      "525:\ttest: 0.8216951\tbest: 0.8285674 (83)\ttotal: 20m 52s\tremaining: 2m 56s\n",
      "526:\ttest: 0.8217724\tbest: 0.8285674 (83)\ttotal: 20m 54s\tremaining: 2m 53s\n",
      "527:\ttest: 0.8218171\tbest: 0.8285674 (83)\ttotal: 20m 57s\tremaining: 2m 51s\n",
      "528:\ttest: 0.8218957\tbest: 0.8285674 (83)\ttotal: 20m 59s\tremaining: 2m 49s\n",
      "529:\ttest: 0.8218229\tbest: 0.8285674 (83)\ttotal: 21m 2s\tremaining: 2m 46s\n",
      "530:\ttest: 0.8216964\tbest: 0.8285674 (83)\ttotal: 21m 5s\tremaining: 2m 44s\n",
      "531:\ttest: 0.8217753\tbest: 0.8285674 (83)\ttotal: 21m 7s\tremaining: 2m 42s\n",
      "532:\ttest: 0.8217238\tbest: 0.8285674 (83)\ttotal: 21m 9s\tremaining: 2m 39s\n",
      "533:\ttest: 0.8217164\tbest: 0.8285674 (83)\ttotal: 21m 12s\tremaining: 2m 37s\n",
      "534:\ttest: 0.8216130\tbest: 0.8285674 (83)\ttotal: 21m 14s\tremaining: 2m 34s\n",
      "535:\ttest: 0.8217172\tbest: 0.8285674 (83)\ttotal: 21m 16s\tremaining: 2m 32s\n",
      "536:\ttest: 0.8216443\tbest: 0.8285674 (83)\ttotal: 21m 19s\tremaining: 2m 30s\n",
      "537:\ttest: 0.8216819\tbest: 0.8285674 (83)\ttotal: 21m 22s\tremaining: 2m 27s\n",
      "538:\ttest: 0.8216605\tbest: 0.8285674 (83)\ttotal: 21m 24s\tremaining: 2m 25s\n",
      "539:\ttest: 0.8216435\tbest: 0.8285674 (83)\ttotal: 21m 27s\tremaining: 2m 23s\n",
      "540:\ttest: 0.8216104\tbest: 0.8285674 (83)\ttotal: 21m 29s\tremaining: 2m 20s\n",
      "541:\ttest: 0.8216101\tbest: 0.8285674 (83)\ttotal: 21m 32s\tremaining: 2m 18s\n",
      "542:\ttest: 0.8216271\tbest: 0.8285674 (83)\ttotal: 21m 34s\tremaining: 2m 15s\n",
      "543:\ttest: 0.8215858\tbest: 0.8285674 (83)\ttotal: 21m 37s\tremaining: 2m 13s\n",
      "544:\ttest: 0.8215514\tbest: 0.8285674 (83)\ttotal: 21m 39s\tremaining: 2m 11s\n",
      "545:\ttest: 0.8214160\tbest: 0.8285674 (83)\ttotal: 21m 42s\tremaining: 2m 8s\n",
      "546:\ttest: 0.8213725\tbest: 0.8285674 (83)\ttotal: 21m 45s\tremaining: 2m 6s\n",
      "547:\ttest: 0.8213527\tbest: 0.8285674 (83)\ttotal: 21m 47s\tremaining: 2m 4s\n",
      "548:\ttest: 0.8213154\tbest: 0.8285674 (83)\ttotal: 21m 50s\tremaining: 2m 1s\n",
      "549:\ttest: 0.8212404\tbest: 0.8285674 (83)\ttotal: 21m 52s\tremaining: 1m 59s\n",
      "550:\ttest: 0.8212369\tbest: 0.8285674 (83)\ttotal: 21m 55s\tremaining: 1m 56s\n",
      "551:\ttest: 0.8212462\tbest: 0.8285674 (83)\ttotal: 21m 58s\tremaining: 1m 54s\n",
      "552:\ttest: 0.8212415\tbest: 0.8285674 (83)\ttotal: 22m\tremaining: 1m 52s\n"
     ]
    },
    {
     "name": "stdout",
     "output_type": "stream",
     "text": [
      "553:\ttest: 0.8211451\tbest: 0.8285674 (83)\ttotal: 22m 3s\tremaining: 1m 49s\n",
      "554:\ttest: 0.8211372\tbest: 0.8285674 (83)\ttotal: 22m 5s\tremaining: 1m 47s\n",
      "555:\ttest: 0.8211809\tbest: 0.8285674 (83)\ttotal: 22m 8s\tremaining: 1m 45s\n",
      "556:\ttest: 0.8212085\tbest: 0.8285674 (83)\ttotal: 22m 10s\tremaining: 1m 42s\n",
      "557:\ttest: 0.8212518\tbest: 0.8285674 (83)\ttotal: 22m 13s\tremaining: 1m 40s\n",
      "558:\ttest: 0.8211953\tbest: 0.8285674 (83)\ttotal: 22m 15s\tremaining: 1m 37s\n",
      "559:\ttest: 0.8211729\tbest: 0.8285674 (83)\ttotal: 22m 18s\tremaining: 1m 35s\n",
      "560:\ttest: 0.8213035\tbest: 0.8285674 (83)\ttotal: 22m 20s\tremaining: 1m 33s\n",
      "561:\ttest: 0.8212999\tbest: 0.8285674 (83)\ttotal: 22m 23s\tremaining: 1m 30s\n",
      "562:\ttest: 0.8212104\tbest: 0.8285674 (83)\ttotal: 22m 25s\tremaining: 1m 28s\n",
      "563:\ttest: 0.8212306\tbest: 0.8285674 (83)\ttotal: 22m 28s\tremaining: 1m 26s\n",
      "564:\ttest: 0.8212217\tbest: 0.8285674 (83)\ttotal: 22m 30s\tremaining: 1m 23s\n",
      "565:\ttest: 0.8212316\tbest: 0.8285674 (83)\ttotal: 22m 33s\tremaining: 1m 21s\n",
      "566:\ttest: 0.8211328\tbest: 0.8285674 (83)\ttotal: 22m 36s\tremaining: 1m 18s\n",
      "567:\ttest: 0.8211557\tbest: 0.8285674 (83)\ttotal: 22m 38s\tremaining: 1m 16s\n",
      "568:\ttest: 0.8211013\tbest: 0.8285674 (83)\ttotal: 22m 40s\tremaining: 1m 14s\n",
      "569:\ttest: 0.8211445\tbest: 0.8285674 (83)\ttotal: 22m 43s\tremaining: 1m 11s\n",
      "570:\ttest: 0.8210701\tbest: 0.8285674 (83)\ttotal: 22m 46s\tremaining: 1m 9s\n",
      "571:\ttest: 0.8211129\tbest: 0.8285674 (83)\ttotal: 22m 48s\tremaining: 1m 7s\n",
      "572:\ttest: 0.8210644\tbest: 0.8285674 (83)\ttotal: 22m 51s\tremaining: 1m 4s\n",
      "573:\ttest: 0.8210517\tbest: 0.8285674 (83)\ttotal: 22m 54s\tremaining: 1m 2s\n",
      "574:\ttest: 0.8210795\tbest: 0.8285674 (83)\ttotal: 22m 56s\tremaining: 59.8s\n",
      "575:\ttest: 0.8211001\tbest: 0.8285674 (83)\ttotal: 22m 59s\tremaining: 57.5s\n",
      "576:\ttest: 0.8210763\tbest: 0.8285674 (83)\ttotal: 23m 1s\tremaining: 55.1s\n",
      "577:\ttest: 0.8211009\tbest: 0.8285674 (83)\ttotal: 23m 4s\tremaining: 52.7s\n",
      "578:\ttest: 0.8210235\tbest: 0.8285674 (83)\ttotal: 23m 6s\tremaining: 50.3s\n",
      "579:\ttest: 0.8210139\tbest: 0.8285674 (83)\ttotal: 23m 9s\tremaining: 47.9s\n",
      "580:\ttest: 0.8209842\tbest: 0.8285674 (83)\ttotal: 23m 11s\tremaining: 45.5s\n",
      "581:\ttest: 0.8210240\tbest: 0.8285674 (83)\ttotal: 23m 14s\tremaining: 43.1s\n",
      "582:\ttest: 0.8210294\tbest: 0.8285674 (83)\ttotal: 23m 16s\tremaining: 40.7s\n",
      "583:\ttest: 0.8210076\tbest: 0.8285674 (83)\ttotal: 23m 19s\tremaining: 38.3s\n",
      "584:\ttest: 0.8209320\tbest: 0.8285674 (83)\ttotal: 23m 22s\tremaining: 36s\n",
      "585:\ttest: 0.8208355\tbest: 0.8285674 (83)\ttotal: 23m 24s\tremaining: 33.6s\n",
      "586:\ttest: 0.8209268\tbest: 0.8285674 (83)\ttotal: 23m 27s\tremaining: 31.2s\n",
      "587:\ttest: 0.8209082\tbest: 0.8285674 (83)\ttotal: 23m 29s\tremaining: 28.8s\n",
      "588:\ttest: 0.8208560\tbest: 0.8285674 (83)\ttotal: 23m 32s\tremaining: 26.4s\n",
      "589:\ttest: 0.8208064\tbest: 0.8285674 (83)\ttotal: 23m 34s\tremaining: 24s\n",
      "590:\ttest: 0.8208529\tbest: 0.8285674 (83)\ttotal: 23m 37s\tremaining: 21.6s\n",
      "591:\ttest: 0.8208779\tbest: 0.8285674 (83)\ttotal: 23m 39s\tremaining: 19.2s\n",
      "592:\ttest: 0.8209253\tbest: 0.8285674 (83)\ttotal: 23m 42s\tremaining: 16.8s\n",
      "593:\ttest: 0.8209299\tbest: 0.8285674 (83)\ttotal: 23m 44s\tremaining: 14.4s\n",
      "594:\ttest: 0.8208311\tbest: 0.8285674 (83)\ttotal: 23m 47s\tremaining: 12s\n",
      "595:\ttest: 0.8208156\tbest: 0.8285674 (83)\ttotal: 23m 50s\tremaining: 9.6s\n",
      "596:\ttest: 0.8208650\tbest: 0.8285674 (83)\ttotal: 23m 52s\tremaining: 7.2s\n",
      "597:\ttest: 0.8208259\tbest: 0.8285674 (83)\ttotal: 23m 55s\tremaining: 4.8s\n",
      "598:\ttest: 0.8208997\tbest: 0.8285674 (83)\ttotal: 23m 57s\tremaining: 2.4s\n",
      "599:\ttest: 0.8206820\tbest: 0.8285674 (83)\ttotal: 24m\tremaining: 0us\n",
      "\n",
      "bestTest = 0.8285674391\n",
      "bestIteration = 83\n",
      "\n",
      "Shrink model to first 84 iterations.\n"
     ]
    },
    {
     "data": {
      "text/plain": [
       "<catboost.core.CatBoostClassifier at 0x1b24d6122e0>"
      ]
     },
     "execution_count": 109,
     "metadata": {},
     "output_type": "execute_result"
    }
   ],
   "source": [
    "\n",
    "model=CatBoostClassifier(**best_params)\n",
    "model.fit(X_train, y_train, cat_features=categorical_features_indices,eval_set=(X_validation, y_validation),plot=True)"
   ]
  },
  {
   "cell_type": "code",
   "execution_count": 110,
   "id": "e26adf13",
   "metadata": {},
   "outputs": [],
   "source": [
    "pred = model.predict(X_validation)"
   ]
  },
  {
   "cell_type": "code",
   "execution_count": 111,
   "id": "1b6e931f",
   "metadata": {},
   "outputs": [],
   "source": [
    "pred_bool = (pred == 'True')"
   ]
  },
  {
   "cell_type": "code",
   "execution_count": 112,
   "id": "8847e1e1",
   "metadata": {},
   "outputs": [],
   "source": [
    "true_y = np.array(y_validation.to_list())"
   ]
  },
  {
   "cell_type": "code",
   "execution_count": 113,
   "id": "cd59a711",
   "metadata": {},
   "outputs": [
    {
     "data": {
      "text/plain": [
       "array([ True,  True,  True, ..., False,  True,  True])"
      ]
     },
     "execution_count": 113,
     "metadata": {},
     "output_type": "execute_result"
    }
   ],
   "source": [
    "true_y"
   ]
  },
  {
   "cell_type": "code",
   "execution_count": 199,
   "id": "c38cdd16",
   "metadata": {},
   "outputs": [
    {
     "name": "stdout",
     "output_type": "stream",
     "text": [
      "Accuracy_score: 0.7576232793169542\n",
      "Precision_score: 0.7909424724602203\n",
      "Recall_score: 0.857484076433121\n",
      "f1_score: 0.8228702406723546\n"
     ]
    }
   ],
   "source": [
    "# Model Accuracy, how often is the classifier correct?\n",
    "print(\"Accuracy_score:\",accuracy_score(true_y, pred_bool))\n",
    "print(\"Precision_score:\",precision_score(true_y, pred_bool))\n",
    "print(\"Recall_score:\",recall_score(true_y, pred_bool))\n",
    "print(\"f1_score:\",f1_score(true_y, pred_bool))"
   ]
  },
  {
   "cell_type": "code",
   "execution_count": 118,
   "id": "dc4d2be1",
   "metadata": {},
   "outputs": [
    {
     "data": {
      "text/plain": [
       "<AxesSubplot:>"
      ]
     },
     "execution_count": 118,
     "metadata": {},
     "output_type": "execute_result"
    },
    {
     "data": {
      "image/png": "[encoded data removed]",
      "text/plain": [
       "<Figure size 432x288 with 2 Axes>"
      ]
     },
     "metadata": {
      "needs_background": "light"
     },
     "output_type": "display_data"
    }
   ],
   "source": [
    "cf_matrix = confusion_matrix(true_y, pred_bool)\n",
    "\n",
    "group_names  = ['TN','FP','FN','TP']\n",
    "\n",
    "group_counts = [\"{0:0.0f}\".format(value) for value in\n",
    "                cf_matrix.flatten()]\n",
    "group_percentages = [\"{0:.2%}\".format(value) for value in\n",
    "                     cf_matrix.flatten()/np.sum(cf_matrix)]\n",
    "labels = [f\"{v1}\\n{v2}\\n{v3}\" for v1, v2, v3 in\n",
    "          zip(group_names,group_counts,group_percentages)]\n",
    "labels = np.asarray(labels).reshape(2,2)\n",
    "sns.heatmap(cf_matrix, annot=labels, fmt='', cmap='Blues')"
   ]
  },
  {
   "cell_type": "markdown",
   "id": "391b1549",
   "metadata": {},
   "source": [
    "https://medium.com/@dtuk81/confusion-matrix-visualization-fc31e3f30fea"
   ]
  },
  {
   "cell_type": "markdown",
   "id": "fe5f1d21",
   "metadata": {},
   "source": [
    "https://towardsdatascience.com/understanding-data-science-classification-metrics-in-scikit-learn-in-python-3bc336865019"
   ]
  },
  {
   "cell_type": "markdown",
   "id": "27ea52c7",
   "metadata": {},
   "source": [
    "### Spliting Data to Train and Test"
   ]
  },
  {
   "cell_type": "code",
   "execution_count": 208,
   "id": "eb18f6af",
   "metadata": {},
   "outputs": [],
   "source": [
    "dummy_svm = pd.get_dummies(data_processed_drop_nan_sla)"
   ]
  },
  {
   "cell_type": "code",
   "execution_count": 209,
   "id": "e0dca311",
   "metadata": {},
   "outputs": [],
   "source": [
    "X_svm = dummy_svm.drop(['made_sla'], axis=1)\n",
    "y_svm = dummy_svm.made_sla"
   ]
  },
  {
   "cell_type": "code",
   "execution_count": 210,
   "id": "392e5fd8",
   "metadata": {},
   "outputs": [],
   "source": [
    "X_train_svm, X_validation_svm, y_train_svm, y_validation_svm = train_test_split(X_svm, y_svm, train_size=0.7, random_state=1234, stratify=y_svm)\n"
   ]
  },
  {
   "cell_type": "markdown",
   "id": "f4fbd422",
   "metadata": {},
   "source": [
    "### svm Classifier"
   ]
  },
  {
   "cell_type": "code",
   "execution_count": 211,
   "id": "5940bde9",
   "metadata": {},
   "outputs": [],
   "source": [
    "#Create a svm Classifier\n",
    "clf = svm.SVC(kernel='linear') # Linear Kernel\n"
   ]
  },
  {
   "cell_type": "code",
   "execution_count": 212,
   "id": "f828876c",
   "metadata": {},
   "outputs": [
    {
     "data": {
      "text/plain": [
       "SVC(kernel='linear')"
      ]
     },
     "execution_count": 212,
     "metadata": {},
     "output_type": "execute_result"
    }
   ],
   "source": [
    "#Train the model using the training sets\n",
    "clf.fit(X_train_svm, y_train_svm)\n"
   ]
  },
  {
   "cell_type": "code",
   "execution_count": 213,
   "id": "eeffa032",
   "metadata": {},
   "outputs": [],
   "source": [
    "#Predict the response for test dataset\n",
    "y_pred = clf.predict(X_validation_svm)"
   ]
  },
  {
   "cell_type": "code",
   "execution_count": 214,
   "id": "16f29058",
   "metadata": {},
   "outputs": [
    {
     "name": "stdout",
     "output_type": "stream",
     "text": [
      "Accuracy: 0.745600278794215\n"
     ]
    }
   ],
   "source": [
    "# Model Accuracy: how often is the classifier correct?\n",
    "print(\"Accuracy:\",metrics.accuracy_score(y_validation_svm, y_pred))"
   ]
  },
  {
   "cell_type": "code",
   "execution_count": 215,
   "id": "3998c589",
   "metadata": {},
   "outputs": [
    {
     "name": "stdout",
     "output_type": "stream",
     "text": [
      "Accuracy_score: 0.745600278794215\n",
      "Precision_score: 0.8009911319770475\n",
      "Recall_score: 0.8150212314225053\n",
      "f1_score: 0.8079452775585373\n"
     ]
    }
   ],
   "source": [
    "# Model Accuracy, how often is the classifier correct?\n",
    "print(\"Accuracy_score:\",metrics.accuracy_score(y_validation_svm, y_pred))\n",
    "print(\"Precision_score:\",metrics.precision_score(y_validation_svm, y_pred))\n",
    "print(\"Recall_score:\",metrics.recall_score(y_validation_svm, y_pred))\n",
    "print(\"f1_score:\",metrics.f1_score(y_validation_svm, y_pred))"
   ]
  },
  {
   "cell_type": "code",
   "execution_count": 216,
   "id": "f13074b2",
   "metadata": {},
   "outputs": [
    {
     "data": {
      "text/plain": [
       "<AxesSubplot:>"
      ]
     },
     "execution_count": 216,
     "metadata": {},
     "output_type": "execute_result"
    },
    {
     "data": {
      "image/png": "[encoded data removed]",
      "text/plain": [
       "<Figure size 432x288 with 2 Axes>"
      ]
     },
     "metadata": {
      "needs_background": "light"
     },
     "output_type": "display_data"
    }
   ],
   "source": [
    "cf_matrix = confusion_matrix(y_validation_svm, y_pred)\n",
    "\n",
    "group_names  = ['TN','FP','FN','TP']\n",
    "\n",
    "group_counts = [\"{0:0.0f}\".format(value) for value in\n",
    "                cf_matrix.flatten()]\n",
    "group_percentages = [\"{0:.2%}\".format(value) for value in\n",
    "                     cf_matrix.flatten()/np.sum(cf_matrix)]\n",
    "labels = [f\"{v1}\\n{v2}\\n{v3}\" for v1, v2, v3 in\n",
    "          zip(group_names,group_counts,group_percentages)]\n",
    "labels = np.asarray(labels).reshape(2,2)\n",
    "sns.heatmap(cf_matrix, annot=labels, fmt='', cmap='Blues')"
   ]
  },
  {
   "cell_type": "markdown",
   "id": "0c4952ac",
   "metadata": {},
   "source": [
    "### Random Forest Model(Gaussian Classifier)"
   ]
  },
  {
   "cell_type": "markdown",
   "id": "b201ce76",
   "metadata": {},
   "source": [
    "https://www.datacamp.com/community/tutorials/random-forests-classifier-python"
   ]
  },
  {
   "cell_type": "code",
   "execution_count": 217,
   "id": "e694a7a0",
   "metadata": {},
   "outputs": [],
   "source": [
    "#Create a Gaussian Classifier\n",
    "RF_clf=RandomForestClassifier(n_estimators=80)"
   ]
  },
  {
   "cell_type": "code",
   "execution_count": 218,
   "id": "73a67db6",
   "metadata": {},
   "outputs": [
    {
     "data": {
      "text/plain": [
       "RandomForestClassifier(n_estimators=80)"
      ]
     },
     "execution_count": 218,
     "metadata": {},
     "output_type": "execute_result"
    }
   ],
   "source": [
    "#Train the model using the training sets y_pred=clf.predict(X_test)\n",
    "RF_clf.fit(X_train_svm,y_train_svm)"
   ]
  },
  {
   "cell_type": "code",
   "execution_count": 219,
   "id": "dca95cbe",
   "metadata": {},
   "outputs": [],
   "source": [
    "y_pred=RF_clf.predict(X_validation_svm)"
   ]
  },
  {
   "cell_type": "code",
   "execution_count": 220,
   "id": "6649466c",
   "metadata": {},
   "outputs": [
    {
     "name": "stdout",
     "output_type": "stream",
     "text": [
      "Accuracy_score: 0.7518731486321659\n",
      "Precision_score: 0.7864125122189638\n",
      "Recall_score: 0.8540339702760085\n",
      "f1_score: 0.8188295165394401\n"
     ]
    }
   ],
   "source": [
    "# Model Accuracy, how often is the classifier correct?\n",
    "print(\"Accuracy_score:\",metrics.accuracy_score(y_validation_svm, y_pred))\n",
    "print(\"Precision_score:\",metrics.precision_score(y_validation_svm, y_pred))\n",
    "print(\"Recall_score:\",metrics.recall_score(y_validation_svm, y_pred))\n",
    "print(\"f1_score:\",metrics.f1_score(y_validation_svm, y_pred))\n"
   ]
  },
  {
   "cell_type": "code",
   "execution_count": 221,
   "id": "fc0a3185",
   "metadata": {},
   "outputs": [
    {
     "data": {
      "text/plain": [
       "<AxesSubplot:>"
      ]
     },
     "execution_count": 221,
     "metadata": {},
     "output_type": "execute_result"
    },
    {
     "data": {
      "image/png": "[encoded data removed]",
      "text/plain": [
       "<Figure size 432x288 with 2 Axes>"
      ]
     },
     "metadata": {
      "needs_background": "light"
     },
     "output_type": "display_data"
    }
   ],
   "source": [
    "cf_matrix = confusion_matrix(y_validation_svm, y_pred)\n",
    "\n",
    "group_names  = ['TN','FP','FN','TP']\n",
    "\n",
    "group_counts = [\"{0:0.0f}\".format(value) for value in\n",
    "                cf_matrix.flatten()]\n",
    "group_percentages = [\"{0:.2%}\".format(value) for value in\n",
    "                     cf_matrix.flatten()/np.sum(cf_matrix)]\n",
    "labels = [f\"{v1}\\n{v2}\\n{v3}\" for v1, v2, v3 in\n",
    "          zip(group_names,group_counts,group_percentages)]\n",
    "labels = np.asarray(labels).reshape(2,2)\n",
    "sns.heatmap(cf_matrix, annot=labels, fmt='', cmap='Blues')"
   ]
  },
  {
   "cell_type": "markdown",
   "id": "30e664b7",
   "metadata": {},
   "source": [
    "### Decision Tree Classifier"
   ]
  },
  {
   "cell_type": "code",
   "execution_count": 222,
   "id": "7d8184e1",
   "metadata": {},
   "outputs": [],
   "source": [
    "# Create Decision Tree classifer object\n",
    "DT_clf = DecisionTreeClassifier()"
   ]
  },
  {
   "cell_type": "code",
   "execution_count": 223,
   "id": "ec7fa4ed",
   "metadata": {},
   "outputs": [],
   "source": [
    "# Train Decision Tree Classifer\n",
    "DT_clf = clf.fit(X_train_svm,y_train_svm)"
   ]
  },
  {
   "cell_type": "code",
   "execution_count": 224,
   "id": "def11b96",
   "metadata": {},
   "outputs": [],
   "source": [
    "#Predict the response for test dataset\n",
    "y_pred = DT_clf.predict(X_validation_svm)"
   ]
  },
  {
   "cell_type": "code",
   "execution_count": 225,
   "id": "bb91eb4c",
   "metadata": {},
   "outputs": [
    {
     "name": "stdout",
     "output_type": "stream",
     "text": [
      "Accuracy: 0.745600278794215\n"
     ]
    }
   ],
   "source": [
    "# Model Accuracy, how often is the classifier correct?\n",
    "print(\"Accuracy:\",metrics.accuracy_score(y_validation_svm, y_pred))"
   ]
  },
  {
   "cell_type": "code",
   "execution_count": 226,
   "id": "4916fc54",
   "metadata": {},
   "outputs": [
    {
     "name": "stdout",
     "output_type": "stream",
     "text": [
      "Accuracy_score: 0.745600278794215\n",
      "Precision_score: 0.8009911319770475\n",
      "Recall_score: 0.8150212314225053\n",
      "f1_score: 0.8079452775585373\n"
     ]
    }
   ],
   "source": [
    "# Model Accuracy, how often is the classifier correct?\n",
    "print(\"Accuracy_score:\",metrics.accuracy_score(y_validation_svm, y_pred))\n",
    "print(\"Precision_score:\",metrics.precision_score(y_validation_svm, y_pred))\n",
    "print(\"Recall_score:\",metrics.recall_score(y_validation_svm, y_pred))\n",
    "print(\"f1_score:\",metrics.f1_score(y_validation_svm, y_pred))"
   ]
  },
  {
   "cell_type": "code",
   "execution_count": 227,
   "id": "61ac1444",
   "metadata": {},
   "outputs": [
    {
     "data": {
      "text/plain": [
       "<AxesSubplot:>"
      ]
     },
     "execution_count": 227,
     "metadata": {},
     "output_type": "execute_result"
    },
    {
     "data": {
      "image/png": "[encoded data removed]",
      "text/plain": [
       "<Figure size 432x288 with 2 Axes>"
      ]
     },
     "metadata": {
      "needs_background": "light"
     },
     "output_type": "display_data"
    }
   ],
   "source": [
    "cf_matrix = confusion_matrix(y_validation_svm, y_pred)\n",
    "\n",
    "group_names  = ['TN','FP','FN','TP']\n",
    "\n",
    "group_counts = [\"{0:0.0f}\".format(value) for value in\n",
    "                cf_matrix.flatten()]\n",
    "group_percentages = [\"{0:.2%}\".format(value) for value in\n",
    "                     cf_matrix.flatten()/np.sum(cf_matrix)]\n",
    "labels = [f\"{v1}\\n{v2}\\n{v3}\" for v1, v2, v3 in\n",
    "          zip(group_names,group_counts,group_percentages)]\n",
    "labels = np.asarray(labels).reshape(2,2)\n",
    "sns.heatmap(cf_matrix, annot=labels, fmt='', cmap='Blues')"
   ]
  },
  {
   "cell_type": "markdown",
   "id": "0dfda10a",
   "metadata": {},
   "source": [
    "## Data cleansing"
   ]
  },
  {
   "cell_type": "markdown",
   "id": "a3c1e066",
   "metadata": {},
   "source": [
    "## Creating a method to check for values in the list"
   ]
  },
  {
   "cell_type": "markdown",
   "id": "624805d5",
   "metadata": {},
   "source": [
    "## Predicting and Evaluating the dataset"
   ]
  },
  {
   "cell_type": "markdown",
   "id": "2eaeb982",
   "metadata": {},
   "source": [
    "https://towardsdatascience.com/machine-learning-classifiers-comparison-with-python-33149aecdbca"
   ]
  },
  {
   "cell_type": "code",
   "execution_count": 58,
   "id": "974a3828",
   "metadata": {},
   "outputs": [],
   "source": [
    "# Define dictionary with performance metrics\n",
    "scoring = {'accuracy':make_scorer(accuracy_score), \n",
    "           'precision':make_scorer(precision_score),\n",
    "           'recall':make_scorer(recall_score), \n",
    "           'f1_score':make_scorer(f1_score)}"
   ]
  },
  {
   "cell_type": "code",
   "execution_count": 59,
   "id": "bf604fd3",
   "metadata": {},
   "outputs": [],
   "source": [
    "# Instantiate the machine learning classifiers\n",
    "log_model = LogisticRegression(max_iter=10000)\n",
    "svc_model = LinearSVC(dual=False)\n",
    "dtr_model = DecisionTreeClassifier()\n",
    "rfc_model = RandomForestClassifier()\n",
    "gnb_model = GaussianNB()"
   ]
  },
  {
   "cell_type": "code",
   "execution_count": 60,
   "id": "4773546c",
   "metadata": {},
   "outputs": [],
   "source": [
    "# Define the models evaluation function\n",
    "def models_evaluation(X_train_svm,y_train_svm):\n",
    "    \n",
    "    '''\n",
    "    X : data set features\n",
    "    y : data set target\n",
    "    folds : number of cross-validation folds\n",
    "    \n",
    "    '''"
   ]
  },
  {
   "cell_type": "markdown",
   "id": "b9fef5f7",
   "metadata": {},
   "source": [
    "### Perform cross-validation to each machine learning classifier"
   ]
  },
  {
   "cell_type": "code",
   "execution_count": 61,
   "id": "39a7dfc9",
   "metadata": {},
   "outputs": [],
   "source": [
    "  log = cross_validate(log_model, X_train_svm,y_train_svm, scoring=scoring)"
   ]
  },
  {
   "cell_type": "code",
   "execution_count": 62,
   "id": "290ece7d",
   "metadata": {},
   "outputs": [],
   "source": [
    "  svc = cross_validate(svc_model, X_train_svm,y_train_svm, scoring=scoring)"
   ]
  },
  {
   "cell_type": "code",
   "execution_count": 63,
   "id": "1fbc41f7",
   "metadata": {},
   "outputs": [],
   "source": [
    "dtr = cross_validate(dtr_model, X_train_svm,y_train_svm, scoring=scoring)"
   ]
  },
  {
   "cell_type": "code",
   "execution_count": 64,
   "id": "7b332867",
   "metadata": {},
   "outputs": [],
   "source": [
    "rfc = cross_validate(rfc_model,X_train_svm,y_train_svm, scoring=scoring)"
   ]
  },
  {
   "cell_type": "code",
   "execution_count": 65,
   "id": "1601ac7d",
   "metadata": {},
   "outputs": [],
   "source": [
    "gnb = cross_validate(gnb_model, X_train_svm,y_train_svm, scoring=scoring)"
   ]
  },
  {
   "cell_type": "code",
   "execution_count": 95,
   "id": "3eb097e3",
   "metadata": {},
   "outputs": [],
   "source": [
    "# Create a data frame with the models perfoamnce metrics scores\n",
    "models_scores_table = pd.DataFrame({'Logistic Regression':[log['test_accuracy'].mean(),\n",
    "                                                               log['test_precision'].mean(),\n",
    "                                                               log['test_recall'].mean(),\n",
    "                                                               log['test_f1_score'].mean()],\n",
    "                                       \n",
    "                                      'Support Vector Classifier':[svc['test_accuracy'].mean(),\n",
    "                                                                   svc['test_precision'].mean(),\n",
    "                                                                   svc['test_recall'].mean(),\n",
    "                                                                   svc['test_f1_score'].mean()],\n",
    "                                       \n",
    "                                      'Decision Tree':[dtr['test_accuracy'].mean(),\n",
    "                                                       dtr['test_precision'].mean(),\n",
    "                                                       dtr['test_recall'].mean(),\n",
    "                                                       dtr['test_f1_score'].mean()],\n",
    "                                       \n",
    "                                      'Random Forest':[rfc['test_accuracy'].mean(),\n",
    "                                                       rfc['test_precision'].mean(),\n",
    "                                                       rfc['test_recall'].mean(),\n",
    "                                                       rfc['test_f1_score'].mean()],\n",
    "                                       \n",
    "                                      'Gaussian Naive Bayes':[gnb['test_accuracy'].mean(),\n",
    "                                                              gnb['test_precision'].mean(),\n",
    "                                                              gnb['test_recall'].mean(),\n",
    "                                                              gnb['test_f1_score'].mean()]},\n",
    "                                      \n",
    "                                      index=['Accuracy', 'Precision', 'Recall', 'F1 Score'])\n",
    "    \n",
    "     \n",
    "    \n",
    "    # Add 'Best Score' column\n",
    "models_scores_table['Best Score'] = models_scores_table.idxmax(axis=1)\n",
    "    \n",
    "    \n",
    "  \n",
    "\n",
    "    \n",
    "   "
   ]
  },
  {
   "cell_type": "code",
   "execution_count": 96,
   "id": "069c941f",
   "metadata": {},
   "outputs": [
    {
     "data": {
      "text/html": [
       "<div>\n",
       "<style scoped>\n",
       "    .dataframe tbody tr th:only-of-type {\n",
       "        vertical-align: middle;\n",
       "    }\n",
       "\n",
       "    .dataframe tbody tr th {\n",
       "        vertical-align: top;\n",
       "    }\n",
       "\n",
       "    .dataframe thead th {\n",
       "        text-align: right;\n",
       "    }\n",
       "</style>\n",
       "<table border=\"1\" class=\"dataframe\">\n",
       "  <thead>\n",
       "    <tr style=\"text-align: right;\">\n",
       "      <th></th>\n",
       "      <th>Logistic Regression</th>\n",
       "      <th>Support Vector Classifier</th>\n",
       "      <th>Decision Tree</th>\n",
       "      <th>Random Forest</th>\n",
       "      <th>Gaussian Naive Bayes</th>\n",
       "      <th>Best Score</th>\n",
       "    </tr>\n",
       "  </thead>\n",
       "  <tbody>\n",
       "    <tr>\n",
       "      <th>Accuracy</th>\n",
       "      <td>0.741748</td>\n",
       "      <td>0.740777</td>\n",
       "      <td>0.715161</td>\n",
       "      <td>0.733308</td>\n",
       "      <td>0.712099</td>\n",
       "      <td>Logistic Regression</td>\n",
       "    </tr>\n",
       "    <tr>\n",
       "      <th>Precision</th>\n",
       "      <td>0.774825</td>\n",
       "      <td>0.773658</td>\n",
       "      <td>0.777016</td>\n",
       "      <td>0.775239</td>\n",
       "      <td>0.734361</td>\n",
       "      <td>Decision Tree</td>\n",
       "    </tr>\n",
       "    <tr>\n",
       "      <th>Recall</th>\n",
       "      <td>0.855339</td>\n",
       "      <td>0.855566</td>\n",
       "      <td>0.794154</td>\n",
       "      <td>0.836459</td>\n",
       "      <td>0.880697</td>\n",
       "      <td>Gaussian Naive Bayes</td>\n",
       "    </tr>\n",
       "    <tr>\n",
       "      <th>F1 Score</th>\n",
       "      <td>0.813069</td>\n",
       "      <td>0.812528</td>\n",
       "      <td>0.785449</td>\n",
       "      <td>0.804625</td>\n",
       "      <td>0.800692</td>\n",
       "      <td>Logistic Regression</td>\n",
       "    </tr>\n",
       "  </tbody>\n",
       "</table>\n",
       "</div>"
      ],
      "text/plain": [
       "           Logistic Regression  Support Vector Classifier  Decision Tree  \\\n",
       "Accuracy              0.741748                   0.740777       0.715161   \n",
       "Precision             0.774825                   0.773658       0.777016   \n",
       "Recall                0.855339                   0.855566       0.794154   \n",
       "F1 Score              0.813069                   0.812528       0.785449   \n",
       "\n",
       "           Random Forest  Gaussian Naive Bayes            Best Score  \n",
       "Accuracy        0.733308              0.712099   Logistic Regression  \n",
       "Precision       0.775239              0.734361         Decision Tree  \n",
       "Recall          0.836459              0.880697  Gaussian Naive Bayes  \n",
       "F1 Score        0.804625              0.800692   Logistic Regression  "
      ]
     },
     "execution_count": 96,
     "metadata": {},
     "output_type": "execute_result"
    }
   ],
   "source": [
    "models_scores_table"
   ]
  }
 ],
 "metadata": {
  "kernelspec": {
   "display_name": "Python 3",
   "language": "python",
   "name": "python3"
  },
  "language_info": {
   "codemirror_mode": {
    "name": "ipython",
    "version": 3
   },
   "file_extension": ".py",
   "mimetype": "text/x-python",
   "name": "python",
   "nbconvert_exporter": "python",
   "pygments_lexer": "ipython3",
   "version": "3.8.8"
  }
 },
 "nbformat": 4,
 "nbformat_minor": 5
}
