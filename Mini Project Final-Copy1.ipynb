{
 "cells": [
  {
   "cell_type": "markdown",
   "id": "925c5c75",
   "metadata": {
    "id": "925c5c75"
   },
   "source": [
    "# Food Recipes\n",
    "\n",
    "#### This dataset is providing data on recipes over various cuisines and courses.\n"
   ]
  },
  {
   "cell_type": "markdown",
   "id": "af826c95",
   "metadata": {},
   "source": [
    "The dataset seems to be showing various recipes and all information in relation to it.\n",
    "By accessing the dataset, I am trying to find if I could know how popular a new recipe is going to be before publishing.\n",
    "\n",
    "In order to do that I am to use linear regression approach."
   ]
  },
  {
   "cell_type": "markdown",
   "id": "797dca50",
   "metadata": {
    "id": "797dca50"
   },
   "source": [
    "### Getting to know Dataset Nature"
   ]
  },
  {
   "cell_type": "markdown",
   "id": "c32ff411",
   "metadata": {
    "id": "c32ff411"
   },
   "source": [
    "#### Importing relevant Libraries"
   ]
  },
  {
   "cell_type": "code",
   "execution_count": 27,
   "id": "b1fc89d5",
   "metadata": {},
   "outputs": [],
   "source": [
    "import pandas as pd\n",
    "import seaborn as sns\n",
    "\n",
    "import collections\n",
    "import itertools\n",
    "from sklearn.linear_model import LinearRegression\n",
    "from sklearn.model_selection import train_test_split\n",
    "\n",
    "import matplotlib.pyplot as plt\n",
    "import numpy as np"
   ]
  },
  {
   "cell_type": "markdown",
   "id": "19b63a28",
   "metadata": {},
   "source": [
    "#### Importing the dataset"
   ]
  },
  {
   "cell_type": "code",
   "execution_count": 28,
   "id": "40cb3cc6",
   "metadata": {},
   "outputs": [],
   "source": [
    "data = pd.read_csv('food_recipes.csv')"
   ]
  },
  {
   "cell_type": "markdown",
   "id": "326ba4b7",
   "metadata": {},
   "source": [
    "#### Shows first 5 rows of the dataframe."
   ]
  },
  {
   "cell_type": "code",
   "execution_count": 29,
   "id": "16418d3b",
   "metadata": {
    "colab": {
     "base_uri": "https://localhost:8080/",
     "height": 476
    },
    "executionInfo": {
     "elapsed": 32,
     "status": "ok",
     "timestamp": 1630858490541,
     "user": {
      "displayName": "Vinura Thivin Perera",
      "photoUrl": "https://lh3.googleusercontent.com/a-/AOh14GjWvQAaXIGhkdHABV-paqWdDIA6LlUrRUJ5Js8l9CY=s64",
      "userId": "04171016047177543209"
     },
     "user_tz": -330
    },
    "id": "16418d3b",
    "outputId": "81240304-4e01-46fb-f664-47d184847973"
   },
   "outputs": [
    {
     "data": {
      "text/html": [
       "<div>\n",
       "<style scoped>\n",
       "    .dataframe tbody tr th:only-of-type {\n",
       "        vertical-align: middle;\n",
       "    }\n",
       "\n",
       "    .dataframe tbody tr th {\n",
       "        vertical-align: top;\n",
       "    }\n",
       "\n",
       "    .dataframe thead th {\n",
       "        text-align: right;\n",
       "    }\n",
       "</style>\n",
       "<table border=\"1\" class=\"dataframe\">\n",
       "  <thead>\n",
       "    <tr style=\"text-align: right;\">\n",
       "      <th></th>\n",
       "      <th>recipe_title</th>\n",
       "      <th>url</th>\n",
       "      <th>record_health</th>\n",
       "      <th>vote_count</th>\n",
       "      <th>rating</th>\n",
       "      <th>description</th>\n",
       "      <th>cuisine</th>\n",
       "      <th>course</th>\n",
       "      <th>diet</th>\n",
       "      <th>prep_time</th>\n",
       "      <th>cook_time</th>\n",
       "      <th>ingredients</th>\n",
       "      <th>instructions</th>\n",
       "      <th>author</th>\n",
       "      <th>tags</th>\n",
       "      <th>category</th>\n",
       "    </tr>\n",
       "  </thead>\n",
       "  <tbody>\n",
       "    <tr>\n",
       "      <th>0</th>\n",
       "      <td>Roasted Peppers And Mushroom Tortilla Pizza Re...</td>\n",
       "      <td>https://www.archanaskitchen.com/roasted-pepper...</td>\n",
       "      <td>good</td>\n",
       "      <td>434</td>\n",
       "      <td>4.958525</td>\n",
       "      <td>is a quicker version pizza to satisfy your cr...</td>\n",
       "      <td>Mexican</td>\n",
       "      <td>Dinner</td>\n",
       "      <td>Vegetarian</td>\n",
       "      <td>15 M</td>\n",
       "      <td>15 M</td>\n",
       "      <td>Tortillas|Extra Virgin Olive Oil|Garlic|Mozzar...</td>\n",
       "      <td>To begin making the Roasted Peppers And Mushro...</td>\n",
       "      <td>Divya Shivaraman</td>\n",
       "      <td>Party Food Recipes|Tea Party Recipes|Mushroom ...</td>\n",
       "      <td>Pizza Recipes</td>\n",
       "    </tr>\n",
       "    <tr>\n",
       "      <th>1</th>\n",
       "      <td>Thakkali Gotsu Recipe | Thakkali Curry | Spicy...</td>\n",
       "      <td>https://www.archanaskitchen.com/tomato-gotsu-r...</td>\n",
       "      <td>good</td>\n",
       "      <td>3423</td>\n",
       "      <td>4.932223</td>\n",
       "      <td>also known as the   is a quick and easy to ma...</td>\n",
       "      <td>South Indian Recipes</td>\n",
       "      <td>Lunch</td>\n",
       "      <td>Vegetarian</td>\n",
       "      <td>10 M</td>\n",
       "      <td>20 M</td>\n",
       "      <td>Sesame (Gingelly) Oil|Mustard seeds (Rai/ Kadu...</td>\n",
       "      <td>To begin making Tomato Gotsu Recipe/ Thakkali ...</td>\n",
       "      <td>Archana Doshi</td>\n",
       "      <td>Vegetarian Recipes|Tomato Recipes|South Indian...</td>\n",
       "      <td>Indian Curry Recipes</td>\n",
       "    </tr>\n",
       "    <tr>\n",
       "      <th>2</th>\n",
       "      <td>Spicy Grilled Pineapple Salsa Recipe</td>\n",
       "      <td>https://www.archanaskitchen.com/spicy-grilled-...</td>\n",
       "      <td>good</td>\n",
       "      <td>2091</td>\n",
       "      <td>4.945959</td>\n",
       "      <td>Spicy Grilled Pineapple Salsa is a simple reci...</td>\n",
       "      <td>Mexican</td>\n",
       "      <td>Side Dish</td>\n",
       "      <td>Vegetarian</td>\n",
       "      <td>10 M</td>\n",
       "      <td>0 M</td>\n",
       "      <td>Extra Virgin Olive Oil|Pineapple|White onion|R...</td>\n",
       "      <td>To begin making the Spicy Grilled Pineapple Sa...</td>\n",
       "      <td>Archana's Kitchen</td>\n",
       "      <td>Party Starter &amp; Appetizer Recipes|Pineapple Re...</td>\n",
       "      <td>Mexican Recipes</td>\n",
       "    </tr>\n",
       "    <tr>\n",
       "      <th>3</th>\n",
       "      <td>Karwar Style Dali Thoy Recipe - Toor dal Curry</td>\n",
       "      <td>https://www.archanaskitchen.com/dali-thoy-reci...</td>\n",
       "      <td>good</td>\n",
       "      <td>990</td>\n",
       "      <td>4.888889</td>\n",
       "      <td>The   is a quintessential of Konkani dish whic...</td>\n",
       "      <td>Coastal Karnataka</td>\n",
       "      <td>Side Dish</td>\n",
       "      <td>High Protein Vegetarian</td>\n",
       "      <td>5 M</td>\n",
       "      <td>20 M</td>\n",
       "      <td>Arhar dal (Split Toor Dal)|Turmeric powder (Ha...</td>\n",
       "      <td>To prepare Karwar Style Dali Thoy Recipe (Toor...</td>\n",
       "      <td>Jyothi Rajesh</td>\n",
       "      <td>Side Dish Recipes|South Indian Recipes|Indian ...</td>\n",
       "      <td>Indian Curry Recipes</td>\n",
       "    </tr>\n",
       "    <tr>\n",
       "      <th>4</th>\n",
       "      <td>Rajma Kofta In Milk And Poppy Seed Gravy Recipe</td>\n",
       "      <td>https://www.archanaskitchen.com/rajma-kofta-in...</td>\n",
       "      <td>good</td>\n",
       "      <td>345</td>\n",
       "      <td>4.828986</td>\n",
       "      <td>Koftas are traditional Indian recipes mostly w...</td>\n",
       "      <td>North Indian Recipes</td>\n",
       "      <td>Side Dish</td>\n",
       "      <td>High Protein Vegetarian</td>\n",
       "      <td>20 M</td>\n",
       "      <td>30 M</td>\n",
       "      <td>Rajma (Large Kidney Beans)|Cashew nuts|Sultana...</td>\n",
       "      <td>To begin making Rajma Kofta In Milk And Poppy ...</td>\n",
       "      <td>RUBY PATHAK</td>\n",
       "      <td>Side Dish Recipes|Indian Lunch Recipes|Office ...</td>\n",
       "      <td>Kofta Recipes</td>\n",
       "    </tr>\n",
       "  </tbody>\n",
       "</table>\n",
       "</div>"
      ],
      "text/plain": [
       "                                        recipe_title  \\\n",
       "0  Roasted Peppers And Mushroom Tortilla Pizza Re...   \n",
       "1  Thakkali Gotsu Recipe | Thakkali Curry | Spicy...   \n",
       "2               Spicy Grilled Pineapple Salsa Recipe   \n",
       "3     Karwar Style Dali Thoy Recipe - Toor dal Curry   \n",
       "4    Rajma Kofta In Milk And Poppy Seed Gravy Recipe   \n",
       "\n",
       "                                                 url record_health  \\\n",
       "0  https://www.archanaskitchen.com/roasted-pepper...          good   \n",
       "1  https://www.archanaskitchen.com/tomato-gotsu-r...          good   \n",
       "2  https://www.archanaskitchen.com/spicy-grilled-...          good   \n",
       "3  https://www.archanaskitchen.com/dali-thoy-reci...          good   \n",
       "4  https://www.archanaskitchen.com/rajma-kofta-in...          good   \n",
       "\n",
       "   vote_count    rating                                        description  \\\n",
       "0         434  4.958525   is a quicker version pizza to satisfy your cr...   \n",
       "1        3423  4.932223   also known as the   is a quick and easy to ma...   \n",
       "2        2091  4.945959  Spicy Grilled Pineapple Salsa is a simple reci...   \n",
       "3         990  4.888889  The   is a quintessential of Konkani dish whic...   \n",
       "4         345  4.828986  Koftas are traditional Indian recipes mostly w...   \n",
       "\n",
       "                cuisine     course                     diet prep_time  \\\n",
       "0               Mexican     Dinner               Vegetarian      15 M   \n",
       "1  South Indian Recipes      Lunch               Vegetarian      10 M   \n",
       "2               Mexican  Side Dish               Vegetarian      10 M   \n",
       "3     Coastal Karnataka  Side Dish  High Protein Vegetarian       5 M   \n",
       "4  North Indian Recipes  Side Dish  High Protein Vegetarian      20 M   \n",
       "\n",
       "  cook_time                                        ingredients  \\\n",
       "0      15 M  Tortillas|Extra Virgin Olive Oil|Garlic|Mozzar...   \n",
       "1      20 M  Sesame (Gingelly) Oil|Mustard seeds (Rai/ Kadu...   \n",
       "2       0 M  Extra Virgin Olive Oil|Pineapple|White onion|R...   \n",
       "3      20 M  Arhar dal (Split Toor Dal)|Turmeric powder (Ha...   \n",
       "4      30 M  Rajma (Large Kidney Beans)|Cashew nuts|Sultana...   \n",
       "\n",
       "                                        instructions             author  \\\n",
       "0  To begin making the Roasted Peppers And Mushro...  Divya Shivaraman    \n",
       "1  To begin making Tomato Gotsu Recipe/ Thakkali ...      Archana Doshi   \n",
       "2  To begin making the Spicy Grilled Pineapple Sa...  Archana's Kitchen   \n",
       "3  To prepare Karwar Style Dali Thoy Recipe (Toor...      Jyothi Rajesh   \n",
       "4  To begin making Rajma Kofta In Milk And Poppy ...        RUBY PATHAK   \n",
       "\n",
       "                                                tags              category  \n",
       "0  Party Food Recipes|Tea Party Recipes|Mushroom ...         Pizza Recipes  \n",
       "1  Vegetarian Recipes|Tomato Recipes|South Indian...  Indian Curry Recipes  \n",
       "2  Party Starter & Appetizer Recipes|Pineapple Re...       Mexican Recipes  \n",
       "3  Side Dish Recipes|South Indian Recipes|Indian ...  Indian Curry Recipes  \n",
       "4  Side Dish Recipes|Indian Lunch Recipes|Office ...         Kofta Recipes  "
      ]
     },
     "execution_count": 29,
     "metadata": {},
     "output_type": "execute_result"
    }
   ],
   "source": [
    "data.head()  "
   ]
  },
  {
   "cell_type": "markdown",
   "id": "212eda46",
   "metadata": {
    "id": "212eda46"
   },
   "source": [
    "#### Shows last 5 rows of the dataframe.\n"
   ]
  },
  {
   "cell_type": "code",
   "execution_count": 30,
   "id": "f2478261",
   "metadata": {
    "colab": {
     "base_uri": "https://localhost:8080/",
     "height": 564
    },
    "executionInfo": {
     "elapsed": 16,
     "status": "ok",
     "timestamp": 1630858495494,
     "user": {
      "displayName": "Vinura Thivin Perera",
      "photoUrl": "https://lh3.googleusercontent.com/a-/AOh14GjWvQAaXIGhkdHABV-paqWdDIA6LlUrRUJ5Js8l9CY=s64",
      "userId": "04171016047177543209"
     },
     "user_tz": -330
    },
    "id": "f2478261",
    "outputId": "d949163a-a995-41ea-fa64-2ae2e660e82e"
   },
   "outputs": [
    {
     "data": {
      "text/html": [
       "<div>\n",
       "<style scoped>\n",
       "    .dataframe tbody tr th:only-of-type {\n",
       "        vertical-align: middle;\n",
       "    }\n",
       "\n",
       "    .dataframe tbody tr th {\n",
       "        vertical-align: top;\n",
       "    }\n",
       "\n",
       "    .dataframe thead th {\n",
       "        text-align: right;\n",
       "    }\n",
       "</style>\n",
       "<table border=\"1\" class=\"dataframe\">\n",
       "  <thead>\n",
       "    <tr style=\"text-align: right;\">\n",
       "      <th></th>\n",
       "      <th>recipe_title</th>\n",
       "      <th>url</th>\n",
       "      <th>record_health</th>\n",
       "      <th>vote_count</th>\n",
       "      <th>rating</th>\n",
       "      <th>description</th>\n",
       "      <th>cuisine</th>\n",
       "      <th>course</th>\n",
       "      <th>diet</th>\n",
       "      <th>prep_time</th>\n",
       "      <th>cook_time</th>\n",
       "      <th>ingredients</th>\n",
       "      <th>instructions</th>\n",
       "      <th>author</th>\n",
       "      <th>tags</th>\n",
       "      <th>category</th>\n",
       "    </tr>\n",
       "  </thead>\n",
       "  <tbody>\n",
       "    <tr>\n",
       "      <th>8004</th>\n",
       "      <td>Zucchini and Carrot Pasta Recipe</td>\n",
       "      <td>https://www.archanaskitchen.com/zucchini-and-c...</td>\n",
       "      <td>good</td>\n",
       "      <td>738</td>\n",
       "      <td>4.934959</td>\n",
       "      <td>is a healthy recipe which can be served over ...</td>\n",
       "      <td>Italian Recipes</td>\n",
       "      <td>Dinner</td>\n",
       "      <td>Vegetarian</td>\n",
       "      <td>10 M</td>\n",
       "      <td>30 M</td>\n",
       "      <td>Spirali pasta|Onions|Tomatoes|Green zucchini|C...</td>\n",
       "      <td>To begin with Zucchini And Carrot Pasta Recipe...</td>\n",
       "      <td>Aarti Sharma</td>\n",
       "      <td>Vegetarian Recipes|Carrot Recipes|Zucchini Rec...</td>\n",
       "      <td>Pasta Recipes</td>\n",
       "    </tr>\n",
       "    <tr>\n",
       "      <th>8005</th>\n",
       "      <td>Hyderabadi Khatti Dal Recipe (Hyderabadi Tangy...</td>\n",
       "      <td>https://www.archanaskitchen.com/hyderabadi-kha...</td>\n",
       "      <td>good</td>\n",
       "      <td>5173</td>\n",
       "      <td>4.903151</td>\n",
       "      <td>Hyderabadi Khatti Dal is a delicious tangy dal...</td>\n",
       "      <td>Hyderabadi</td>\n",
       "      <td>Lunch</td>\n",
       "      <td>High Protein Vegetarian</td>\n",
       "      <td>20 M</td>\n",
       "      <td>40 M</td>\n",
       "      <td>Arhar dal (Split Toor Dal)|Tomato|Turmeric pow...</td>\n",
       "      <td>To begin making the Hyderabadi Khatti Dal Reci...</td>\n",
       "      <td>Farrukh Aziz Ansari</td>\n",
       "      <td>Gluten Free Recipes|Indian Diabetic Recipes</td>\n",
       "      <td>Indian Curry Recipes</td>\n",
       "    </tr>\n",
       "    <tr>\n",
       "      <th>8006</th>\n",
       "      <td>Karwar Style Muga Ambat Recipe (Moong Sprouts ...</td>\n",
       "      <td>https://www.archanaskitchen.com/karwar-style-m...</td>\n",
       "      <td>good</td>\n",
       "      <td>1202</td>\n",
       "      <td>4.946755</td>\n",
       "      <td>is a curry recipe made from 'Muga' - which re...</td>\n",
       "      <td>Karnataka</td>\n",
       "      <td>Side Dish</td>\n",
       "      <td>High Protein Vegetarian</td>\n",
       "      <td>10 M</td>\n",
       "      <td>15 M</td>\n",
       "      <td>Turmeric powder (Haldi)|Sugar|Salt|Fresh cocon...</td>\n",
       "      <td>To prepare Karwar Style Muga Ambat Recipe (Moo...</td>\n",
       "      <td>Archana's Kitchen</td>\n",
       "      <td>High Protein Vegetarian Diet Recipes|South Ind...</td>\n",
       "      <td>Indian Curry Recipes</td>\n",
       "    </tr>\n",
       "    <tr>\n",
       "      <th>8007</th>\n",
       "      <td>Beetroot, Amla And Pudina Juice Recipe | Mint ...</td>\n",
       "      <td>https://www.archanaskitchen.com/beetroot-amla-...</td>\n",
       "      <td>good</td>\n",
       "      <td>1305</td>\n",
       "      <td>4.925670</td>\n",
       "      <td>is a healthy juice recipe which acts as a gre...</td>\n",
       "      <td>Indian</td>\n",
       "      <td>Snack</td>\n",
       "      <td>Vegetarian</td>\n",
       "      <td>10 M</td>\n",
       "      <td>0 M</td>\n",
       "      <td>Beetroot|Amla (Nellikai/ Gooseberry)|Mint Leav...</td>\n",
       "      <td>To begin making the  Beetroot, Amla And Pudina...</td>\n",
       "      <td>Archana's Kitchen</td>\n",
       "      <td>Healthy Recipes|Beetroot Recipes|Pudina Mint R...</td>\n",
       "      <td>Indian Drink Recipes</td>\n",
       "    </tr>\n",
       "    <tr>\n",
       "      <th>8008</th>\n",
       "      <td>Chettinad Cauliflower Pepper Fry Recipe - Chet...</td>\n",
       "      <td>https://www.archanaskitchen.com/chettinad-caul...</td>\n",
       "      <td>good</td>\n",
       "      <td>2167</td>\n",
       "      <td>4.815413</td>\n",
       "      <td>Chettinad Poo Kosu Poriyal also known as   is ...</td>\n",
       "      <td>Tamil Nadu</td>\n",
       "      <td>Lunch</td>\n",
       "      <td>Vegetarian</td>\n",
       "      <td>15 M</td>\n",
       "      <td>20 M</td>\n",
       "      <td>Cauliflower (gobi)|Pearl onions (Sambar Onions...</td>\n",
       "      <td>To begin making the Chettinad Cauliflower Pepp...</td>\n",
       "      <td>Archana Doshi</td>\n",
       "      <td>Cauliflower Recipes (Phool Gobi)</td>\n",
       "      <td>Poriyal Recipes (South Indian Sabzi)</td>\n",
       "    </tr>\n",
       "  </tbody>\n",
       "</table>\n",
       "</div>"
      ],
      "text/plain": [
       "                                           recipe_title  \\\n",
       "8004                   Zucchini and Carrot Pasta Recipe   \n",
       "8005  Hyderabadi Khatti Dal Recipe (Hyderabadi Tangy...   \n",
       "8006  Karwar Style Muga Ambat Recipe (Moong Sprouts ...   \n",
       "8007  Beetroot, Amla And Pudina Juice Recipe | Mint ...   \n",
       "8008  Chettinad Cauliflower Pepper Fry Recipe - Chet...   \n",
       "\n",
       "                                                    url record_health  \\\n",
       "8004  https://www.archanaskitchen.com/zucchini-and-c...          good   \n",
       "8005  https://www.archanaskitchen.com/hyderabadi-kha...          good   \n",
       "8006  https://www.archanaskitchen.com/karwar-style-m...          good   \n",
       "8007  https://www.archanaskitchen.com/beetroot-amla-...          good   \n",
       "8008  https://www.archanaskitchen.com/chettinad-caul...          good   \n",
       "\n",
       "      vote_count    rating                                        description  \\\n",
       "8004         738  4.934959   is a healthy recipe which can be served over ...   \n",
       "8005        5173  4.903151  Hyderabadi Khatti Dal is a delicious tangy dal...   \n",
       "8006        1202  4.946755   is a curry recipe made from 'Muga' - which re...   \n",
       "8007        1305  4.925670   is a healthy juice recipe which acts as a gre...   \n",
       "8008        2167  4.815413  Chettinad Poo Kosu Poriyal also known as   is ...   \n",
       "\n",
       "              cuisine     course                     diet prep_time cook_time  \\\n",
       "8004  Italian Recipes     Dinner               Vegetarian      10 M      30 M   \n",
       "8005       Hyderabadi      Lunch  High Protein Vegetarian      20 M      40 M   \n",
       "8006        Karnataka  Side Dish  High Protein Vegetarian      10 M      15 M   \n",
       "8007           Indian      Snack               Vegetarian      10 M       0 M   \n",
       "8008       Tamil Nadu      Lunch               Vegetarian      15 M      20 M   \n",
       "\n",
       "                                            ingredients  \\\n",
       "8004  Spirali pasta|Onions|Tomatoes|Green zucchini|C...   \n",
       "8005  Arhar dal (Split Toor Dal)|Tomato|Turmeric pow...   \n",
       "8006  Turmeric powder (Haldi)|Sugar|Salt|Fresh cocon...   \n",
       "8007  Beetroot|Amla (Nellikai/ Gooseberry)|Mint Leav...   \n",
       "8008  Cauliflower (gobi)|Pearl onions (Sambar Onions...   \n",
       "\n",
       "                                           instructions               author  \\\n",
       "8004  To begin with Zucchini And Carrot Pasta Recipe...         Aarti Sharma   \n",
       "8005  To begin making the Hyderabadi Khatti Dal Reci...  Farrukh Aziz Ansari   \n",
       "8006  To prepare Karwar Style Muga Ambat Recipe (Moo...    Archana's Kitchen   \n",
       "8007  To begin making the  Beetroot, Amla And Pudina...    Archana's Kitchen   \n",
       "8008  To begin making the Chettinad Cauliflower Pepp...        Archana Doshi   \n",
       "\n",
       "                                                   tags  \\\n",
       "8004  Vegetarian Recipes|Carrot Recipes|Zucchini Rec...   \n",
       "8005        Gluten Free Recipes|Indian Diabetic Recipes   \n",
       "8006  High Protein Vegetarian Diet Recipes|South Ind...   \n",
       "8007  Healthy Recipes|Beetroot Recipes|Pudina Mint R...   \n",
       "8008                   Cauliflower Recipes (Phool Gobi)   \n",
       "\n",
       "                                  category  \n",
       "8004                         Pasta Recipes  \n",
       "8005                  Indian Curry Recipes  \n",
       "8006                  Indian Curry Recipes  \n",
       "8007                  Indian Drink Recipes  \n",
       "8008  Poriyal Recipes (South Indian Sabzi)  "
      ]
     },
     "execution_count": 30,
     "metadata": {},
     "output_type": "execute_result"
    }
   ],
   "source": [
    "data.tail()"
   ]
  },
  {
   "cell_type": "markdown",
   "id": "8cc9ac77",
   "metadata": {
    "id": "8cc9ac77"
   },
   "source": [
    "#### Shows some basic statistical details like percentile, mean, std etc.\n"
   ]
  },
  {
   "cell_type": "code",
   "execution_count": 31,
   "id": "d6b134bf",
   "metadata": {
    "colab": {
     "base_uri": "https://localhost:8080/",
     "height": 297
    },
    "executionInfo": {
     "elapsed": 2409,
     "status": "ok",
     "timestamp": 1630858498556,
     "user": {
      "displayName": "Vinura Thivin Perera",
      "photoUrl": "https://lh3.googleusercontent.com/a-/AOh14GjWvQAaXIGhkdHABV-paqWdDIA6LlUrRUJ5Js8l9CY=s64",
      "userId": "04171016047177543209"
     },
     "user_tz": -330
    },
    "id": "d6b134bf",
    "outputId": "7a52e711-f42f-4aac-f567-349d7d5cc7ba"
   },
   "outputs": [
    {
     "data": {
      "text/html": [
       "<div>\n",
       "<style scoped>\n",
       "    .dataframe tbody tr th:only-of-type {\n",
       "        vertical-align: middle;\n",
       "    }\n",
       "\n",
       "    .dataframe tbody tr th {\n",
       "        vertical-align: top;\n",
       "    }\n",
       "\n",
       "    .dataframe thead th {\n",
       "        text-align: right;\n",
       "    }\n",
       "</style>\n",
       "<table border=\"1\" class=\"dataframe\">\n",
       "  <thead>\n",
       "    <tr style=\"text-align: right;\">\n",
       "      <th></th>\n",
       "      <th>vote_count</th>\n",
       "      <th>rating</th>\n",
       "    </tr>\n",
       "  </thead>\n",
       "  <tbody>\n",
       "    <tr>\n",
       "      <th>count</th>\n",
       "      <td>8009.000000</td>\n",
       "      <td>8009.000000</td>\n",
       "    </tr>\n",
       "    <tr>\n",
       "      <th>mean</th>\n",
       "      <td>2268.004495</td>\n",
       "      <td>4.888621</td>\n",
       "    </tr>\n",
       "    <tr>\n",
       "      <th>std</th>\n",
       "      <td>3683.156570</td>\n",
       "      <td>0.077467</td>\n",
       "    </tr>\n",
       "    <tr>\n",
       "      <th>min</th>\n",
       "      <td>15.000000</td>\n",
       "      <td>3.175705</td>\n",
       "    </tr>\n",
       "    <tr>\n",
       "      <th>25%</th>\n",
       "      <td>494.000000</td>\n",
       "      <td>4.865031</td>\n",
       "    </tr>\n",
       "    <tr>\n",
       "      <th>50%</th>\n",
       "      <td>1050.000000</td>\n",
       "      <td>4.900553</td>\n",
       "    </tr>\n",
       "    <tr>\n",
       "      <th>75%</th>\n",
       "      <td>2487.000000</td>\n",
       "      <td>4.930000</td>\n",
       "    </tr>\n",
       "    <tr>\n",
       "      <th>max</th>\n",
       "      <td>80628.000000</td>\n",
       "      <td>5.000000</td>\n",
       "    </tr>\n",
       "  </tbody>\n",
       "</table>\n",
       "</div>"
      ],
      "text/plain": [
       "         vote_count       rating\n",
       "count   8009.000000  8009.000000\n",
       "mean    2268.004495     4.888621\n",
       "std     3683.156570     0.077467\n",
       "min       15.000000     3.175705\n",
       "25%      494.000000     4.865031\n",
       "50%     1050.000000     4.900553\n",
       "75%     2487.000000     4.930000\n",
       "max    80628.000000     5.000000"
      ]
     },
     "execution_count": 31,
     "metadata": {},
     "output_type": "execute_result"
    }
   ],
   "source": [
    "data.describe()"
   ]
  },
  {
   "cell_type": "markdown",
   "id": "ad2838c9",
   "metadata": {
    "id": "ad2838c9"
   },
   "source": [
    "#### Shows a concise summary of a DataFrame. It includes the index dtype and column dtypes, non-null values and memory usage"
   ]
  },
  {
   "cell_type": "code",
   "execution_count": 32,
   "id": "658db94f",
   "metadata": {
    "colab": {
     "base_uri": "https://localhost:8080/"
    },
    "executionInfo": {
     "elapsed": 132,
     "status": "ok",
     "timestamp": 1630858498558,
     "user": {
      "displayName": "Vinura Thivin Perera",
      "photoUrl": "https://lh3.googleusercontent.com/a-/AOh14GjWvQAaXIGhkdHABV-paqWdDIA6LlUrRUJ5Js8l9CY=s64",
      "userId": "04171016047177543209"
     },
     "user_tz": -330
    },
    "id": "658db94f",
    "outputId": "aeec7b60-6ead-4192-d89a-9f690081992f"
   },
   "outputs": [
    {
     "name": "stdout",
     "output_type": "stream",
     "text": [
      "<class 'pandas.core.frame.DataFrame'>\n",
      "RangeIndex: 8009 entries, 0 to 8008\n",
      "Data columns (total 16 columns):\n",
      " #   Column         Non-Null Count  Dtype  \n",
      "---  ------         --------------  -----  \n",
      " 0   recipe_title   8009 non-null   object \n",
      " 1   url            8009 non-null   object \n",
      " 2   record_health  8009 non-null   object \n",
      " 3   vote_count     8009 non-null   int64  \n",
      " 4   rating         8009 non-null   float64\n",
      " 5   description    7994 non-null   object \n",
      " 6   cuisine        7943 non-null   object \n",
      " 7   course         7854 non-null   object \n",
      " 8   diet           7858 non-null   object \n",
      " 9   prep_time      7979 non-null   object \n",
      " 10  cook_time      7979 non-null   object \n",
      " 11  ingredients    7997 non-null   object \n",
      " 12  instructions   8009 non-null   object \n",
      " 13  author         8009 non-null   object \n",
      " 14  tags           7930 non-null   object \n",
      " 15  category       8009 non-null   object \n",
      "dtypes: float64(1), int64(1), object(14)\n",
      "memory usage: 1001.2+ KB\n"
     ]
    }
   ],
   "source": [
    "data.info()"
   ]
  },
  {
   "cell_type": "markdown",
   "id": "40c85a46",
   "metadata": {
    "id": "40c85a46"
   },
   "source": [
    "#### Checking for null values"
   ]
  },
  {
   "cell_type": "code",
   "execution_count": 33,
   "id": "5b3720aa",
   "metadata": {
    "colab": {
     "base_uri": "https://localhost:8080/"
    },
    "executionInfo": {
     "elapsed": 125,
     "status": "ok",
     "timestamp": 1630858498560,
     "user": {
      "displayName": "Vinura Thivin Perera",
      "photoUrl": "https://lh3.googleusercontent.com/a-/AOh14GjWvQAaXIGhkdHABV-paqWdDIA6LlUrRUJ5Js8l9CY=s64",
      "userId": "04171016047177543209"
     },
     "user_tz": -330
    },
    "id": "5b3720aa",
    "outputId": "5d884b63-a57b-4dce-9f31-56ef56f82597"
   },
   "outputs": [
    {
     "name": "stdout",
     "output_type": "stream",
     "text": [
      "recipe_title       0\n",
      "url                0\n",
      "record_health      0\n",
      "vote_count         0\n",
      "rating             0\n",
      "description       15\n",
      "cuisine           66\n",
      "course           155\n",
      "diet             151\n",
      "prep_time         30\n",
      "cook_time         30\n",
      "ingredients       12\n",
      "instructions       0\n",
      "author             0\n",
      "tags              79\n",
      "category           0\n",
      "dtype: int64\n"
     ]
    }
   ],
   "source": [
    "print(data.isnull().sum())   "
   ]
  },
  {
   "cell_type": "markdown",
   "id": "b083450a",
   "metadata": {
    "id": "b083450a"
   },
   "source": [
    "## Data cleansing"
   ]
  },
  {
   "cell_type": "markdown",
   "id": "a2bacfa5",
   "metadata": {
    "id": "a2bacfa5"
   },
   "source": [
    "#### Dropping missing values."
   ]
  },
  {
   "cell_type": "code",
   "execution_count": 34,
   "id": "81e45545",
   "metadata": {
    "executionInfo": {
     "elapsed": 122,
     "status": "ok",
     "timestamp": 1630858498561,
     "user": {
      "displayName": "Vinura Thivin Perera",
      "photoUrl": "https://lh3.googleusercontent.com/a-/AOh14GjWvQAaXIGhkdHABV-paqWdDIA6LlUrRUJ5Js8l9CY=s64",
      "userId": "04171016047177543209"
     },
     "user_tz": -330
    },
    "id": "81e45545"
   },
   "outputs": [],
   "source": [
    "data_clean = data.dropna()    "
   ]
  },
  {
   "cell_type": "code",
   "execution_count": 35,
   "id": "659eb3f6",
   "metadata": {
    "colab": {
     "base_uri": "https://localhost:8080/"
    },
    "executionInfo": {
     "elapsed": 124,
     "status": "ok",
     "timestamp": 1630858498563,
     "user": {
      "displayName": "Vinura Thivin Perera",
      "photoUrl": "https://lh3.googleusercontent.com/a-/AOh14GjWvQAaXIGhkdHABV-paqWdDIA6LlUrRUJ5Js8l9CY=s64",
      "userId": "04171016047177543209"
     },
     "user_tz": -330
    },
    "id": "659eb3f6",
    "outputId": "846e2f04-c53a-4d97-bdb5-f4c7b1155b4f"
   },
   "outputs": [
    {
     "name": "stdout",
     "output_type": "stream",
     "text": [
      "recipe_title     0\n",
      "url              0\n",
      "record_health    0\n",
      "vote_count       0\n",
      "rating           0\n",
      "description      0\n",
      "cuisine          0\n",
      "course           0\n",
      "diet             0\n",
      "prep_time        0\n",
      "cook_time        0\n",
      "ingredients      0\n",
      "instructions     0\n",
      "author           0\n",
      "tags             0\n",
      "category         0\n",
      "dtype: int64\n"
     ]
    }
   ],
   "source": [
    "print(data_clean.isnull().sum()) "
   ]
  },
  {
   "cell_type": "markdown",
   "id": "b8755302",
   "metadata": {
    "id": "b8755302"
   },
   "source": [
    "#### Remove M from prep_time and cook_time columns"
   ]
  },
  {
   "cell_type": "code",
   "execution_count": 36,
   "id": "29a8bf57",
   "metadata": {
    "colab": {
     "base_uri": "https://localhost:8080/"
    },
    "executionInfo": {
     "elapsed": 122,
     "status": "ok",
     "timestamp": 1630858498564,
     "user": {
      "displayName": "Vinura Thivin Perera",
      "photoUrl": "https://lh3.googleusercontent.com/a-/AOh14GjWvQAaXIGhkdHABV-paqWdDIA6LlUrRUJ5Js8l9CY=s64",
      "userId": "04171016047177543209"
     },
     "user_tz": -330
    },
    "id": "29a8bf57",
    "outputId": "cd131eba-14d2-4f8b-b56a-64e97d1557fb"
   },
   "outputs": [
    {
     "name": "stderr",
     "output_type": "stream",
     "text": [
      "C:\\Users\\isuri\\anaconda3\\lib\\site-packages\\pandas\\core\\frame.py:3191: SettingWithCopyWarning: \n",
      "A value is trying to be set on a copy of a slice from a DataFrame.\n",
      "Try using .loc[row_indexer,col_indexer] = value instead\n",
      "\n",
      "See the caveats in the documentation: https://pandas.pydata.org/pandas-docs/stable/user_guide/indexing.html#returning-a-view-versus-a-copy\n",
      "  self[k1] = value[k2]\n"
     ]
    }
   ],
   "source": [
    "cols = ['prep_time','cook_time']\n",
    "\n",
    "data_clean[cols] = data_clean[cols].replace({'M':''}, regex = True) "
   ]
  },
  {
   "cell_type": "code",
   "execution_count": 37,
   "id": "cfbc3122",
   "metadata": {
    "colab": {
     "base_uri": "https://localhost:8080/",
     "height": 476
    },
    "executionInfo": {
     "elapsed": 118,
     "status": "ok",
     "timestamp": 1630858498564,
     "user": {
      "displayName": "Vinura Thivin Perera",
      "photoUrl": "https://lh3.googleusercontent.com/a-/AOh14GjWvQAaXIGhkdHABV-paqWdDIA6LlUrRUJ5Js8l9CY=s64",
      "userId": "04171016047177543209"
     },
     "user_tz": -330
    },
    "id": "cfbc3122",
    "outputId": "482964a5-1d6e-4865-fd68-c94cb35c01bf"
   },
   "outputs": [
    {
     "data": {
      "text/html": [
       "<div>\n",
       "<style scoped>\n",
       "    .dataframe tbody tr th:only-of-type {\n",
       "        vertical-align: middle;\n",
       "    }\n",
       "\n",
       "    .dataframe tbody tr th {\n",
       "        vertical-align: top;\n",
       "    }\n",
       "\n",
       "    .dataframe thead th {\n",
       "        text-align: right;\n",
       "    }\n",
       "</style>\n",
       "<table border=\"1\" class=\"dataframe\">\n",
       "  <thead>\n",
       "    <tr style=\"text-align: right;\">\n",
       "      <th></th>\n",
       "      <th>recipe_title</th>\n",
       "      <th>url</th>\n",
       "      <th>record_health</th>\n",
       "      <th>vote_count</th>\n",
       "      <th>rating</th>\n",
       "      <th>description</th>\n",
       "      <th>cuisine</th>\n",
       "      <th>course</th>\n",
       "      <th>diet</th>\n",
       "      <th>prep_time</th>\n",
       "      <th>cook_time</th>\n",
       "      <th>ingredients</th>\n",
       "      <th>instructions</th>\n",
       "      <th>author</th>\n",
       "      <th>tags</th>\n",
       "      <th>category</th>\n",
       "    </tr>\n",
       "  </thead>\n",
       "  <tbody>\n",
       "    <tr>\n",
       "      <th>0</th>\n",
       "      <td>Roasted Peppers And Mushroom Tortilla Pizza Re...</td>\n",
       "      <td>https://www.archanaskitchen.com/roasted-pepper...</td>\n",
       "      <td>good</td>\n",
       "      <td>434</td>\n",
       "      <td>4.958525</td>\n",
       "      <td>is a quicker version pizza to satisfy your cr...</td>\n",
       "      <td>Mexican</td>\n",
       "      <td>Dinner</td>\n",
       "      <td>Vegetarian</td>\n",
       "      <td>15</td>\n",
       "      <td>15</td>\n",
       "      <td>Tortillas|Extra Virgin Olive Oil|Garlic|Mozzar...</td>\n",
       "      <td>To begin making the Roasted Peppers And Mushro...</td>\n",
       "      <td>Divya Shivaraman</td>\n",
       "      <td>Party Food Recipes|Tea Party Recipes|Mushroom ...</td>\n",
       "      <td>Pizza Recipes</td>\n",
       "    </tr>\n",
       "    <tr>\n",
       "      <th>1</th>\n",
       "      <td>Thakkali Gotsu Recipe | Thakkali Curry | Spicy...</td>\n",
       "      <td>https://www.archanaskitchen.com/tomato-gotsu-r...</td>\n",
       "      <td>good</td>\n",
       "      <td>3423</td>\n",
       "      <td>4.932223</td>\n",
       "      <td>also known as the   is a quick and easy to ma...</td>\n",
       "      <td>South Indian Recipes</td>\n",
       "      <td>Lunch</td>\n",
       "      <td>Vegetarian</td>\n",
       "      <td>10</td>\n",
       "      <td>20</td>\n",
       "      <td>Sesame (Gingelly) Oil|Mustard seeds (Rai/ Kadu...</td>\n",
       "      <td>To begin making Tomato Gotsu Recipe/ Thakkali ...</td>\n",
       "      <td>Archana Doshi</td>\n",
       "      <td>Vegetarian Recipes|Tomato Recipes|South Indian...</td>\n",
       "      <td>Indian Curry Recipes</td>\n",
       "    </tr>\n",
       "    <tr>\n",
       "      <th>2</th>\n",
       "      <td>Spicy Grilled Pineapple Salsa Recipe</td>\n",
       "      <td>https://www.archanaskitchen.com/spicy-grilled-...</td>\n",
       "      <td>good</td>\n",
       "      <td>2091</td>\n",
       "      <td>4.945959</td>\n",
       "      <td>Spicy Grilled Pineapple Salsa is a simple reci...</td>\n",
       "      <td>Mexican</td>\n",
       "      <td>Side Dish</td>\n",
       "      <td>Vegetarian</td>\n",
       "      <td>10</td>\n",
       "      <td>0</td>\n",
       "      <td>Extra Virgin Olive Oil|Pineapple|White onion|R...</td>\n",
       "      <td>To begin making the Spicy Grilled Pineapple Sa...</td>\n",
       "      <td>Archana's Kitchen</td>\n",
       "      <td>Party Starter &amp; Appetizer Recipes|Pineapple Re...</td>\n",
       "      <td>Mexican Recipes</td>\n",
       "    </tr>\n",
       "    <tr>\n",
       "      <th>3</th>\n",
       "      <td>Karwar Style Dali Thoy Recipe - Toor dal Curry</td>\n",
       "      <td>https://www.archanaskitchen.com/dali-thoy-reci...</td>\n",
       "      <td>good</td>\n",
       "      <td>990</td>\n",
       "      <td>4.888889</td>\n",
       "      <td>The   is a quintessential of Konkani dish whic...</td>\n",
       "      <td>Coastal Karnataka</td>\n",
       "      <td>Side Dish</td>\n",
       "      <td>High Protein Vegetarian</td>\n",
       "      <td>5</td>\n",
       "      <td>20</td>\n",
       "      <td>Arhar dal (Split Toor Dal)|Turmeric powder (Ha...</td>\n",
       "      <td>To prepare Karwar Style Dali Thoy Recipe (Toor...</td>\n",
       "      <td>Jyothi Rajesh</td>\n",
       "      <td>Side Dish Recipes|South Indian Recipes|Indian ...</td>\n",
       "      <td>Indian Curry Recipes</td>\n",
       "    </tr>\n",
       "    <tr>\n",
       "      <th>4</th>\n",
       "      <td>Rajma Kofta In Milk And Poppy Seed Gravy Recipe</td>\n",
       "      <td>https://www.archanaskitchen.com/rajma-kofta-in...</td>\n",
       "      <td>good</td>\n",
       "      <td>345</td>\n",
       "      <td>4.828986</td>\n",
       "      <td>Koftas are traditional Indian recipes mostly w...</td>\n",
       "      <td>North Indian Recipes</td>\n",
       "      <td>Side Dish</td>\n",
       "      <td>High Protein Vegetarian</td>\n",
       "      <td>20</td>\n",
       "      <td>30</td>\n",
       "      <td>Rajma (Large Kidney Beans)|Cashew nuts|Sultana...</td>\n",
       "      <td>To begin making Rajma Kofta In Milk And Poppy ...</td>\n",
       "      <td>RUBY PATHAK</td>\n",
       "      <td>Side Dish Recipes|Indian Lunch Recipes|Office ...</td>\n",
       "      <td>Kofta Recipes</td>\n",
       "    </tr>\n",
       "  </tbody>\n",
       "</table>\n",
       "</div>"
      ],
      "text/plain": [
       "                                        recipe_title  \\\n",
       "0  Roasted Peppers And Mushroom Tortilla Pizza Re...   \n",
       "1  Thakkali Gotsu Recipe | Thakkali Curry | Spicy...   \n",
       "2               Spicy Grilled Pineapple Salsa Recipe   \n",
       "3     Karwar Style Dali Thoy Recipe - Toor dal Curry   \n",
       "4    Rajma Kofta In Milk And Poppy Seed Gravy Recipe   \n",
       "\n",
       "                                                 url record_health  \\\n",
       "0  https://www.archanaskitchen.com/roasted-pepper...          good   \n",
       "1  https://www.archanaskitchen.com/tomato-gotsu-r...          good   \n",
       "2  https://www.archanaskitchen.com/spicy-grilled-...          good   \n",
       "3  https://www.archanaskitchen.com/dali-thoy-reci...          good   \n",
       "4  https://www.archanaskitchen.com/rajma-kofta-in...          good   \n",
       "\n",
       "   vote_count    rating                                        description  \\\n",
       "0         434  4.958525   is a quicker version pizza to satisfy your cr...   \n",
       "1        3423  4.932223   also known as the   is a quick and easy to ma...   \n",
       "2        2091  4.945959  Spicy Grilled Pineapple Salsa is a simple reci...   \n",
       "3         990  4.888889  The   is a quintessential of Konkani dish whic...   \n",
       "4         345  4.828986  Koftas are traditional Indian recipes mostly w...   \n",
       "\n",
       "                cuisine     course                     diet prep_time  \\\n",
       "0               Mexican     Dinner               Vegetarian       15    \n",
       "1  South Indian Recipes      Lunch               Vegetarian       10    \n",
       "2               Mexican  Side Dish               Vegetarian       10    \n",
       "3     Coastal Karnataka  Side Dish  High Protein Vegetarian        5    \n",
       "4  North Indian Recipes  Side Dish  High Protein Vegetarian       20    \n",
       "\n",
       "  cook_time                                        ingredients  \\\n",
       "0       15   Tortillas|Extra Virgin Olive Oil|Garlic|Mozzar...   \n",
       "1       20   Sesame (Gingelly) Oil|Mustard seeds (Rai/ Kadu...   \n",
       "2        0   Extra Virgin Olive Oil|Pineapple|White onion|R...   \n",
       "3       20   Arhar dal (Split Toor Dal)|Turmeric powder (Ha...   \n",
       "4       30   Rajma (Large Kidney Beans)|Cashew nuts|Sultana...   \n",
       "\n",
       "                                        instructions             author  \\\n",
       "0  To begin making the Roasted Peppers And Mushro...  Divya Shivaraman    \n",
       "1  To begin making Tomato Gotsu Recipe/ Thakkali ...      Archana Doshi   \n",
       "2  To begin making the Spicy Grilled Pineapple Sa...  Archana's Kitchen   \n",
       "3  To prepare Karwar Style Dali Thoy Recipe (Toor...      Jyothi Rajesh   \n",
       "4  To begin making Rajma Kofta In Milk And Poppy ...        RUBY PATHAK   \n",
       "\n",
       "                                                tags              category  \n",
       "0  Party Food Recipes|Tea Party Recipes|Mushroom ...         Pizza Recipes  \n",
       "1  Vegetarian Recipes|Tomato Recipes|South Indian...  Indian Curry Recipes  \n",
       "2  Party Starter & Appetizer Recipes|Pineapple Re...       Mexican Recipes  \n",
       "3  Side Dish Recipes|South Indian Recipes|Indian ...  Indian Curry Recipes  \n",
       "4  Side Dish Recipes|Indian Lunch Recipes|Office ...         Kofta Recipes  "
      ]
     },
     "execution_count": 37,
     "metadata": {},
     "output_type": "execute_result"
    }
   ],
   "source": [
    "data_clean.head()"
   ]
  },
  {
   "cell_type": "markdown",
   "id": "e1956485",
   "metadata": {},
   "source": [
    "#### Converting both prep_time and cook_time columns in to numeric values."
   ]
  },
  {
   "cell_type": "code",
   "execution_count": 38,
   "id": "fc520c9f",
   "metadata": {
    "colab": {
     "base_uri": "https://localhost:8080/"
    },
    "executionInfo": {
     "elapsed": 117,
     "status": "ok",
     "timestamp": 1630858498565,
     "user": {
      "displayName": "Vinura Thivin Perera",
      "photoUrl": "https://lh3.googleusercontent.com/a-/AOh14GjWvQAaXIGhkdHABV-paqWdDIA6LlUrRUJ5Js8l9CY=s64",
      "userId": "04171016047177543209"
     },
     "user_tz": -330
    },
    "id": "fc520c9f",
    "outputId": "365f2d74-53ff-4a96-ed0c-daf60274e9a9"
   },
   "outputs": [
    {
     "name": "stderr",
     "output_type": "stream",
     "text": [
      "C:\\Users\\isuri\\anaconda3\\lib\\site-packages\\pandas\\core\\generic.py:5494: SettingWithCopyWarning: \n",
      "A value is trying to be set on a copy of a slice from a DataFrame.\n",
      "Try using .loc[row_indexer,col_indexer] = value instead\n",
      "\n",
      "See the caveats in the documentation: https://pandas.pydata.org/pandas-docs/stable/user_guide/indexing.html#returning-a-view-versus-a-copy\n",
      "  self[name] = value\n"
     ]
    }
   ],
   "source": [
    "data_clean.prep_time = pd.to_numeric(data_clean.prep_time)"
   ]
  },
  {
   "cell_type": "code",
   "execution_count": 39,
   "id": "02ea24e1",
   "metadata": {
    "colab": {
     "base_uri": "https://localhost:8080/"
    },
    "executionInfo": {
     "elapsed": 114,
     "status": "ok",
     "timestamp": 1630858498565,
     "user": {
      "displayName": "Vinura Thivin Perera",
      "photoUrl": "https://lh3.googleusercontent.com/a-/AOh14GjWvQAaXIGhkdHABV-paqWdDIA6LlUrRUJ5Js8l9CY=s64",
      "userId": "04171016047177543209"
     },
     "user_tz": -330
    },
    "id": "02ea24e1",
    "outputId": "dcfff3fb-79d7-4ce3-cada-169816b9ae55"
   },
   "outputs": [],
   "source": [
    "data_clean.cook_time = pd.to_numeric(data_clean.cook_time)"
   ]
  },
  {
   "cell_type": "code",
   "execution_count": 40,
   "id": "ed821a15",
   "metadata": {
    "colab": {
     "base_uri": "https://localhost:8080/"
    },
    "executionInfo": {
     "elapsed": 104,
     "status": "ok",
     "timestamp": 1630858498574,
     "user": {
      "displayName": "Vinura Thivin Perera",
      "photoUrl": "https://lh3.googleusercontent.com/a-/AOh14GjWvQAaXIGhkdHABV-paqWdDIA6LlUrRUJ5Js8l9CY=s64",
      "userId": "04171016047177543209"
     },
     "user_tz": -330
    },
    "id": "ed821a15",
    "outputId": "7708e31e-c434-4063-a51d-52545e51d3e9"
   },
   "outputs": [
    {
     "name": "stdout",
     "output_type": "stream",
     "text": [
      "<class 'pandas.core.frame.DataFrame'>\n",
      "Int64Index: 7683 entries, 0 to 8008\n",
      "Data columns (total 16 columns):\n",
      " #   Column         Non-Null Count  Dtype  \n",
      "---  ------         --------------  -----  \n",
      " 0   recipe_title   7683 non-null   object \n",
      " 1   url            7683 non-null   object \n",
      " 2   record_health  7683 non-null   object \n",
      " 3   vote_count     7683 non-null   int64  \n",
      " 4   rating         7683 non-null   float64\n",
      " 5   description    7683 non-null   object \n",
      " 6   cuisine        7683 non-null   object \n",
      " 7   course         7683 non-null   object \n",
      " 8   diet           7683 non-null   object \n",
      " 9   prep_time      7683 non-null   int64  \n",
      " 10  cook_time      7683 non-null   int64  \n",
      " 11  ingredients    7683 non-null   object \n",
      " 12  instructions   7683 non-null   object \n",
      " 13  author         7683 non-null   object \n",
      " 14  tags           7683 non-null   object \n",
      " 15  category       7683 non-null   object \n",
      "dtypes: float64(1), int64(3), object(12)\n",
      "memory usage: 1020.4+ KB\n"
     ]
    }
   ],
   "source": [
    "data_clean.info()"
   ]
  },
  {
   "cell_type": "markdown",
   "id": "41c88bd3",
   "metadata": {},
   "source": [
    "#### Identifying unwanted columns and drop "
   ]
  },
  {
   "cell_type": "code",
   "execution_count": 41,
   "id": "977730f5",
   "metadata": {
    "colab": {
     "base_uri": "https://localhost:8080/",
     "height": 295
    },
    "executionInfo": {
     "elapsed": 113,
     "status": "ok",
     "timestamp": 1630858498569,
     "user": {
      "displayName": "Vinura Thivin Perera",
      "photoUrl": "https://lh3.googleusercontent.com/a-/AOh14GjWvQAaXIGhkdHABV-paqWdDIA6LlUrRUJ5Js8l9CY=s64",
      "userId": "04171016047177543209"
     },
     "user_tz": -330
    },
    "id": "977730f5",
    "outputId": "d1f8b3e9-c4bd-40ff-f91d-a5fdcadb0294"
   },
   "outputs": [
    {
     "data": {
      "text/html": [
       "<div>\n",
       "<style scoped>\n",
       "    .dataframe tbody tr th:only-of-type {\n",
       "        vertical-align: middle;\n",
       "    }\n",
       "\n",
       "    .dataframe tbody tr th {\n",
       "        vertical-align: top;\n",
       "    }\n",
       "\n",
       "    .dataframe thead th {\n",
       "        text-align: right;\n",
       "    }\n",
       "</style>\n",
       "<table border=\"1\" class=\"dataframe\">\n",
       "  <thead>\n",
       "    <tr style=\"text-align: right;\">\n",
       "      <th></th>\n",
       "      <th>recipe_title</th>\n",
       "      <th>url</th>\n",
       "      <th>record_health</th>\n",
       "      <th>vote_count</th>\n",
       "      <th>rating</th>\n",
       "      <th>description</th>\n",
       "      <th>cuisine</th>\n",
       "      <th>course</th>\n",
       "      <th>diet</th>\n",
       "      <th>prep_time</th>\n",
       "      <th>cook_time</th>\n",
       "      <th>ingredients</th>\n",
       "      <th>instructions</th>\n",
       "      <th>author</th>\n",
       "      <th>tags</th>\n",
       "      <th>category</th>\n",
       "    </tr>\n",
       "  </thead>\n",
       "  <tbody>\n",
       "    <tr>\n",
       "      <th>0</th>\n",
       "      <td>Roasted Peppers And Mushroom Tortilla Pizza Re...</td>\n",
       "      <td>https://www.archanaskitchen.com/roasted-pepper...</td>\n",
       "      <td>good</td>\n",
       "      <td>434</td>\n",
       "      <td>4.958525</td>\n",
       "      <td>is a quicker version pizza to satisfy your cr...</td>\n",
       "      <td>Mexican</td>\n",
       "      <td>Dinner</td>\n",
       "      <td>Vegetarian</td>\n",
       "      <td>15</td>\n",
       "      <td>15</td>\n",
       "      <td>Tortillas|Extra Virgin Olive Oil|Garlic|Mozzar...</td>\n",
       "      <td>To begin making the Roasted Peppers And Mushro...</td>\n",
       "      <td>Divya Shivaraman</td>\n",
       "      <td>Party Food Recipes|Tea Party Recipes|Mushroom ...</td>\n",
       "      <td>Pizza Recipes</td>\n",
       "    </tr>\n",
       "    <tr>\n",
       "      <th>1</th>\n",
       "      <td>Thakkali Gotsu Recipe | Thakkali Curry | Spicy...</td>\n",
       "      <td>https://www.archanaskitchen.com/tomato-gotsu-r...</td>\n",
       "      <td>good</td>\n",
       "      <td>3423</td>\n",
       "      <td>4.932223</td>\n",
       "      <td>also known as the   is a quick and easy to ma...</td>\n",
       "      <td>South Indian Recipes</td>\n",
       "      <td>Lunch</td>\n",
       "      <td>Vegetarian</td>\n",
       "      <td>10</td>\n",
       "      <td>20</td>\n",
       "      <td>Sesame (Gingelly) Oil|Mustard seeds (Rai/ Kadu...</td>\n",
       "      <td>To begin making Tomato Gotsu Recipe/ Thakkali ...</td>\n",
       "      <td>Archana Doshi</td>\n",
       "      <td>Vegetarian Recipes|Tomato Recipes|South Indian...</td>\n",
       "      <td>Indian Curry Recipes</td>\n",
       "    </tr>\n",
       "    <tr>\n",
       "      <th>2</th>\n",
       "      <td>Spicy Grilled Pineapple Salsa Recipe</td>\n",
       "      <td>https://www.archanaskitchen.com/spicy-grilled-...</td>\n",
       "      <td>good</td>\n",
       "      <td>2091</td>\n",
       "      <td>4.945959</td>\n",
       "      <td>Spicy Grilled Pineapple Salsa is a simple reci...</td>\n",
       "      <td>Mexican</td>\n",
       "      <td>Side Dish</td>\n",
       "      <td>Vegetarian</td>\n",
       "      <td>10</td>\n",
       "      <td>0</td>\n",
       "      <td>Extra Virgin Olive Oil|Pineapple|White onion|R...</td>\n",
       "      <td>To begin making the Spicy Grilled Pineapple Sa...</td>\n",
       "      <td>Archana's Kitchen</td>\n",
       "      <td>Party Starter &amp; Appetizer Recipes|Pineapple Re...</td>\n",
       "      <td>Mexican Recipes</td>\n",
       "    </tr>\n",
       "  </tbody>\n",
       "</table>\n",
       "</div>"
      ],
      "text/plain": [
       "                                        recipe_title  \\\n",
       "0  Roasted Peppers And Mushroom Tortilla Pizza Re...   \n",
       "1  Thakkali Gotsu Recipe | Thakkali Curry | Spicy...   \n",
       "2               Spicy Grilled Pineapple Salsa Recipe   \n",
       "\n",
       "                                                 url record_health  \\\n",
       "0  https://www.archanaskitchen.com/roasted-pepper...          good   \n",
       "1  https://www.archanaskitchen.com/tomato-gotsu-r...          good   \n",
       "2  https://www.archanaskitchen.com/spicy-grilled-...          good   \n",
       "\n",
       "   vote_count    rating                                        description  \\\n",
       "0         434  4.958525   is a quicker version pizza to satisfy your cr...   \n",
       "1        3423  4.932223   also known as the   is a quick and easy to ma...   \n",
       "2        2091  4.945959  Spicy Grilled Pineapple Salsa is a simple reci...   \n",
       "\n",
       "                cuisine     course        diet  prep_time  cook_time  \\\n",
       "0               Mexican     Dinner  Vegetarian         15         15   \n",
       "1  South Indian Recipes      Lunch  Vegetarian         10         20   \n",
       "2               Mexican  Side Dish  Vegetarian         10          0   \n",
       "\n",
       "                                         ingredients  \\\n",
       "0  Tortillas|Extra Virgin Olive Oil|Garlic|Mozzar...   \n",
       "1  Sesame (Gingelly) Oil|Mustard seeds (Rai/ Kadu...   \n",
       "2  Extra Virgin Olive Oil|Pineapple|White onion|R...   \n",
       "\n",
       "                                        instructions             author  \\\n",
       "0  To begin making the Roasted Peppers And Mushro...  Divya Shivaraman    \n",
       "1  To begin making Tomato Gotsu Recipe/ Thakkali ...      Archana Doshi   \n",
       "2  To begin making the Spicy Grilled Pineapple Sa...  Archana's Kitchen   \n",
       "\n",
       "                                                tags              category  \n",
       "0  Party Food Recipes|Tea Party Recipes|Mushroom ...         Pizza Recipes  \n",
       "1  Vegetarian Recipes|Tomato Recipes|South Indian...  Indian Curry Recipes  \n",
       "2  Party Starter & Appetizer Recipes|Pineapple Re...       Mexican Recipes  "
      ]
     },
     "execution_count": 41,
     "metadata": {},
     "output_type": "execute_result"
    }
   ],
   "source": [
    "data_clean.head(3)"
   ]
  },
  {
   "cell_type": "markdown",
   "id": "2d7beebb",
   "metadata": {},
   "source": [
    "#### Checking for unique values of record_health column"
   ]
  },
  {
   "cell_type": "code",
   "execution_count": 42,
   "id": "66cab30c",
   "metadata": {
    "colab": {
     "base_uri": "https://localhost:8080/"
    },
    "executionInfo": {
     "elapsed": 114,
     "status": "ok",
     "timestamp": 1630858498572,
     "user": {
      "displayName": "Vinura Thivin Perera",
      "photoUrl": "https://lh3.googleusercontent.com/a-/AOh14GjWvQAaXIGhkdHABV-paqWdDIA6LlUrRUJ5Js8l9CY=s64",
      "userId": "04171016047177543209"
     },
     "user_tz": -330
    },
    "id": "66cab30c",
    "outputId": "dd91a556-b61f-4569-c566-7f34bc6d02cf"
   },
   "outputs": [
    {
     "data": {
      "text/plain": [
       "array(['good'], dtype=object)"
      ]
     },
     "execution_count": 42,
     "metadata": {},
     "output_type": "execute_result"
    }
   ],
   "source": [
    "data_clean.record_health.unique()"
   ]
  },
  {
   "cell_type": "code",
   "execution_count": 43,
   "id": "a7a6a0b1",
   "metadata": {
    "colab": {
     "base_uri": "https://localhost:8080/"
    },
    "executionInfo": {
     "elapsed": 109,
     "status": "ok",
     "timestamp": 1630858498573,
     "user": {
      "displayName": "Vinura Thivin Perera",
      "photoUrl": "https://lh3.googleusercontent.com/a-/AOh14GjWvQAaXIGhkdHABV-paqWdDIA6LlUrRUJ5Js8l9CY=s64",
      "userId": "04171016047177543209"
     },
     "user_tz": -330
    },
    "id": "a7a6a0b1",
    "outputId": "8e963f74-8ae2-41a7-ec8a-2c85527415d0"
   },
   "outputs": [
    {
     "name": "stderr",
     "output_type": "stream",
     "text": [
      "C:\\Users\\isuri\\anaconda3\\lib\\site-packages\\pandas\\core\\frame.py:4308: SettingWithCopyWarning: \n",
      "A value is trying to be set on a copy of a slice from a DataFrame\n",
      "\n",
      "See the caveats in the documentation: https://pandas.pydata.org/pandas-docs/stable/user_guide/indexing.html#returning-a-view-versus-a-copy\n",
      "  return super().drop(\n"
     ]
    }
   ],
   "source": [
    "data_clean.drop([\"recipe_title\",\"url\",\"record_health\",\"description\",\"instructions\",\"author\"], axis = 1 , inplace = True)"
   ]
  },
  {
   "cell_type": "code",
   "execution_count": 44,
   "id": "ae5f798b",
   "metadata": {
    "colab": {
     "base_uri": "https://localhost:8080/",
     "height": 390
    },
    "executionInfo": {
     "elapsed": 101,
     "status": "ok",
     "timestamp": 1630858498575,
     "user": {
      "displayName": "Vinura Thivin Perera",
      "photoUrl": "https://lh3.googleusercontent.com/a-/AOh14GjWvQAaXIGhkdHABV-paqWdDIA6LlUrRUJ5Js8l9CY=s64",
      "userId": "04171016047177543209"
     },
     "user_tz": -330
    },
    "id": "ae5f798b",
    "outputId": "aab53f34-7623-4f5a-dd46-dc425a431eb5"
   },
   "outputs": [
    {
     "data": {
      "text/html": [
       "<div>\n",
       "<style scoped>\n",
       "    .dataframe tbody tr th:only-of-type {\n",
       "        vertical-align: middle;\n",
       "    }\n",
       "\n",
       "    .dataframe tbody tr th {\n",
       "        vertical-align: top;\n",
       "    }\n",
       "\n",
       "    .dataframe thead th {\n",
       "        text-align: right;\n",
       "    }\n",
       "</style>\n",
       "<table border=\"1\" class=\"dataframe\">\n",
       "  <thead>\n",
       "    <tr style=\"text-align: right;\">\n",
       "      <th></th>\n",
       "      <th>vote_count</th>\n",
       "      <th>rating</th>\n",
       "      <th>prep_time</th>\n",
       "      <th>cook_time</th>\n",
       "    </tr>\n",
       "    <tr>\n",
       "      <th>diet</th>\n",
       "      <th></th>\n",
       "      <th></th>\n",
       "      <th></th>\n",
       "      <th></th>\n",
       "    </tr>\n",
       "  </thead>\n",
       "  <tbody>\n",
       "    <tr>\n",
       "      <th>Diabetic Friendly</th>\n",
       "      <td>916216</td>\n",
       "      <td>1438.035821</td>\n",
       "      <td>10806</td>\n",
       "      <td>8831</td>\n",
       "    </tr>\n",
       "    <tr>\n",
       "      <th>Eggetarian</th>\n",
       "      <td>680503</td>\n",
       "      <td>1886.183941</td>\n",
       "      <td>12427</td>\n",
       "      <td>15135</td>\n",
       "    </tr>\n",
       "    <tr>\n",
       "      <th>Gluten Free</th>\n",
       "      <td>96038</td>\n",
       "      <td>316.740350</td>\n",
       "      <td>3745</td>\n",
       "      <td>2425</td>\n",
       "    </tr>\n",
       "    <tr>\n",
       "      <th>High Protein Non Vegetarian</th>\n",
       "      <td>697650</td>\n",
       "      <td>1094.127842</td>\n",
       "      <td>5003</td>\n",
       "      <td>6575</td>\n",
       "    </tr>\n",
       "    <tr>\n",
       "      <th>High Protein Vegetarian</th>\n",
       "      <td>1851769</td>\n",
       "      <td>3820.312126</td>\n",
       "      <td>32240</td>\n",
       "      <td>23747</td>\n",
       "    </tr>\n",
       "    <tr>\n",
       "      <th>No Onion No Garlic (Sattvic)</th>\n",
       "      <td>170368</td>\n",
       "      <td>365.619446</td>\n",
       "      <td>1175</td>\n",
       "      <td>2045</td>\n",
       "    </tr>\n",
       "    <tr>\n",
       "      <th>Non Vegeterian</th>\n",
       "      <td>1318758</td>\n",
       "      <td>2161.451299</td>\n",
       "      <td>14537</td>\n",
       "      <td>16689</td>\n",
       "    </tr>\n",
       "    <tr>\n",
       "      <th>Sugar Free Diet</th>\n",
       "      <td>7441</td>\n",
       "      <td>68.389621</td>\n",
       "      <td>290</td>\n",
       "      <td>290</td>\n",
       "    </tr>\n",
       "    <tr>\n",
       "      <th>Vegan</th>\n",
       "      <td>89003</td>\n",
       "      <td>326.227494</td>\n",
       "      <td>1678</td>\n",
       "      <td>2970</td>\n",
       "    </tr>\n",
       "    <tr>\n",
       "      <th>Vegetarian</th>\n",
       "      <td>11531166</td>\n",
       "      <td>26085.829781</td>\n",
       "      <td>140692</td>\n",
       "      <td>163010</td>\n",
       "    </tr>\n",
       "  </tbody>\n",
       "</table>\n",
       "</div>"
      ],
      "text/plain": [
       "                              vote_count        rating  prep_time  cook_time\n",
       "diet                                                                        \n",
       "Diabetic Friendly                 916216   1438.035821      10806       8831\n",
       "Eggetarian                        680503   1886.183941      12427      15135\n",
       "Gluten Free                        96038    316.740350       3745       2425\n",
       "High Protein Non Vegetarian       697650   1094.127842       5003       6575\n",
       "High Protein Vegetarian          1851769   3820.312126      32240      23747\n",
       "No Onion No Garlic (Sattvic)      170368    365.619446       1175       2045\n",
       "Non Vegeterian                   1318758   2161.451299      14537      16689\n",
       "Sugar Free Diet                     7441     68.389621        290        290\n",
       "Vegan                              89003    326.227494       1678       2970\n",
       "Vegetarian                      11531166  26085.829781     140692     163010"
      ]
     },
     "execution_count": 44,
     "metadata": {},
     "output_type": "execute_result"
    }
   ],
   "source": [
    "data_clean.groupby(['diet']).sum()"
   ]
  },
  {
   "cell_type": "code",
   "execution_count": 45,
   "id": "2571b98f",
   "metadata": {
    "colab": {
     "base_uri": "https://localhost:8080/",
     "height": 483
    },
    "executionInfo": {
     "elapsed": 101,
     "status": "ok",
     "timestamp": 1630858498576,
     "user": {
      "displayName": "Vinura Thivin Perera",
      "photoUrl": "https://lh3.googleusercontent.com/a-/AOh14GjWvQAaXIGhkdHABV-paqWdDIA6LlUrRUJ5Js8l9CY=s64",
      "userId": "04171016047177543209"
     },
     "user_tz": -330
    },
    "id": "2571b98f",
    "outputId": "dd93c4ad-4ca0-43b0-b012-a3f08655a733"
   },
   "outputs": [
    {
     "data": {
      "text/html": [
       "<div>\n",
       "<style scoped>\n",
       "    .dataframe tbody tr th:only-of-type {\n",
       "        vertical-align: middle;\n",
       "    }\n",
       "\n",
       "    .dataframe tbody tr th {\n",
       "        vertical-align: top;\n",
       "    }\n",
       "\n",
       "    .dataframe thead th {\n",
       "        text-align: right;\n",
       "    }\n",
       "</style>\n",
       "<table border=\"1\" class=\"dataframe\">\n",
       "  <thead>\n",
       "    <tr style=\"text-align: right;\">\n",
       "      <th></th>\n",
       "      <th>vote_count</th>\n",
       "      <th>rating</th>\n",
       "      <th>prep_time</th>\n",
       "      <th>cook_time</th>\n",
       "    </tr>\n",
       "    <tr>\n",
       "      <th>course</th>\n",
       "      <th></th>\n",
       "      <th></th>\n",
       "      <th></th>\n",
       "      <th></th>\n",
       "    </tr>\n",
       "  </thead>\n",
       "  <tbody>\n",
       "    <tr>\n",
       "      <th>Appetizer</th>\n",
       "      <td>1278822</td>\n",
       "      <td>3674.820467</td>\n",
       "      <td>21288</td>\n",
       "      <td>19458</td>\n",
       "    </tr>\n",
       "    <tr>\n",
       "      <th>Brunch</th>\n",
       "      <td>3437</td>\n",
       "      <td>24.661396</td>\n",
       "      <td>70</td>\n",
       "      <td>190</td>\n",
       "    </tr>\n",
       "    <tr>\n",
       "      <th>Dessert</th>\n",
       "      <td>1373307</td>\n",
       "      <td>3857.315900</td>\n",
       "      <td>30489</td>\n",
       "      <td>43835</td>\n",
       "    </tr>\n",
       "    <tr>\n",
       "      <th>Dinner</th>\n",
       "      <td>2021192</td>\n",
       "      <td>4175.067658</td>\n",
       "      <td>24776</td>\n",
       "      <td>28947</td>\n",
       "    </tr>\n",
       "    <tr>\n",
       "      <th>Indian Breakfast</th>\n",
       "      <td>270402</td>\n",
       "      <td>506.907514</td>\n",
       "      <td>5435</td>\n",
       "      <td>2492</td>\n",
       "    </tr>\n",
       "    <tr>\n",
       "      <th>Lunch</th>\n",
       "      <td>4621987</td>\n",
       "      <td>9292.053837</td>\n",
       "      <td>44298</td>\n",
       "      <td>59005</td>\n",
       "    </tr>\n",
       "    <tr>\n",
       "      <th>Main Course</th>\n",
       "      <td>1114334</td>\n",
       "      <td>1837.929546</td>\n",
       "      <td>14144</td>\n",
       "      <td>12317</td>\n",
       "    </tr>\n",
       "    <tr>\n",
       "      <th>North Indian Breakfast</th>\n",
       "      <td>514170</td>\n",
       "      <td>693.034256</td>\n",
       "      <td>3467</td>\n",
       "      <td>3780</td>\n",
       "    </tr>\n",
       "    <tr>\n",
       "      <th>One Pot Dish</th>\n",
       "      <td>73560</td>\n",
       "      <td>171.157706</td>\n",
       "      <td>670</td>\n",
       "      <td>1270</td>\n",
       "    </tr>\n",
       "    <tr>\n",
       "      <th>Side Dish</th>\n",
       "      <td>2597703</td>\n",
       "      <td>5466.234073</td>\n",
       "      <td>20204</td>\n",
       "      <td>25361</td>\n",
       "    </tr>\n",
       "    <tr>\n",
       "      <th>Snack</th>\n",
       "      <td>2135688</td>\n",
       "      <td>4943.447063</td>\n",
       "      <td>28941</td>\n",
       "      <td>30051</td>\n",
       "    </tr>\n",
       "    <tr>\n",
       "      <th>South Indian Breakfast</th>\n",
       "      <td>997405</td>\n",
       "      <td>1468.590875</td>\n",
       "      <td>23042</td>\n",
       "      <td>8287</td>\n",
       "    </tr>\n",
       "    <tr>\n",
       "      <th>World Breakfast</th>\n",
       "      <td>356905</td>\n",
       "      <td>1451.697433</td>\n",
       "      <td>5769</td>\n",
       "      <td>6724</td>\n",
       "    </tr>\n",
       "  </tbody>\n",
       "</table>\n",
       "</div>"
      ],
      "text/plain": [
       "                        vote_count       rating  prep_time  cook_time\n",
       "course                                                               \n",
       "Appetizer                  1278822  3674.820467      21288      19458\n",
       "Brunch                        3437    24.661396         70        190\n",
       "Dessert                    1373307  3857.315900      30489      43835\n",
       "Dinner                     2021192  4175.067658      24776      28947\n",
       "Indian Breakfast            270402   506.907514       5435       2492\n",
       "Lunch                      4621987  9292.053837      44298      59005\n",
       "Main Course                1114334  1837.929546      14144      12317\n",
       "North Indian Breakfast      514170   693.034256       3467       3780\n",
       "One Pot Dish                 73560   171.157706        670       1270\n",
       "Side Dish                  2597703  5466.234073      20204      25361\n",
       "Snack                      2135688  4943.447063      28941      30051\n",
       "South Indian Breakfast      997405  1468.590875      23042       8287\n",
       "World Breakfast             356905  1451.697433       5769       6724"
      ]
     },
     "execution_count": 45,
     "metadata": {},
     "output_type": "execute_result"
    }
   ],
   "source": [
    "data_clean.groupby(['course']).sum()"
   ]
  },
  {
   "cell_type": "code",
   "execution_count": 46,
   "id": "b1a440e4",
   "metadata": {
    "colab": {
     "base_uri": "https://localhost:8080/",
     "height": 450
    },
    "executionInfo": {
     "elapsed": 101,
     "status": "ok",
     "timestamp": 1630858498577,
     "user": {
      "displayName": "Vinura Thivin Perera",
      "photoUrl": "https://lh3.googleusercontent.com/a-/AOh14GjWvQAaXIGhkdHABV-paqWdDIA6LlUrRUJ5Js8l9CY=s64",
      "userId": "04171016047177543209"
     },
     "user_tz": -330
    },
    "id": "b1a440e4",
    "outputId": "2aa3acd8-1a6a-46fb-faba-a6692d15e3cc"
   },
   "outputs": [
    {
     "data": {
      "text/html": [
       "<div>\n",
       "<style scoped>\n",
       "    .dataframe tbody tr th:only-of-type {\n",
       "        vertical-align: middle;\n",
       "    }\n",
       "\n",
       "    .dataframe tbody tr th {\n",
       "        vertical-align: top;\n",
       "    }\n",
       "\n",
       "    .dataframe thead th {\n",
       "        text-align: right;\n",
       "    }\n",
       "</style>\n",
       "<table border=\"1\" class=\"dataframe\">\n",
       "  <thead>\n",
       "    <tr style=\"text-align: right;\">\n",
       "      <th></th>\n",
       "      <th></th>\n",
       "      <th>vote_count</th>\n",
       "      <th>rating</th>\n",
       "      <th>prep_time</th>\n",
       "      <th>cook_time</th>\n",
       "    </tr>\n",
       "    <tr>\n",
       "      <th>diet</th>\n",
       "      <th>course</th>\n",
       "      <th></th>\n",
       "      <th></th>\n",
       "      <th></th>\n",
       "      <th></th>\n",
       "    </tr>\n",
       "  </thead>\n",
       "  <tbody>\n",
       "    <tr>\n",
       "      <th rowspan=\"5\" valign=\"top\">Diabetic Friendly</th>\n",
       "      <th>Appetizer</th>\n",
       "      <td>15786</td>\n",
       "      <td>44.305566</td>\n",
       "      <td>145</td>\n",
       "      <td>165</td>\n",
       "    </tr>\n",
       "    <tr>\n",
       "      <th>Dinner</th>\n",
       "      <td>97719</td>\n",
       "      <td>117.485756</td>\n",
       "      <td>545</td>\n",
       "      <td>745</td>\n",
       "    </tr>\n",
       "    <tr>\n",
       "      <th>Indian Breakfast</th>\n",
       "      <td>45249</td>\n",
       "      <td>68.027256</td>\n",
       "      <td>980</td>\n",
       "      <td>365</td>\n",
       "    </tr>\n",
       "    <tr>\n",
       "      <th>Lunch</th>\n",
       "      <td>204152</td>\n",
       "      <td>361.490029</td>\n",
       "      <td>2190</td>\n",
       "      <td>1875</td>\n",
       "    </tr>\n",
       "    <tr>\n",
       "      <th>Main Course</th>\n",
       "      <td>37914</td>\n",
       "      <td>53.803647</td>\n",
       "      <td>800</td>\n",
       "      <td>305</td>\n",
       "    </tr>\n",
       "    <tr>\n",
       "      <th>...</th>\n",
       "      <th>...</th>\n",
       "      <td>...</td>\n",
       "      <td>...</td>\n",
       "      <td>...</td>\n",
       "      <td>...</td>\n",
       "    </tr>\n",
       "    <tr>\n",
       "      <th rowspan=\"5\" valign=\"top\">Vegetarian</th>\n",
       "      <th>One Pot Dish</th>\n",
       "      <td>25598</td>\n",
       "      <td>87.563002</td>\n",
       "      <td>415</td>\n",
       "      <td>685</td>\n",
       "    </tr>\n",
       "    <tr>\n",
       "      <th>Side Dish</th>\n",
       "      <td>1902306</td>\n",
       "      <td>4065.136936</td>\n",
       "      <td>14850</td>\n",
       "      <td>16608</td>\n",
       "    </tr>\n",
       "    <tr>\n",
       "      <th>Snack</th>\n",
       "      <td>1759394</td>\n",
       "      <td>4122.375175</td>\n",
       "      <td>23688</td>\n",
       "      <td>24727</td>\n",
       "    </tr>\n",
       "    <tr>\n",
       "      <th>South Indian Breakfast</th>\n",
       "      <td>627156</td>\n",
       "      <td>922.327062</td>\n",
       "      <td>12937</td>\n",
       "      <td>5255</td>\n",
       "    </tr>\n",
       "    <tr>\n",
       "      <th>World Breakfast</th>\n",
       "      <td>145639</td>\n",
       "      <td>687.148447</td>\n",
       "      <td>3017</td>\n",
       "      <td>2970</td>\n",
       "    </tr>\n",
       "  </tbody>\n",
       "</table>\n",
       "<p>102 rows × 4 columns</p>\n",
       "</div>"
      ],
      "text/plain": [
       "                                          vote_count       rating  prep_time  \\\n",
       "diet              course                                                       \n",
       "Diabetic Friendly Appetizer                    15786    44.305566        145   \n",
       "                  Dinner                       97719   117.485756        545   \n",
       "                  Indian Breakfast             45249    68.027256        980   \n",
       "                  Lunch                       204152   361.490029       2190   \n",
       "                  Main Course                  37914    53.803647        800   \n",
       "...                                              ...          ...        ...   \n",
       "Vegetarian        One Pot Dish                 25598    87.563002        415   \n",
       "                  Side Dish                  1902306  4065.136936      14850   \n",
       "                  Snack                      1759394  4122.375175      23688   \n",
       "                  South Indian Breakfast      627156   922.327062      12937   \n",
       "                  World Breakfast             145639   687.148447       3017   \n",
       "\n",
       "                                          cook_time  \n",
       "diet              course                             \n",
       "Diabetic Friendly Appetizer                     165  \n",
       "                  Dinner                        745  \n",
       "                  Indian Breakfast              365  \n",
       "                  Lunch                        1875  \n",
       "                  Main Course                   305  \n",
       "...                                             ...  \n",
       "Vegetarian        One Pot Dish                  685  \n",
       "                  Side Dish                   16608  \n",
       "                  Snack                       24727  \n",
       "                  South Indian Breakfast       5255  \n",
       "                  World Breakfast              2970  \n",
       "\n",
       "[102 rows x 4 columns]"
      ]
     },
     "execution_count": 46,
     "metadata": {},
     "output_type": "execute_result"
    }
   ],
   "source": [
    "data_clean.groupby(['diet','course']).sum()"
   ]
  },
  {
   "cell_type": "code",
   "execution_count": 47,
   "id": "c8cd28d9",
   "metadata": {
    "colab": {
     "base_uri": "https://localhost:8080/",
     "height": 419
    },
    "executionInfo": {
     "elapsed": 100,
     "status": "ok",
     "timestamp": 1630858498577,
     "user": {
      "displayName": "Vinura Thivin Perera",
      "photoUrl": "https://lh3.googleusercontent.com/a-/AOh14GjWvQAaXIGhkdHABV-paqWdDIA6LlUrRUJ5Js8l9CY=s64",
      "userId": "04171016047177543209"
     },
     "user_tz": -330
    },
    "id": "c8cd28d9",
    "outputId": "8831ace8-f4de-4410-e6a1-91e3894e8fb3"
   },
   "outputs": [
    {
     "data": {
      "text/html": [
       "<div>\n",
       "<style scoped>\n",
       "    .dataframe tbody tr th:only-of-type {\n",
       "        vertical-align: middle;\n",
       "    }\n",
       "\n",
       "    .dataframe tbody tr th {\n",
       "        vertical-align: top;\n",
       "    }\n",
       "\n",
       "    .dataframe thead th {\n",
       "        text-align: right;\n",
       "    }\n",
       "</style>\n",
       "<table border=\"1\" class=\"dataframe\">\n",
       "  <thead>\n",
       "    <tr style=\"text-align: right;\">\n",
       "      <th></th>\n",
       "      <th>vote_count</th>\n",
       "      <th>rating</th>\n",
       "      <th>cuisine</th>\n",
       "      <th>course</th>\n",
       "      <th>diet</th>\n",
       "      <th>prep_time</th>\n",
       "      <th>cook_time</th>\n",
       "      <th>ingredients</th>\n",
       "      <th>tags</th>\n",
       "      <th>category</th>\n",
       "    </tr>\n",
       "  </thead>\n",
       "  <tbody>\n",
       "    <tr>\n",
       "      <th>132</th>\n",
       "      <td>25507</td>\n",
       "      <td>4.924021</td>\n",
       "      <td>Indo Chinese</td>\n",
       "      <td>Appetizer</td>\n",
       "      <td>High Protein Non Vegetarian</td>\n",
       "      <td>15</td>\n",
       "      <td>50</td>\n",
       "      <td>Chicken|Whole Egg|Corn flour|Salt|Sunflower Oi...</td>\n",
       "      <td>Party Starter &amp; Appetizer Recipes|High Protein...</td>\n",
       "      <td>Indian Chinese Recipes</td>\n",
       "    </tr>\n",
       "    <tr>\n",
       "      <th>7954</th>\n",
       "      <td>22483</td>\n",
       "      <td>4.882756</td>\n",
       "      <td>Indo Chinese</td>\n",
       "      <td>Appetizer</td>\n",
       "      <td>Vegetarian</td>\n",
       "      <td>20</td>\n",
       "      <td>20</td>\n",
       "      <td>Cauliflower (gobi)|Spring Onion Greens|Garlic|...</td>\n",
       "      <td>Party Food Recipes|Cauliflower Recipes (Phool ...</td>\n",
       "      <td>Indian Chinese Recipes</td>\n",
       "    </tr>\n",
       "    <tr>\n",
       "      <th>252</th>\n",
       "      <td>21020</td>\n",
       "      <td>4.891675</td>\n",
       "      <td>Chettinad</td>\n",
       "      <td>Appetizer</td>\n",
       "      <td>High Protein Non Vegetarian</td>\n",
       "      <td>10</td>\n",
       "      <td>30</td>\n",
       "      <td>Chicken|Garlic|Ginger|Turmeric powder (Haldi)|...</td>\n",
       "      <td>Party Food Recipes|Side Dish Recipes|South Ind...</td>\n",
       "      <td>Chicken Recipes</td>\n",
       "    </tr>\n",
       "    <tr>\n",
       "      <th>171</th>\n",
       "      <td>19539</td>\n",
       "      <td>4.883259</td>\n",
       "      <td>Kerala Recipes</td>\n",
       "      <td>Appetizer</td>\n",
       "      <td>Non Vegeterian</td>\n",
       "      <td>10</td>\n",
       "      <td>60</td>\n",
       "      <td>Mutton|Cumin powder (Jeera)|Red Chilli powder|...</td>\n",
       "      <td>Party Food Recipes|South Indian Recipes|Kerala...</td>\n",
       "      <td>Mutton Recipes</td>\n",
       "    </tr>\n",
       "    <tr>\n",
       "      <th>5196</th>\n",
       "      <td>19480</td>\n",
       "      <td>4.871253</td>\n",
       "      <td>Middle Eastern</td>\n",
       "      <td>Appetizer</td>\n",
       "      <td>Vegetarian</td>\n",
       "      <td>5</td>\n",
       "      <td>15</td>\n",
       "      <td>Assam tea leaves|Milk|Fresh cream|Star anise|C...</td>\n",
       "      <td>Vegetarian Recipes|Tea Party Recipes|Tea Recipes</td>\n",
       "      <td>Smoothies and Juices</td>\n",
       "    </tr>\n",
       "    <tr>\n",
       "      <th>...</th>\n",
       "      <td>...</td>\n",
       "      <td>...</td>\n",
       "      <td>...</td>\n",
       "      <td>...</td>\n",
       "      <td>...</td>\n",
       "      <td>...</td>\n",
       "      <td>...</td>\n",
       "      <td>...</td>\n",
       "      <td>...</td>\n",
       "      <td>...</td>\n",
       "    </tr>\n",
       "    <tr>\n",
       "      <th>5024</th>\n",
       "      <td>128</td>\n",
       "      <td>4.937500</td>\n",
       "      <td>Continental</td>\n",
       "      <td>World Breakfast</td>\n",
       "      <td>Vegetarian</td>\n",
       "      <td>10</td>\n",
       "      <td>25</td>\n",
       "      <td>Kaddu (Parangikai/ Pumpkin)|Broccoli|Onion|Gar...</td>\n",
       "      <td>Tomato Recipes|Broccoli Recipes|Pumpkin Recipe...</td>\n",
       "      <td>Dessert Recipes</td>\n",
       "    </tr>\n",
       "    <tr>\n",
       "      <th>6236</th>\n",
       "      <td>128</td>\n",
       "      <td>5.000000</td>\n",
       "      <td>Chinese</td>\n",
       "      <td>World Breakfast</td>\n",
       "      <td>High Protein Vegetarian</td>\n",
       "      <td>500</td>\n",
       "      <td>30</td>\n",
       "      <td>Yellow Moong Dal (Split)|Rice|Whole Eggs|Garli...</td>\n",
       "      <td>Breakfast Recipe Ideas|Pancake Recipes|Moong D...</td>\n",
       "      <td>Indian Chinese Recipes</td>\n",
       "    </tr>\n",
       "    <tr>\n",
       "      <th>4979</th>\n",
       "      <td>127</td>\n",
       "      <td>4.976378</td>\n",
       "      <td>Continental</td>\n",
       "      <td>World Breakfast</td>\n",
       "      <td>Vegetarian</td>\n",
       "      <td>15</td>\n",
       "      <td>20</td>\n",
       "      <td>Apple|Butter (unsalted)|Cinnamon Powder (Dalch...</td>\n",
       "      <td>Breakfast Recipe Ideas|Dahi Recipes (Curd/Yogu...</td>\n",
       "      <td>Pancake Recipes</td>\n",
       "    </tr>\n",
       "    <tr>\n",
       "      <th>5492</th>\n",
       "      <td>121</td>\n",
       "      <td>5.000000</td>\n",
       "      <td>French</td>\n",
       "      <td>World Breakfast</td>\n",
       "      <td>Non Vegeterian</td>\n",
       "      <td>10</td>\n",
       "      <td>90</td>\n",
       "      <td>All Purpose Flour (Maida)|Salt|Lemon juice|Who...</td>\n",
       "      <td>Tea Party Recipes|Quiche Recipes</td>\n",
       "      <td>Dessert Recipes</td>\n",
       "    </tr>\n",
       "    <tr>\n",
       "      <th>4007</th>\n",
       "      <td>118</td>\n",
       "      <td>5.000000</td>\n",
       "      <td>Continental</td>\n",
       "      <td>World Breakfast</td>\n",
       "      <td>Eggetarian</td>\n",
       "      <td>10</td>\n",
       "      <td>20</td>\n",
       "      <td>अंडे|प्याज|पालक|नमक|काली मिर्च पाउडर|टमाटर|लहस...</td>\n",
       "      <td>Spinach Recipes (Palak/Keerai)|Breakfast Recip...</td>\n",
       "      <td>Indian Snack Recipes</td>\n",
       "    </tr>\n",
       "  </tbody>\n",
       "</table>\n",
       "<p>7683 rows × 10 columns</p>\n",
       "</div>"
      ],
      "text/plain": [
       "      vote_count    rating         cuisine           course  \\\n",
       "132        25507  4.924021    Indo Chinese        Appetizer   \n",
       "7954       22483  4.882756    Indo Chinese        Appetizer   \n",
       "252        21020  4.891675       Chettinad        Appetizer   \n",
       "171        19539  4.883259  Kerala Recipes        Appetizer   \n",
       "5196       19480  4.871253  Middle Eastern        Appetizer   \n",
       "...          ...       ...             ...              ...   \n",
       "5024         128  4.937500     Continental  World Breakfast   \n",
       "6236         128  5.000000         Chinese  World Breakfast   \n",
       "4979         127  4.976378     Continental  World Breakfast   \n",
       "5492         121  5.000000          French  World Breakfast   \n",
       "4007         118  5.000000     Continental  World Breakfast   \n",
       "\n",
       "                             diet  prep_time  cook_time  \\\n",
       "132   High Protein Non Vegetarian         15         50   \n",
       "7954                   Vegetarian         20         20   \n",
       "252   High Protein Non Vegetarian         10         30   \n",
       "171                Non Vegeterian         10         60   \n",
       "5196                   Vegetarian          5         15   \n",
       "...                           ...        ...        ...   \n",
       "5024                   Vegetarian         10         25   \n",
       "6236      High Protein Vegetarian        500         30   \n",
       "4979                   Vegetarian         15         20   \n",
       "5492               Non Vegeterian         10         90   \n",
       "4007                   Eggetarian         10         20   \n",
       "\n",
       "                                            ingredients  \\\n",
       "132   Chicken|Whole Egg|Corn flour|Salt|Sunflower Oi...   \n",
       "7954  Cauliflower (gobi)|Spring Onion Greens|Garlic|...   \n",
       "252   Chicken|Garlic|Ginger|Turmeric powder (Haldi)|...   \n",
       "171   Mutton|Cumin powder (Jeera)|Red Chilli powder|...   \n",
       "5196  Assam tea leaves|Milk|Fresh cream|Star anise|C...   \n",
       "...                                                 ...   \n",
       "5024  Kaddu (Parangikai/ Pumpkin)|Broccoli|Onion|Gar...   \n",
       "6236  Yellow Moong Dal (Split)|Rice|Whole Eggs|Garli...   \n",
       "4979  Apple|Butter (unsalted)|Cinnamon Powder (Dalch...   \n",
       "5492  All Purpose Flour (Maida)|Salt|Lemon juice|Who...   \n",
       "4007  अंडे|प्याज|पालक|नमक|काली मिर्च पाउडर|टमाटर|लहस...   \n",
       "\n",
       "                                                   tags  \\\n",
       "132   Party Starter & Appetizer Recipes|High Protein...   \n",
       "7954  Party Food Recipes|Cauliflower Recipes (Phool ...   \n",
       "252   Party Food Recipes|Side Dish Recipes|South Ind...   \n",
       "171   Party Food Recipes|South Indian Recipes|Kerala...   \n",
       "5196   Vegetarian Recipes|Tea Party Recipes|Tea Recipes   \n",
       "...                                                 ...   \n",
       "5024  Tomato Recipes|Broccoli Recipes|Pumpkin Recipe...   \n",
       "6236  Breakfast Recipe Ideas|Pancake Recipes|Moong D...   \n",
       "4979  Breakfast Recipe Ideas|Dahi Recipes (Curd/Yogu...   \n",
       "5492                   Tea Party Recipes|Quiche Recipes   \n",
       "4007  Spinach Recipes (Palak/Keerai)|Breakfast Recip...   \n",
       "\n",
       "                    category  \n",
       "132   Indian Chinese Recipes  \n",
       "7954  Indian Chinese Recipes  \n",
       "252          Chicken Recipes  \n",
       "171           Mutton Recipes  \n",
       "5196    Smoothies and Juices  \n",
       "...                      ...  \n",
       "5024         Dessert Recipes  \n",
       "6236  Indian Chinese Recipes  \n",
       "4979         Pancake Recipes  \n",
       "5492         Dessert Recipes  \n",
       "4007    Indian Snack Recipes  \n",
       "\n",
       "[7683 rows x 10 columns]"
      ]
     },
     "execution_count": 47,
     "metadata": {},
     "output_type": "execute_result"
    }
   ],
   "source": [
    "data_clean.sort_values(['course', 'vote_count'], ascending=[True, False])"
   ]
  },
  {
   "cell_type": "markdown",
   "id": "16e6dfcf",
   "metadata": {
    "id": "16e6dfcf"
   },
   "source": [
    "#### Checking for most popular cuisines"
   ]
  },
  {
   "cell_type": "code",
   "execution_count": 48,
   "id": "37e4bcc5",
   "metadata": {
    "executionInfo": {
     "elapsed": 100,
     "status": "ok",
     "timestamp": 1630858498580,
     "user": {
      "displayName": "Vinura Thivin Perera",
      "photoUrl": "https://lh3.googleusercontent.com/a-/AOh14GjWvQAaXIGhkdHABV-paqWdDIA6LlUrRUJ5Js8l9CY=s64",
      "userId": "04171016047177543209"
     },
     "user_tz": -330
    },
    "id": "37e4bcc5"
   },
   "outputs": [],
   "source": [
    "cuisine_counts  = data_clean['cuisine'].value_counts(ascending=False)"
   ]
  },
  {
   "cell_type": "code",
   "execution_count": 49,
   "id": "005e98b9",
   "metadata": {
    "colab": {
     "base_uri": "https://localhost:8080/",
     "height": 265
    },
    "executionInfo": {
     "elapsed": 101,
     "status": "ok",
     "timestamp": 1630858498581,
     "user": {
      "displayName": "Vinura Thivin Perera",
      "photoUrl": "https://lh3.googleusercontent.com/a-/AOh14GjWvQAaXIGhkdHABV-paqWdDIA6LlUrRUJ5Js8l9CY=s64",
      "userId": "04171016047177543209"
     },
     "user_tz": -330
    },
    "id": "005e98b9",
    "outputId": "4cf97d3e-3cee-40ae-fdec-b7c1662f71ba"
   },
   "outputs": [
    {
     "data": {
      "image/png": "[encoded data removed]",
      "text/plain": [
       "<Figure size 432x288 with 1 Axes>"
      ]
     },
     "metadata": {
      "needs_background": "light"
     },
     "output_type": "display_data"
    }
   ],
   "source": [
    "ax = cuisine_counts.iloc[:15].plot(kind='barh')"
   ]
  },
  {
   "cell_type": "code",
   "execution_count": 50,
   "id": "b683579b",
   "metadata": {},
   "outputs": [],
   "source": [
    "rating_counts  = data_clean['rating'].value_counts(ascending=False)"
   ]
  },
  {
   "cell_type": "code",
   "execution_count": 51,
   "id": "f3f0c838",
   "metadata": {},
   "outputs": [
    {
     "data": {
      "image/png": "[encoded data removed]",
      "text/plain": [
       "<Figure size 432x288 with 1 Axes>"
      ]
     },
     "metadata": {
      "needs_background": "light"
     },
     "output_type": "display_data"
    }
   ],
   "source": [
    "ax = rating_counts.iloc[:15].plot(kind='barh')"
   ]
  },
  {
   "cell_type": "markdown",
   "id": "c6211311",
   "metadata": {
    "executionInfo": {
     "elapsed": 1324,
     "status": "ok",
     "timestamp": 1630858499805,
     "user": {
      "displayName": "Vinura Thivin Perera",
      "photoUrl": "https://lh3.googleusercontent.com/a-/AOh14GjWvQAaXIGhkdHABV-paqWdDIA6LlUrRUJ5Js8l9CY=s64",
      "userId": "04171016047177543209"
     },
     "user_tz": -330
    },
    "id": "b3db5d17"
   },
   "source": [
    "#### Scatter plot"
   ]
  },
  {
   "cell_type": "code",
   "execution_count": null,
   "id": "59b1311c",
   "metadata": {},
   "outputs": [],
   "source": []
  },
  {
   "cell_type": "code",
   "execution_count": 52,
   "id": "5e2fc21c",
   "metadata": {
    "colab": {
     "base_uri": "https://localhost:8080/",
     "height": 584
    },
    "executionInfo": {
     "elapsed": 110,
     "status": "ok",
     "timestamp": 1630858499808,
     "user": {
      "displayName": "Vinura Thivin Perera",
      "photoUrl": "https://lh3.googleusercontent.com/a-/AOh14GjWvQAaXIGhkdHABV-paqWdDIA6LlUrRUJ5Js8l9CY=s64",
      "userId": "04171016047177543209"
     },
     "user_tz": -330
    },
    "id": "5e2fc21c",
    "outputId": "b1ec2624-f46b-4e40-c478-c58fec913258"
   },
   "outputs": [
    {
     "data": {
      "text/plain": [
       "array([[<AxesSubplot:xlabel='vote_count', ylabel='vote_count'>,\n",
       "        <AxesSubplot:xlabel='rating', ylabel='vote_count'>,\n",
       "        <AxesSubplot:xlabel='prep_time', ylabel='vote_count'>,\n",
       "        <AxesSubplot:xlabel='cook_time', ylabel='vote_count'>],\n",
       "       [<AxesSubplot:xlabel='vote_count', ylabel='rating'>,\n",
       "        <AxesSubplot:xlabel='rating', ylabel='rating'>,\n",
       "        <AxesSubplot:xlabel='prep_time', ylabel='rating'>,\n",
       "        <AxesSubplot:xlabel='cook_time', ylabel='rating'>],\n",
       "       [<AxesSubplot:xlabel='vote_count', ylabel='prep_time'>,\n",
       "        <AxesSubplot:xlabel='rating', ylabel='prep_time'>,\n",
       "        <AxesSubplot:xlabel='prep_time', ylabel='prep_time'>,\n",
       "        <AxesSubplot:xlabel='cook_time', ylabel='prep_time'>],\n",
       "       [<AxesSubplot:xlabel='vote_count', ylabel='cook_time'>,\n",
       "        <AxesSubplot:xlabel='rating', ylabel='cook_time'>,\n",
       "        <AxesSubplot:xlabel='prep_time', ylabel='cook_time'>,\n",
       "        <AxesSubplot:xlabel='cook_time', ylabel='cook_time'>]],\n",
       "      dtype=object)"
      ]
     },
     "execution_count": 52,
     "metadata": {},
     "output_type": "execute_result"
    },
    {
     "data": {
      "text/plain": [
       "<Figure size 648x576 with 0 Axes>"
      ]
     },
     "metadata": {},
     "output_type": "display_data"
    },
    {
     "data": {
      "image/png": "[encoded data removed]",
      "text/plain": [
       "<Figure size 432x288 with 16 Axes>"
      ]
     },
     "metadata": {
      "needs_background": "light"
     },
     "output_type": "display_data"
    }
   ],
   "source": [
    "plt.figure(figsize=(9, 8))\n",
    "pd.plotting.scatter_matrix(data_clean)"
   ]
  },
  {
   "cell_type": "code",
   "execution_count": 53,
   "id": "39bc13e0",
   "metadata": {},
   "outputs": [
    {
     "name": "stderr",
     "output_type": "stream",
     "text": [
      "C:\\Users\\isuri\\anaconda3\\lib\\site-packages\\seaborn\\distributions.py:2557: FutureWarning: `distplot` is a deprecated function and will be removed in a future version. Please adapt your code to use either `displot` (a figure-level function with similar flexibility) or `histplot` (an axes-level function for histograms).\n",
      "  warnings.warn(msg, FutureWarning)\n"
     ]
    },
    {
     "data": {
      "image/png": "[encoded data removed]",
      "text/plain": [
       "<Figure size 648x576 with 1 Axes>"
      ]
     },
     "metadata": {
      "needs_background": "light"
     },
     "output_type": "display_data"
    }
   ],
   "source": [
    "plt.figure(figsize=(9, 8))\n",
    "sns.distplot(data['rating'], color='g', bins=5, hist_kws={'alpha': 0.4});"
   ]
  },
  {
   "cell_type": "code",
   "execution_count": 54,
   "id": "3af950bb",
   "metadata": {},
   "outputs": [
    {
     "name": "stderr",
     "output_type": "stream",
     "text": [
      "C:\\Users\\isuri\\anaconda3\\lib\\site-packages\\seaborn\\distributions.py:2557: FutureWarning: `distplot` is a deprecated function and will be removed in a future version. Please adapt your code to use either `displot` (a figure-level function with similar flexibility) or `histplot` (an axes-level function for histograms).\n",
      "  warnings.warn(msg, FutureWarning)\n"
     ]
    },
    {
     "data": {
      "image/png": "[encoded data removed]",
      "text/plain": [
       "<Figure size 648x576 with 1 Axes>"
      ]
     },
     "metadata": {
      "needs_background": "light"
     },
     "output_type": "display_data"
    }
   ],
   "source": [
    "\n",
    "plt.figure(figsize=(9, 8))\n",
    "sns.distplot(data['vote_count'], color='g', bins=5, hist_kws={'alpha': 0.4});"
   ]
  },
  {
   "cell_type": "markdown",
   "id": "8e39554d",
   "metadata": {
    "id": "8e39554d"
   },
   "source": [
    "#### Applying Lambda funtion to split tags. "
   ]
  },
  {
   "cell_type": "markdown",
   "id": "6pA7jiznlEJO",
   "metadata": {
    "id": "6pA7jiznlEJO"
   },
   "source": [
    "#### Converting tags and ingedients columns data from string to a list  "
   ]
  },
  {
   "cell_type": "code",
   "execution_count": 55,
   "id": "f9052c93",
   "metadata": {
    "colab": {
     "base_uri": "https://localhost:8080/"
    },
    "executionInfo": {
     "elapsed": 110,
     "status": "ok",
     "timestamp": 1630858499820,
     "user": {
      "displayName": "Vinura Thivin Perera",
      "photoUrl": "https://lh3.googleusercontent.com/a-/AOh14GjWvQAaXIGhkdHABV-paqWdDIA6LlUrRUJ5Js8l9CY=s64",
      "userId": "04171016047177543209"
     },
     "user_tz": -330
    },
    "id": "f9052c93",
    "outputId": "63cc8781-83ed-4062-82e0-e8973eeb26bc"
   },
   "outputs": [
    {
     "name": "stderr",
     "output_type": "stream",
     "text": [
      "C:\\Users\\isuri\\anaconda3\\lib\\site-packages\\pandas\\core\\generic.py:5494: SettingWithCopyWarning: \n",
      "A value is trying to be set on a copy of a slice from a DataFrame.\n",
      "Try using .loc[row_indexer,col_indexer] = value instead\n",
      "\n",
      "See the caveats in the documentation: https://pandas.pydata.org/pandas-docs/stable/user_guide/indexing.html#returning-a-view-versus-a-copy\n",
      "  self[name] = value\n"
     ]
    }
   ],
   "source": [
    "# new data frame with split value columns\n",
    "data_clean.tags = data_clean[\"tags\"].str.split(\"|\")"
   ]
  },
  {
   "cell_type": "code",
   "execution_count": 56,
   "id": "Z6ZLlGHkkwLs",
   "metadata": {
    "colab": {
     "base_uri": "https://localhost:8080/"
    },
    "executionInfo": {
     "elapsed": 107,
     "status": "ok",
     "timestamp": 1630858499821,
     "user": {
      "displayName": "Vinura Thivin Perera",
      "photoUrl": "https://lh3.googleusercontent.com/a-/AOh14GjWvQAaXIGhkdHABV-paqWdDIA6LlUrRUJ5Js8l9CY=s64",
      "userId": "04171016047177543209"
     },
     "user_tz": -330
    },
    "id": "Z6ZLlGHkkwLs",
    "outputId": "4e6aa1e5-366c-448f-bb5a-3c721281dca0"
   },
   "outputs": [],
   "source": [
    "data_clean.ingredients = data_clean[\"ingredients\"].str.split(\"|\")"
   ]
  },
  {
   "cell_type": "code",
   "execution_count": 57,
   "id": "2ad9e7e9",
   "metadata": {
    "colab": {
     "base_uri": "https://localhost:8080/",
     "height": 419
    },
    "executionInfo": {
     "elapsed": 104,
     "status": "ok",
     "timestamp": 1630858499823,
     "user": {
      "displayName": "Vinura Thivin Perera",
      "photoUrl": "https://lh3.googleusercontent.com/a-/AOh14GjWvQAaXIGhkdHABV-paqWdDIA6LlUrRUJ5Js8l9CY=s64",
      "userId": "04171016047177543209"
     },
     "user_tz": -330
    },
    "id": "2ad9e7e9",
    "outputId": "ef40509e-c724-4ed9-c0d3-9ab67eb3c875"
   },
   "outputs": [
    {
     "data": {
      "text/html": [
       "<div>\n",
       "<style scoped>\n",
       "    .dataframe tbody tr th:only-of-type {\n",
       "        vertical-align: middle;\n",
       "    }\n",
       "\n",
       "    .dataframe tbody tr th {\n",
       "        vertical-align: top;\n",
       "    }\n",
       "\n",
       "    .dataframe thead th {\n",
       "        text-align: right;\n",
       "    }\n",
       "</style>\n",
       "<table border=\"1\" class=\"dataframe\">\n",
       "  <thead>\n",
       "    <tr style=\"text-align: right;\">\n",
       "      <th></th>\n",
       "      <th>vote_count</th>\n",
       "      <th>rating</th>\n",
       "      <th>cuisine</th>\n",
       "      <th>course</th>\n",
       "      <th>diet</th>\n",
       "      <th>prep_time</th>\n",
       "      <th>cook_time</th>\n",
       "      <th>ingredients</th>\n",
       "      <th>tags</th>\n",
       "      <th>category</th>\n",
       "    </tr>\n",
       "  </thead>\n",
       "  <tbody>\n",
       "    <tr>\n",
       "      <th>0</th>\n",
       "      <td>434</td>\n",
       "      <td>4.958525</td>\n",
       "      <td>Mexican</td>\n",
       "      <td>Dinner</td>\n",
       "      <td>Vegetarian</td>\n",
       "      <td>15</td>\n",
       "      <td>15</td>\n",
       "      <td>[Tortillas, Extra Virgin Olive Oil, Garlic, Mo...</td>\n",
       "      <td>[Party Food Recipes, Tea Party Recipes, Mushro...</td>\n",
       "      <td>Pizza Recipes</td>\n",
       "    </tr>\n",
       "    <tr>\n",
       "      <th>1</th>\n",
       "      <td>3423</td>\n",
       "      <td>4.932223</td>\n",
       "      <td>South Indian Recipes</td>\n",
       "      <td>Lunch</td>\n",
       "      <td>Vegetarian</td>\n",
       "      <td>10</td>\n",
       "      <td>20</td>\n",
       "      <td>[Sesame (Gingelly) Oil, Mustard seeds (Rai/ Ka...</td>\n",
       "      <td>[Vegetarian Recipes, Tomato Recipes, South Ind...</td>\n",
       "      <td>Indian Curry Recipes</td>\n",
       "    </tr>\n",
       "    <tr>\n",
       "      <th>2</th>\n",
       "      <td>2091</td>\n",
       "      <td>4.945959</td>\n",
       "      <td>Mexican</td>\n",
       "      <td>Side Dish</td>\n",
       "      <td>Vegetarian</td>\n",
       "      <td>10</td>\n",
       "      <td>0</td>\n",
       "      <td>[Extra Virgin Olive Oil, Pineapple, White onio...</td>\n",
       "      <td>[Party Starter &amp; Appetizer Recipes, Pineapple ...</td>\n",
       "      <td>Mexican Recipes</td>\n",
       "    </tr>\n",
       "    <tr>\n",
       "      <th>3</th>\n",
       "      <td>990</td>\n",
       "      <td>4.888889</td>\n",
       "      <td>Coastal Karnataka</td>\n",
       "      <td>Side Dish</td>\n",
       "      <td>High Protein Vegetarian</td>\n",
       "      <td>5</td>\n",
       "      <td>20</td>\n",
       "      <td>[Arhar dal (Split Toor Dal), Turmeric powder (...</td>\n",
       "      <td>[Side Dish Recipes, South Indian Recipes, Indi...</td>\n",
       "      <td>Indian Curry Recipes</td>\n",
       "    </tr>\n",
       "    <tr>\n",
       "      <th>4</th>\n",
       "      <td>345</td>\n",
       "      <td>4.828986</td>\n",
       "      <td>North Indian Recipes</td>\n",
       "      <td>Side Dish</td>\n",
       "      <td>High Protein Vegetarian</td>\n",
       "      <td>20</td>\n",
       "      <td>30</td>\n",
       "      <td>[Rajma (Large Kidney Beans), Cashew nuts, Sult...</td>\n",
       "      <td>[Side Dish Recipes, Indian Lunch Recipes, Offi...</td>\n",
       "      <td>Kofta Recipes</td>\n",
       "    </tr>\n",
       "    <tr>\n",
       "      <th>...</th>\n",
       "      <td>...</td>\n",
       "      <td>...</td>\n",
       "      <td>...</td>\n",
       "      <td>...</td>\n",
       "      <td>...</td>\n",
       "      <td>...</td>\n",
       "      <td>...</td>\n",
       "      <td>...</td>\n",
       "      <td>...</td>\n",
       "      <td>...</td>\n",
       "    </tr>\n",
       "    <tr>\n",
       "      <th>8004</th>\n",
       "      <td>738</td>\n",
       "      <td>4.934959</td>\n",
       "      <td>Italian Recipes</td>\n",
       "      <td>Dinner</td>\n",
       "      <td>Vegetarian</td>\n",
       "      <td>10</td>\n",
       "      <td>30</td>\n",
       "      <td>[Spirali pasta, Onions, Tomatoes, Green zucchi...</td>\n",
       "      <td>[Vegetarian Recipes, Carrot Recipes, Zucchini ...</td>\n",
       "      <td>Pasta Recipes</td>\n",
       "    </tr>\n",
       "    <tr>\n",
       "      <th>8005</th>\n",
       "      <td>5173</td>\n",
       "      <td>4.903151</td>\n",
       "      <td>Hyderabadi</td>\n",
       "      <td>Lunch</td>\n",
       "      <td>High Protein Vegetarian</td>\n",
       "      <td>20</td>\n",
       "      <td>40</td>\n",
       "      <td>[Arhar dal (Split Toor Dal), Tomato, Turmeric ...</td>\n",
       "      <td>[Gluten Free Recipes, Indian Diabetic Recipes]</td>\n",
       "      <td>Indian Curry Recipes</td>\n",
       "    </tr>\n",
       "    <tr>\n",
       "      <th>8006</th>\n",
       "      <td>1202</td>\n",
       "      <td>4.946755</td>\n",
       "      <td>Karnataka</td>\n",
       "      <td>Side Dish</td>\n",
       "      <td>High Protein Vegetarian</td>\n",
       "      <td>10</td>\n",
       "      <td>15</td>\n",
       "      <td>[Turmeric powder (Haldi), Sugar, Salt, Fresh c...</td>\n",
       "      <td>[High Protein Vegetarian Diet Recipes, South I...</td>\n",
       "      <td>Indian Curry Recipes</td>\n",
       "    </tr>\n",
       "    <tr>\n",
       "      <th>8007</th>\n",
       "      <td>1305</td>\n",
       "      <td>4.925670</td>\n",
       "      <td>Indian</td>\n",
       "      <td>Snack</td>\n",
       "      <td>Vegetarian</td>\n",
       "      <td>10</td>\n",
       "      <td>0</td>\n",
       "      <td>[Beetroot, Amla (Nellikai/ Gooseberry), Mint L...</td>\n",
       "      <td>[Healthy Recipes, Beetroot Recipes, Pudina Min...</td>\n",
       "      <td>Indian Drink Recipes</td>\n",
       "    </tr>\n",
       "    <tr>\n",
       "      <th>8008</th>\n",
       "      <td>2167</td>\n",
       "      <td>4.815413</td>\n",
       "      <td>Tamil Nadu</td>\n",
       "      <td>Lunch</td>\n",
       "      <td>Vegetarian</td>\n",
       "      <td>15</td>\n",
       "      <td>20</td>\n",
       "      <td>[Cauliflower (gobi), Pearl onions (Sambar Onio...</td>\n",
       "      <td>[Cauliflower Recipes (Phool Gobi)]</td>\n",
       "      <td>Poriyal Recipes (South Indian Sabzi)</td>\n",
       "    </tr>\n",
       "  </tbody>\n",
       "</table>\n",
       "<p>7683 rows × 10 columns</p>\n",
       "</div>"
      ],
      "text/plain": [
       "      vote_count    rating               cuisine     course  \\\n",
       "0            434  4.958525               Mexican     Dinner   \n",
       "1           3423  4.932223  South Indian Recipes      Lunch   \n",
       "2           2091  4.945959               Mexican  Side Dish   \n",
       "3            990  4.888889     Coastal Karnataka  Side Dish   \n",
       "4            345  4.828986  North Indian Recipes  Side Dish   \n",
       "...          ...       ...                   ...        ...   \n",
       "8004         738  4.934959       Italian Recipes     Dinner   \n",
       "8005        5173  4.903151            Hyderabadi      Lunch   \n",
       "8006        1202  4.946755             Karnataka  Side Dish   \n",
       "8007        1305  4.925670                Indian      Snack   \n",
       "8008        2167  4.815413            Tamil Nadu      Lunch   \n",
       "\n",
       "                         diet  prep_time  cook_time  \\\n",
       "0                  Vegetarian         15         15   \n",
       "1                  Vegetarian         10         20   \n",
       "2                  Vegetarian         10          0   \n",
       "3     High Protein Vegetarian          5         20   \n",
       "4     High Protein Vegetarian         20         30   \n",
       "...                       ...        ...        ...   \n",
       "8004               Vegetarian         10         30   \n",
       "8005  High Protein Vegetarian         20         40   \n",
       "8006  High Protein Vegetarian         10         15   \n",
       "8007               Vegetarian         10          0   \n",
       "8008               Vegetarian         15         20   \n",
       "\n",
       "                                            ingredients  \\\n",
       "0     [Tortillas, Extra Virgin Olive Oil, Garlic, Mo...   \n",
       "1     [Sesame (Gingelly) Oil, Mustard seeds (Rai/ Ka...   \n",
       "2     [Extra Virgin Olive Oil, Pineapple, White onio...   \n",
       "3     [Arhar dal (Split Toor Dal), Turmeric powder (...   \n",
       "4     [Rajma (Large Kidney Beans), Cashew nuts, Sult...   \n",
       "...                                                 ...   \n",
       "8004  [Spirali pasta, Onions, Tomatoes, Green zucchi...   \n",
       "8005  [Arhar dal (Split Toor Dal), Tomato, Turmeric ...   \n",
       "8006  [Turmeric powder (Haldi), Sugar, Salt, Fresh c...   \n",
       "8007  [Beetroot, Amla (Nellikai/ Gooseberry), Mint L...   \n",
       "8008  [Cauliflower (gobi), Pearl onions (Sambar Onio...   \n",
       "\n",
       "                                                   tags  \\\n",
       "0     [Party Food Recipes, Tea Party Recipes, Mushro...   \n",
       "1     [Vegetarian Recipes, Tomato Recipes, South Ind...   \n",
       "2     [Party Starter & Appetizer Recipes, Pineapple ...   \n",
       "3     [Side Dish Recipes, South Indian Recipes, Indi...   \n",
       "4     [Side Dish Recipes, Indian Lunch Recipes, Offi...   \n",
       "...                                                 ...   \n",
       "8004  [Vegetarian Recipes, Carrot Recipes, Zucchini ...   \n",
       "8005     [Gluten Free Recipes, Indian Diabetic Recipes]   \n",
       "8006  [High Protein Vegetarian Diet Recipes, South I...   \n",
       "8007  [Healthy Recipes, Beetroot Recipes, Pudina Min...   \n",
       "8008                 [Cauliflower Recipes (Phool Gobi)]   \n",
       "\n",
       "                                  category  \n",
       "0                            Pizza Recipes  \n",
       "1                     Indian Curry Recipes  \n",
       "2                          Mexican Recipes  \n",
       "3                     Indian Curry Recipes  \n",
       "4                            Kofta Recipes  \n",
       "...                                    ...  \n",
       "8004                         Pasta Recipes  \n",
       "8005                  Indian Curry Recipes  \n",
       "8006                  Indian Curry Recipes  \n",
       "8007                  Indian Drink Recipes  \n",
       "8008  Poriyal Recipes (South Indian Sabzi)  \n",
       "\n",
       "[7683 rows x 10 columns]"
      ]
     },
     "execution_count": 57,
     "metadata": {},
     "output_type": "execute_result"
    }
   ],
   "source": [
    "data_clean"
   ]
  },
  {
   "cell_type": "markdown",
   "id": "44c1751e",
   "metadata": {},
   "source": [
    "#### Creating tags_list and ingredients_list lists"
   ]
  },
  {
   "cell_type": "code",
   "execution_count": 58,
   "id": "efRuI0hrl3I-",
   "metadata": {
    "executionInfo": {
     "elapsed": 101,
     "status": "ok",
     "timestamp": 1630858499825,
     "user": {
      "displayName": "Vinura Thivin Perera",
      "photoUrl": "https://lh3.googleusercontent.com/a-/AOh14GjWvQAaXIGhkdHABV-paqWdDIA6LlUrRUJ5Js8l9CY=s64",
      "userId": "04171016047177543209"
     },
     "user_tz": -330
    },
    "id": "efRuI0hrl3I-"
   },
   "outputs": [],
   "source": [
    "tags_list = list(itertools.chain.from_iterable(data_clean.tags))\n",
    "ingredients_list = list(itertools.chain.from_iterable(data_clean.ingredients))"
   ]
  },
  {
   "cell_type": "code",
   "execution_count": 59,
   "id": "XdRyCn3DnNnE",
   "metadata": {
    "colab": {
     "base_uri": "https://localhost:8080/"
    },
    "executionInfo": {
     "elapsed": 101,
     "status": "ok",
     "timestamp": 1630858499826,
     "user": {
      "displayName": "Vinura Thivin Perera",
      "photoUrl": "https://lh3.googleusercontent.com/a-/AOh14GjWvQAaXIGhkdHABV-paqWdDIA6LlUrRUJ5Js8l9CY=s64",
      "userId": "04171016047177543209"
     },
     "user_tz": -330
    },
    "id": "XdRyCn3DnNnE",
    "outputId": "e434e245-e565-425b-fc3b-f72f7e354154"
   },
   "outputs": [
    {
     "data": {
      "text/plain": [
       "650"
      ]
     },
     "execution_count": 59,
     "metadata": {},
     "output_type": "execute_result"
    }
   ],
   "source": [
    "# No of unique tags\n",
    "len(set(tags_list))"
   ]
  },
  {
   "cell_type": "code",
   "execution_count": 60,
   "id": "WcGqauhYnTN-",
   "metadata": {
    "colab": {
     "base_uri": "https://localhost:8080/"
    },
    "executionInfo": {
     "elapsed": 94,
     "status": "ok",
     "timestamp": 1630858499826,
     "user": {
      "displayName": "Vinura Thivin Perera",
      "photoUrl": "https://lh3.googleusercontent.com/a-/AOh14GjWvQAaXIGhkdHABV-paqWdDIA6LlUrRUJ5Js8l9CY=s64",
      "userId": "04171016047177543209"
     },
     "user_tz": -330
    },
    "id": "WcGqauhYnTN-",
    "outputId": "a58e17d4-2343-40dd-ef11-94fcc8ead8d4"
   },
   "outputs": [
    {
     "data": {
      "text/plain": [
       "1792"
      ]
     },
     "execution_count": 60,
     "metadata": {},
     "output_type": "execute_result"
    }
   ],
   "source": [
    "# No of unique ingredients\n",
    "len(set(ingredients_list))"
   ]
  },
  {
   "cell_type": "code",
   "execution_count": null,
   "id": "0385250a",
   "metadata": {},
   "outputs": [],
   "source": []
  },
  {
   "cell_type": "markdown",
   "id": "df5455ea",
   "metadata": {},
   "source": [
    "#### Checking for most popular tags"
   ]
  },
  {
   "cell_type": "code",
   "execution_count": 61,
   "id": "mAu1npkdncya",
   "metadata": {
    "executionInfo": {
     "elapsed": 89,
     "status": "ok",
     "timestamp": 1630858499827,
     "user": {
      "displayName": "Vinura Thivin Perera",
      "photoUrl": "https://lh3.googleusercontent.com/a-/AOh14GjWvQAaXIGhkdHABV-paqWdDIA6LlUrRUJ5Js8l9CY=s64",
      "userId": "04171016047177543209"
     },
     "user_tz": -330
    },
    "id": "mAu1npkdncya"
   },
   "outputs": [],
   "source": [
    "tags_counter=collections.Counter(tags_list)"
   ]
  },
  {
   "cell_type": "code",
   "execution_count": 62,
   "id": "VWuaYpConuM6",
   "metadata": {
    "colab": {
     "base_uri": "https://localhost:8080/"
    },
    "executionInfo": {
     "elapsed": 88,
     "status": "ok",
     "timestamp": 1630858499827,
     "user": {
      "displayName": "Vinura Thivin Perera",
      "photoUrl": "https://lh3.googleusercontent.com/a-/AOh14GjWvQAaXIGhkdHABV-paqWdDIA6LlUrRUJ5Js8l9CY=s64",
      "userId": "04171016047177543209"
     },
     "user_tz": -330
    },
    "id": "VWuaYpConuM6",
    "outputId": "bbd8a2c8-b520-4140-f6c7-e9f0ba17527e"
   },
   "outputs": [
    {
     "name": "stdout",
     "output_type": "stream",
     "text": [
      "[('Indian Lunch Recipes', 1955), ('Party Food Recipes', 1444), ('Healthy Recipes', 1401), ('Side Dish Recipes', 1292), ('Vegetarian Recipes', 1200)]\n"
     ]
    }
   ],
   "source": [
    "print(tags_counter.most_common(5))"
   ]
  },
  {
   "cell_type": "code",
   "execution_count": 63,
   "id": "xT34j820nzxx",
   "metadata": {
    "executionInfo": {
     "elapsed": 63,
     "status": "ok",
     "timestamp": 1630858499828,
     "user": {
      "displayName": "Vinura Thivin Perera",
      "photoUrl": "https://lh3.googleusercontent.com/a-/AOh14GjWvQAaXIGhkdHABV-paqWdDIA6LlUrRUJ5Js8l9CY=s64",
      "userId": "04171016047177543209"
     },
     "user_tz": -330
    },
    "id": "xT34j820nzxx"
   },
   "outputs": [],
   "source": [
    "ingredeient_counter=collections.Counter(ingredients_list)"
   ]
  },
  {
   "cell_type": "code",
   "execution_count": 64,
   "id": "FAZMnWkYn61U",
   "metadata": {
    "colab": {
     "base_uri": "https://localhost:8080/"
    },
    "executionInfo": {
     "elapsed": 60,
     "status": "ok",
     "timestamp": 1630858499828,
     "user": {
      "displayName": "Vinura Thivin Perera",
      "photoUrl": "https://lh3.googleusercontent.com/a-/AOh14GjWvQAaXIGhkdHABV-paqWdDIA6LlUrRUJ5Js8l9CY=s64",
      "userId": "04171016047177543209"
     },
     "user_tz": -330
    },
    "id": "FAZMnWkYn61U",
    "outputId": "d97de038-317c-4a09-ea11-13143e9ee4ed"
   },
   "outputs": [
    {
     "name": "stdout",
     "output_type": "stream",
     "text": [
      "[('Salt', 5526), ('Sunflower Oil', 2195), ('Turmeric powder (Haldi)', 2174), ('Garlic', 2157), ('Onion', 1967)]\n"
     ]
    }
   ],
   "source": [
    "print(ingredeient_counter.most_common(5))"
   ]
  },
  {
   "cell_type": "markdown",
   "id": "nvjJEHhOwQVY",
   "metadata": {
    "id": "nvjJEHhOwQVY"
   },
   "source": [
    "### One Hot Encoding Catergorical Values"
   ]
  },
  {
   "cell_type": "markdown",
   "id": "3cbac79e",
   "metadata": {},
   "source": [
    "#### Creating a method to check for values in the list"
   ]
  },
  {
   "cell_type": "code",
   "execution_count": 65,
   "id": "tekTxl7sn_8k",
   "metadata": {
    "executionInfo": {
     "elapsed": 57,
     "status": "ok",
     "timestamp": 1630858499829,
     "user": {
      "displayName": "Vinura Thivin Perera",
      "photoUrl": "https://lh3.googleusercontent.com/a-/AOh14GjWvQAaXIGhkdHABV-paqWdDIA6LlUrRUJ5Js8l9CY=s64",
      "userId": "04171016047177543209"
     },
     "user_tz": -330
    },
    "id": "tekTxl7sn_8k"
   },
   "outputs": [],
   "source": [
    "def search_value(value, list):\n",
    "  if value in list:\n",
    "    exsits = 1\n",
    "  else:\n",
    "    exsits = 0\n",
    "  return exsits"
   ]
  },
  {
   "cell_type": "code",
   "execution_count": 66,
   "id": "PHQu7lS2oVJ3",
   "metadata": {
    "executionInfo": {
     "elapsed": 99359,
     "status": "ok",
     "timestamp": 1630858645782,
     "user": {
      "displayName": "Vinura Thivin Perera",
      "photoUrl": "https://lh3.googleusercontent.com/a-/AOh14GjWvQAaXIGhkdHABV-paqWdDIA6LlUrRUJ5Js8l9CY=s64",
      "userId": "04171016047177543209"
     },
     "user_tz": -330
    },
    "id": "PHQu7lS2oVJ3"
   },
   "outputs": [
    {
     "name": "stderr",
     "output_type": "stream",
     "text": [
      "<ipython-input-66-3b657a598a64>:2: SettingWithCopyWarning: \n",
      "A value is trying to be set on a copy of a slice from a DataFrame.\n",
      "Try using .loc[row_indexer,col_indexer] = value instead\n",
      "\n",
      "See the caveats in the documentation: https://pandas.pydata.org/pandas-docs/stable/user_guide/indexing.html#returning-a-view-versus-a-copy\n",
      "  data_clean[each_value] = data_clean.apply(lambda row: search_value(each_value,row['tags']),axis=1)\n"
     ]
    }
   ],
   "source": [
    "for each_value in set(tags_list):\n",
    "  data_clean[each_value] = data_clean.apply(lambda row: search_value(each_value,row['tags']),axis=1)"
   ]
  },
  {
   "cell_type": "code",
   "execution_count": 67,
   "id": "CT_EGANIo3Xs",
   "metadata": {
    "executionInfo": {
     "elapsed": 582391,
     "status": "ok",
     "timestamp": 1630859228156,
     "user": {
      "displayName": "Vinura Thivin Perera",
      "photoUrl": "https://lh3.googleusercontent.com/a-/AOh14GjWvQAaXIGhkdHABV-paqWdDIA6LlUrRUJ5Js8l9CY=s64",
      "userId": "04171016047177543209"
     },
     "user_tz": -330
    },
    "id": "CT_EGANIo3Xs"
   },
   "outputs": [
    {
     "name": "stderr",
     "output_type": "stream",
     "text": [
      "<ipython-input-67-f8f821e3c93f>:2: SettingWithCopyWarning: \n",
      "A value is trying to be set on a copy of a slice from a DataFrame.\n",
      "Try using .loc[row_indexer,col_indexer] = value instead\n",
      "\n",
      "See the caveats in the documentation: https://pandas.pydata.org/pandas-docs/stable/user_guide/indexing.html#returning-a-view-versus-a-copy\n",
      "  data_clean[each_value] = data_clean.apply(lambda row: search_value(each_value,row['ingredients']),axis=1)\n"
     ]
    }
   ],
   "source": [
    "for each_value in set(ingredients_list):\n",
    "  data_clean[each_value] = data_clean.apply(lambda row: search_value(each_value,row['ingredients']),axis=1)"
   ]
  },
  {
   "cell_type": "code",
   "execution_count": 68,
   "id": "02SOC-oJpb3k",
   "metadata": {
    "executionInfo": {
     "elapsed": 31,
     "status": "ok",
     "timestamp": 1630859228168,
     "user": {
      "displayName": "Vinura Thivin Perera",
      "photoUrl": "https://lh3.googleusercontent.com/a-/AOh14GjWvQAaXIGhkdHABV-paqWdDIA6LlUrRUJ5Js8l9CY=s64",
      "userId": "04171016047177543209"
     },
     "user_tz": -330
    },
    "id": "02SOC-oJpb3k"
   },
   "outputs": [
    {
     "name": "stderr",
     "output_type": "stream",
     "text": [
      "C:\\Users\\isuri\\anaconda3\\lib\\site-packages\\pandas\\core\\frame.py:4308: SettingWithCopyWarning: \n",
      "A value is trying to be set on a copy of a slice from a DataFrame\n",
      "\n",
      "See the caveats in the documentation: https://pandas.pydata.org/pandas-docs/stable/user_guide/indexing.html#returning-a-view-versus-a-copy\n",
      "  return super().drop(\n"
     ]
    }
   ],
   "source": [
    "data_clean.drop(['ingredients','tags'], axis = 1, inplace = True)"
   ]
  },
  {
   "cell_type": "code",
   "execution_count": 69,
   "id": "2UX-tE1Hq77O",
   "metadata": {
    "executionInfo": {
     "elapsed": 777,
     "status": "ok",
     "timestamp": 1630858531353,
     "user": {
      "displayName": "Vinura Thivin Perera",
      "photoUrl": "https://lh3.googleusercontent.com/a-/AOh14GjWvQAaXIGhkdHABV-paqWdDIA6LlUrRUJ5Js8l9CY=s64",
      "userId": "04171016047177543209"
     },
     "user_tz": -330
    },
    "id": "2UX-tE1Hq77O"
   },
   "outputs": [],
   "source": [
    "data_clean = pd.get_dummies(data_clean, columns = ['cuisine', 'course','diet','category'])"
   ]
  },
  {
   "cell_type": "code",
   "execution_count": 70,
   "id": "vvY9dvTpyX5t",
   "metadata": {
    "colab": {
     "base_uri": "https://localhost:8080/",
     "height": 197
    },
    "executionInfo": {
     "elapsed": 22,
     "status": "ok",
     "timestamp": 1630859269934,
     "user": {
      "displayName": "Vinura Thivin Perera",
      "photoUrl": "https://lh3.googleusercontent.com/a-/AOh14GjWvQAaXIGhkdHABV-paqWdDIA6LlUrRUJ5Js8l9CY=s64",
      "userId": "04171016047177543209"
     },
     "user_tz": -330
    },
    "id": "vvY9dvTpyX5t",
    "outputId": "eb8813b9-f2f3-48d1-92f6-90b401cd7651"
   },
   "outputs": [
    {
     "data": {
      "text/html": [
       "<div>\n",
       "<style scoped>\n",
       "    .dataframe tbody tr th:only-of-type {\n",
       "        vertical-align: middle;\n",
       "    }\n",
       "\n",
       "    .dataframe tbody tr th {\n",
       "        vertical-align: top;\n",
       "    }\n",
       "\n",
       "    .dataframe thead th {\n",
       "        text-align: right;\n",
       "    }\n",
       "</style>\n",
       "<table border=\"1\" class=\"dataframe\">\n",
       "  <thead>\n",
       "    <tr style=\"text-align: right;\">\n",
       "      <th></th>\n",
       "      <th>vote_count</th>\n",
       "      <th>rating</th>\n",
       "      <th>prep_time</th>\n",
       "      <th>cook_time</th>\n",
       "      <th>Bhindi Recipes (Vendakkai /Okra /Ladies Finger)</th>\n",
       "      <th>Ash Gourd Recipes</th>\n",
       "      <th>Thanksgiving Recipes</th>\n",
       "      <th>Chakli Recipes</th>\n",
       "      <th>Moongphali Reipes</th>\n",
       "      <th>Kosambari Recipes</th>\n",
       "      <th>...</th>\n",
       "      <th>category_Sweet Recipes (Indian Mithai / Indian Dessert)</th>\n",
       "      <th>category_Thai Recipes,Malaysian &amp; East Asian Recipes</th>\n",
       "      <th>category_Thepla Recipes</th>\n",
       "      <th>category_Thoran Recipes</th>\n",
       "      <th>category_Toast Recipes</th>\n",
       "      <th>category_Upma Recipes</th>\n",
       "      <th>category_Uttapam Recipes</th>\n",
       "      <th>category_Variety Rice (Mixed Rice/ Flavoured Rice Recipes)</th>\n",
       "      <th>category_Waffle Recipes</th>\n",
       "      <th>category_World Recipes</th>\n",
       "    </tr>\n",
       "  </thead>\n",
       "  <tbody>\n",
       "    <tr>\n",
       "      <th>0</th>\n",
       "      <td>434</td>\n",
       "      <td>4.958525</td>\n",
       "      <td>15</td>\n",
       "      <td>15</td>\n",
       "      <td>0</td>\n",
       "      <td>0</td>\n",
       "      <td>0</td>\n",
       "      <td>0</td>\n",
       "      <td>0</td>\n",
       "      <td>0</td>\n",
       "      <td>...</td>\n",
       "      <td>0</td>\n",
       "      <td>0</td>\n",
       "      <td>0</td>\n",
       "      <td>0</td>\n",
       "      <td>0</td>\n",
       "      <td>0</td>\n",
       "      <td>0</td>\n",
       "      <td>0</td>\n",
       "      <td>0</td>\n",
       "      <td>0</td>\n",
       "    </tr>\n",
       "    <tr>\n",
       "      <th>1</th>\n",
       "      <td>3423</td>\n",
       "      <td>4.932223</td>\n",
       "      <td>10</td>\n",
       "      <td>20</td>\n",
       "      <td>0</td>\n",
       "      <td>0</td>\n",
       "      <td>0</td>\n",
       "      <td>0</td>\n",
       "      <td>0</td>\n",
       "      <td>0</td>\n",
       "      <td>...</td>\n",
       "      <td>0</td>\n",
       "      <td>0</td>\n",
       "      <td>0</td>\n",
       "      <td>0</td>\n",
       "      <td>0</td>\n",
       "      <td>0</td>\n",
       "      <td>0</td>\n",
       "      <td>0</td>\n",
       "      <td>0</td>\n",
       "      <td>0</td>\n",
       "    </tr>\n",
       "    <tr>\n",
       "      <th>2</th>\n",
       "      <td>2091</td>\n",
       "      <td>4.945959</td>\n",
       "      <td>10</td>\n",
       "      <td>0</td>\n",
       "      <td>0</td>\n",
       "      <td>0</td>\n",
       "      <td>0</td>\n",
       "      <td>0</td>\n",
       "      <td>0</td>\n",
       "      <td>0</td>\n",
       "      <td>...</td>\n",
       "      <td>0</td>\n",
       "      <td>0</td>\n",
       "      <td>0</td>\n",
       "      <td>0</td>\n",
       "      <td>0</td>\n",
       "      <td>0</td>\n",
       "      <td>0</td>\n",
       "      <td>0</td>\n",
       "      <td>0</td>\n",
       "      <td>0</td>\n",
       "    </tr>\n",
       "    <tr>\n",
       "      <th>3</th>\n",
       "      <td>990</td>\n",
       "      <td>4.888889</td>\n",
       "      <td>5</td>\n",
       "      <td>20</td>\n",
       "      <td>0</td>\n",
       "      <td>0</td>\n",
       "      <td>0</td>\n",
       "      <td>0</td>\n",
       "      <td>0</td>\n",
       "      <td>0</td>\n",
       "      <td>...</td>\n",
       "      <td>0</td>\n",
       "      <td>0</td>\n",
       "      <td>0</td>\n",
       "      <td>0</td>\n",
       "      <td>0</td>\n",
       "      <td>0</td>\n",
       "      <td>0</td>\n",
       "      <td>0</td>\n",
       "      <td>0</td>\n",
       "      <td>0</td>\n",
       "    </tr>\n",
       "  </tbody>\n",
       "</table>\n",
       "<p>4 rows × 2642 columns</p>\n",
       "</div>"
      ],
      "text/plain": [
       "   vote_count    rating  prep_time  cook_time  \\\n",
       "0         434  4.958525         15         15   \n",
       "1        3423  4.932223         10         20   \n",
       "2        2091  4.945959         10          0   \n",
       "3         990  4.888889          5         20   \n",
       "\n",
       "   Bhindi Recipes (Vendakkai /Okra /Ladies Finger)  Ash Gourd Recipes  \\\n",
       "0                                                0                  0   \n",
       "1                                                0                  0   \n",
       "2                                                0                  0   \n",
       "3                                                0                  0   \n",
       "\n",
       "   Thanksgiving Recipes  Chakli Recipes  Moongphali Reipes  Kosambari Recipes  \\\n",
       "0                     0               0                  0                  0   \n",
       "1                     0               0                  0                  0   \n",
       "2                     0               0                  0                  0   \n",
       "3                     0               0                  0                  0   \n",
       "\n",
       "   ...  category_Sweet Recipes (Indian Mithai / Indian Dessert)  \\\n",
       "0  ...                                                  0         \n",
       "1  ...                                                  0         \n",
       "2  ...                                                  0         \n",
       "3  ...                                                  0         \n",
       "\n",
       "   category_Thai Recipes,Malaysian & East Asian Recipes  \\\n",
       "0                                                  0      \n",
       "1                                                  0      \n",
       "2                                                  0      \n",
       "3                                                  0      \n",
       "\n",
       "   category_Thepla Recipes  category_Thoran Recipes  category_Toast Recipes  \\\n",
       "0                        0                        0                       0   \n",
       "1                        0                        0                       0   \n",
       "2                        0                        0                       0   \n",
       "3                        0                        0                       0   \n",
       "\n",
       "   category_Upma Recipes  category_Uttapam Recipes  \\\n",
       "0                      0                         0   \n",
       "1                      0                         0   \n",
       "2                      0                         0   \n",
       "3                      0                         0   \n",
       "\n",
       "   category_Variety Rice (Mixed Rice/ Flavoured Rice Recipes)  \\\n",
       "0                                                  0            \n",
       "1                                                  0            \n",
       "2                                                  0            \n",
       "3                                                  0            \n",
       "\n",
       "   category_Waffle Recipes  category_World Recipes  \n",
       "0                        0                       0  \n",
       "1                        0                       0  \n",
       "2                        0                       0  \n",
       "3                        0                       0  \n",
       "\n",
       "[4 rows x 2642 columns]"
      ]
     },
     "execution_count": 70,
     "metadata": {},
     "output_type": "execute_result"
    }
   ],
   "source": [
    "data_clean.head(4)"
   ]
  },
  {
   "cell_type": "markdown",
   "id": "PTdh1bq8wYv4",
   "metadata": {
    "id": "PTdh1bq8wYv4"
   },
   "source": [
    "## Spliting Data to Train and Test"
   ]
  },
  {
   "cell_type": "code",
   "execution_count": 71,
   "id": "UDetheequfYH",
   "metadata": {
    "executionInfo": {
     "elapsed": 420,
     "status": "ok",
     "timestamp": 1630859234092,
     "user": {
      "displayName": "Vinura Thivin Perera",
      "photoUrl": "https://lh3.googleusercontent.com/a-/AOh14GjWvQAaXIGhkdHABV-paqWdDIA6LlUrRUJ5Js8l9CY=s64",
      "userId": "04171016047177543209"
     },
     "user_tz": -330
    },
    "id": "UDetheequfYH"
   },
   "outputs": [],
   "source": [
    "x = data_clean.drop(['rating', 'vote_count'], axis = 1)"
   ]
  },
  {
   "cell_type": "code",
   "execution_count": 72,
   "id": "lAr7ccywydOw",
   "metadata": {
    "colab": {
     "base_uri": "https://localhost:8080/",
     "height": 197
    },
    "executionInfo": {
     "elapsed": 576,
     "status": "ok",
     "timestamp": 1630859294708,
     "user": {
      "displayName": "Vinura Thivin Perera",
      "photoUrl": "https://lh3.googleusercontent.com/a-/AOh14GjWvQAaXIGhkdHABV-paqWdDIA6LlUrRUJ5Js8l9CY=s64",
      "userId": "04171016047177543209"
     },
     "user_tz": -330
    },
    "id": "lAr7ccywydOw",
    "outputId": "3ed5b047-e5c2-418a-e543-d9c526a9bb02"
   },
   "outputs": [
    {
     "data": {
      "text/html": [
       "<div>\n",
       "<style scoped>\n",
       "    .dataframe tbody tr th:only-of-type {\n",
       "        vertical-align: middle;\n",
       "    }\n",
       "\n",
       "    .dataframe tbody tr th {\n",
       "        vertical-align: top;\n",
       "    }\n",
       "\n",
       "    .dataframe thead th {\n",
       "        text-align: right;\n",
       "    }\n",
       "</style>\n",
       "<table border=\"1\" class=\"dataframe\">\n",
       "  <thead>\n",
       "    <tr style=\"text-align: right;\">\n",
       "      <th></th>\n",
       "      <th>prep_time</th>\n",
       "      <th>cook_time</th>\n",
       "      <th>Bhindi Recipes (Vendakkai /Okra /Ladies Finger)</th>\n",
       "      <th>Ash Gourd Recipes</th>\n",
       "      <th>Thanksgiving Recipes</th>\n",
       "      <th>Chakli Recipes</th>\n",
       "      <th>Moongphali Reipes</th>\n",
       "      <th>Kosambari Recipes</th>\n",
       "      <th>Vegetarian Recipes</th>\n",
       "      <th>Green Chilli Recipes</th>\n",
       "      <th>...</th>\n",
       "      <th>category_Sweet Recipes (Indian Mithai / Indian Dessert)</th>\n",
       "      <th>category_Thai Recipes,Malaysian &amp; East Asian Recipes</th>\n",
       "      <th>category_Thepla Recipes</th>\n",
       "      <th>category_Thoran Recipes</th>\n",
       "      <th>category_Toast Recipes</th>\n",
       "      <th>category_Upma Recipes</th>\n",
       "      <th>category_Uttapam Recipes</th>\n",
       "      <th>category_Variety Rice (Mixed Rice/ Flavoured Rice Recipes)</th>\n",
       "      <th>category_Waffle Recipes</th>\n",
       "      <th>category_World Recipes</th>\n",
       "    </tr>\n",
       "  </thead>\n",
       "  <tbody>\n",
       "    <tr>\n",
       "      <th>0</th>\n",
       "      <td>15</td>\n",
       "      <td>15</td>\n",
       "      <td>0</td>\n",
       "      <td>0</td>\n",
       "      <td>0</td>\n",
       "      <td>0</td>\n",
       "      <td>0</td>\n",
       "      <td>0</td>\n",
       "      <td>0</td>\n",
       "      <td>0</td>\n",
       "      <td>...</td>\n",
       "      <td>0</td>\n",
       "      <td>0</td>\n",
       "      <td>0</td>\n",
       "      <td>0</td>\n",
       "      <td>0</td>\n",
       "      <td>0</td>\n",
       "      <td>0</td>\n",
       "      <td>0</td>\n",
       "      <td>0</td>\n",
       "      <td>0</td>\n",
       "    </tr>\n",
       "    <tr>\n",
       "      <th>1</th>\n",
       "      <td>10</td>\n",
       "      <td>20</td>\n",
       "      <td>0</td>\n",
       "      <td>0</td>\n",
       "      <td>0</td>\n",
       "      <td>0</td>\n",
       "      <td>0</td>\n",
       "      <td>0</td>\n",
       "      <td>1</td>\n",
       "      <td>0</td>\n",
       "      <td>...</td>\n",
       "      <td>0</td>\n",
       "      <td>0</td>\n",
       "      <td>0</td>\n",
       "      <td>0</td>\n",
       "      <td>0</td>\n",
       "      <td>0</td>\n",
       "      <td>0</td>\n",
       "      <td>0</td>\n",
       "      <td>0</td>\n",
       "      <td>0</td>\n",
       "    </tr>\n",
       "    <tr>\n",
       "      <th>2</th>\n",
       "      <td>10</td>\n",
       "      <td>0</td>\n",
       "      <td>0</td>\n",
       "      <td>0</td>\n",
       "      <td>0</td>\n",
       "      <td>0</td>\n",
       "      <td>0</td>\n",
       "      <td>0</td>\n",
       "      <td>0</td>\n",
       "      <td>0</td>\n",
       "      <td>...</td>\n",
       "      <td>0</td>\n",
       "      <td>0</td>\n",
       "      <td>0</td>\n",
       "      <td>0</td>\n",
       "      <td>0</td>\n",
       "      <td>0</td>\n",
       "      <td>0</td>\n",
       "      <td>0</td>\n",
       "      <td>0</td>\n",
       "      <td>0</td>\n",
       "    </tr>\n",
       "    <tr>\n",
       "      <th>3</th>\n",
       "      <td>5</td>\n",
       "      <td>20</td>\n",
       "      <td>0</td>\n",
       "      <td>0</td>\n",
       "      <td>0</td>\n",
       "      <td>0</td>\n",
       "      <td>0</td>\n",
       "      <td>0</td>\n",
       "      <td>0</td>\n",
       "      <td>0</td>\n",
       "      <td>...</td>\n",
       "      <td>0</td>\n",
       "      <td>0</td>\n",
       "      <td>0</td>\n",
       "      <td>0</td>\n",
       "      <td>0</td>\n",
       "      <td>0</td>\n",
       "      <td>0</td>\n",
       "      <td>0</td>\n",
       "      <td>0</td>\n",
       "      <td>0</td>\n",
       "    </tr>\n",
       "  </tbody>\n",
       "</table>\n",
       "<p>4 rows × 2640 columns</p>\n",
       "</div>"
      ],
      "text/plain": [
       "   prep_time  cook_time  Bhindi Recipes (Vendakkai /Okra /Ladies Finger)  \\\n",
       "0         15         15                                                0   \n",
       "1         10         20                                                0   \n",
       "2         10          0                                                0   \n",
       "3          5         20                                                0   \n",
       "\n",
       "   Ash Gourd Recipes  Thanksgiving Recipes  Chakli Recipes  Moongphali Reipes  \\\n",
       "0                  0                     0               0                  0   \n",
       "1                  0                     0               0                  0   \n",
       "2                  0                     0               0                  0   \n",
       "3                  0                     0               0                  0   \n",
       "\n",
       "   Kosambari Recipes  Vegetarian Recipes  Green Chilli Recipes  ...  \\\n",
       "0                  0                   0                     0  ...   \n",
       "1                  0                   1                     0  ...   \n",
       "2                  0                   0                     0  ...   \n",
       "3                  0                   0                     0  ...   \n",
       "\n",
       "   category_Sweet Recipes (Indian Mithai / Indian Dessert)  \\\n",
       "0                                                  0         \n",
       "1                                                  0         \n",
       "2                                                  0         \n",
       "3                                                  0         \n",
       "\n",
       "   category_Thai Recipes,Malaysian & East Asian Recipes  \\\n",
       "0                                                  0      \n",
       "1                                                  0      \n",
       "2                                                  0      \n",
       "3                                                  0      \n",
       "\n",
       "   category_Thepla Recipes  category_Thoran Recipes  category_Toast Recipes  \\\n",
       "0                        0                        0                       0   \n",
       "1                        0                        0                       0   \n",
       "2                        0                        0                       0   \n",
       "3                        0                        0                       0   \n",
       "\n",
       "   category_Upma Recipes  category_Uttapam Recipes  \\\n",
       "0                      0                         0   \n",
       "1                      0                         0   \n",
       "2                      0                         0   \n",
       "3                      0                         0   \n",
       "\n",
       "   category_Variety Rice (Mixed Rice/ Flavoured Rice Recipes)  \\\n",
       "0                                                  0            \n",
       "1                                                  0            \n",
       "2                                                  0            \n",
       "3                                                  0            \n",
       "\n",
       "   category_Waffle Recipes  category_World Recipes  \n",
       "0                        0                       0  \n",
       "1                        0                       0  \n",
       "2                        0                       0  \n",
       "3                        0                       0  \n",
       "\n",
       "[4 rows x 2640 columns]"
      ]
     },
     "execution_count": 72,
     "metadata": {},
     "output_type": "execute_result"
    }
   ],
   "source": [
    "x.head(4)"
   ]
  },
  {
   "cell_type": "code",
   "execution_count": 73,
   "id": "dYaBa6M6t-di",
   "metadata": {
    "executionInfo": {
     "elapsed": 32,
     "status": "ok",
     "timestamp": 1630859228170,
     "user": {
      "displayName": "Vinura Thivin Perera",
      "photoUrl": "https://lh3.googleusercontent.com/a-/AOh14GjWvQAaXIGhkdHABV-paqWdDIA6LlUrRUJ5Js8l9CY=s64",
      "userId": "04171016047177543209"
     },
     "user_tz": -330
    },
    "id": "dYaBa6M6t-di"
   },
   "outputs": [],
   "source": [
    "y = data_clean.rating"
   ]
  },
  {
   "cell_type": "code",
   "execution_count": 74,
   "id": "6Hk2wK3BygG1",
   "metadata": {
    "colab": {
     "base_uri": "https://localhost:8080/"
    },
    "executionInfo": {
     "elapsed": 700,
     "status": "ok",
     "timestamp": 1630859300834,
     "user": {
      "displayName": "Vinura Thivin Perera",
      "photoUrl": "https://lh3.googleusercontent.com/a-/AOh14GjWvQAaXIGhkdHABV-paqWdDIA6LlUrRUJ5Js8l9CY=s64",
      "userId": "04171016047177543209"
     },
     "user_tz": -330
    },
    "id": "6Hk2wK3BygG1",
    "outputId": "c4bacbf3-e9a1-4dc9-f1f6-edd93da46e40"
   },
   "outputs": [
    {
     "data": {
      "text/plain": [
       "0       4.958525\n",
       "1       4.932223\n",
       "2       4.945959\n",
       "3       4.888889\n",
       "4       4.828986\n",
       "          ...   \n",
       "8004    4.934959\n",
       "8005    4.903151\n",
       "8006    4.946755\n",
       "8007    4.925670\n",
       "8008    4.815413\n",
       "Name: rating, Length: 7683, dtype: float64"
      ]
     },
     "execution_count": 74,
     "metadata": {},
     "output_type": "execute_result"
    }
   ],
   "source": [
    "y"
   ]
  },
  {
   "cell_type": "markdown",
   "id": "129c6aae",
   "metadata": {},
   "source": [
    "### Splitting Training Predicting and Evaluating the dataset"
   ]
  },
  {
   "cell_type": "markdown",
   "id": "327a46e5",
   "metadata": {},
   "source": [
    "#### Splitting test and train sets randomly"
   ]
  },
  {
   "cell_type": "code",
   "execution_count": 75,
   "id": "PEVtIs_NuStc",
   "metadata": {
    "executionInfo": {
     "elapsed": 420,
     "status": "ok",
     "timestamp": 1630859239494,
     "user": {
      "displayName": "Vinura Thivin Perera",
      "photoUrl": "https://lh3.googleusercontent.com/a-/AOh14GjWvQAaXIGhkdHABV-paqWdDIA6LlUrRUJ5Js8l9CY=s64",
      "userId": "04171016047177543209"
     },
     "user_tz": -330
    },
    "id": "PEVtIs_NuStc"
   },
   "outputs": [],
   "source": [
    "X_train, X_test, y_train, y_test = train_test_split(x, y, test_size=0.3, random_state=0)"
   ]
  },
  {
   "cell_type": "markdown",
   "id": "yrsNeJTpw_vm",
   "metadata": {
    "id": "yrsNeJTpw_vm"
   },
   "source": [
    "#### Training"
   ]
  },
  {
   "cell_type": "code",
   "execution_count": 76,
   "id": "G-pR4l8FtyG7",
   "metadata": {
    "executionInfo": {
     "elapsed": 10984,
     "status": "ok",
     "timestamp": 1630859316550,
     "user": {
      "displayName": "Vinura Thivin Perera",
      "photoUrl": "https://lh3.googleusercontent.com/a-/AOh14GjWvQAaXIGhkdHABV-paqWdDIA6LlUrRUJ5Js8l9CY=s64",
      "userId": "04171016047177543209"
     },
     "user_tz": -330
    },
    "id": "G-pR4l8FtyG7"
   },
   "outputs": [],
   "source": [
    "reg = LinearRegression().fit(X_train, y_train)"
   ]
  },
  {
   "cell_type": "markdown",
   "id": "FjS9DGU2xDhZ",
   "metadata": {
    "id": "FjS9DGU2xDhZ"
   },
   "source": [
    "#### Predicitons"
   ]
  },
  {
   "cell_type": "code",
   "execution_count": 77,
   "id": "tgF0HT7Ju4_W",
   "metadata": {
    "executionInfo": {
     "elapsed": 417,
     "status": "ok",
     "timestamp": 1630859370924,
     "user": {
      "displayName": "Vinura Thivin Perera",
      "photoUrl": "https://lh3.googleusercontent.com/a-/AOh14GjWvQAaXIGhkdHABV-paqWdDIA6LlUrRUJ5Js8l9CY=s64",
      "userId": "04171016047177543209"
     },
     "user_tz": -330
    },
    "id": "tgF0HT7Ju4_W"
   },
   "outputs": [],
   "source": [
    "y_pred = reg.predict(X_test)"
   ]
  },
  {
   "cell_type": "code",
   "execution_count": 78,
   "id": "tdokccq9wBWH",
   "metadata": {
    "executionInfo": {
     "elapsed": 495,
     "status": "ok",
     "timestamp": 1630859376116,
     "user": {
      "displayName": "Vinura Thivin Perera",
      "photoUrl": "https://lh3.googleusercontent.com/a-/AOh14GjWvQAaXIGhkdHABV-paqWdDIA6LlUrRUJ5Js8l9CY=s64",
      "userId": "04171016047177543209"
     },
     "user_tz": -330
    },
    "id": "tdokccq9wBWH"
   },
   "outputs": [],
   "source": [
    "df = pd.DataFrame({'Actual': y_test, 'Predicted': y_pred})"
   ]
  },
  {
   "cell_type": "code",
   "execution_count": 79,
   "id": "5pDw6Haoz2_8",
   "metadata": {
    "colab": {
     "base_uri": "https://localhost:8080/",
     "height": 419
    },
    "executionInfo": {
     "elapsed": 473,
     "status": "ok",
     "timestamp": 1630859655876,
     "user": {
      "displayName": "Vinura Thivin Perera",
      "photoUrl": "https://lh3.googleusercontent.com/a-/AOh14GjWvQAaXIGhkdHABV-paqWdDIA6LlUrRUJ5Js8l9CY=s64",
      "userId": "04171016047177543209"
     },
     "user_tz": -330
    },
    "id": "5pDw6Haoz2_8",
    "outputId": "3de944c9-8607-4711-b25a-e66adfbe015f"
   },
   "outputs": [
    {
     "data": {
      "text/html": [
       "<div>\n",
       "<style scoped>\n",
       "    .dataframe tbody tr th:only-of-type {\n",
       "        vertical-align: middle;\n",
       "    }\n",
       "\n",
       "    .dataframe tbody tr th {\n",
       "        vertical-align: top;\n",
       "    }\n",
       "\n",
       "    .dataframe thead th {\n",
       "        text-align: right;\n",
       "    }\n",
       "</style>\n",
       "<table border=\"1\" class=\"dataframe\">\n",
       "  <thead>\n",
       "    <tr style=\"text-align: right;\">\n",
       "      <th></th>\n",
       "      <th>Actual</th>\n",
       "      <th>Predicted</th>\n",
       "    </tr>\n",
       "  </thead>\n",
       "  <tbody>\n",
       "    <tr>\n",
       "      <th>3860</th>\n",
       "      <td>4.920000</td>\n",
       "      <td>4.913702e+00</td>\n",
       "    </tr>\n",
       "    <tr>\n",
       "      <th>4194</th>\n",
       "      <td>4.987179</td>\n",
       "      <td>4.933421e+00</td>\n",
       "    </tr>\n",
       "    <tr>\n",
       "      <th>4297</th>\n",
       "      <td>4.968789</td>\n",
       "      <td>4.970629e+00</td>\n",
       "    </tr>\n",
       "    <tr>\n",
       "      <th>541</th>\n",
       "      <td>4.951140</td>\n",
       "      <td>4.851529e+00</td>\n",
       "    </tr>\n",
       "    <tr>\n",
       "      <th>1591</th>\n",
       "      <td>4.900097</td>\n",
       "      <td>-9.124014e+06</td>\n",
       "    </tr>\n",
       "    <tr>\n",
       "      <th>...</th>\n",
       "      <td>...</td>\n",
       "      <td>...</td>\n",
       "    </tr>\n",
       "    <tr>\n",
       "      <th>4364</th>\n",
       "      <td>4.871504</td>\n",
       "      <td>4.916332e+00</td>\n",
       "    </tr>\n",
       "    <tr>\n",
       "      <th>2472</th>\n",
       "      <td>4.853838</td>\n",
       "      <td>4.870683e+00</td>\n",
       "    </tr>\n",
       "    <tr>\n",
       "      <th>6217</th>\n",
       "      <td>4.575868</td>\n",
       "      <td>4.911169e+00</td>\n",
       "    </tr>\n",
       "    <tr>\n",
       "      <th>4329</th>\n",
       "      <td>4.877746</td>\n",
       "      <td>4.892612e+00</td>\n",
       "    </tr>\n",
       "    <tr>\n",
       "      <th>1888</th>\n",
       "      <td>4.899424</td>\n",
       "      <td>5.022330e+00</td>\n",
       "    </tr>\n",
       "  </tbody>\n",
       "</table>\n",
       "<p>2305 rows × 2 columns</p>\n",
       "</div>"
      ],
      "text/plain": [
       "        Actual     Predicted\n",
       "3860  4.920000  4.913702e+00\n",
       "4194  4.987179  4.933421e+00\n",
       "4297  4.968789  4.970629e+00\n",
       "541   4.951140  4.851529e+00\n",
       "1591  4.900097 -9.124014e+06\n",
       "...        ...           ...\n",
       "4364  4.871504  4.916332e+00\n",
       "2472  4.853838  4.870683e+00\n",
       "6217  4.575868  4.911169e+00\n",
       "4329  4.877746  4.892612e+00\n",
       "1888  4.899424  5.022330e+00\n",
       "\n",
       "[2305 rows x 2 columns]"
      ]
     },
     "execution_count": 79,
     "metadata": {},
     "output_type": "execute_result"
    }
   ],
   "source": [
    "df"
   ]
  },
  {
   "cell_type": "code",
   "execution_count": 80,
   "id": "Ek-GiKzv0a19",
   "metadata": {
    "executionInfo": {
     "elapsed": 413,
     "status": "ok",
     "timestamp": 1630859955894,
     "user": {
      "displayName": "Vinura Thivin Perera",
      "photoUrl": "https://lh3.googleusercontent.com/a-/AOh14GjWvQAaXIGhkdHABV-paqWdDIA6LlUrRUJ5Js8l9CY=s64",
      "userId": "04171016047177543209"
     },
     "user_tz": -330
    },
    "id": "Ek-GiKzv0a19"
   },
   "outputs": [],
   "source": [
    "titles = data[['recipe_title']]"
   ]
  },
  {
   "cell_type": "code",
   "execution_count": 81,
   "id": "W9IeVI5U02He",
   "metadata": {
    "colab": {
     "base_uri": "https://localhost:8080/",
     "height": 419
    },
    "executionInfo": {
     "elapsed": 453,
     "status": "ok",
     "timestamp": 1630859959254,
     "user": {
      "displayName": "Vinura Thivin Perera",
      "photoUrl": "https://lh3.googleusercontent.com/a-/AOh14GjWvQAaXIGhkdHABV-paqWdDIA6LlUrRUJ5Js8l9CY=s64",
      "userId": "04171016047177543209"
     },
     "user_tz": -330
    },
    "id": "W9IeVI5U02He",
    "outputId": "f7087350-4608-41a0-9c2c-af90ce0752f0"
   },
   "outputs": [
    {
     "data": {
      "text/html": [
       "<div>\n",
       "<style scoped>\n",
       "    .dataframe tbody tr th:only-of-type {\n",
       "        vertical-align: middle;\n",
       "    }\n",
       "\n",
       "    .dataframe tbody tr th {\n",
       "        vertical-align: top;\n",
       "    }\n",
       "\n",
       "    .dataframe thead th {\n",
       "        text-align: right;\n",
       "    }\n",
       "</style>\n",
       "<table border=\"1\" class=\"dataframe\">\n",
       "  <thead>\n",
       "    <tr style=\"text-align: right;\">\n",
       "      <th></th>\n",
       "      <th>recipe_title</th>\n",
       "    </tr>\n",
       "  </thead>\n",
       "  <tbody>\n",
       "    <tr>\n",
       "      <th>0</th>\n",
       "      <td>Roasted Peppers And Mushroom Tortilla Pizza Re...</td>\n",
       "    </tr>\n",
       "    <tr>\n",
       "      <th>1</th>\n",
       "      <td>Thakkali Gotsu Recipe | Thakkali Curry | Spicy...</td>\n",
       "    </tr>\n",
       "    <tr>\n",
       "      <th>2</th>\n",
       "      <td>Spicy Grilled Pineapple Salsa Recipe</td>\n",
       "    </tr>\n",
       "    <tr>\n",
       "      <th>3</th>\n",
       "      <td>Karwar Style Dali Thoy Recipe - Toor dal Curry</td>\n",
       "    </tr>\n",
       "    <tr>\n",
       "      <th>4</th>\n",
       "      <td>Rajma Kofta In Milk And Poppy Seed Gravy Recipe</td>\n",
       "    </tr>\n",
       "    <tr>\n",
       "      <th>...</th>\n",
       "      <td>...</td>\n",
       "    </tr>\n",
       "    <tr>\n",
       "      <th>8004</th>\n",
       "      <td>Zucchini and Carrot Pasta Recipe</td>\n",
       "    </tr>\n",
       "    <tr>\n",
       "      <th>8005</th>\n",
       "      <td>Hyderabadi Khatti Dal Recipe (Hyderabadi Tangy...</td>\n",
       "    </tr>\n",
       "    <tr>\n",
       "      <th>8006</th>\n",
       "      <td>Karwar Style Muga Ambat Recipe (Moong Sprouts ...</td>\n",
       "    </tr>\n",
       "    <tr>\n",
       "      <th>8007</th>\n",
       "      <td>Beetroot, Amla And Pudina Juice Recipe | Mint ...</td>\n",
       "    </tr>\n",
       "    <tr>\n",
       "      <th>8008</th>\n",
       "      <td>Chettinad Cauliflower Pepper Fry Recipe - Chet...</td>\n",
       "    </tr>\n",
       "  </tbody>\n",
       "</table>\n",
       "<p>8009 rows × 1 columns</p>\n",
       "</div>"
      ],
      "text/plain": [
       "                                           recipe_title\n",
       "0     Roasted Peppers And Mushroom Tortilla Pizza Re...\n",
       "1     Thakkali Gotsu Recipe | Thakkali Curry | Spicy...\n",
       "2                  Spicy Grilled Pineapple Salsa Recipe\n",
       "3        Karwar Style Dali Thoy Recipe - Toor dal Curry\n",
       "4       Rajma Kofta In Milk And Poppy Seed Gravy Recipe\n",
       "...                                                 ...\n",
       "8004                   Zucchini and Carrot Pasta Recipe\n",
       "8005  Hyderabadi Khatti Dal Recipe (Hyderabadi Tangy...\n",
       "8006  Karwar Style Muga Ambat Recipe (Moong Sprouts ...\n",
       "8007  Beetroot, Amla And Pudina Juice Recipe | Mint ...\n",
       "8008  Chettinad Cauliflower Pepper Fry Recipe - Chet...\n",
       "\n",
       "[8009 rows x 1 columns]"
      ]
     },
     "execution_count": 81,
     "metadata": {},
     "output_type": "execute_result"
    }
   ],
   "source": [
    "titles"
   ]
  },
  {
   "cell_type": "code",
   "execution_count": 82,
   "id": "AG0400aK0amk",
   "metadata": {
    "colab": {
     "base_uri": "https://localhost:8080/",
     "height": 419
    },
    "executionInfo": {
     "elapsed": 466,
     "status": "ok",
     "timestamp": 1630859962321,
     "user": {
      "displayName": "Vinura Thivin Perera",
      "photoUrl": "https://lh3.googleusercontent.com/a-/AOh14GjWvQAaXIGhkdHABV-paqWdDIA6LlUrRUJ5Js8l9CY=s64",
      "userId": "04171016047177543209"
     },
     "user_tz": -330
    },
    "id": "AG0400aK0amk",
    "outputId": "91fcc272-2639-4cb3-d696-6597ea76c55a"
   },
   "outputs": [
    {
     "data": {
      "text/html": [
       "<div>\n",
       "<style scoped>\n",
       "    .dataframe tbody tr th:only-of-type {\n",
       "        vertical-align: middle;\n",
       "    }\n",
       "\n",
       "    .dataframe tbody tr th {\n",
       "        vertical-align: top;\n",
       "    }\n",
       "\n",
       "    .dataframe thead th {\n",
       "        text-align: right;\n",
       "    }\n",
       "</style>\n",
       "<table border=\"1\" class=\"dataframe\">\n",
       "  <thead>\n",
       "    <tr style=\"text-align: right;\">\n",
       "      <th></th>\n",
       "      <th>recipe_title</th>\n",
       "      <th>Actual</th>\n",
       "      <th>Predicted</th>\n",
       "    </tr>\n",
       "  </thead>\n",
       "  <tbody>\n",
       "    <tr>\n",
       "      <th>1</th>\n",
       "      <td>Thakkali Gotsu Recipe | Thakkali Curry | Spicy...</td>\n",
       "      <td>4.932223</td>\n",
       "      <td>4.906159</td>\n",
       "    </tr>\n",
       "    <tr>\n",
       "      <th>6</th>\n",
       "      <td>Mexican Green Sauce Recipe</td>\n",
       "      <td>4.956522</td>\n",
       "      <td>4.979345</td>\n",
       "    </tr>\n",
       "    <tr>\n",
       "      <th>8</th>\n",
       "      <td>Schezwan Style Chinese Veg Samosa Recipe - Roz...</td>\n",
       "      <td>4.931330</td>\n",
       "      <td>4.879702</td>\n",
       "    </tr>\n",
       "    <tr>\n",
       "      <th>9</th>\n",
       "      <td>Pineapple Upside Down Cake Recipe</td>\n",
       "      <td>4.782188</td>\n",
       "      <td>5.078032</td>\n",
       "    </tr>\n",
       "    <tr>\n",
       "      <th>12</th>\n",
       "      <td>Savory Shrimps On Skillet Recipe</td>\n",
       "      <td>5.000000</td>\n",
       "      <td>4.868209</td>\n",
       "    </tr>\n",
       "    <tr>\n",
       "      <th>...</th>\n",
       "      <td>...</td>\n",
       "      <td>...</td>\n",
       "      <td>...</td>\n",
       "    </tr>\n",
       "    <tr>\n",
       "      <th>7986</th>\n",
       "      <td>Karnataka Style Avarekalu Akki Rotti Recipe</td>\n",
       "      <td>4.822714</td>\n",
       "      <td>4.850318</td>\n",
       "    </tr>\n",
       "    <tr>\n",
       "      <th>7988</th>\n",
       "      <td>Ukad Recipe (Maharashtrian Rice Flour Porridge)</td>\n",
       "      <td>4.905766</td>\n",
       "      <td>4.921264</td>\n",
       "    </tr>\n",
       "    <tr>\n",
       "      <th>8001</th>\n",
       "      <td>Cauliflower And Red Bell Pepper Stir Fry Recipe</td>\n",
       "      <td>4.937117</td>\n",
       "      <td>4.870151</td>\n",
       "    </tr>\n",
       "    <tr>\n",
       "      <th>8005</th>\n",
       "      <td>Hyderabadi Khatti Dal Recipe (Hyderabadi Tangy...</td>\n",
       "      <td>4.903151</td>\n",
       "      <td>4.889980</td>\n",
       "    </tr>\n",
       "    <tr>\n",
       "      <th>8007</th>\n",
       "      <td>Beetroot, Amla And Pudina Juice Recipe | Mint ...</td>\n",
       "      <td>4.925670</td>\n",
       "      <td>4.886221</td>\n",
       "    </tr>\n",
       "  </tbody>\n",
       "</table>\n",
       "<p>2305 rows × 3 columns</p>\n",
       "</div>"
      ],
      "text/plain": [
       "                                           recipe_title    Actual  Predicted\n",
       "1     Thakkali Gotsu Recipe | Thakkali Curry | Spicy...  4.932223   4.906159\n",
       "6                           Mexican Green Sauce Recipe   4.956522   4.979345\n",
       "8     Schezwan Style Chinese Veg Samosa Recipe - Roz...  4.931330   4.879702\n",
       "9                     Pineapple Upside Down Cake Recipe  4.782188   5.078032\n",
       "12                     Savory Shrimps On Skillet Recipe  5.000000   4.868209\n",
       "...                                                 ...       ...        ...\n",
       "7986       Karnataka Style Avarekalu Akki Rotti Recipe   4.822714   4.850318\n",
       "7988    Ukad Recipe (Maharashtrian Rice Flour Porridge)  4.905766   4.921264\n",
       "8001    Cauliflower And Red Bell Pepper Stir Fry Recipe  4.937117   4.870151\n",
       "8005  Hyderabadi Khatti Dal Recipe (Hyderabadi Tangy...  4.903151   4.889980\n",
       "8007  Beetroot, Amla And Pudina Juice Recipe | Mint ...  4.925670   4.886221\n",
       "\n",
       "[2305 rows x 3 columns]"
      ]
     },
     "execution_count": 82,
     "metadata": {},
     "output_type": "execute_result"
    }
   ],
   "source": [
    "titles.join(df, how = 'inner')"
   ]
  },
  {
   "cell_type": "markdown",
   "id": "m9btjtcuwb0u",
   "metadata": {
    "id": "m9btjtcuwb0u"
   },
   "source": [
    "#### Evaluating Predctions"
   ]
  },
  {
   "cell_type": "code",
   "execution_count": 83,
   "id": "CbjBhj_GwE18",
   "metadata": {
    "colab": {
     "base_uri": "https://localhost:8080/"
    },
    "executionInfo": {
     "elapsed": 420,
     "status": "ok",
     "timestamp": 1630859380312,
     "user": {
      "displayName": "Vinura Thivin Perera",
      "photoUrl": "https://lh3.googleusercontent.com/a-/AOh14GjWvQAaXIGhkdHABV-paqWdDIA6LlUrRUJ5Js8l9CY=s64",
      "userId": "04171016047177543209"
     },
     "user_tz": -330
    },
    "id": "CbjBhj_GwE18",
    "outputId": "05e8dd1b-694c-46d3-fd18-b8a960a76bb4"
   },
   "outputs": [
    {
     "ename": "NameError",
     "evalue": "name 'metrics' is not defined",
     "output_type": "error",
     "traceback": [
      "\u001b[1;31m---------------------------------------------------------------------------\u001b[0m",
      "\u001b[1;31mNameError\u001b[0m                                 Traceback (most recent call last)",
      "\u001b[1;32m<ipython-input-83-91a0909f805f>\u001b[0m in \u001b[0;36m<module>\u001b[1;34m\u001b[0m\n\u001b[1;32m----> 1\u001b[1;33m \u001b[0mprint\u001b[0m\u001b[1;33m(\u001b[0m\u001b[1;34m'Mean Absolute Error:'\u001b[0m\u001b[1;33m,\u001b[0m \u001b[0mmetrics\u001b[0m\u001b[1;33m.\u001b[0m\u001b[0mmean_absolute_error\u001b[0m\u001b[1;33m(\u001b[0m\u001b[0my_test\u001b[0m\u001b[1;33m,\u001b[0m \u001b[0my_pred\u001b[0m\u001b[1;33m)\u001b[0m\u001b[1;33m)\u001b[0m\u001b[1;33m\u001b[0m\u001b[1;33m\u001b[0m\u001b[0m\n\u001b[0m\u001b[0;32m      2\u001b[0m \u001b[0mprint\u001b[0m\u001b[1;33m(\u001b[0m\u001b[1;34m'Mean Squared Error:'\u001b[0m\u001b[1;33m,\u001b[0m \u001b[0mmetrics\u001b[0m\u001b[1;33m.\u001b[0m\u001b[0mmean_squared_error\u001b[0m\u001b[1;33m(\u001b[0m\u001b[0my_test\u001b[0m\u001b[1;33m,\u001b[0m \u001b[0my_pred\u001b[0m\u001b[1;33m)\u001b[0m\u001b[1;33m)\u001b[0m\u001b[1;33m\u001b[0m\u001b[1;33m\u001b[0m\u001b[0m\n\u001b[0;32m      3\u001b[0m \u001b[0mprint\u001b[0m\u001b[1;33m(\u001b[0m\u001b[1;34m'Root Mean Squared Error:'\u001b[0m\u001b[1;33m,\u001b[0m \u001b[0mnp\u001b[0m\u001b[1;33m.\u001b[0m\u001b[0msqrt\u001b[0m\u001b[1;33m(\u001b[0m\u001b[0mmetrics\u001b[0m\u001b[1;33m.\u001b[0m\u001b[0mmean_squared_error\u001b[0m\u001b[1;33m(\u001b[0m\u001b[0my_test\u001b[0m\u001b[1;33m,\u001b[0m \u001b[0my_pred\u001b[0m\u001b[1;33m)\u001b[0m\u001b[1;33m)\u001b[0m\u001b[1;33m)\u001b[0m\u001b[1;33m\u001b[0m\u001b[1;33m\u001b[0m\u001b[0m\n",
      "\u001b[1;31mNameError\u001b[0m: name 'metrics' is not defined"
     ]
    }
   ],
   "source": [
    "\n",
    "print('Mean Absolute Error:', metrics.mean_absolute_error(y_test, y_pred))\n",
    "print('Mean Squared Error:', metrics.mean_squared_error(y_test, y_pred))\n",
    "print('Root Mean Squared Error:', np.sqrt(metrics.mean_squared_error(y_test, y_pred)))"
   ]
  },
  {
   "cell_type": "code",
   "execution_count": null,
   "id": "02f8fbfa",
   "metadata": {},
   "outputs": [],
   "source": []
  }
 ],
 "metadata": {
  "colab": {
   "collapsed_sections": [],
   "name": "Mini Project.ipynb",
   "provenance": []
  },
  "kernelspec": {
   "display_name": "Python 3",
   "language": "python",
   "name": "python3"
  },
  "language_info": {
   "codemirror_mode": {
    "name": "ipython",
    "version": 3
   },
   "file_extension": ".py",
   "mimetype": "text/x-python",
   "name": "python",
   "nbconvert_exporter": "python",
   "pygments_lexer": "ipython3",
   "version": "3.8.8"
  }
 },
 "nbformat": 4,
 "nbformat_minor": 5
}
