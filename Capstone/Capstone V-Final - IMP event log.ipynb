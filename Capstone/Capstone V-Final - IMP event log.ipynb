{
 "cells": [
  {
   "cell_type": "markdown",
   "id": "4be879f4",
   "metadata": {},
   "source": [
    "# IMP Event Log"
   ]
  },
  {
   "cell_type": "markdown",
   "id": "9b27c453",
   "metadata": {},
   "source": [
    "This is an event log of an incident management process extracted from data gathered from the audit system of an instance of the ServiceNowTM platform used by an IT company. The event log is enriched with data loaded from a relational database underlying a corresponding process-aware information system. Information was anonymized for privacy.\n"
   ]
  },
  {
   "cell_type": "markdown",
   "id": "691c347f",
   "metadata": {},
   "source": [
    "Number of instances: 141,712 events (24,918 incidents)\n",
    "Number of attributes: 36 attributes (1 case identifier, 1 state identifier, 32 descriptive attributes, 2 dependent variables)\n",
    "\n",
    "The attributed â€˜closed_atâ€™ is used to determine the dependent variable for the time completion prediction task. The attribute â€˜resolved_atâ€™ is highly correlated with â€˜closed_atâ€™. In this event log, some rows may have the same values (they are equal) since not all attributes involved in the real-world process are present in the log.\n",
    "\n",
    "Attributes used to record textual information are not placed in this log.\n",
    "\n",
    "The missing values should be considered â€˜unknown informationâ€™."
   ]
  },
  {
   "cell_type": "markdown",
   "id": "123cd092",
   "metadata": {},
   "source": [
    "Attribute Information:\n",
    "\n",
    "1. number: incident identifier (24,918 different values);\n",
    "2. incident state: eight levels controlling the incident management process transitions from opening until closing the case;\n",
    "3. active: boolean attribute that shows whether the record is active or closed/canceled;\n",
    "4. reassignment_count: number of times the incident has the group or the support analysts changed;\n",
    "5. reopen_count: number of times the incident resolution was rejected by the caller;\n",
    "6. sys_mod_count: number of incident updates until that moment;\n",
    "7. made_sla: boolean attribute that shows whether the incident exceeded the target SLA;\n",
    "8. caller_id: identifier of the user affected;\n",
    "9. opened_by: identifier of the user who reported the incident;\n",
    "10. opened_at: incident user opening date and time;\n",
    "11. sys_created_by: identifier of the user who registered the incident;\n",
    "12. sys_created_at: incident system creation date and time;\n",
    "13. sys_updated_by: identifier of the user who updated the incident and generated the current log record;\n",
    "14. sys_updated_at: incident system update date and time;\n",
    "15. contact_type: categorical attribute that shows by what means the incident was reported;\n",
    "16. location: identifier of the location of the place affected;\n",
    "17. category: first-level description of the affected service;\n",
    "18. subcategory: second-level description of the affected service (related to the first level description, i.e., to category);\n",
    "19. u_symptom: description of the user perception about service availability;\n",
    "20. cmdb_ci: (confirmation item) identifier used to report the affected item (not mandatory);\n",
    "21. impact: description of the impact caused by the incident (values: 1 High; 2 Medium; 3 Low);\n",
    "22. urgency: description of the urgency informed by the user for the incident resolution (values: 1 High; 2 Medium; 3 Low);\n",
    "23. priority: calculated by the system based on 'impact' and 'urgency';\n",
    "24. assignment_group: identifier of the support group in charge of the incident;\n",
    "25. assigned_to: identifier of the user in charge of the incident;\n",
    "26. knowledge: boolean attribute that shows whether a knowledge base document was used to resolve the incident;\n",
    "27. u_priority_confirmation: boolean attribute that shows whether the priority field has been double-checked;\n",
    "28. notify: categorical attribute that shows whether notifications were generated for the incident;\n",
    "29. problem_id: identifier of the problem associated with the incident;\n",
    "30. rfc: (request for change) identifier of the change request associated with the incident;\n",
    "31. vendor: identifier of the vendor in charge of the incident;\n",
    "32. caused_by: identifier of the RFC responsible by the incident;\n",
    "33. close_code: identifier of the resolution of the incident;\n",
    "34. resolved_by: identifier of the user who resolved the incident;\n",
    "35. resolved_at: incident user resolution date and time (dependent variable);\n",
    "36. closed_at: incident user close date and time (dependent variable).\n",
    "\n"
   ]
  },
  {
   "cell_type": "markdown",
   "id": "bdf8577e",
   "metadata": {},
   "source": [
    "Relevant Papers:\n",
    "\n",
    "Amaral, C. A. L., Fantinato, M., Reijers, H. A., Peres, S. M., Enhancing Completion Time Prediction Through Attribute Selection. Proceedings of the 15th International Conference on Advanced Information Technologies for Management (AITM 2018) and 13th International Conference on Information Systems Management (ISM 2018), Revised Selected Papers â€“ Lecture Notes in Business Information Processing, v. 346, pp. 3-23, 2019. \n",
    "\n",
    "Amaral, C. A. L., Fantinato, M., Peres, S. M., Attribute Selection with Filter and Wrapper: An Application on Incident Management Process. Proceedings of the 14th Federated Conference on Computer Science and Information Systems (FedCSIS 2018), pp. 679-682, 2018. \n",
    "\n",
    "Maita, A. R. C., Martins, L. C., Paz, C. R. L., Rafferty, L., Hung, P., Peres, S. M., Fantinato, M. A systematic mapping study of process mining. Enterprise Information Systems, v. 12, n. 5, pp. 505-549, 2018. \n",
    "\n"
   ]
  },
  {
   "cell_type": "markdown",
   "id": "01c5e3a7",
   "metadata": {},
   "source": [
    "## Importing relevant Libraries"
   ]
  },
  {
   "cell_type": "code",
   "execution_count": 1,
   "id": "1a996e9a",
   "metadata": {},
   "outputs": [],
   "source": [
    "import pandas as pd\n",
    "import matplotlib.pyplot as plt\n",
    "import numpy as np\n",
    "import seaborn as sns\n",
    "\n",
    "from sklearn.model_selection import train_test_split\n",
    "\n",
    "from catboost import CatBoostClassifier\n",
    "from sklearn import svm\n",
    "from sklearn.ensemble import RandomForestClassifier \n",
    "from sklearn.tree import DecisionTreeClassifier \n",
    "\n",
    "from sklearn.metrics import confusion_matrix\n",
    "from sklearn import metrics\n",
    "\n",
    "# Import required libraries for machine learning classifiers\n",
    "from sklearn.linear_model import LogisticRegression\n",
    "from sklearn.svm import LinearSVC\n",
    "from sklearn.tree import DecisionTreeClassifier\n",
    "from sklearn.ensemble import RandomForestClassifier\n",
    "from sklearn.naive_bayes import GaussianNB\n",
    "\n",
    "# Import required libraries for performance metrics\n",
    "from sklearn.metrics import make_scorer\n",
    "from sklearn.metrics import accuracy_score\n",
    "from sklearn.metrics import precision_score\n",
    "from sklearn.metrics import recall_score\n",
    "from sklearn.metrics import f1_score\n",
    "from sklearn.model_selection import cross_validate\n",
    "\n",
    "#Import scikit-learn metrics module for accuracy calculation\n",
    "from sklearn import metrics\n",
    "\n"
   ]
  },
  {
   "cell_type": "markdown",
   "id": "44f513de",
   "metadata": {},
   "source": [
    "## Importing the dataset"
   ]
  },
  {
   "cell_type": "code",
   "execution_count": 2,
   "id": "f4fcf2a8",
   "metadata": {},
   "outputs": [],
   "source": [
    "data = pd.read_csv('incident_event_log.csv')"
   ]
  },
  {
   "cell_type": "markdown",
   "id": "cff4e325",
   "metadata": {},
   "source": [
    "## Getting to know Dataset Nature"
   ]
  },
  {
   "cell_type": "code",
   "execution_count": 3,
   "id": "3c2b2624",
   "metadata": {},
   "outputs": [
    {
     "name": "stdout",
     "output_type": "stream",
     "text": [
      "(141712, 36)\n"
     ]
    }
   ],
   "source": [
    "print(data.shape)"
   ]
  },
  {
   "cell_type": "code",
   "execution_count": 4,
   "id": "baf7abc0",
   "metadata": {},
   "outputs": [
    {
     "data": {
      "text/html": [
       "<div>\n",
       "<style scoped>\n",
       "    .dataframe tbody tr th:only-of-type {\n",
       "        vertical-align: middle;\n",
       "    }\n",
       "\n",
       "    .dataframe tbody tr th {\n",
       "        vertical-align: top;\n",
       "    }\n",
       "\n",
       "    .dataframe thead th {\n",
       "        text-align: right;\n",
       "    }\n",
       "</style>\n",
       "<table border=\"1\" class=\"dataframe\">\n",
       "  <thead>\n",
       "    <tr style=\"text-align: right;\">\n",
       "      <th></th>\n",
       "      <th>number</th>\n",
       "      <th>incident_state</th>\n",
       "      <th>active</th>\n",
       "      <th>reassignment_count</th>\n",
       "      <th>reopen_count</th>\n",
       "      <th>sys_mod_count</th>\n",
       "      <th>made_sla</th>\n",
       "      <th>caller_id</th>\n",
       "      <th>opened_by</th>\n",
       "      <th>opened_at</th>\n",
       "      <th>...</th>\n",
       "      <th>u_priority_confirmation</th>\n",
       "      <th>notify</th>\n",
       "      <th>problem_id</th>\n",
       "      <th>rfc</th>\n",
       "      <th>vendor</th>\n",
       "      <th>caused_by</th>\n",
       "      <th>closed_code</th>\n",
       "      <th>resolved_by</th>\n",
       "      <th>resolved_at</th>\n",
       "      <th>closed_at</th>\n",
       "    </tr>\n",
       "  </thead>\n",
       "  <tbody>\n",
       "    <tr>\n",
       "      <th>0</th>\n",
       "      <td>INC0000045</td>\n",
       "      <td>New</td>\n",
       "      <td>True</td>\n",
       "      <td>0</td>\n",
       "      <td>0</td>\n",
       "      <td>0</td>\n",
       "      <td>True</td>\n",
       "      <td>Caller 2403</td>\n",
       "      <td>Opened by  8</td>\n",
       "      <td>29/2/2016 01:16</td>\n",
       "      <td>...</td>\n",
       "      <td>False</td>\n",
       "      <td>Do Not Notify</td>\n",
       "      <td>?</td>\n",
       "      <td>?</td>\n",
       "      <td>?</td>\n",
       "      <td>?</td>\n",
       "      <td>code 5</td>\n",
       "      <td>Resolved by 149</td>\n",
       "      <td>29/2/2016 11:29</td>\n",
       "      <td>5/3/2016 12:00</td>\n",
       "    </tr>\n",
       "    <tr>\n",
       "      <th>1</th>\n",
       "      <td>INC0000045</td>\n",
       "      <td>Resolved</td>\n",
       "      <td>True</td>\n",
       "      <td>0</td>\n",
       "      <td>0</td>\n",
       "      <td>2</td>\n",
       "      <td>True</td>\n",
       "      <td>Caller 2403</td>\n",
       "      <td>Opened by  8</td>\n",
       "      <td>29/2/2016 01:16</td>\n",
       "      <td>...</td>\n",
       "      <td>False</td>\n",
       "      <td>Do Not Notify</td>\n",
       "      <td>?</td>\n",
       "      <td>?</td>\n",
       "      <td>?</td>\n",
       "      <td>?</td>\n",
       "      <td>code 5</td>\n",
       "      <td>Resolved by 149</td>\n",
       "      <td>29/2/2016 11:29</td>\n",
       "      <td>5/3/2016 12:00</td>\n",
       "    </tr>\n",
       "    <tr>\n",
       "      <th>2</th>\n",
       "      <td>INC0000045</td>\n",
       "      <td>Resolved</td>\n",
       "      <td>True</td>\n",
       "      <td>0</td>\n",
       "      <td>0</td>\n",
       "      <td>3</td>\n",
       "      <td>True</td>\n",
       "      <td>Caller 2403</td>\n",
       "      <td>Opened by  8</td>\n",
       "      <td>29/2/2016 01:16</td>\n",
       "      <td>...</td>\n",
       "      <td>False</td>\n",
       "      <td>Do Not Notify</td>\n",
       "      <td>?</td>\n",
       "      <td>?</td>\n",
       "      <td>?</td>\n",
       "      <td>?</td>\n",
       "      <td>code 5</td>\n",
       "      <td>Resolved by 149</td>\n",
       "      <td>29/2/2016 11:29</td>\n",
       "      <td>5/3/2016 12:00</td>\n",
       "    </tr>\n",
       "    <tr>\n",
       "      <th>3</th>\n",
       "      <td>INC0000045</td>\n",
       "      <td>Closed</td>\n",
       "      <td>False</td>\n",
       "      <td>0</td>\n",
       "      <td>0</td>\n",
       "      <td>4</td>\n",
       "      <td>True</td>\n",
       "      <td>Caller 2403</td>\n",
       "      <td>Opened by  8</td>\n",
       "      <td>29/2/2016 01:16</td>\n",
       "      <td>...</td>\n",
       "      <td>False</td>\n",
       "      <td>Do Not Notify</td>\n",
       "      <td>?</td>\n",
       "      <td>?</td>\n",
       "      <td>?</td>\n",
       "      <td>?</td>\n",
       "      <td>code 5</td>\n",
       "      <td>Resolved by 149</td>\n",
       "      <td>29/2/2016 11:29</td>\n",
       "      <td>5/3/2016 12:00</td>\n",
       "    </tr>\n",
       "    <tr>\n",
       "      <th>4</th>\n",
       "      <td>INC0000047</td>\n",
       "      <td>New</td>\n",
       "      <td>True</td>\n",
       "      <td>0</td>\n",
       "      <td>0</td>\n",
       "      <td>0</td>\n",
       "      <td>True</td>\n",
       "      <td>Caller 2403</td>\n",
       "      <td>Opened by  397</td>\n",
       "      <td>29/2/2016 04:40</td>\n",
       "      <td>...</td>\n",
       "      <td>False</td>\n",
       "      <td>Do Not Notify</td>\n",
       "      <td>?</td>\n",
       "      <td>?</td>\n",
       "      <td>?</td>\n",
       "      <td>?</td>\n",
       "      <td>code 5</td>\n",
       "      <td>Resolved by 81</td>\n",
       "      <td>1/3/2016 09:52</td>\n",
       "      <td>6/3/2016 10:00</td>\n",
       "    </tr>\n",
       "    <tr>\n",
       "      <th>5</th>\n",
       "      <td>INC0000047</td>\n",
       "      <td>Active</td>\n",
       "      <td>True</td>\n",
       "      <td>1</td>\n",
       "      <td>0</td>\n",
       "      <td>1</td>\n",
       "      <td>True</td>\n",
       "      <td>Caller 2403</td>\n",
       "      <td>Opened by  397</td>\n",
       "      <td>29/2/2016 04:40</td>\n",
       "      <td>...</td>\n",
       "      <td>False</td>\n",
       "      <td>Do Not Notify</td>\n",
       "      <td>?</td>\n",
       "      <td>?</td>\n",
       "      <td>?</td>\n",
       "      <td>?</td>\n",
       "      <td>code 5</td>\n",
       "      <td>Resolved by 81</td>\n",
       "      <td>1/3/2016 09:52</td>\n",
       "      <td>6/3/2016 10:00</td>\n",
       "    </tr>\n",
       "    <tr>\n",
       "      <th>6</th>\n",
       "      <td>INC0000047</td>\n",
       "      <td>Active</td>\n",
       "      <td>True</td>\n",
       "      <td>1</td>\n",
       "      <td>0</td>\n",
       "      <td>2</td>\n",
       "      <td>True</td>\n",
       "      <td>Caller 2403</td>\n",
       "      <td>Opened by  397</td>\n",
       "      <td>29/2/2016 04:40</td>\n",
       "      <td>...</td>\n",
       "      <td>False</td>\n",
       "      <td>Do Not Notify</td>\n",
       "      <td>?</td>\n",
       "      <td>?</td>\n",
       "      <td>?</td>\n",
       "      <td>?</td>\n",
       "      <td>code 5</td>\n",
       "      <td>Resolved by 81</td>\n",
       "      <td>1/3/2016 09:52</td>\n",
       "      <td>6/3/2016 10:00</td>\n",
       "    </tr>\n",
       "    <tr>\n",
       "      <th>7</th>\n",
       "      <td>INC0000047</td>\n",
       "      <td>Active</td>\n",
       "      <td>True</td>\n",
       "      <td>1</td>\n",
       "      <td>0</td>\n",
       "      <td>3</td>\n",
       "      <td>True</td>\n",
       "      <td>Caller 2403</td>\n",
       "      <td>Opened by  397</td>\n",
       "      <td>29/2/2016 04:40</td>\n",
       "      <td>...</td>\n",
       "      <td>False</td>\n",
       "      <td>Do Not Notify</td>\n",
       "      <td>?</td>\n",
       "      <td>?</td>\n",
       "      <td>?</td>\n",
       "      <td>?</td>\n",
       "      <td>code 5</td>\n",
       "      <td>Resolved by 81</td>\n",
       "      <td>1/3/2016 09:52</td>\n",
       "      <td>6/3/2016 10:00</td>\n",
       "    </tr>\n",
       "    <tr>\n",
       "      <th>8</th>\n",
       "      <td>INC0000047</td>\n",
       "      <td>Active</td>\n",
       "      <td>True</td>\n",
       "      <td>1</td>\n",
       "      <td>0</td>\n",
       "      <td>4</td>\n",
       "      <td>True</td>\n",
       "      <td>Caller 2403</td>\n",
       "      <td>Opened by  397</td>\n",
       "      <td>29/2/2016 04:40</td>\n",
       "      <td>...</td>\n",
       "      <td>False</td>\n",
       "      <td>Do Not Notify</td>\n",
       "      <td>?</td>\n",
       "      <td>?</td>\n",
       "      <td>?</td>\n",
       "      <td>?</td>\n",
       "      <td>code 5</td>\n",
       "      <td>Resolved by 81</td>\n",
       "      <td>1/3/2016 09:52</td>\n",
       "      <td>6/3/2016 10:00</td>\n",
       "    </tr>\n",
       "    <tr>\n",
       "      <th>9</th>\n",
       "      <td>INC0000047</td>\n",
       "      <td>Active</td>\n",
       "      <td>True</td>\n",
       "      <td>1</td>\n",
       "      <td>0</td>\n",
       "      <td>5</td>\n",
       "      <td>True</td>\n",
       "      <td>Caller 2403</td>\n",
       "      <td>Opened by  397</td>\n",
       "      <td>29/2/2016 04:40</td>\n",
       "      <td>...</td>\n",
       "      <td>False</td>\n",
       "      <td>Do Not Notify</td>\n",
       "      <td>?</td>\n",
       "      <td>?</td>\n",
       "      <td>?</td>\n",
       "      <td>?</td>\n",
       "      <td>code 5</td>\n",
       "      <td>Resolved by 81</td>\n",
       "      <td>1/3/2016 09:52</td>\n",
       "      <td>6/3/2016 10:00</td>\n",
       "    </tr>\n",
       "    <tr>\n",
       "      <th>10</th>\n",
       "      <td>INC0000047</td>\n",
       "      <td>Awaiting User Info</td>\n",
       "      <td>True</td>\n",
       "      <td>1</td>\n",
       "      <td>0</td>\n",
       "      <td>6</td>\n",
       "      <td>True</td>\n",
       "      <td>Caller 2403</td>\n",
       "      <td>Opened by  397</td>\n",
       "      <td>29/2/2016 04:40</td>\n",
       "      <td>...</td>\n",
       "      <td>False</td>\n",
       "      <td>Do Not Notify</td>\n",
       "      <td>?</td>\n",
       "      <td>?</td>\n",
       "      <td>?</td>\n",
       "      <td>?</td>\n",
       "      <td>code 5</td>\n",
       "      <td>Resolved by 81</td>\n",
       "      <td>1/3/2016 09:52</td>\n",
       "      <td>6/3/2016 10:00</td>\n",
       "    </tr>\n",
       "    <tr>\n",
       "      <th>11</th>\n",
       "      <td>INC0000047</td>\n",
       "      <td>Resolved</td>\n",
       "      <td>True</td>\n",
       "      <td>1</td>\n",
       "      <td>0</td>\n",
       "      <td>7</td>\n",
       "      <td>True</td>\n",
       "      <td>Caller 2403</td>\n",
       "      <td>Opened by  397</td>\n",
       "      <td>29/2/2016 04:40</td>\n",
       "      <td>...</td>\n",
       "      <td>False</td>\n",
       "      <td>Do Not Notify</td>\n",
       "      <td>?</td>\n",
       "      <td>?</td>\n",
       "      <td>?</td>\n",
       "      <td>?</td>\n",
       "      <td>code 5</td>\n",
       "      <td>Resolved by 81</td>\n",
       "      <td>1/3/2016 09:52</td>\n",
       "      <td>6/3/2016 10:00</td>\n",
       "    </tr>\n",
       "    <tr>\n",
       "      <th>12</th>\n",
       "      <td>INC0000047</td>\n",
       "      <td>Closed</td>\n",
       "      <td>False</td>\n",
       "      <td>1</td>\n",
       "      <td>0</td>\n",
       "      <td>8</td>\n",
       "      <td>True</td>\n",
       "      <td>Caller 2403</td>\n",
       "      <td>Opened by  397</td>\n",
       "      <td>29/2/2016 04:40</td>\n",
       "      <td>...</td>\n",
       "      <td>False</td>\n",
       "      <td>Do Not Notify</td>\n",
       "      <td>?</td>\n",
       "      <td>?</td>\n",
       "      <td>?</td>\n",
       "      <td>?</td>\n",
       "      <td>code 5</td>\n",
       "      <td>Resolved by 81</td>\n",
       "      <td>1/3/2016 09:52</td>\n",
       "      <td>6/3/2016 10:00</td>\n",
       "    </tr>\n",
       "    <tr>\n",
       "      <th>13</th>\n",
       "      <td>INC0000057</td>\n",
       "      <td>New</td>\n",
       "      <td>True</td>\n",
       "      <td>0</td>\n",
       "      <td>0</td>\n",
       "      <td>0</td>\n",
       "      <td>True</td>\n",
       "      <td>Caller 4416</td>\n",
       "      <td>Opened by  8</td>\n",
       "      <td>29/2/2016 06:10</td>\n",
       "      <td>...</td>\n",
       "      <td>False</td>\n",
       "      <td>Do Not Notify</td>\n",
       "      <td>?</td>\n",
       "      <td>?</td>\n",
       "      <td>?</td>\n",
       "      <td>?</td>\n",
       "      <td>code 10</td>\n",
       "      <td>Resolved by 5</td>\n",
       "      <td>1/3/2016 02:55</td>\n",
       "      <td>6/3/2016 03:00</td>\n",
       "    </tr>\n",
       "    <tr>\n",
       "      <th>14</th>\n",
       "      <td>INC0000057</td>\n",
       "      <td>New</td>\n",
       "      <td>True</td>\n",
       "      <td>0</td>\n",
       "      <td>0</td>\n",
       "      <td>1</td>\n",
       "      <td>True</td>\n",
       "      <td>Caller 4416</td>\n",
       "      <td>Opened by  8</td>\n",
       "      <td>29/2/2016 06:10</td>\n",
       "      <td>...</td>\n",
       "      <td>False</td>\n",
       "      <td>Do Not Notify</td>\n",
       "      <td>?</td>\n",
       "      <td>?</td>\n",
       "      <td>?</td>\n",
       "      <td>?</td>\n",
       "      <td>code 10</td>\n",
       "      <td>Resolved by 5</td>\n",
       "      <td>1/3/2016 02:55</td>\n",
       "      <td>6/3/2016 03:00</td>\n",
       "    </tr>\n",
       "    <tr>\n",
       "      <th>15</th>\n",
       "      <td>INC0000057</td>\n",
       "      <td>New</td>\n",
       "      <td>True</td>\n",
       "      <td>0</td>\n",
       "      <td>0</td>\n",
       "      <td>2</td>\n",
       "      <td>True</td>\n",
       "      <td>Caller 4416</td>\n",
       "      <td>Opened by  8</td>\n",
       "      <td>29/2/2016 06:10</td>\n",
       "      <td>...</td>\n",
       "      <td>False</td>\n",
       "      <td>Do Not Notify</td>\n",
       "      <td>Problem ID  2</td>\n",
       "      <td>?</td>\n",
       "      <td>?</td>\n",
       "      <td>?</td>\n",
       "      <td>code 10</td>\n",
       "      <td>Resolved by 5</td>\n",
       "      <td>1/3/2016 02:55</td>\n",
       "      <td>6/3/2016 03:00</td>\n",
       "    </tr>\n",
       "    <tr>\n",
       "      <th>16</th>\n",
       "      <td>INC0000057</td>\n",
       "      <td>New</td>\n",
       "      <td>True</td>\n",
       "      <td>0</td>\n",
       "      <td>0</td>\n",
       "      <td>3</td>\n",
       "      <td>True</td>\n",
       "      <td>Caller 4416</td>\n",
       "      <td>Opened by  8</td>\n",
       "      <td>29/2/2016 06:10</td>\n",
       "      <td>...</td>\n",
       "      <td>False</td>\n",
       "      <td>Do Not Notify</td>\n",
       "      <td>Problem ID  2</td>\n",
       "      <td>?</td>\n",
       "      <td>?</td>\n",
       "      <td>?</td>\n",
       "      <td>code 10</td>\n",
       "      <td>Resolved by 5</td>\n",
       "      <td>1/3/2016 02:55</td>\n",
       "      <td>6/3/2016 03:00</td>\n",
       "    </tr>\n",
       "    <tr>\n",
       "      <th>17</th>\n",
       "      <td>INC0000057</td>\n",
       "      <td>New</td>\n",
       "      <td>True</td>\n",
       "      <td>0</td>\n",
       "      <td>0</td>\n",
       "      <td>4</td>\n",
       "      <td>True</td>\n",
       "      <td>Caller 4416</td>\n",
       "      <td>Opened by  8</td>\n",
       "      <td>29/2/2016 06:10</td>\n",
       "      <td>...</td>\n",
       "      <td>False</td>\n",
       "      <td>Do Not Notify</td>\n",
       "      <td>Problem ID  2</td>\n",
       "      <td>?</td>\n",
       "      <td>?</td>\n",
       "      <td>?</td>\n",
       "      <td>code 10</td>\n",
       "      <td>Resolved by 5</td>\n",
       "      <td>1/3/2016 02:55</td>\n",
       "      <td>6/3/2016 03:00</td>\n",
       "    </tr>\n",
       "    <tr>\n",
       "      <th>18</th>\n",
       "      <td>INC0000057</td>\n",
       "      <td>Resolved</td>\n",
       "      <td>True</td>\n",
       "      <td>0</td>\n",
       "      <td>0</td>\n",
       "      <td>5</td>\n",
       "      <td>True</td>\n",
       "      <td>Caller 4416</td>\n",
       "      <td>Opened by  8</td>\n",
       "      <td>29/2/2016 06:10</td>\n",
       "      <td>...</td>\n",
       "      <td>False</td>\n",
       "      <td>Do Not Notify</td>\n",
       "      <td>Problem ID  2</td>\n",
       "      <td>?</td>\n",
       "      <td>?</td>\n",
       "      <td>?</td>\n",
       "      <td>code 10</td>\n",
       "      <td>Resolved by 5</td>\n",
       "      <td>1/3/2016 02:55</td>\n",
       "      <td>6/3/2016 03:00</td>\n",
       "    </tr>\n",
       "    <tr>\n",
       "      <th>19</th>\n",
       "      <td>INC0000057</td>\n",
       "      <td>Closed</td>\n",
       "      <td>False</td>\n",
       "      <td>0</td>\n",
       "      <td>0</td>\n",
       "      <td>6</td>\n",
       "      <td>True</td>\n",
       "      <td>Caller 4416</td>\n",
       "      <td>Opened by  8</td>\n",
       "      <td>29/2/2016 06:10</td>\n",
       "      <td>...</td>\n",
       "      <td>False</td>\n",
       "      <td>Do Not Notify</td>\n",
       "      <td>Problem ID  2</td>\n",
       "      <td>?</td>\n",
       "      <td>?</td>\n",
       "      <td>?</td>\n",
       "      <td>code 10</td>\n",
       "      <td>Resolved by 5</td>\n",
       "      <td>1/3/2016 02:55</td>\n",
       "      <td>6/3/2016 03:00</td>\n",
       "    </tr>\n",
       "  </tbody>\n",
       "</table>\n",
       "<p>20 rows × 36 columns</p>\n",
       "</div>"
      ],
      "text/plain": [
       "        number      incident_state  active  reassignment_count  reopen_count  \\\n",
       "0   INC0000045                 New    True                   0             0   \n",
       "1   INC0000045            Resolved    True                   0             0   \n",
       "2   INC0000045            Resolved    True                   0             0   \n",
       "3   INC0000045              Closed   False                   0             0   \n",
       "4   INC0000047                 New    True                   0             0   \n",
       "5   INC0000047              Active    True                   1             0   \n",
       "6   INC0000047              Active    True                   1             0   \n",
       "7   INC0000047              Active    True                   1             0   \n",
       "8   INC0000047              Active    True                   1             0   \n",
       "9   INC0000047              Active    True                   1             0   \n",
       "10  INC0000047  Awaiting User Info    True                   1             0   \n",
       "11  INC0000047            Resolved    True                   1             0   \n",
       "12  INC0000047              Closed   False                   1             0   \n",
       "13  INC0000057                 New    True                   0             0   \n",
       "14  INC0000057                 New    True                   0             0   \n",
       "15  INC0000057                 New    True                   0             0   \n",
       "16  INC0000057                 New    True                   0             0   \n",
       "17  INC0000057                 New    True                   0             0   \n",
       "18  INC0000057            Resolved    True                   0             0   \n",
       "19  INC0000057              Closed   False                   0             0   \n",
       "\n",
       "    sys_mod_count  made_sla    caller_id       opened_by        opened_at  \\\n",
       "0               0      True  Caller 2403    Opened by  8  29/2/2016 01:16   \n",
       "1               2      True  Caller 2403    Opened by  8  29/2/2016 01:16   \n",
       "2               3      True  Caller 2403    Opened by  8  29/2/2016 01:16   \n",
       "3               4      True  Caller 2403    Opened by  8  29/2/2016 01:16   \n",
       "4               0      True  Caller 2403  Opened by  397  29/2/2016 04:40   \n",
       "5               1      True  Caller 2403  Opened by  397  29/2/2016 04:40   \n",
       "6               2      True  Caller 2403  Opened by  397  29/2/2016 04:40   \n",
       "7               3      True  Caller 2403  Opened by  397  29/2/2016 04:40   \n",
       "8               4      True  Caller 2403  Opened by  397  29/2/2016 04:40   \n",
       "9               5      True  Caller 2403  Opened by  397  29/2/2016 04:40   \n",
       "10              6      True  Caller 2403  Opened by  397  29/2/2016 04:40   \n",
       "11              7      True  Caller 2403  Opened by  397  29/2/2016 04:40   \n",
       "12              8      True  Caller 2403  Opened by  397  29/2/2016 04:40   \n",
       "13              0      True  Caller 4416    Opened by  8  29/2/2016 06:10   \n",
       "14              1      True  Caller 4416    Opened by  8  29/2/2016 06:10   \n",
       "15              2      True  Caller 4416    Opened by  8  29/2/2016 06:10   \n",
       "16              3      True  Caller 4416    Opened by  8  29/2/2016 06:10   \n",
       "17              4      True  Caller 4416    Opened by  8  29/2/2016 06:10   \n",
       "18              5      True  Caller 4416    Opened by  8  29/2/2016 06:10   \n",
       "19              6      True  Caller 4416    Opened by  8  29/2/2016 06:10   \n",
       "\n",
       "    ... u_priority_confirmation         notify     problem_id rfc vendor  \\\n",
       "0   ...                   False  Do Not Notify              ?   ?      ?   \n",
       "1   ...                   False  Do Not Notify              ?   ?      ?   \n",
       "2   ...                   False  Do Not Notify              ?   ?      ?   \n",
       "3   ...                   False  Do Not Notify              ?   ?      ?   \n",
       "4   ...                   False  Do Not Notify              ?   ?      ?   \n",
       "5   ...                   False  Do Not Notify              ?   ?      ?   \n",
       "6   ...                   False  Do Not Notify              ?   ?      ?   \n",
       "7   ...                   False  Do Not Notify              ?   ?      ?   \n",
       "8   ...                   False  Do Not Notify              ?   ?      ?   \n",
       "9   ...                   False  Do Not Notify              ?   ?      ?   \n",
       "10  ...                   False  Do Not Notify              ?   ?      ?   \n",
       "11  ...                   False  Do Not Notify              ?   ?      ?   \n",
       "12  ...                   False  Do Not Notify              ?   ?      ?   \n",
       "13  ...                   False  Do Not Notify              ?   ?      ?   \n",
       "14  ...                   False  Do Not Notify              ?   ?      ?   \n",
       "15  ...                   False  Do Not Notify  Problem ID  2   ?      ?   \n",
       "16  ...                   False  Do Not Notify  Problem ID  2   ?      ?   \n",
       "17  ...                   False  Do Not Notify  Problem ID  2   ?      ?   \n",
       "18  ...                   False  Do Not Notify  Problem ID  2   ?      ?   \n",
       "19  ...                   False  Do Not Notify  Problem ID  2   ?      ?   \n",
       "\n",
       "   caused_by closed_code      resolved_by      resolved_at       closed_at  \n",
       "0          ?      code 5  Resolved by 149  29/2/2016 11:29  5/3/2016 12:00  \n",
       "1          ?      code 5  Resolved by 149  29/2/2016 11:29  5/3/2016 12:00  \n",
       "2          ?      code 5  Resolved by 149  29/2/2016 11:29  5/3/2016 12:00  \n",
       "3          ?      code 5  Resolved by 149  29/2/2016 11:29  5/3/2016 12:00  \n",
       "4          ?      code 5   Resolved by 81   1/3/2016 09:52  6/3/2016 10:00  \n",
       "5          ?      code 5   Resolved by 81   1/3/2016 09:52  6/3/2016 10:00  \n",
       "6          ?      code 5   Resolved by 81   1/3/2016 09:52  6/3/2016 10:00  \n",
       "7          ?      code 5   Resolved by 81   1/3/2016 09:52  6/3/2016 10:00  \n",
       "8          ?      code 5   Resolved by 81   1/3/2016 09:52  6/3/2016 10:00  \n",
       "9          ?      code 5   Resolved by 81   1/3/2016 09:52  6/3/2016 10:00  \n",
       "10         ?      code 5   Resolved by 81   1/3/2016 09:52  6/3/2016 10:00  \n",
       "11         ?      code 5   Resolved by 81   1/3/2016 09:52  6/3/2016 10:00  \n",
       "12         ?      code 5   Resolved by 81   1/3/2016 09:52  6/3/2016 10:00  \n",
       "13         ?     code 10    Resolved by 5   1/3/2016 02:55  6/3/2016 03:00  \n",
       "14         ?     code 10    Resolved by 5   1/3/2016 02:55  6/3/2016 03:00  \n",
       "15         ?     code 10    Resolved by 5   1/3/2016 02:55  6/3/2016 03:00  \n",
       "16         ?     code 10    Resolved by 5   1/3/2016 02:55  6/3/2016 03:00  \n",
       "17         ?     code 10    Resolved by 5   1/3/2016 02:55  6/3/2016 03:00  \n",
       "18         ?     code 10    Resolved by 5   1/3/2016 02:55  6/3/2016 03:00  \n",
       "19         ?     code 10    Resolved by 5   1/3/2016 02:55  6/3/2016 03:00  \n",
       "\n",
       "[20 rows x 36 columns]"
      ]
     },
     "execution_count": 4,
     "metadata": {},
     "output_type": "execute_result"
    }
   ],
   "source": [
    "data.head(20)  "
   ]
  },
  {
   "cell_type": "code",
   "execution_count": 5,
   "id": "074fc12c",
   "metadata": {},
   "outputs": [
    {
     "data": {
      "text/html": [
       "<div>\n",
       "<style scoped>\n",
       "    .dataframe tbody tr th:only-of-type {\n",
       "        vertical-align: middle;\n",
       "    }\n",
       "\n",
       "    .dataframe tbody tr th {\n",
       "        vertical-align: top;\n",
       "    }\n",
       "\n",
       "    .dataframe thead th {\n",
       "        text-align: right;\n",
       "    }\n",
       "</style>\n",
       "<table border=\"1\" class=\"dataframe\">\n",
       "  <thead>\n",
       "    <tr style=\"text-align: right;\">\n",
       "      <th></th>\n",
       "      <th>reassignment_count</th>\n",
       "      <th>reopen_count</th>\n",
       "      <th>sys_mod_count</th>\n",
       "    </tr>\n",
       "  </thead>\n",
       "  <tbody>\n",
       "    <tr>\n",
       "      <th>count</th>\n",
       "      <td>141712.000000</td>\n",
       "      <td>141712.000000</td>\n",
       "      <td>141712.000000</td>\n",
       "    </tr>\n",
       "    <tr>\n",
       "      <th>mean</th>\n",
       "      <td>1.104197</td>\n",
       "      <td>0.021918</td>\n",
       "      <td>5.080946</td>\n",
       "    </tr>\n",
       "    <tr>\n",
       "      <th>std</th>\n",
       "      <td>1.734673</td>\n",
       "      <td>0.207302</td>\n",
       "      <td>7.680652</td>\n",
       "    </tr>\n",
       "    <tr>\n",
       "      <th>min</th>\n",
       "      <td>0.000000</td>\n",
       "      <td>0.000000</td>\n",
       "      <td>0.000000</td>\n",
       "    </tr>\n",
       "    <tr>\n",
       "      <th>25%</th>\n",
       "      <td>0.000000</td>\n",
       "      <td>0.000000</td>\n",
       "      <td>1.000000</td>\n",
       "    </tr>\n",
       "    <tr>\n",
       "      <th>50%</th>\n",
       "      <td>1.000000</td>\n",
       "      <td>0.000000</td>\n",
       "      <td>3.000000</td>\n",
       "    </tr>\n",
       "    <tr>\n",
       "      <th>75%</th>\n",
       "      <td>1.000000</td>\n",
       "      <td>0.000000</td>\n",
       "      <td>6.000000</td>\n",
       "    </tr>\n",
       "    <tr>\n",
       "      <th>max</th>\n",
       "      <td>27.000000</td>\n",
       "      <td>8.000000</td>\n",
       "      <td>129.000000</td>\n",
       "    </tr>\n",
       "  </tbody>\n",
       "</table>\n",
       "</div>"
      ],
      "text/plain": [
       "       reassignment_count   reopen_count  sys_mod_count\n",
       "count       141712.000000  141712.000000  141712.000000\n",
       "mean             1.104197       0.021918       5.080946\n",
       "std              1.734673       0.207302       7.680652\n",
       "min              0.000000       0.000000       0.000000\n",
       "25%              0.000000       0.000000       1.000000\n",
       "50%              1.000000       0.000000       3.000000\n",
       "75%              1.000000       0.000000       6.000000\n",
       "max             27.000000       8.000000     129.000000"
      ]
     },
     "execution_count": 5,
     "metadata": {},
     "output_type": "execute_result"
    }
   ],
   "source": [
    "data.describe()"
   ]
  },
  {
   "cell_type": "markdown",
   "id": "81dd464a",
   "metadata": {},
   "source": [
    "reassignment_count: number of times the incident has the group or the support analysts changed;\n",
    "\n",
    "reopen_count: number of times the incident resolution was rejected by the caller;\n",
    "\n",
    "sys_mod_count: number of incident updates until that moment;\n",
    "\n",
    "made_sla: boolean attribute that shows whether the incident exceeded the target SLA;"
   ]
  },
  {
   "cell_type": "code",
   "execution_count": 6,
   "id": "b2fc27ce",
   "metadata": {},
   "outputs": [
    {
     "name": "stdout",
     "output_type": "stream",
     "text": [
      "<class 'pandas.core.frame.DataFrame'>\n",
      "RangeIndex: 141712 entries, 0 to 141711\n",
      "Data columns (total 36 columns):\n",
      " #   Column                   Non-Null Count   Dtype \n",
      "---  ------                   --------------   ----- \n",
      " 0   number                   141712 non-null  object\n",
      " 1   incident_state           141712 non-null  object\n",
      " 2   active                   141712 non-null  bool  \n",
      " 3   reassignment_count       141712 non-null  int64 \n",
      " 4   reopen_count             141712 non-null  int64 \n",
      " 5   sys_mod_count            141712 non-null  int64 \n",
      " 6   made_sla                 141712 non-null  bool  \n",
      " 7   caller_id                141712 non-null  object\n",
      " 8   opened_by                141712 non-null  object\n",
      " 9   opened_at                141712 non-null  object\n",
      " 10  sys_created_by           141712 non-null  object\n",
      " 11  sys_created_at           141712 non-null  object\n",
      " 12  sys_updated_by           141712 non-null  object\n",
      " 13  sys_updated_at           141712 non-null  object\n",
      " 14  contact_type             141712 non-null  object\n",
      " 15  location                 141712 non-null  object\n",
      " 16  category                 141712 non-null  object\n",
      " 17  subcategory              141712 non-null  object\n",
      " 18  u_symptom                141712 non-null  object\n",
      " 19  cmdb_ci                  141712 non-null  object\n",
      " 20  impact                   141712 non-null  object\n",
      " 21  urgency                  141712 non-null  object\n",
      " 22  priority                 141712 non-null  object\n",
      " 23  assignment_group         141712 non-null  object\n",
      " 24  assigned_to              141712 non-null  object\n",
      " 25  knowledge                141712 non-null  bool  \n",
      " 26  u_priority_confirmation  141712 non-null  bool  \n",
      " 27  notify                   141712 non-null  object\n",
      " 28  problem_id               141712 non-null  object\n",
      " 29  rfc                      141712 non-null  object\n",
      " 30  vendor                   141712 non-null  object\n",
      " 31  caused_by                141712 non-null  object\n",
      " 32  closed_code              141712 non-null  object\n",
      " 33  resolved_by              141712 non-null  object\n",
      " 34  resolved_at              141712 non-null  object\n",
      " 35  closed_at                141712 non-null  object\n",
      "dtypes: bool(4), int64(3), object(29)\n",
      "memory usage: 35.1+ MB\n"
     ]
    }
   ],
   "source": [
    "data.info()"
   ]
  },
  {
   "cell_type": "code",
   "execution_count": 7,
   "id": "d8b84aaf",
   "metadata": {},
   "outputs": [
    {
     "name": "stdout",
     "output_type": "stream",
     "text": [
      "number                     0\n",
      "incident_state             0\n",
      "active                     0\n",
      "reassignment_count         0\n",
      "reopen_count               0\n",
      "sys_mod_count              0\n",
      "made_sla                   0\n",
      "caller_id                  0\n",
      "opened_by                  0\n",
      "opened_at                  0\n",
      "sys_created_by             0\n",
      "sys_created_at             0\n",
      "sys_updated_by             0\n",
      "sys_updated_at             0\n",
      "contact_type               0\n",
      "location                   0\n",
      "category                   0\n",
      "subcategory                0\n",
      "u_symptom                  0\n",
      "cmdb_ci                    0\n",
      "impact                     0\n",
      "urgency                    0\n",
      "priority                   0\n",
      "assignment_group           0\n",
      "assigned_to                0\n",
      "knowledge                  0\n",
      "u_priority_confirmation    0\n",
      "notify                     0\n",
      "problem_id                 0\n",
      "rfc                        0\n",
      "vendor                     0\n",
      "caused_by                  0\n",
      "closed_code                0\n",
      "resolved_by                0\n",
      "resolved_at                0\n",
      "closed_at                  0\n",
      "dtype: int64\n"
     ]
    }
   ],
   "source": [
    "print(data.isnull().sum()) "
   ]
  },
  {
   "cell_type": "code",
   "execution_count": 8,
   "id": "a9ad766b",
   "metadata": {},
   "outputs": [],
   "source": [
    "#incident state: eight levels controlling the incident management process transitions from opening until closing the case;\n",
    "incident_state  = data['incident_state'].value_counts(ascending=False)"
   ]
  },
  {
   "cell_type": "code",
   "execution_count": 9,
   "id": "ec972e2c",
   "metadata": {},
   "outputs": [
    {
     "data": {
      "image/png": "[encoded data removed]",
      "text/plain": [
       "<Figure size 432x288 with 1 Axes>"
      ]
     },
     "metadata": {
      "needs_background": "light"
     },
     "output_type": "display_data"
    }
   ],
   "source": [
    "x_incident_state = incident_state.iloc[:15].plot(kind='barh')"
   ]
  },
  {
   "cell_type": "code",
   "execution_count": 10,
   "id": "3647fd2f",
   "metadata": {},
   "outputs": [
    {
     "data": {
      "text/plain": [
       "Active                38716\n",
       "New                   36407\n",
       "Resolved              25751\n",
       "Closed                24985\n",
       "Awaiting User Info    14642\n",
       "Awaiting Vendor         707\n",
       "Awaiting Problem        461\n",
       "Awaiting Evidence        38\n",
       "-100                      5\n",
       "Name: incident_state, dtype: int64"
      ]
     },
     "execution_count": 10,
     "metadata": {},
     "output_type": "execute_result"
    }
   ],
   "source": [
    "incident_state"
   ]
  },
  {
   "cell_type": "code",
   "execution_count": 11,
   "id": "8a1f617f",
   "metadata": {},
   "outputs": [
    {
     "data": {
      "image/png": "[encoded data removed]",
      "text/plain": [
       "<Figure size 432x288 with 1 Axes>"
      ]
     },
     "metadata": {
      "needs_background": "light"
     },
     "output_type": "display_data"
    }
   ],
   "source": [
    "x_incident_state = incident_state.iloc[:15].plot(kind='barh')"
   ]
  },
  {
   "cell_type": "code",
   "execution_count": 12,
   "id": "ee7d5398",
   "metadata": {},
   "outputs": [
    {
     "data": {
      "text/plain": [
       "made_sla\n",
       "True     132497\n",
       "False      9215\n",
       "dtype: int64"
      ]
     },
     "execution_count": 12,
     "metadata": {},
     "output_type": "execute_result"
    }
   ],
   "source": [
    "data.value_counts(\"made_sla\")"
   ]
  },
  {
   "cell_type": "markdown",
   "id": "be142773",
   "metadata": {},
   "source": [
    "### Selecting all columns that is known as a new job."
   ]
  },
  {
   "cell_type": "code",
   "execution_count": 13,
   "id": "a9263bbf",
   "metadata": {},
   "outputs": [],
   "source": [
    "COLS = ['incident_state','contact_type','location','category','subcategory','u_symptom','impact','urgency','assignment_group','vendor','made_sla']"
   ]
  },
  {
   "cell_type": "code",
   "execution_count": 14,
   "id": "a9e696cd",
   "metadata": {},
   "outputs": [],
   "source": [
    "data_sla = data[COLS]"
   ]
  },
  {
   "cell_type": "code",
   "execution_count": 15,
   "id": "9144e402",
   "metadata": {},
   "outputs": [],
   "source": [
    "resolved_incidents_sla = data_sla[data_sla['incident_state'] == 'Closed']"
   ]
  },
  {
   "cell_type": "code",
   "execution_count": 16,
   "id": "ccbeb5a6",
   "metadata": {},
   "outputs": [
    {
     "data": {
      "text/html": [
       "<div>\n",
       "<style scoped>\n",
       "    .dataframe tbody tr th:only-of-type {\n",
       "        vertical-align: middle;\n",
       "    }\n",
       "\n",
       "    .dataframe tbody tr th {\n",
       "        vertical-align: top;\n",
       "    }\n",
       "\n",
       "    .dataframe thead th {\n",
       "        text-align: right;\n",
       "    }\n",
       "</style>\n",
       "<table border=\"1\" class=\"dataframe\">\n",
       "  <thead>\n",
       "    <tr style=\"text-align: right;\">\n",
       "      <th></th>\n",
       "      <th>incident_state</th>\n",
       "      <th>contact_type</th>\n",
       "      <th>location</th>\n",
       "      <th>category</th>\n",
       "      <th>subcategory</th>\n",
       "      <th>u_symptom</th>\n",
       "      <th>impact</th>\n",
       "      <th>urgency</th>\n",
       "      <th>assignment_group</th>\n",
       "      <th>vendor</th>\n",
       "      <th>made_sla</th>\n",
       "    </tr>\n",
       "  </thead>\n",
       "  <tbody>\n",
       "    <tr>\n",
       "      <th>3</th>\n",
       "      <td>Closed</td>\n",
       "      <td>Phone</td>\n",
       "      <td>Location 143</td>\n",
       "      <td>Category 55</td>\n",
       "      <td>Subcategory 170</td>\n",
       "      <td>Symptom 72</td>\n",
       "      <td>2 - Medium</td>\n",
       "      <td>2 - Medium</td>\n",
       "      <td>Group 56</td>\n",
       "      <td>?</td>\n",
       "      <td>True</td>\n",
       "    </tr>\n",
       "    <tr>\n",
       "      <th>12</th>\n",
       "      <td>Closed</td>\n",
       "      <td>Phone</td>\n",
       "      <td>Location 165</td>\n",
       "      <td>Category 40</td>\n",
       "      <td>Subcategory 215</td>\n",
       "      <td>Symptom 471</td>\n",
       "      <td>2 - Medium</td>\n",
       "      <td>2 - Medium</td>\n",
       "      <td>Group 24</td>\n",
       "      <td>?</td>\n",
       "      <td>True</td>\n",
       "    </tr>\n",
       "    <tr>\n",
       "      <th>19</th>\n",
       "      <td>Closed</td>\n",
       "      <td>Phone</td>\n",
       "      <td>Location 204</td>\n",
       "      <td>Category 20</td>\n",
       "      <td>Subcategory 125</td>\n",
       "      <td>Symptom 471</td>\n",
       "      <td>2 - Medium</td>\n",
       "      <td>2 - Medium</td>\n",
       "      <td>Group 70</td>\n",
       "      <td>?</td>\n",
       "      <td>True</td>\n",
       "    </tr>\n",
       "    <tr>\n",
       "      <th>23</th>\n",
       "      <td>Closed</td>\n",
       "      <td>Phone</td>\n",
       "      <td>Location 204</td>\n",
       "      <td>Category 9</td>\n",
       "      <td>Subcategory 97</td>\n",
       "      <td>Symptom 450</td>\n",
       "      <td>2 - Medium</td>\n",
       "      <td>2 - Medium</td>\n",
       "      <td>Group 25</td>\n",
       "      <td>?</td>\n",
       "      <td>True</td>\n",
       "    </tr>\n",
       "    <tr>\n",
       "      <th>31</th>\n",
       "      <td>Closed</td>\n",
       "      <td>Phone</td>\n",
       "      <td>Location 93</td>\n",
       "      <td>Category 53</td>\n",
       "      <td>Subcategory 168</td>\n",
       "      <td>Symptom 232</td>\n",
       "      <td>1 - High</td>\n",
       "      <td>2 - Medium</td>\n",
       "      <td>Group 23</td>\n",
       "      <td>?</td>\n",
       "      <td>False</td>\n",
       "    </tr>\n",
       "  </tbody>\n",
       "</table>\n",
       "</div>"
      ],
      "text/plain": [
       "   incident_state contact_type      location     category      subcategory  \\\n",
       "3          Closed        Phone  Location 143  Category 55  Subcategory 170   \n",
       "12         Closed        Phone  Location 165  Category 40  Subcategory 215   \n",
       "19         Closed        Phone  Location 204  Category 20  Subcategory 125   \n",
       "23         Closed        Phone  Location 204   Category 9   Subcategory 97   \n",
       "31         Closed        Phone   Location 93  Category 53  Subcategory 168   \n",
       "\n",
       "      u_symptom      impact     urgency assignment_group vendor  made_sla  \n",
       "3    Symptom 72  2 - Medium  2 - Medium         Group 56      ?      True  \n",
       "12  Symptom 471  2 - Medium  2 - Medium         Group 24      ?      True  \n",
       "19  Symptom 471  2 - Medium  2 - Medium         Group 70      ?      True  \n",
       "23  Symptom 450  2 - Medium  2 - Medium         Group 25      ?      True  \n",
       "31  Symptom 232    1 - High  2 - Medium         Group 23      ?     False  "
      ]
     },
     "execution_count": 16,
     "metadata": {},
     "output_type": "execute_result"
    }
   ],
   "source": [
    "resolved_incidents_sla.head()"
   ]
  },
  {
   "cell_type": "code",
   "execution_count": 17,
   "id": "082bf093",
   "metadata": {},
   "outputs": [
    {
     "name": "stdout",
     "output_type": "stream",
     "text": [
      "(24985, 11)\n"
     ]
    }
   ],
   "source": [
    "print (resolved_incidents_sla.shape)"
   ]
  },
  {
   "cell_type": "code",
   "execution_count": 18,
   "id": "031d7cbd",
   "metadata": {},
   "outputs": [],
   "source": [
    "data_processed_drop_nan_sla = resolved_incidents_sla[resolved_incidents_sla['location'] != \"?\"]"
   ]
  },
  {
   "cell_type": "code",
   "execution_count": 19,
   "id": "05a68c1c",
   "metadata": {},
   "outputs": [],
   "source": [
    "data_processed_drop_nan_sla = data_processed_drop_nan_sla[data_processed_drop_nan_sla['category'] != \"?\"]"
   ]
  },
  {
   "cell_type": "code",
   "execution_count": 20,
   "id": "b0bb6c6d",
   "metadata": {},
   "outputs": [],
   "source": [
    "data_processed_drop_nan_sla = data_processed_drop_nan_sla[data_processed_drop_nan_sla['u_symptom'] != \"?\"]"
   ]
  },
  {
   "cell_type": "code",
   "execution_count": 21,
   "id": "8c50e2a5",
   "metadata": {},
   "outputs": [
    {
     "name": "stdout",
     "output_type": "stream",
     "text": [
      "<class 'pandas.core.frame.DataFrame'>\n",
      "Int64Index: 19129 entries, 3 to 141711\n",
      "Data columns (total 11 columns):\n",
      " #   Column            Non-Null Count  Dtype \n",
      "---  ------            --------------  ----- \n",
      " 0   incident_state    19129 non-null  object\n",
      " 1   contact_type      19129 non-null  object\n",
      " 2   location          19129 non-null  object\n",
      " 3   category          19129 non-null  object\n",
      " 4   subcategory       19129 non-null  object\n",
      " 5   u_symptom         19129 non-null  object\n",
      " 6   impact            19129 non-null  object\n",
      " 7   urgency           19129 non-null  object\n",
      " 8   assignment_group  19129 non-null  object\n",
      " 9   vendor            19129 non-null  object\n",
      " 10  made_sla          19129 non-null  bool  \n",
      "dtypes: bool(1), object(10)\n",
      "memory usage: 1.6+ MB\n"
     ]
    }
   ],
   "source": [
    "data_processed_drop_nan_sla.info()"
   ]
  },
  {
   "cell_type": "code",
   "execution_count": 22,
   "id": "25547dc1",
   "metadata": {},
   "outputs": [
    {
     "data": {
      "text/plain": [
       "made_sla\n",
       "True     12561\n",
       "False     6568\n",
       "dtype: int64"
      ]
     },
     "execution_count": 22,
     "metadata": {},
     "output_type": "execute_result"
    }
   ],
   "source": [
    "data_processed_drop_nan_sla.value_counts(\"made_sla\")"
   ]
  },
  {
   "cell_type": "markdown",
   "id": "01bea6a0",
   "metadata": {},
   "source": [
    "### Barh charts on value counts"
   ]
  },
  {
   "cell_type": "code",
   "execution_count": 23,
   "id": "8e938c77",
   "metadata": {},
   "outputs": [],
   "source": [
    "location  = data_processed_drop_nan_sla['location'].value_counts(ascending=False)"
   ]
  },
  {
   "cell_type": "code",
   "execution_count": 24,
   "id": "82173a16",
   "metadata": {},
   "outputs": [
    {
     "data": {
      "image/png": "[encoded data removed]",
      "text/plain": [
       "<Figure size 432x288 with 1 Axes>"
      ]
     },
     "metadata": {
      "needs_background": "light"
     },
     "output_type": "display_data"
    }
   ],
   "source": [
    "x_location = location.iloc[:15].plot(kind='barh')"
   ]
  },
  {
   "cell_type": "code",
   "execution_count": 25,
   "id": "67000c7b",
   "metadata": {},
   "outputs": [],
   "source": [
    "category = data_processed_drop_nan_sla['category'].value_counts(ascending=False)"
   ]
  },
  {
   "cell_type": "code",
   "execution_count": 26,
   "id": "60f5ead3",
   "metadata": {},
   "outputs": [
    {
     "data": {
      "image/png": "[encoded data removed]",
      "text/plain": [
       "<Figure size 432x288 with 1 Axes>"
      ]
     },
     "metadata": {
      "needs_background": "light"
     },
     "output_type": "display_data"
    }
   ],
   "source": [
    "x_category = category.iloc[:15].plot(kind='barh')"
   ]
  },
  {
   "cell_type": "code",
   "execution_count": 27,
   "id": "06dbee46",
   "metadata": {},
   "outputs": [],
   "source": [
    "category = data_processed_drop_nan_sla['assignment_group'].value_counts(ascending=False)"
   ]
  },
  {
   "cell_type": "code",
   "execution_count": 28,
   "id": "38bf2a15",
   "metadata": {},
   "outputs": [
    {
     "data": {
      "image/png": "[encoded data removed]",
      "text/plain": [
       "<Figure size 432x288 with 1 Axes>"
      ]
     },
     "metadata": {
      "needs_background": "light"
     },
     "output_type": "display_data"
    }
   ],
   "source": [
    "x_assignment_group = category.iloc[:15].plot(kind='barh')"
   ]
  },
  {
   "cell_type": "code",
   "execution_count": 29,
   "id": "20054251",
   "metadata": {},
   "outputs": [
    {
     "name": "stderr",
     "output_type": "stream",
     "text": [
      "C:\\Users\\isuri\\anaconda3\\lib\\site-packages\\pandas\\core\\frame.py:3191: SettingWithCopyWarning: \n",
      "A value is trying to be set on a copy of a slice from a DataFrame.\n",
      "Try using .loc[row_indexer,col_indexer] = value instead\n",
      "\n",
      "See the caveats in the documentation: https://pandas.pydata.org/pandas-docs/stable/user_guide/indexing.html#returning-a-view-versus-a-copy\n",
      "  self[k1] = value[k2]\n"
     ]
    }
   ],
   "source": [
    "cols = ['category']\n",
    "\n",
    "data_sla[cols] = data_sla[cols].replace({'Category ':''}, regex = True) "
   ]
  },
  {
   "cell_type": "code",
   "execution_count": 30,
   "id": "a8155cf5",
   "metadata": {},
   "outputs": [
    {
     "data": {
      "text/plain": [
       "vendor\n",
       "?           141468\n",
       "code 8s        167\n",
       "Vendor 1        69\n",
       "Vendor 3         6\n",
       "Vendor 2         2\n",
       "dtype: int64"
      ]
     },
     "execution_count": 30,
     "metadata": {},
     "output_type": "execute_result"
    }
   ],
   "source": [
    "data_sla.value_counts(\"vendor\")"
   ]
  },
  {
   "cell_type": "code",
   "execution_count": 31,
   "id": "b7f54724",
   "metadata": {},
   "outputs": [
    {
     "data": {
      "text/plain": [
       "assignment_group\n",
       "Group 70    43474\n",
       "?           14213\n",
       "Group 25     7679\n",
       "Group 24     6752\n",
       "Group 20     6170\n",
       "            ...  \n",
       "Group 41        3\n",
       "Group 38        2\n",
       "Group 16        1\n",
       "Group 4         1\n",
       "Group 11        1\n",
       "Length: 79, dtype: int64"
      ]
     },
     "execution_count": 31,
     "metadata": {},
     "output_type": "execute_result"
    }
   ],
   "source": [
    "data_sla.value_counts(\"assignment_group\")"
   ]
  },
  {
   "cell_type": "code",
   "execution_count": 32,
   "id": "a6e2e403",
   "metadata": {},
   "outputs": [
    {
     "data": {
      "text/plain": [
       "category\n",
       "26    18453\n",
       "42    15977\n",
       "53    15968\n",
       "46    13324\n",
       "23     7779\n",
       "9      7365\n",
       "32     7273\n",
       "37     6584\n",
       "57     6532\n",
       "20     5506\n",
       "61     5168\n",
       "24     4561\n",
       "34     3946\n",
       "40     3760\n",
       "45     3619\n",
       "51     2390\n",
       "28     2256\n",
       "35     2037\n",
       "44     1798\n",
       "19     1592\n",
       "13      994\n",
       "43      858\n",
       "55      801\n",
       "17      512\n",
       "22      420\n",
       "56      322\n",
       "38      290\n",
       "8       264\n",
       "7       207\n",
       "33      160\n",
       "54      139\n",
       "50       93\n",
       "31       92\n",
       "63       78\n",
       "?        78\n",
       "2        77\n",
       "21       69\n",
       "47       50\n",
       "59       42\n",
       "41       36\n",
       "29       32\n",
       "5        31\n",
       "25       30\n",
       "62       25\n",
       "10       24\n",
       "4        22\n",
       "52       16\n",
       "30       15\n",
       "48       10\n",
       "6         7\n",
       "16        7\n",
       "58        5\n",
       "14        5\n",
       "12        3\n",
       "15        3\n",
       "49        2\n",
       "36        2\n",
       "27        2\n",
       "3         1\n",
       "dtype: int64"
      ]
     },
     "execution_count": 32,
     "metadata": {},
     "output_type": "execute_result"
    }
   ],
   "source": [
    "data_sla.value_counts(\"category\")"
   ]
  },
  {
   "cell_type": "code",
   "execution_count": 33,
   "id": "79a26d36",
   "metadata": {},
   "outputs": [
    {
     "data": {
      "text/plain": [
       "location\n",
       "Location 204    31690\n",
       "Location 161    22605\n",
       "Location 143    19245\n",
       "Location 108    12623\n",
       "Location 93     11554\n",
       "                ...  \n",
       "Location 227        3\n",
       "Location 53         3\n",
       "Location 166        2\n",
       "Location 31         2\n",
       "Location 132        2\n",
       "Length: 225, dtype: int64"
      ]
     },
     "execution_count": 33,
     "metadata": {},
     "output_type": "execute_result"
    }
   ],
   "source": [
    "data_sla.value_counts(\"location\")"
   ]
  },
  {
   "cell_type": "code",
   "execution_count": 34,
   "id": "fe8733aa",
   "metadata": {},
   "outputs": [],
   "source": [
    "predict = data_sla[data_sla['category'] != '?']"
   ]
  },
  {
   "cell_type": "code",
   "execution_count": 35,
   "id": "3ce51e21",
   "metadata": {},
   "outputs": [],
   "source": [
    "predict = data_sla[data_sla['location'] != '?']"
   ]
  },
  {
   "cell_type": "code",
   "execution_count": 36,
   "id": "53b544dd",
   "metadata": {},
   "outputs": [],
   "source": [
    "predict = data_sla[data_sla['assignment_group'] != '?']"
   ]
  },
  {
   "cell_type": "code",
   "execution_count": 37,
   "id": "e6d74c17",
   "metadata": {},
   "outputs": [],
   "source": [
    "predict = data_sla[data_sla['vendor'] != '?']"
   ]
  },
  {
   "cell_type": "code",
   "execution_count": 38,
   "id": "de0f0751",
   "metadata": {},
   "outputs": [
    {
     "data": {
      "text/html": [
       "<div>\n",
       "<style scoped>\n",
       "    .dataframe tbody tr th:only-of-type {\n",
       "        vertical-align: middle;\n",
       "    }\n",
       "\n",
       "    .dataframe tbody tr th {\n",
       "        vertical-align: top;\n",
       "    }\n",
       "\n",
       "    .dataframe thead th {\n",
       "        text-align: right;\n",
       "    }\n",
       "</style>\n",
       "<table border=\"1\" class=\"dataframe\">\n",
       "  <thead>\n",
       "    <tr style=\"text-align: right;\">\n",
       "      <th></th>\n",
       "      <th>incident_state</th>\n",
       "      <th>contact_type</th>\n",
       "      <th>location</th>\n",
       "      <th>category</th>\n",
       "      <th>subcategory</th>\n",
       "      <th>u_symptom</th>\n",
       "      <th>impact</th>\n",
       "      <th>urgency</th>\n",
       "      <th>assignment_group</th>\n",
       "      <th>vendor</th>\n",
       "      <th>made_sla</th>\n",
       "    </tr>\n",
       "  </thead>\n",
       "  <tbody>\n",
       "    <tr>\n",
       "      <th>7857</th>\n",
       "      <td>Awaiting Vendor</td>\n",
       "      <td>Phone</td>\n",
       "      <td>Location 204</td>\n",
       "      <td>24</td>\n",
       "      <td>Subcategory 174</td>\n",
       "      <td>Symptom 491</td>\n",
       "      <td>2 - Medium</td>\n",
       "      <td>2 - Medium</td>\n",
       "      <td>Group 25</td>\n",
       "      <td>code 8s</td>\n",
       "      <td>True</td>\n",
       "    </tr>\n",
       "    <tr>\n",
       "      <th>7858</th>\n",
       "      <td>Awaiting Vendor</td>\n",
       "      <td>Phone</td>\n",
       "      <td>Location 204</td>\n",
       "      <td>24</td>\n",
       "      <td>Subcategory 174</td>\n",
       "      <td>Symptom 491</td>\n",
       "      <td>2 - Medium</td>\n",
       "      <td>2 - Medium</td>\n",
       "      <td>Group 25</td>\n",
       "      <td>code 8s</td>\n",
       "      <td>True</td>\n",
       "    </tr>\n",
       "    <tr>\n",
       "      <th>9086</th>\n",
       "      <td>Awaiting Vendor</td>\n",
       "      <td>Phone</td>\n",
       "      <td>Location 204</td>\n",
       "      <td>34</td>\n",
       "      <td>Subcategory 154</td>\n",
       "      <td>?</td>\n",
       "      <td>2 - Medium</td>\n",
       "      <td>2 - Medium</td>\n",
       "      <td>Group 25</td>\n",
       "      <td>code 8s</td>\n",
       "      <td>True</td>\n",
       "    </tr>\n",
       "    <tr>\n",
       "      <th>9087</th>\n",
       "      <td>Awaiting Vendor</td>\n",
       "      <td>Phone</td>\n",
       "      <td>Location 204</td>\n",
       "      <td>34</td>\n",
       "      <td>Subcategory 154</td>\n",
       "      <td>?</td>\n",
       "      <td>2 - Medium</td>\n",
       "      <td>2 - Medium</td>\n",
       "      <td>Group 25</td>\n",
       "      <td>code 8s</td>\n",
       "      <td>True</td>\n",
       "    </tr>\n",
       "    <tr>\n",
       "      <th>9088</th>\n",
       "      <td>Awaiting Vendor</td>\n",
       "      <td>Phone</td>\n",
       "      <td>Location 204</td>\n",
       "      <td>34</td>\n",
       "      <td>Subcategory 154</td>\n",
       "      <td>?</td>\n",
       "      <td>2 - Medium</td>\n",
       "      <td>2 - Medium</td>\n",
       "      <td>Group 25</td>\n",
       "      <td>code 8s</td>\n",
       "      <td>True</td>\n",
       "    </tr>\n",
       "    <tr>\n",
       "      <th>...</th>\n",
       "      <td>...</td>\n",
       "      <td>...</td>\n",
       "      <td>...</td>\n",
       "      <td>...</td>\n",
       "      <td>...</td>\n",
       "      <td>...</td>\n",
       "      <td>...</td>\n",
       "      <td>...</td>\n",
       "      <td>...</td>\n",
       "      <td>...</td>\n",
       "      <td>...</td>\n",
       "    </tr>\n",
       "    <tr>\n",
       "      <th>137209</th>\n",
       "      <td>Active</td>\n",
       "      <td>Phone</td>\n",
       "      <td>Location 204</td>\n",
       "      <td>24</td>\n",
       "      <td>Subcategory 228</td>\n",
       "      <td>Symptom 101</td>\n",
       "      <td>2 - Medium</td>\n",
       "      <td>2 - Medium</td>\n",
       "      <td>Group 25</td>\n",
       "      <td>Vendor 1</td>\n",
       "      <td>True</td>\n",
       "    </tr>\n",
       "    <tr>\n",
       "      <th>137210</th>\n",
       "      <td>Awaiting Vendor</td>\n",
       "      <td>Phone</td>\n",
       "      <td>Location 204</td>\n",
       "      <td>24</td>\n",
       "      <td>Subcategory 228</td>\n",
       "      <td>Symptom 101</td>\n",
       "      <td>2 - Medium</td>\n",
       "      <td>2 - Medium</td>\n",
       "      <td>Group 25</td>\n",
       "      <td>Vendor 1</td>\n",
       "      <td>True</td>\n",
       "    </tr>\n",
       "    <tr>\n",
       "      <th>137211</th>\n",
       "      <td>Awaiting Vendor</td>\n",
       "      <td>Phone</td>\n",
       "      <td>Location 204</td>\n",
       "      <td>24</td>\n",
       "      <td>Subcategory 228</td>\n",
       "      <td>Symptom 101</td>\n",
       "      <td>2 - Medium</td>\n",
       "      <td>2 - Medium</td>\n",
       "      <td>Group 25</td>\n",
       "      <td>Vendor 1</td>\n",
       "      <td>True</td>\n",
       "    </tr>\n",
       "    <tr>\n",
       "      <th>137212</th>\n",
       "      <td>Resolved</td>\n",
       "      <td>Phone</td>\n",
       "      <td>Location 204</td>\n",
       "      <td>24</td>\n",
       "      <td>Subcategory 228</td>\n",
       "      <td>Symptom 101</td>\n",
       "      <td>2 - Medium</td>\n",
       "      <td>2 - Medium</td>\n",
       "      <td>Group 25</td>\n",
       "      <td>Vendor 1</td>\n",
       "      <td>True</td>\n",
       "    </tr>\n",
       "    <tr>\n",
       "      <th>137213</th>\n",
       "      <td>Closed</td>\n",
       "      <td>Phone</td>\n",
       "      <td>Location 204</td>\n",
       "      <td>24</td>\n",
       "      <td>Subcategory 228</td>\n",
       "      <td>Symptom 101</td>\n",
       "      <td>2 - Medium</td>\n",
       "      <td>2 - Medium</td>\n",
       "      <td>Group 25</td>\n",
       "      <td>Vendor 1</td>\n",
       "      <td>False</td>\n",
       "    </tr>\n",
       "  </tbody>\n",
       "</table>\n",
       "<p>244 rows × 11 columns</p>\n",
       "</div>"
      ],
      "text/plain": [
       "         incident_state contact_type      location category      subcategory  \\\n",
       "7857    Awaiting Vendor        Phone  Location 204       24  Subcategory 174   \n",
       "7858    Awaiting Vendor        Phone  Location 204       24  Subcategory 174   \n",
       "9086    Awaiting Vendor        Phone  Location 204       34  Subcategory 154   \n",
       "9087    Awaiting Vendor        Phone  Location 204       34  Subcategory 154   \n",
       "9088    Awaiting Vendor        Phone  Location 204       34  Subcategory 154   \n",
       "...                 ...          ...           ...      ...              ...   \n",
       "137209           Active        Phone  Location 204       24  Subcategory 228   \n",
       "137210  Awaiting Vendor        Phone  Location 204       24  Subcategory 228   \n",
       "137211  Awaiting Vendor        Phone  Location 204       24  Subcategory 228   \n",
       "137212         Resolved        Phone  Location 204       24  Subcategory 228   \n",
       "137213           Closed        Phone  Location 204       24  Subcategory 228   \n",
       "\n",
       "          u_symptom      impact     urgency assignment_group    vendor  \\\n",
       "7857    Symptom 491  2 - Medium  2 - Medium         Group 25   code 8s   \n",
       "7858    Symptom 491  2 - Medium  2 - Medium         Group 25   code 8s   \n",
       "9086              ?  2 - Medium  2 - Medium         Group 25   code 8s   \n",
       "9087              ?  2 - Medium  2 - Medium         Group 25   code 8s   \n",
       "9088              ?  2 - Medium  2 - Medium         Group 25   code 8s   \n",
       "...             ...         ...         ...              ...       ...   \n",
       "137209  Symptom 101  2 - Medium  2 - Medium         Group 25  Vendor 1   \n",
       "137210  Symptom 101  2 - Medium  2 - Medium         Group 25  Vendor 1   \n",
       "137211  Symptom 101  2 - Medium  2 - Medium         Group 25  Vendor 1   \n",
       "137212  Symptom 101  2 - Medium  2 - Medium         Group 25  Vendor 1   \n",
       "137213  Symptom 101  2 - Medium  2 - Medium         Group 25  Vendor 1   \n",
       "\n",
       "        made_sla  \n",
       "7857        True  \n",
       "7858        True  \n",
       "9086        True  \n",
       "9087        True  \n",
       "9088        True  \n",
       "...          ...  \n",
       "137209      True  \n",
       "137210      True  \n",
       "137211      True  \n",
       "137212      True  \n",
       "137213     False  \n",
       "\n",
       "[244 rows x 11 columns]"
      ]
     },
     "execution_count": 38,
     "metadata": {},
     "output_type": "execute_result"
    }
   ],
   "source": [
    "predict"
   ]
  },
  {
   "cell_type": "code",
   "execution_count": 39,
   "id": "73f4b3f3",
   "metadata": {},
   "outputs": [
    {
     "data": {
      "text/plain": [
       "array(['code 8s', 'Vendor 3', 'Vendor 2', 'Vendor 1'], dtype=object)"
      ]
     },
     "execution_count": 39,
     "metadata": {},
     "output_type": "execute_result"
    }
   ],
   "source": [
    "predict.vendor.unique()"
   ]
  },
  {
   "cell_type": "code",
   "execution_count": 40,
   "id": "2848f1c2",
   "metadata": {},
   "outputs": [
    {
     "name": "stderr",
     "output_type": "stream",
     "text": [
      "C:\\Users\\isuri\\anaconda3\\lib\\site-packages\\pandas\\core\\frame.py:3191: SettingWithCopyWarning: \n",
      "A value is trying to be set on a copy of a slice from a DataFrame.\n",
      "Try using .loc[row_indexer,col_indexer] = value instead\n",
      "\n",
      "See the caveats in the documentation: https://pandas.pydata.org/pandas-docs/stable/user_guide/indexing.html#returning-a-view-versus-a-copy\n",
      "  self[k1] = value[k2]\n"
     ]
    }
   ],
   "source": [
    "cols = ['location']\n",
    "\n",
    "data_sla[cols] = data_sla[cols].replace({'Location ':''}, regex = True) "
   ]
  },
  {
   "cell_type": "code",
   "execution_count": 41,
   "id": "de91a4ac",
   "metadata": {},
   "outputs": [
    {
     "data": {
      "text/html": [
       "<div>\n",
       "<style scoped>\n",
       "    .dataframe tbody tr th:only-of-type {\n",
       "        vertical-align: middle;\n",
       "    }\n",
       "\n",
       "    .dataframe tbody tr th {\n",
       "        vertical-align: top;\n",
       "    }\n",
       "\n",
       "    .dataframe thead th {\n",
       "        text-align: right;\n",
       "    }\n",
       "</style>\n",
       "<table border=\"1\" class=\"dataframe\">\n",
       "  <thead>\n",
       "    <tr style=\"text-align: right;\">\n",
       "      <th></th>\n",
       "      <th>incident_state</th>\n",
       "      <th>contact_type</th>\n",
       "      <th>location</th>\n",
       "      <th>category</th>\n",
       "      <th>subcategory</th>\n",
       "      <th>u_symptom</th>\n",
       "      <th>impact</th>\n",
       "      <th>urgency</th>\n",
       "      <th>assignment_group</th>\n",
       "      <th>vendor</th>\n",
       "      <th>made_sla</th>\n",
       "    </tr>\n",
       "  </thead>\n",
       "  <tbody>\n",
       "    <tr>\n",
       "      <th>7857</th>\n",
       "      <td>Awaiting Vendor</td>\n",
       "      <td>Phone</td>\n",
       "      <td>Location 204</td>\n",
       "      <td>24</td>\n",
       "      <td>Subcategory 174</td>\n",
       "      <td>Symptom 491</td>\n",
       "      <td>2 - Medium</td>\n",
       "      <td>2 - Medium</td>\n",
       "      <td>Group 25</td>\n",
       "      <td>code 8s</td>\n",
       "      <td>True</td>\n",
       "    </tr>\n",
       "    <tr>\n",
       "      <th>7858</th>\n",
       "      <td>Awaiting Vendor</td>\n",
       "      <td>Phone</td>\n",
       "      <td>Location 204</td>\n",
       "      <td>24</td>\n",
       "      <td>Subcategory 174</td>\n",
       "      <td>Symptom 491</td>\n",
       "      <td>2 - Medium</td>\n",
       "      <td>2 - Medium</td>\n",
       "      <td>Group 25</td>\n",
       "      <td>code 8s</td>\n",
       "      <td>True</td>\n",
       "    </tr>\n",
       "    <tr>\n",
       "      <th>9086</th>\n",
       "      <td>Awaiting Vendor</td>\n",
       "      <td>Phone</td>\n",
       "      <td>Location 204</td>\n",
       "      <td>34</td>\n",
       "      <td>Subcategory 154</td>\n",
       "      <td>?</td>\n",
       "      <td>2 - Medium</td>\n",
       "      <td>2 - Medium</td>\n",
       "      <td>Group 25</td>\n",
       "      <td>code 8s</td>\n",
       "      <td>True</td>\n",
       "    </tr>\n",
       "    <tr>\n",
       "      <th>9087</th>\n",
       "      <td>Awaiting Vendor</td>\n",
       "      <td>Phone</td>\n",
       "      <td>Location 204</td>\n",
       "      <td>34</td>\n",
       "      <td>Subcategory 154</td>\n",
       "      <td>?</td>\n",
       "      <td>2 - Medium</td>\n",
       "      <td>2 - Medium</td>\n",
       "      <td>Group 25</td>\n",
       "      <td>code 8s</td>\n",
       "      <td>True</td>\n",
       "    </tr>\n",
       "    <tr>\n",
       "      <th>9088</th>\n",
       "      <td>Awaiting Vendor</td>\n",
       "      <td>Phone</td>\n",
       "      <td>Location 204</td>\n",
       "      <td>34</td>\n",
       "      <td>Subcategory 154</td>\n",
       "      <td>?</td>\n",
       "      <td>2 - Medium</td>\n",
       "      <td>2 - Medium</td>\n",
       "      <td>Group 25</td>\n",
       "      <td>code 8s</td>\n",
       "      <td>True</td>\n",
       "    </tr>\n",
       "    <tr>\n",
       "      <th>...</th>\n",
       "      <td>...</td>\n",
       "      <td>...</td>\n",
       "      <td>...</td>\n",
       "      <td>...</td>\n",
       "      <td>...</td>\n",
       "      <td>...</td>\n",
       "      <td>...</td>\n",
       "      <td>...</td>\n",
       "      <td>...</td>\n",
       "      <td>...</td>\n",
       "      <td>...</td>\n",
       "    </tr>\n",
       "    <tr>\n",
       "      <th>137209</th>\n",
       "      <td>Active</td>\n",
       "      <td>Phone</td>\n",
       "      <td>Location 204</td>\n",
       "      <td>24</td>\n",
       "      <td>Subcategory 228</td>\n",
       "      <td>Symptom 101</td>\n",
       "      <td>2 - Medium</td>\n",
       "      <td>2 - Medium</td>\n",
       "      <td>Group 25</td>\n",
       "      <td>Vendor 1</td>\n",
       "      <td>True</td>\n",
       "    </tr>\n",
       "    <tr>\n",
       "      <th>137210</th>\n",
       "      <td>Awaiting Vendor</td>\n",
       "      <td>Phone</td>\n",
       "      <td>Location 204</td>\n",
       "      <td>24</td>\n",
       "      <td>Subcategory 228</td>\n",
       "      <td>Symptom 101</td>\n",
       "      <td>2 - Medium</td>\n",
       "      <td>2 - Medium</td>\n",
       "      <td>Group 25</td>\n",
       "      <td>Vendor 1</td>\n",
       "      <td>True</td>\n",
       "    </tr>\n",
       "    <tr>\n",
       "      <th>137211</th>\n",
       "      <td>Awaiting Vendor</td>\n",
       "      <td>Phone</td>\n",
       "      <td>Location 204</td>\n",
       "      <td>24</td>\n",
       "      <td>Subcategory 228</td>\n",
       "      <td>Symptom 101</td>\n",
       "      <td>2 - Medium</td>\n",
       "      <td>2 - Medium</td>\n",
       "      <td>Group 25</td>\n",
       "      <td>Vendor 1</td>\n",
       "      <td>True</td>\n",
       "    </tr>\n",
       "    <tr>\n",
       "      <th>137212</th>\n",
       "      <td>Resolved</td>\n",
       "      <td>Phone</td>\n",
       "      <td>Location 204</td>\n",
       "      <td>24</td>\n",
       "      <td>Subcategory 228</td>\n",
       "      <td>Symptom 101</td>\n",
       "      <td>2 - Medium</td>\n",
       "      <td>2 - Medium</td>\n",
       "      <td>Group 25</td>\n",
       "      <td>Vendor 1</td>\n",
       "      <td>True</td>\n",
       "    </tr>\n",
       "    <tr>\n",
       "      <th>137213</th>\n",
       "      <td>Closed</td>\n",
       "      <td>Phone</td>\n",
       "      <td>Location 204</td>\n",
       "      <td>24</td>\n",
       "      <td>Subcategory 228</td>\n",
       "      <td>Symptom 101</td>\n",
       "      <td>2 - Medium</td>\n",
       "      <td>2 - Medium</td>\n",
       "      <td>Group 25</td>\n",
       "      <td>Vendor 1</td>\n",
       "      <td>False</td>\n",
       "    </tr>\n",
       "  </tbody>\n",
       "</table>\n",
       "<p>244 rows × 11 columns</p>\n",
       "</div>"
      ],
      "text/plain": [
       "         incident_state contact_type      location category      subcategory  \\\n",
       "7857    Awaiting Vendor        Phone  Location 204       24  Subcategory 174   \n",
       "7858    Awaiting Vendor        Phone  Location 204       24  Subcategory 174   \n",
       "9086    Awaiting Vendor        Phone  Location 204       34  Subcategory 154   \n",
       "9087    Awaiting Vendor        Phone  Location 204       34  Subcategory 154   \n",
       "9088    Awaiting Vendor        Phone  Location 204       34  Subcategory 154   \n",
       "...                 ...          ...           ...      ...              ...   \n",
       "137209           Active        Phone  Location 204       24  Subcategory 228   \n",
       "137210  Awaiting Vendor        Phone  Location 204       24  Subcategory 228   \n",
       "137211  Awaiting Vendor        Phone  Location 204       24  Subcategory 228   \n",
       "137212         Resolved        Phone  Location 204       24  Subcategory 228   \n",
       "137213           Closed        Phone  Location 204       24  Subcategory 228   \n",
       "\n",
       "          u_symptom      impact     urgency assignment_group    vendor  \\\n",
       "7857    Symptom 491  2 - Medium  2 - Medium         Group 25   code 8s   \n",
       "7858    Symptom 491  2 - Medium  2 - Medium         Group 25   code 8s   \n",
       "9086              ?  2 - Medium  2 - Medium         Group 25   code 8s   \n",
       "9087              ?  2 - Medium  2 - Medium         Group 25   code 8s   \n",
       "9088              ?  2 - Medium  2 - Medium         Group 25   code 8s   \n",
       "...             ...         ...         ...              ...       ...   \n",
       "137209  Symptom 101  2 - Medium  2 - Medium         Group 25  Vendor 1   \n",
       "137210  Symptom 101  2 - Medium  2 - Medium         Group 25  Vendor 1   \n",
       "137211  Symptom 101  2 - Medium  2 - Medium         Group 25  Vendor 1   \n",
       "137212  Symptom 101  2 - Medium  2 - Medium         Group 25  Vendor 1   \n",
       "137213  Symptom 101  2 - Medium  2 - Medium         Group 25  Vendor 1   \n",
       "\n",
       "        made_sla  \n",
       "7857        True  \n",
       "7858        True  \n",
       "9086        True  \n",
       "9087        True  \n",
       "9088        True  \n",
       "...          ...  \n",
       "137209      True  \n",
       "137210      True  \n",
       "137211      True  \n",
       "137212      True  \n",
       "137213     False  \n",
       "\n",
       "[244 rows x 11 columns]"
      ]
     },
     "execution_count": 41,
     "metadata": {},
     "output_type": "execute_result"
    }
   ],
   "source": [
    "predict"
   ]
  },
  {
   "cell_type": "code",
   "execution_count": 42,
   "id": "aecbd5f7",
   "metadata": {},
   "outputs": [
    {
     "data": {
      "text/plain": [
       "made_sla\n",
       "True     234\n",
       "False     10\n",
       "dtype: int64"
      ]
     },
     "execution_count": 42,
     "metadata": {},
     "output_type": "execute_result"
    }
   ],
   "source": [
    "predict.value_counts(\"made_sla\")"
   ]
  },
  {
   "cell_type": "markdown",
   "id": "90c37c20",
   "metadata": {},
   "source": [
    "https://pandas.pydata.org/pandas-docs/stable/user_guide/visualization.html"
   ]
  },
  {
   "cell_type": "code",
   "execution_count": 43,
   "id": "7f6633d4",
   "metadata": {},
   "outputs": [],
   "source": [
    "\n",
    "df2 = pd.DataFrame(np.random.rand(10, 3), columns=[\"location\", \"assignment_group\", \"impact\",])"
   ]
  },
  {
   "cell_type": "code",
   "execution_count": 44,
   "id": "75243c64",
   "metadata": {},
   "outputs": [
    {
     "data": {
      "image/png": "[encoded data removed]",
      "text/plain": [
       "<Figure size 432x288 with 1 Axes>"
      ]
     },
     "metadata": {
      "needs_background": "light"
     },
     "output_type": "display_data"
    }
   ],
   "source": [
    "df2.plot.bar();"
   ]
  },
  {
   "cell_type": "code",
   "execution_count": 45,
   "id": "0348e9ea",
   "metadata": {},
   "outputs": [
    {
     "data": {
      "image/png": "[encoded data removed]",
      "text/plain": [
       "<Figure size 432x288 with 1 Axes>"
      ]
     },
     "metadata": {
      "needs_background": "light"
     },
     "output_type": "display_data"
    }
   ],
   "source": [
    "df2.plot.bar(stacked=True);"
   ]
  },
  {
   "cell_type": "code",
   "execution_count": 46,
   "id": "97ab358a",
   "metadata": {},
   "outputs": [],
   "source": [
    "df = pd.DataFrame(\n",
    "    3 * np.random.rand(4, 2), index=[\"location\", \"assignment_group\", \"impact\",\"made_sla\"], columns=[\"x\", \"y\"]\n",
    ")"
   ]
  },
  {
   "cell_type": "code",
   "execution_count": 47,
   "id": "a0b4a7c7",
   "metadata": {},
   "outputs": [
    {
     "data": {
      "image/png": "[encoded data removed]",
      "text/plain": [
       "<Figure size 864x288 with 2 Axes>"
      ]
     },
     "metadata": {},
     "output_type": "display_data"
    }
   ],
   "source": [
    "df.plot.pie(subplots=True, figsize=(12, 4),autopct=\"%.2f\");"
   ]
  },
  {
   "cell_type": "markdown",
   "id": "651fc9ed",
   "metadata": {},
   "source": [
    "## Spliting Data to Train and Test"
   ]
  },
  {
   "cell_type": "markdown",
   "id": "265eb631",
   "metadata": {},
   "source": [
    "### CatBoostClassifier"
   ]
  },
  {
   "cell_type": "code",
   "execution_count": 48,
   "id": "9cb29954",
   "metadata": {},
   "outputs": [],
   "source": [
    "X = data_processed_drop_nan_sla.drop(['made_sla'], axis=1)\n",
    "y = data_processed_drop_nan_sla.made_sla"
   ]
  },
  {
   "cell_type": "code",
   "execution_count": 49,
   "id": "9bdda1c7",
   "metadata": {},
   "outputs": [],
   "source": [
    "X_train, X_validation, y_train, y_validation = train_test_split(X, y, train_size=0.7, random_state=1234, stratify=y)\n"
   ]
  },
  {
   "cell_type": "markdown",
   "id": "5a994366",
   "metadata": {},
   "source": [
    "https://stackoverflow.com/questions/60648547/how-to-increase-accuracy-of-model-using-catboost"
   ]
  },
  {
   "cell_type": "markdown",
   "id": "67ac1a3d",
   "metadata": {},
   "source": [
    "https://www.analyticsvidhya.com/blog/2017/08/catboost-automated-categorical-data/"
   ]
  },
  {
   "cell_type": "code",
   "execution_count": 50,
   "id": "a0e8bf0c",
   "metadata": {},
   "outputs": [],
   "source": [
    "categorical_features_indices = np.where(X.dtypes != np.float)[0]\n"
   ]
  },
  {
   "cell_type": "code",
   "execution_count": 51,
   "id": "18f0dad4",
   "metadata": {},
   "outputs": [],
   "source": [
    " best_params = {\n",
    "            'bagging_temperature': 0.5,\n",
    "            'depth': 8,\n",
    "            'iterations': 600,\n",
    "            'learning_rate': 0.5,\n",
    "            'sampling_frequency': 'PerTreeLevel',\n",
    "            'leaf_estimation_method': 'Gradient',\n",
    "            'random_strength': 0.8,\n",
    "            'l2_leaf_reg': 50,\n",
    "            'max_ctr_complexity': 2,\n",
    "            'fold_len_multiplier': 2, \n",
    "            'eval_metric': 'AUC'\n",
    "     \n",
    "    }"
   ]
  },
  {
   "cell_type": "code",
   "execution_count": 52,
   "id": "f5bbe663",
   "metadata": {},
   "outputs": [
    {
     "data": {
      "application/vnd.jupyter.widget-view+json": {
       "model_id": "e94a56922cb9438c9a5bdd784a5770a0",
       "version_major": 2,
       "version_minor": 0
      },
      "text/plain": [
       "MetricVisualizer(layout=Layout(align_self='stretch', height='500px'))"
      ]
     },
     "metadata": {},
     "output_type": "display_data"
    },
    {
     "name": "stdout",
     "output_type": "stream",
     "text": [
      "0:\ttest: 0.7583703\tbest: 0.7583703 (0)\ttotal: 369ms\tremaining: 3m 41s\n",
      "1:\ttest: 0.7881533\tbest: 0.7881533 (1)\ttotal: 745ms\tremaining: 3m 42s\n",
      "2:\ttest: 0.8017268\tbest: 0.8017268 (2)\ttotal: 951ms\tremaining: 3m 9s\n",
      "3:\ttest: 0.8107966\tbest: 0.8107966 (3)\ttotal: 1.23s\tremaining: 3m 3s\n",
      "4:\ttest: 0.8143538\tbest: 0.8143538 (4)\ttotal: 1.4s\tremaining: 2m 46s\n",
      "5:\ttest: 0.8174513\tbest: 0.8174513 (5)\ttotal: 1.65s\tremaining: 2m 42s\n",
      "6:\ttest: 0.8208797\tbest: 0.8208797 (6)\ttotal: 1.96s\tremaining: 2m 45s\n",
      "7:\ttest: 0.8211309\tbest: 0.8211309 (7)\ttotal: 2.15s\tremaining: 2m 39s\n",
      "8:\ttest: 0.8221940\tbest: 0.8221940 (8)\ttotal: 2.49s\tremaining: 2m 43s\n",
      "9:\ttest: 0.8226078\tbest: 0.8226078 (9)\ttotal: 2.69s\tremaining: 2m 38s\n",
      "10:\ttest: 0.8231191\tbest: 0.8231191 (10)\ttotal: 3.16s\tremaining: 2m 49s\n",
      "11:\ttest: 0.8232646\tbest: 0.8232646 (11)\ttotal: 3.52s\tremaining: 2m 52s\n",
      "12:\ttest: 0.8226026\tbest: 0.8232646 (11)\ttotal: 3.61s\tremaining: 2m 42s\n",
      "13:\ttest: 0.8225987\tbest: 0.8232646 (11)\ttotal: 3.65s\tremaining: 2m 32s\n",
      "14:\ttest: 0.8231210\tbest: 0.8232646 (11)\ttotal: 3.86s\tremaining: 2m 30s\n",
      "15:\ttest: 0.8229949\tbest: 0.8232646 (11)\ttotal: 4.05s\tremaining: 2m 27s\n",
      "16:\ttest: 0.8232886\tbest: 0.8232886 (16)\ttotal: 4.25s\tremaining: 2m 25s\n",
      "17:\ttest: 0.8237194\tbest: 0.8237194 (17)\ttotal: 4.43s\tremaining: 2m 23s\n",
      "18:\ttest: 0.8234454\tbest: 0.8237194 (17)\ttotal: 4.63s\tremaining: 2m 21s\n",
      "19:\ttest: 0.8241740\tbest: 0.8241740 (19)\ttotal: 4.82s\tremaining: 2m 19s\n",
      "20:\ttest: 0.8239985\tbest: 0.8241740 (19)\ttotal: 5s\tremaining: 2m 17s\n",
      "21:\ttest: 0.8247433\tbest: 0.8247433 (21)\ttotal: 5.21s\tremaining: 2m 16s\n",
      "22:\ttest: 0.8240350\tbest: 0.8247433 (21)\ttotal: 5.39s\tremaining: 2m 15s\n",
      "23:\ttest: 0.8230608\tbest: 0.8247433 (21)\ttotal: 5.61s\tremaining: 2m 14s\n",
      "24:\ttest: 0.8230777\tbest: 0.8247433 (21)\ttotal: 5.88s\tremaining: 2m 15s\n",
      "25:\ttest: 0.8228671\tbest: 0.8247433 (21)\ttotal: 6.14s\tremaining: 2m 15s\n",
      "26:\ttest: 0.8228582\tbest: 0.8247433 (21)\ttotal: 6.41s\tremaining: 2m 15s\n",
      "27:\ttest: 0.8229127\tbest: 0.8247433 (21)\ttotal: 6.68s\tremaining: 2m 16s\n",
      "28:\ttest: 0.8231828\tbest: 0.8247433 (21)\ttotal: 6.89s\tremaining: 2m 15s\n",
      "29:\ttest: 0.8228840\tbest: 0.8247433 (21)\ttotal: 7.09s\tremaining: 2m 14s\n",
      "30:\ttest: 0.8227332\tbest: 0.8247433 (21)\ttotal: 7.31s\tremaining: 2m 14s\n",
      "31:\ttest: 0.8227913\tbest: 0.8247433 (21)\ttotal: 7.52s\tremaining: 2m 13s\n",
      "32:\ttest: 0.8226453\tbest: 0.8247433 (21)\ttotal: 7.75s\tremaining: 2m 13s\n",
      "33:\ttest: 0.8211007\tbest: 0.8247433 (21)\ttotal: 7.99s\tremaining: 2m 12s\n",
      "34:\ttest: 0.8209986\tbest: 0.8247433 (21)\ttotal: 8.17s\tremaining: 2m 11s\n",
      "35:\ttest: 0.8201083\tbest: 0.8247433 (21)\ttotal: 8.4s\tremaining: 2m 11s\n",
      "36:\ttest: 0.8193314\tbest: 0.8247433 (21)\ttotal: 8.63s\tremaining: 2m 11s\n",
      "37:\ttest: 0.8193336\tbest: 0.8247433 (21)\ttotal: 8.89s\tremaining: 2m 11s\n",
      "38:\ttest: 0.8193517\tbest: 0.8247433 (21)\ttotal: 9.14s\tremaining: 2m 11s\n",
      "39:\ttest: 0.8180214\tbest: 0.8247433 (21)\ttotal: 9.39s\tremaining: 2m 11s\n",
      "40:\ttest: 0.8179342\tbest: 0.8247433 (21)\ttotal: 9.6s\tremaining: 2m 10s\n",
      "41:\ttest: 0.8181252\tbest: 0.8247433 (21)\ttotal: 9.82s\tremaining: 2m 10s\n",
      "42:\ttest: 0.8183995\tbest: 0.8247433 (21)\ttotal: 10s\tremaining: 2m 10s\n",
      "43:\ttest: 0.8186658\tbest: 0.8247433 (21)\ttotal: 10.3s\tremaining: 2m 9s\n",
      "44:\ttest: 0.8187371\tbest: 0.8247433 (21)\ttotal: 10.6s\tremaining: 2m 10s\n",
      "45:\ttest: 0.8188709\tbest: 0.8247433 (21)\ttotal: 10.8s\tremaining: 2m 10s\n",
      "46:\ttest: 0.8188456\tbest: 0.8247433 (21)\ttotal: 11.2s\tremaining: 2m 12s\n",
      "47:\ttest: 0.8191880\tbest: 0.8247433 (21)\ttotal: 11.4s\tremaining: 2m 11s\n",
      "48:\ttest: 0.8195791\tbest: 0.8247433 (21)\ttotal: 11.6s\tremaining: 2m 10s\n",
      "49:\ttest: 0.8187604\tbest: 0.8247433 (21)\ttotal: 11.8s\tremaining: 2m 10s\n",
      "50:\ttest: 0.8187293\tbest: 0.8247433 (21)\ttotal: 12.1s\tremaining: 2m 10s\n",
      "51:\ttest: 0.8183091\tbest: 0.8247433 (21)\ttotal: 12.3s\tremaining: 2m 9s\n",
      "52:\ttest: 0.8181968\tbest: 0.8247433 (21)\ttotal: 12.5s\tremaining: 2m 9s\n",
      "53:\ttest: 0.8180032\tbest: 0.8247433 (21)\ttotal: 12.7s\tremaining: 2m 8s\n",
      "54:\ttest: 0.8178373\tbest: 0.8247433 (21)\ttotal: 13s\tremaining: 2m 8s\n",
      "55:\ttest: 0.8179115\tbest: 0.8247433 (21)\ttotal: 13.2s\tremaining: 2m 8s\n",
      "56:\ttest: 0.8176956\tbest: 0.8247433 (21)\ttotal: 13.4s\tremaining: 2m 7s\n",
      "57:\ttest: 0.8178495\tbest: 0.8247433 (21)\ttotal: 13.6s\tremaining: 2m 6s\n",
      "58:\ttest: 0.8177762\tbest: 0.8247433 (21)\ttotal: 13.7s\tremaining: 2m 5s\n",
      "59:\ttest: 0.8177102\tbest: 0.8247433 (21)\ttotal: 13.9s\tremaining: 2m 5s\n",
      "60:\ttest: 0.8177292\tbest: 0.8247433 (21)\ttotal: 14.1s\tremaining: 2m 4s\n",
      "61:\ttest: 0.8178713\tbest: 0.8247433 (21)\ttotal: 14.3s\tremaining: 2m 4s\n",
      "62:\ttest: 0.8178614\tbest: 0.8247433 (21)\ttotal: 14.5s\tremaining: 2m 3s\n",
      "63:\ttest: 0.8174862\tbest: 0.8247433 (21)\ttotal: 14.7s\tremaining: 2m 3s\n",
      "64:\ttest: 0.8176845\tbest: 0.8247433 (21)\ttotal: 14.9s\tremaining: 2m 2s\n",
      "65:\ttest: 0.8176976\tbest: 0.8247433 (21)\ttotal: 15.1s\tremaining: 2m 2s\n",
      "66:\ttest: 0.8175318\tbest: 0.8247433 (21)\ttotal: 15.3s\tremaining: 2m 1s\n",
      "67:\ttest: 0.8174809\tbest: 0.8247433 (21)\ttotal: 15.5s\tremaining: 2m 1s\n",
      "68:\ttest: 0.8175728\tbest: 0.8247433 (21)\ttotal: 15.7s\tremaining: 2m\n",
      "69:\ttest: 0.8175661\tbest: 0.8247433 (21)\ttotal: 15.9s\tremaining: 2m\n",
      "70:\ttest: 0.8177495\tbest: 0.8247433 (21)\ttotal: 16.2s\tremaining: 2m\n",
      "71:\ttest: 0.8176726\tbest: 0.8247433 (21)\ttotal: 16.3s\tremaining: 1m 59s\n",
      "72:\ttest: 0.8171176\tbest: 0.8247433 (21)\ttotal: 16.7s\tremaining: 2m\n",
      "73:\ttest: 0.8168601\tbest: 0.8247433 (21)\ttotal: 16.9s\tremaining: 2m\n",
      "74:\ttest: 0.8172351\tbest: 0.8247433 (21)\ttotal: 17.2s\tremaining: 2m\n",
      "75:\ttest: 0.8172253\tbest: 0.8247433 (21)\ttotal: 17.4s\tremaining: 2m\n",
      "76:\ttest: 0.8164179\tbest: 0.8247433 (21)\ttotal: 17.7s\tremaining: 2m\n",
      "77:\ttest: 0.8166548\tbest: 0.8247433 (21)\ttotal: 17.9s\tremaining: 1m 59s\n",
      "78:\ttest: 0.8167222\tbest: 0.8247433 (21)\ttotal: 18.2s\tremaining: 1m 59s\n",
      "79:\ttest: 0.8167373\tbest: 0.8247433 (21)\ttotal: 18.4s\tremaining: 1m 59s\n",
      "80:\ttest: 0.8167881\tbest: 0.8247433 (21)\ttotal: 18.6s\tremaining: 1m 59s\n",
      "81:\ttest: 0.8168043\tbest: 0.8247433 (21)\ttotal: 18.8s\tremaining: 1m 58s\n",
      "82:\ttest: 0.8166429\tbest: 0.8247433 (21)\ttotal: 19s\tremaining: 1m 58s\n",
      "83:\ttest: 0.8169233\tbest: 0.8247433 (21)\ttotal: 19.2s\tremaining: 1m 57s\n",
      "84:\ttest: 0.8164073\tbest: 0.8247433 (21)\ttotal: 19.4s\tremaining: 1m 57s\n",
      "85:\ttest: 0.8162993\tbest: 0.8247433 (21)\ttotal: 19.6s\tremaining: 1m 57s\n",
      "86:\ttest: 0.8163116\tbest: 0.8247433 (21)\ttotal: 19.8s\tremaining: 1m 56s\n",
      "87:\ttest: 0.8162391\tbest: 0.8247433 (21)\ttotal: 20s\tremaining: 1m 56s\n",
      "88:\ttest: 0.8161991\tbest: 0.8247433 (21)\ttotal: 20.3s\tremaining: 1m 56s\n",
      "89:\ttest: 0.8165110\tbest: 0.8247433 (21)\ttotal: 20.5s\tremaining: 1m 56s\n",
      "90:\ttest: 0.8164530\tbest: 0.8247433 (21)\ttotal: 20.7s\tremaining: 1m 55s\n",
      "91:\ttest: 0.8162655\tbest: 0.8247433 (21)\ttotal: 20.9s\tremaining: 1m 55s\n",
      "92:\ttest: 0.8162292\tbest: 0.8247433 (21)\ttotal: 21.1s\tremaining: 1m 54s\n",
      "93:\ttest: 0.8163320\tbest: 0.8247433 (21)\ttotal: 21.3s\tremaining: 1m 54s\n",
      "94:\ttest: 0.8156900\tbest: 0.8247433 (21)\ttotal: 21.5s\tremaining: 1m 54s\n",
      "95:\ttest: 0.8157157\tbest: 0.8247433 (21)\ttotal: 21.7s\tremaining: 1m 53s\n",
      "96:\ttest: 0.8156570\tbest: 0.8247433 (21)\ttotal: 21.8s\tremaining: 1m 53s\n",
      "97:\ttest: 0.8148557\tbest: 0.8247433 (21)\ttotal: 22s\tremaining: 1m 52s\n",
      "98:\ttest: 0.8150657\tbest: 0.8247433 (21)\ttotal: 22.2s\tremaining: 1m 52s\n",
      "99:\ttest: 0.8150132\tbest: 0.8247433 (21)\ttotal: 22.4s\tremaining: 1m 52s\n",
      "100:\ttest: 0.8148751\tbest: 0.8247433 (21)\ttotal: 22.6s\tremaining: 1m 51s\n",
      "101:\ttest: 0.8148179\tbest: 0.8247433 (21)\ttotal: 22.9s\tremaining: 1m 51s\n",
      "102:\ttest: 0.8150202\tbest: 0.8247433 (21)\ttotal: 23.3s\tremaining: 1m 52s\n",
      "103:\ttest: 0.8150123\tbest: 0.8247433 (21)\ttotal: 23.7s\tremaining: 1m 53s\n",
      "104:\ttest: 0.8151411\tbest: 0.8247433 (21)\ttotal: 23.9s\tremaining: 1m 52s\n",
      "105:\ttest: 0.8149142\tbest: 0.8247433 (21)\ttotal: 24.1s\tremaining: 1m 52s\n",
      "106:\ttest: 0.8147084\tbest: 0.8247433 (21)\ttotal: 24.4s\tremaining: 1m 52s\n",
      "107:\ttest: 0.8142333\tbest: 0.8247433 (21)\ttotal: 24.7s\tremaining: 1m 52s\n",
      "108:\ttest: 0.8141545\tbest: 0.8247433 (21)\ttotal: 24.9s\tremaining: 1m 52s\n",
      "109:\ttest: 0.8141243\tbest: 0.8247433 (21)\ttotal: 25.1s\tremaining: 1m 51s\n",
      "110:\ttest: 0.8139653\tbest: 0.8247433 (21)\ttotal: 25.3s\tremaining: 1m 51s\n",
      "111:\ttest: 0.8137485\tbest: 0.8247433 (21)\ttotal: 25.5s\tremaining: 1m 51s\n",
      "112:\ttest: 0.8136836\tbest: 0.8247433 (21)\ttotal: 25.7s\tremaining: 1m 50s\n",
      "113:\ttest: 0.8137367\tbest: 0.8247433 (21)\ttotal: 25.9s\tremaining: 1m 50s\n",
      "114:\ttest: 0.8134842\tbest: 0.8247433 (21)\ttotal: 26.1s\tremaining: 1m 50s\n",
      "115:\ttest: 0.8135479\tbest: 0.8247433 (21)\ttotal: 26.3s\tremaining: 1m 49s\n"
     ]
    },
    {
     "name": "stdout",
     "output_type": "stream",
     "text": [
      "116:\ttest: 0.8139731\tbest: 0.8247433 (21)\ttotal: 26.5s\tremaining: 1m 49s\n",
      "117:\ttest: 0.8138440\tbest: 0.8247433 (21)\ttotal: 26.7s\tremaining: 1m 49s\n",
      "118:\ttest: 0.8135005\tbest: 0.8247433 (21)\ttotal: 26.9s\tremaining: 1m 48s\n",
      "119:\ttest: 0.8131182\tbest: 0.8247433 (21)\ttotal: 27.1s\tremaining: 1m 48s\n",
      "120:\ttest: 0.8133019\tbest: 0.8247433 (21)\ttotal: 27.3s\tremaining: 1m 47s\n",
      "121:\ttest: 0.8131844\tbest: 0.8247433 (21)\ttotal: 27.5s\tremaining: 1m 47s\n",
      "122:\ttest: 0.8132519\tbest: 0.8247433 (21)\ttotal: 27.7s\tremaining: 1m 47s\n",
      "123:\ttest: 0.8131922\tbest: 0.8247433 (21)\ttotal: 27.8s\tremaining: 1m 46s\n",
      "124:\ttest: 0.8121138\tbest: 0.8247433 (21)\ttotal: 28s\tremaining: 1m 46s\n",
      "125:\ttest: 0.8119628\tbest: 0.8247433 (21)\ttotal: 28.2s\tremaining: 1m 46s\n",
      "126:\ttest: 0.8113448\tbest: 0.8247433 (21)\ttotal: 28.4s\tremaining: 1m 45s\n",
      "127:\ttest: 0.8113385\tbest: 0.8247433 (21)\ttotal: 28.6s\tremaining: 1m 45s\n",
      "128:\ttest: 0.8115730\tbest: 0.8247433 (21)\ttotal: 28.8s\tremaining: 1m 45s\n",
      "129:\ttest: 0.8114192\tbest: 0.8247433 (21)\ttotal: 29s\tremaining: 1m 44s\n",
      "130:\ttest: 0.8116095\tbest: 0.8247433 (21)\ttotal: 29.2s\tremaining: 1m 44s\n",
      "131:\ttest: 0.8113043\tbest: 0.8247433 (21)\ttotal: 29.4s\tremaining: 1m 44s\n",
      "132:\ttest: 0.8110267\tbest: 0.8247433 (21)\ttotal: 29.5s\tremaining: 1m 43s\n",
      "133:\ttest: 0.8114918\tbest: 0.8247433 (21)\ttotal: 29.7s\tremaining: 1m 43s\n",
      "134:\ttest: 0.8115019\tbest: 0.8247433 (21)\ttotal: 29.9s\tremaining: 1m 42s\n",
      "135:\ttest: 0.8115558\tbest: 0.8247433 (21)\ttotal: 30s\tremaining: 1m 42s\n",
      "136:\ttest: 0.8116034\tbest: 0.8247433 (21)\ttotal: 30.2s\tremaining: 1m 42s\n",
      "137:\ttest: 0.8112175\tbest: 0.8247433 (21)\ttotal: 30.4s\tremaining: 1m 41s\n",
      "138:\ttest: 0.8103892\tbest: 0.8247433 (21)\ttotal: 30.6s\tremaining: 1m 41s\n",
      "139:\ttest: 0.8102069\tbest: 0.8247433 (21)\ttotal: 30.9s\tremaining: 1m 41s\n",
      "140:\ttest: 0.8105567\tbest: 0.8247433 (21)\ttotal: 31s\tremaining: 1m 41s\n",
      "141:\ttest: 0.8105374\tbest: 0.8247433 (21)\ttotal: 31.2s\tremaining: 1m 40s\n",
      "142:\ttest: 0.8102223\tbest: 0.8247433 (21)\ttotal: 31.4s\tremaining: 1m 40s\n",
      "143:\ttest: 0.8095385\tbest: 0.8247433 (21)\ttotal: 31.6s\tremaining: 1m 40s\n",
      "144:\ttest: 0.8094302\tbest: 0.8247433 (21)\ttotal: 31.8s\tremaining: 1m 39s\n",
      "145:\ttest: 0.8094100\tbest: 0.8247433 (21)\ttotal: 32s\tremaining: 1m 39s\n",
      "146:\ttest: 0.8089837\tbest: 0.8247433 (21)\ttotal: 32.2s\tremaining: 1m 39s\n",
      "147:\ttest: 0.8085262\tbest: 0.8247433 (21)\ttotal: 32.5s\tremaining: 1m 39s\n",
      "148:\ttest: 0.8087207\tbest: 0.8247433 (21)\ttotal: 32.7s\tremaining: 1m 38s\n",
      "149:\ttest: 0.8088815\tbest: 0.8247433 (21)\ttotal: 32.9s\tremaining: 1m 38s\n",
      "150:\ttest: 0.8084415\tbest: 0.8247433 (21)\ttotal: 33s\tremaining: 1m 38s\n",
      "151:\ttest: 0.8083241\tbest: 0.8247433 (21)\ttotal: 33.2s\tremaining: 1m 37s\n",
      "152:\ttest: 0.8083861\tbest: 0.8247433 (21)\ttotal: 33.4s\tremaining: 1m 37s\n",
      "153:\ttest: 0.8085188\tbest: 0.8247433 (21)\ttotal: 33.6s\tremaining: 1m 37s\n",
      "154:\ttest: 0.8082837\tbest: 0.8247433 (21)\ttotal: 33.8s\tremaining: 1m 37s\n",
      "155:\ttest: 0.8080307\tbest: 0.8247433 (21)\ttotal: 34s\tremaining: 1m 36s\n",
      "156:\ttest: 0.8074693\tbest: 0.8247433 (21)\ttotal: 34.2s\tremaining: 1m 36s\n",
      "157:\ttest: 0.8075097\tbest: 0.8247433 (21)\ttotal: 34.4s\tremaining: 1m 36s\n",
      "158:\ttest: 0.8076213\tbest: 0.8247433 (21)\ttotal: 34.6s\tremaining: 1m 35s\n",
      "159:\ttest: 0.8072484\tbest: 0.8247433 (21)\ttotal: 34.8s\tremaining: 1m 35s\n",
      "160:\ttest: 0.8071112\tbest: 0.8247433 (21)\ttotal: 35s\tremaining: 1m 35s\n",
      "161:\ttest: 0.8072741\tbest: 0.8247433 (21)\ttotal: 35.2s\tremaining: 1m 35s\n",
      "162:\ttest: 0.8072088\tbest: 0.8247433 (21)\ttotal: 35.4s\tremaining: 1m 34s\n",
      "163:\ttest: 0.8070796\tbest: 0.8247433 (21)\ttotal: 35.5s\tremaining: 1m 34s\n",
      "164:\ttest: 0.8067704\tbest: 0.8247433 (21)\ttotal: 35.7s\tremaining: 1m 34s\n",
      "165:\ttest: 0.8068149\tbest: 0.8247433 (21)\ttotal: 35.9s\tremaining: 1m 33s\n",
      "166:\ttest: 0.8064138\tbest: 0.8247433 (21)\ttotal: 36.1s\tremaining: 1m 33s\n",
      "167:\ttest: 0.8063469\tbest: 0.8247433 (21)\ttotal: 36.3s\tremaining: 1m 33s\n",
      "168:\ttest: 0.8061129\tbest: 0.8247433 (21)\ttotal: 36.5s\tremaining: 1m 33s\n",
      "169:\ttest: 0.8059516\tbest: 0.8247433 (21)\ttotal: 36.7s\tremaining: 1m 32s\n",
      "170:\ttest: 0.8057116\tbest: 0.8247433 (21)\ttotal: 36.9s\tremaining: 1m 32s\n",
      "171:\ttest: 0.8055455\tbest: 0.8247433 (21)\ttotal: 37.1s\tremaining: 1m 32s\n",
      "172:\ttest: 0.8054784\tbest: 0.8247433 (21)\ttotal: 37.3s\tremaining: 1m 31s\n",
      "173:\ttest: 0.8055793\tbest: 0.8247433 (21)\ttotal: 37.5s\tremaining: 1m 31s\n",
      "174:\ttest: 0.8054687\tbest: 0.8247433 (21)\ttotal: 37.7s\tremaining: 1m 31s\n",
      "175:\ttest: 0.8053969\tbest: 0.8247433 (21)\ttotal: 37.9s\tremaining: 1m 31s\n",
      "176:\ttest: 0.8041303\tbest: 0.8247433 (21)\ttotal: 38.1s\tremaining: 1m 31s\n",
      "177:\ttest: 0.8042707\tbest: 0.8247433 (21)\ttotal: 38.3s\tremaining: 1m 30s\n",
      "178:\ttest: 0.8040856\tbest: 0.8247433 (21)\ttotal: 38.4s\tremaining: 1m 30s\n",
      "179:\ttest: 0.8043457\tbest: 0.8247433 (21)\ttotal: 38.6s\tremaining: 1m 30s\n",
      "180:\ttest: 0.8043507\tbest: 0.8247433 (21)\ttotal: 38.8s\tremaining: 1m 29s\n",
      "181:\ttest: 0.8042239\tbest: 0.8247433 (21)\ttotal: 39s\tremaining: 1m 29s\n",
      "182:\ttest: 0.8044202\tbest: 0.8247433 (21)\ttotal: 39.1s\tremaining: 1m 29s\n",
      "183:\ttest: 0.8041645\tbest: 0.8247433 (21)\ttotal: 39.3s\tremaining: 1m 28s\n",
      "184:\ttest: 0.8042246\tbest: 0.8247433 (21)\ttotal: 39.5s\tremaining: 1m 28s\n",
      "185:\ttest: 0.8037362\tbest: 0.8247433 (21)\ttotal: 39.7s\tremaining: 1m 28s\n",
      "186:\ttest: 0.8033955\tbest: 0.8247433 (21)\ttotal: 39.9s\tremaining: 1m 28s\n",
      "187:\ttest: 0.8034017\tbest: 0.8247433 (21)\ttotal: 40.1s\tremaining: 1m 27s\n",
      "188:\ttest: 0.8033738\tbest: 0.8247433 (21)\ttotal: 40.3s\tremaining: 1m 27s\n",
      "189:\ttest: 0.8034554\tbest: 0.8247433 (21)\ttotal: 40.4s\tremaining: 1m 27s\n",
      "190:\ttest: 0.8029086\tbest: 0.8247433 (21)\ttotal: 40.6s\tremaining: 1m 27s\n",
      "191:\ttest: 0.8028616\tbest: 0.8247433 (21)\ttotal: 40.8s\tremaining: 1m 26s\n",
      "192:\ttest: 0.8025896\tbest: 0.8247433 (21)\ttotal: 41s\tremaining: 1m 26s\n",
      "193:\ttest: 0.8027635\tbest: 0.8247433 (21)\ttotal: 41.2s\tremaining: 1m 26s\n",
      "194:\ttest: 0.8025892\tbest: 0.8247433 (21)\ttotal: 41.4s\tremaining: 1m 26s\n",
      "195:\ttest: 0.8024764\tbest: 0.8247433 (21)\ttotal: 41.6s\tremaining: 1m 25s\n",
      "196:\ttest: 0.8025847\tbest: 0.8247433 (21)\ttotal: 41.8s\tremaining: 1m 25s\n",
      "197:\ttest: 0.8024733\tbest: 0.8247433 (21)\ttotal: 42s\tremaining: 1m 25s\n",
      "198:\ttest: 0.8025322\tbest: 0.8247433 (21)\ttotal: 42.2s\tremaining: 1m 24s\n",
      "199:\ttest: 0.8022168\tbest: 0.8247433 (21)\ttotal: 42.3s\tremaining: 1m 24s\n",
      "200:\ttest: 0.8021585\tbest: 0.8247433 (21)\ttotal: 42.5s\tremaining: 1m 24s\n",
      "201:\ttest: 0.8021598\tbest: 0.8247433 (21)\ttotal: 43.1s\tremaining: 1m 24s\n",
      "202:\ttest: 0.8017871\tbest: 0.8247433 (21)\ttotal: 43.6s\tremaining: 1m 25s\n",
      "203:\ttest: 0.8017721\tbest: 0.8247433 (21)\ttotal: 43.9s\tremaining: 1m 25s\n",
      "204:\ttest: 0.8016349\tbest: 0.8247433 (21)\ttotal: 44.2s\tremaining: 1m 25s\n",
      "205:\ttest: 0.8016886\tbest: 0.8247433 (21)\ttotal: 44.4s\tremaining: 1m 24s\n",
      "206:\ttest: 0.8015213\tbest: 0.8247433 (21)\ttotal: 44.7s\tremaining: 1m 24s\n",
      "207:\ttest: 0.8012982\tbest: 0.8247433 (21)\ttotal: 44.9s\tremaining: 1m 24s\n",
      "208:\ttest: 0.8012557\tbest: 0.8247433 (21)\ttotal: 45s\tremaining: 1m 24s\n",
      "209:\ttest: 0.8010902\tbest: 0.8247433 (21)\ttotal: 45.3s\tremaining: 1m 24s\n",
      "210:\ttest: 0.8006052\tbest: 0.8247433 (21)\ttotal: 45.5s\tremaining: 1m 23s\n",
      "211:\ttest: 0.8002691\tbest: 0.8247433 (21)\ttotal: 45.7s\tremaining: 1m 23s\n",
      "212:\ttest: 0.8002886\tbest: 0.8247433 (21)\ttotal: 45.9s\tremaining: 1m 23s\n",
      "213:\ttest: 0.8001222\tbest: 0.8247433 (21)\ttotal: 46.1s\tremaining: 1m 23s\n",
      "214:\ttest: 0.8002842\tbest: 0.8247433 (21)\ttotal: 46.4s\tremaining: 1m 23s\n",
      "215:\ttest: 0.8003407\tbest: 0.8247433 (21)\ttotal: 46.7s\tremaining: 1m 22s\n",
      "216:\ttest: 0.8001463\tbest: 0.8247433 (21)\ttotal: 46.9s\tremaining: 1m 22s\n",
      "217:\ttest: 0.7999385\tbest: 0.8247433 (21)\ttotal: 47.1s\tremaining: 1m 22s\n",
      "218:\ttest: 0.7998578\tbest: 0.8247433 (21)\ttotal: 47.3s\tremaining: 1m 22s\n",
      "219:\ttest: 0.7997510\tbest: 0.8247433 (21)\ttotal: 47.5s\tremaining: 1m 22s\n",
      "220:\ttest: 0.7997997\tbest: 0.8247433 (21)\ttotal: 47.7s\tremaining: 1m 21s\n",
      "221:\ttest: 0.7998586\tbest: 0.8247433 (21)\ttotal: 47.9s\tremaining: 1m 21s\n",
      "222:\ttest: 0.8002325\tbest: 0.8247433 (21)\ttotal: 48.1s\tremaining: 1m 21s\n",
      "223:\ttest: 0.8001110\tbest: 0.8247433 (21)\ttotal: 48.3s\tremaining: 1m 21s\n",
      "224:\ttest: 0.8001845\tbest: 0.8247433 (21)\ttotal: 48.5s\tremaining: 1m 20s\n",
      "225:\ttest: 0.7994840\tbest: 0.8247433 (21)\ttotal: 48.7s\tremaining: 1m 20s\n",
      "226:\ttest: 0.7995493\tbest: 0.8247433 (21)\ttotal: 48.9s\tremaining: 1m 20s\n",
      "227:\ttest: 0.7994288\tbest: 0.8247433 (21)\ttotal: 49.1s\tremaining: 1m 20s\n",
      "228:\ttest: 0.7992535\tbest: 0.8247433 (21)\ttotal: 49.3s\tremaining: 1m 19s\n"
     ]
    },
    {
     "name": "stdout",
     "output_type": "stream",
     "text": [
      "229:\ttest: 0.7991741\tbest: 0.8247433 (21)\ttotal: 49.5s\tremaining: 1m 19s\n",
      "230:\ttest: 0.7994989\tbest: 0.8247433 (21)\ttotal: 49.7s\tremaining: 1m 19s\n",
      "231:\ttest: 0.7997580\tbest: 0.8247433 (21)\ttotal: 49.9s\tremaining: 1m 19s\n",
      "232:\ttest: 0.7997976\tbest: 0.8247433 (21)\ttotal: 50.2s\tremaining: 1m 19s\n",
      "233:\ttest: 0.7995889\tbest: 0.8247433 (21)\ttotal: 50.4s\tremaining: 1m 18s\n",
      "234:\ttest: 0.7995121\tbest: 0.8247433 (21)\ttotal: 50.6s\tremaining: 1m 18s\n",
      "235:\ttest: 0.7993890\tbest: 0.8247433 (21)\ttotal: 50.8s\tremaining: 1m 18s\n",
      "236:\ttest: 0.7992393\tbest: 0.8247433 (21)\ttotal: 51s\tremaining: 1m 18s\n",
      "237:\ttest: 0.7990149\tbest: 0.8247433 (21)\ttotal: 51.1s\tremaining: 1m 17s\n",
      "238:\ttest: 0.7990235\tbest: 0.8247433 (21)\ttotal: 51.3s\tremaining: 1m 17s\n",
      "239:\ttest: 0.7989117\tbest: 0.8247433 (21)\ttotal: 51.5s\tremaining: 1m 17s\n",
      "240:\ttest: 0.7985191\tbest: 0.8247433 (21)\ttotal: 51.7s\tremaining: 1m 17s\n",
      "241:\ttest: 0.7984207\tbest: 0.8247433 (21)\ttotal: 51.9s\tremaining: 1m 16s\n",
      "242:\ttest: 0.7980808\tbest: 0.8247433 (21)\ttotal: 52.1s\tremaining: 1m 16s\n",
      "243:\ttest: 0.7982319\tbest: 0.8247433 (21)\ttotal: 52.3s\tremaining: 1m 16s\n",
      "244:\ttest: 0.7982628\tbest: 0.8247433 (21)\ttotal: 52.5s\tremaining: 1m 16s\n",
      "245:\ttest: 0.7981974\tbest: 0.8247433 (21)\ttotal: 52.7s\tremaining: 1m 15s\n",
      "246:\ttest: 0.7983016\tbest: 0.8247433 (21)\ttotal: 52.8s\tremaining: 1m 15s\n",
      "247:\ttest: 0.7984138\tbest: 0.8247433 (21)\ttotal: 53s\tremaining: 1m 15s\n",
      "248:\ttest: 0.7984259\tbest: 0.8247433 (21)\ttotal: 53.2s\tremaining: 1m 15s\n",
      "249:\ttest: 0.7985136\tbest: 0.8247433 (21)\ttotal: 53.4s\tremaining: 1m 14s\n",
      "250:\ttest: 0.7981966\tbest: 0.8247433 (21)\ttotal: 53.6s\tremaining: 1m 14s\n",
      "251:\ttest: 0.7984724\tbest: 0.8247433 (21)\ttotal: 53.8s\tremaining: 1m 14s\n",
      "252:\ttest: 0.7981757\tbest: 0.8247433 (21)\ttotal: 54s\tremaining: 1m 14s\n",
      "253:\ttest: 0.7981889\tbest: 0.8247433 (21)\ttotal: 54.2s\tremaining: 1m 13s\n",
      "254:\ttest: 0.7980641\tbest: 0.8247433 (21)\ttotal: 54.4s\tremaining: 1m 13s\n",
      "255:\ttest: 0.7979922\tbest: 0.8247433 (21)\ttotal: 54.5s\tremaining: 1m 13s\n",
      "256:\ttest: 0.7977765\tbest: 0.8247433 (21)\ttotal: 54.8s\tremaining: 1m 13s\n",
      "257:\ttest: 0.7978062\tbest: 0.8247433 (21)\ttotal: 55s\tremaining: 1m 12s\n",
      "258:\ttest: 0.7977861\tbest: 0.8247433 (21)\ttotal: 55.2s\tremaining: 1m 12s\n",
      "259:\ttest: 0.7979371\tbest: 0.8247433 (21)\ttotal: 55.4s\tremaining: 1m 12s\n",
      "260:\ttest: 0.7980370\tbest: 0.8247433 (21)\ttotal: 55.7s\tremaining: 1m 12s\n",
      "261:\ttest: 0.7981787\tbest: 0.8247433 (21)\ttotal: 55.9s\tremaining: 1m 12s\n",
      "262:\ttest: 0.7982630\tbest: 0.8247433 (21)\ttotal: 56.1s\tremaining: 1m 11s\n",
      "263:\ttest: 0.7982527\tbest: 0.8247433 (21)\ttotal: 56.3s\tremaining: 1m 11s\n",
      "264:\ttest: 0.7986085\tbest: 0.8247433 (21)\ttotal: 56.5s\tremaining: 1m 11s\n",
      "265:\ttest: 0.7982540\tbest: 0.8247433 (21)\ttotal: 56.7s\tremaining: 1m 11s\n",
      "266:\ttest: 0.7983322\tbest: 0.8247433 (21)\ttotal: 56.9s\tremaining: 1m 10s\n",
      "267:\ttest: 0.7980089\tbest: 0.8247433 (21)\ttotal: 57s\tremaining: 1m 10s\n",
      "268:\ttest: 0.7982208\tbest: 0.8247433 (21)\ttotal: 57.2s\tremaining: 1m 10s\n",
      "269:\ttest: 0.7982914\tbest: 0.8247433 (21)\ttotal: 57.5s\tremaining: 1m 10s\n",
      "270:\ttest: 0.7982779\tbest: 0.8247433 (21)\ttotal: 57.8s\tremaining: 1m 10s\n",
      "271:\ttest: 0.7983638\tbest: 0.8247433 (21)\ttotal: 58s\tremaining: 1m 9s\n",
      "272:\ttest: 0.7987878\tbest: 0.8247433 (21)\ttotal: 58.2s\tremaining: 1m 9s\n",
      "273:\ttest: 0.7987299\tbest: 0.8247433 (21)\ttotal: 58.5s\tremaining: 1m 9s\n",
      "274:\ttest: 0.7985092\tbest: 0.8247433 (21)\ttotal: 58.7s\tremaining: 1m 9s\n",
      "275:\ttest: 0.7984800\tbest: 0.8247433 (21)\ttotal: 58.9s\tremaining: 1m 9s\n",
      "276:\ttest: 0.7985315\tbest: 0.8247433 (21)\ttotal: 59s\tremaining: 1m 8s\n",
      "277:\ttest: 0.7982588\tbest: 0.8247433 (21)\ttotal: 59.3s\tremaining: 1m 8s\n",
      "278:\ttest: 0.7983548\tbest: 0.8247433 (21)\ttotal: 59.5s\tremaining: 1m 8s\n",
      "279:\ttest: 0.7981567\tbest: 0.8247433 (21)\ttotal: 59.7s\tremaining: 1m 8s\n",
      "280:\ttest: 0.7981799\tbest: 0.8247433 (21)\ttotal: 60s\tremaining: 1m 8s\n",
      "281:\ttest: 0.7980716\tbest: 0.8247433 (21)\ttotal: 1m\tremaining: 1m 7s\n",
      "282:\ttest: 0.7982604\tbest: 0.8247433 (21)\ttotal: 1m\tremaining: 1m 7s\n",
      "283:\ttest: 0.7983031\tbest: 0.8247433 (21)\ttotal: 1m\tremaining: 1m 7s\n",
      "284:\ttest: 0.7979350\tbest: 0.8247433 (21)\ttotal: 1m\tremaining: 1m 7s\n",
      "285:\ttest: 0.7984101\tbest: 0.8247433 (21)\ttotal: 1m 1s\tremaining: 1m 7s\n",
      "286:\ttest: 0.7983221\tbest: 0.8247433 (21)\ttotal: 1m 1s\tremaining: 1m 6s\n",
      "287:\ttest: 0.7980419\tbest: 0.8247433 (21)\ttotal: 1m 1s\tremaining: 1m 6s\n",
      "288:\ttest: 0.7976733\tbest: 0.8247433 (21)\ttotal: 1m 1s\tremaining: 1m 6s\n",
      "289:\ttest: 0.7977146\tbest: 0.8247433 (21)\ttotal: 1m 2s\tremaining: 1m 6s\n",
      "290:\ttest: 0.7975060\tbest: 0.8247433 (21)\ttotal: 1m 2s\tremaining: 1m 6s\n",
      "291:\ttest: 0.7975312\tbest: 0.8247433 (21)\ttotal: 1m 2s\tremaining: 1m 6s\n",
      "292:\ttest: 0.7972672\tbest: 0.8247433 (21)\ttotal: 1m 3s\tremaining: 1m 6s\n",
      "293:\ttest: 0.7972932\tbest: 0.8247433 (21)\ttotal: 1m 3s\tremaining: 1m 5s\n",
      "294:\ttest: 0.7974500\tbest: 0.8247433 (21)\ttotal: 1m 3s\tremaining: 1m 5s\n",
      "295:\ttest: 0.7974510\tbest: 0.8247433 (21)\ttotal: 1m 3s\tremaining: 1m 5s\n",
      "296:\ttest: 0.7972764\tbest: 0.8247433 (21)\ttotal: 1m 3s\tremaining: 1m 5s\n",
      "297:\ttest: 0.7966221\tbest: 0.8247433 (21)\ttotal: 1m 3s\tremaining: 1m 4s\n",
      "298:\ttest: 0.7964118\tbest: 0.8247433 (21)\ttotal: 1m 4s\tremaining: 1m 4s\n",
      "299:\ttest: 0.7962299\tbest: 0.8247433 (21)\ttotal: 1m 4s\tremaining: 1m 4s\n",
      "300:\ttest: 0.7964023\tbest: 0.8247433 (21)\ttotal: 1m 4s\tremaining: 1m 4s\n",
      "301:\ttest: 0.7963600\tbest: 0.8247433 (21)\ttotal: 1m 4s\tremaining: 1m 3s\n",
      "302:\ttest: 0.7960362\tbest: 0.8247433 (21)\ttotal: 1m 5s\tremaining: 1m 3s\n",
      "303:\ttest: 0.7959998\tbest: 0.8247433 (21)\ttotal: 1m 5s\tremaining: 1m 3s\n",
      "304:\ttest: 0.7959632\tbest: 0.8247433 (21)\ttotal: 1m 5s\tremaining: 1m 3s\n",
      "305:\ttest: 0.7957845\tbest: 0.8247433 (21)\ttotal: 1m 5s\tremaining: 1m 3s\n",
      "306:\ttest: 0.7955633\tbest: 0.8247433 (21)\ttotal: 1m 5s\tremaining: 1m 2s\n",
      "307:\ttest: 0.7955571\tbest: 0.8247433 (21)\ttotal: 1m 6s\tremaining: 1m 2s\n",
      "308:\ttest: 0.7958250\tbest: 0.8247433 (21)\ttotal: 1m 6s\tremaining: 1m 2s\n",
      "309:\ttest: 0.7957273\tbest: 0.8247433 (21)\ttotal: 1m 6s\tremaining: 1m 2s\n",
      "310:\ttest: 0.7950575\tbest: 0.8247433 (21)\ttotal: 1m 6s\tremaining: 1m 2s\n",
      "311:\ttest: 0.7949386\tbest: 0.8247433 (21)\ttotal: 1m 7s\tremaining: 1m 1s\n",
      "312:\ttest: 0.7949170\tbest: 0.8247433 (21)\ttotal: 1m 7s\tremaining: 1m 1s\n",
      "313:\ttest: 0.7949932\tbest: 0.8247433 (21)\ttotal: 1m 7s\tremaining: 1m 1s\n",
      "314:\ttest: 0.7950021\tbest: 0.8247433 (21)\ttotal: 1m 7s\tremaining: 1m 1s\n",
      "315:\ttest: 0.7951025\tbest: 0.8247433 (21)\ttotal: 1m 7s\tremaining: 1m 1s\n",
      "316:\ttest: 0.7965617\tbest: 0.8247433 (21)\ttotal: 1m 8s\tremaining: 1m\n",
      "317:\ttest: 0.7965637\tbest: 0.8247433 (21)\ttotal: 1m 8s\tremaining: 1m\n",
      "318:\ttest: 0.7965127\tbest: 0.8247433 (21)\ttotal: 1m 8s\tremaining: 1m\n",
      "319:\ttest: 0.7965979\tbest: 0.8247433 (21)\ttotal: 1m 8s\tremaining: 1m\n",
      "320:\ttest: 0.7967479\tbest: 0.8247433 (21)\ttotal: 1m 8s\tremaining: 59.8s\n",
      "321:\ttest: 0.7963683\tbest: 0.8247433 (21)\ttotal: 1m 9s\tremaining: 59.6s\n",
      "322:\ttest: 0.7966392\tbest: 0.8247433 (21)\ttotal: 1m 9s\tremaining: 59.4s\n",
      "323:\ttest: 0.7966392\tbest: 0.8247433 (21)\ttotal: 1m 9s\tremaining: 59.1s\n",
      "324:\ttest: 0.7968718\tbest: 0.8247433 (21)\ttotal: 1m 9s\tremaining: 58.9s\n",
      "325:\ttest: 0.7965496\tbest: 0.8247433 (21)\ttotal: 1m 9s\tremaining: 58.6s\n",
      "326:\ttest: 0.7965375\tbest: 0.8247433 (21)\ttotal: 1m 9s\tremaining: 58.4s\n",
      "327:\ttest: 0.7964880\tbest: 0.8247433 (21)\ttotal: 1m 10s\tremaining: 58.2s\n",
      "328:\ttest: 0.7963145\tbest: 0.8247433 (21)\ttotal: 1m 10s\tremaining: 57.9s\n",
      "329:\ttest: 0.7964249\tbest: 0.8247433 (21)\ttotal: 1m 10s\tremaining: 57.7s\n",
      "330:\ttest: 0.7965061\tbest: 0.8247433 (21)\ttotal: 1m 10s\tremaining: 57.5s\n",
      "331:\ttest: 0.7966908\tbest: 0.8247433 (21)\ttotal: 1m 10s\tremaining: 57.3s\n",
      "332:\ttest: 0.7968805\tbest: 0.8247433 (21)\ttotal: 1m 11s\tremaining: 57.1s\n",
      "333:\ttest: 0.7967701\tbest: 0.8247433 (21)\ttotal: 1m 11s\tremaining: 56.8s\n",
      "334:\ttest: 0.7965863\tbest: 0.8247433 (21)\ttotal: 1m 11s\tremaining: 56.6s\n",
      "335:\ttest: 0.7965393\tbest: 0.8247433 (21)\ttotal: 1m 11s\tremaining: 56.4s\n",
      "336:\ttest: 0.7965368\tbest: 0.8247433 (21)\ttotal: 1m 11s\tremaining: 56.1s\n",
      "337:\ttest: 0.7967513\tbest: 0.8247433 (21)\ttotal: 1m 12s\tremaining: 55.9s\n",
      "338:\ttest: 0.7968260\tbest: 0.8247433 (21)\ttotal: 1m 12s\tremaining: 55.7s\n",
      "339:\ttest: 0.7968493\tbest: 0.8247433 (21)\ttotal: 1m 12s\tremaining: 55.5s\n",
      "340:\ttest: 0.7963576\tbest: 0.8247433 (21)\ttotal: 1m 12s\tremaining: 55.3s\n",
      "341:\ttest: 0.7961948\tbest: 0.8247433 (21)\ttotal: 1m 12s\tremaining: 55s\n",
      "342:\ttest: 0.7961385\tbest: 0.8247433 (21)\ttotal: 1m 13s\tremaining: 54.8s\n"
     ]
    },
    {
     "name": "stdout",
     "output_type": "stream",
     "text": [
      "343:\ttest: 0.7961007\tbest: 0.8247433 (21)\ttotal: 1m 13s\tremaining: 54.6s\n",
      "344:\ttest: 0.7959885\tbest: 0.8247433 (21)\ttotal: 1m 13s\tremaining: 54.3s\n",
      "345:\ttest: 0.7959602\tbest: 0.8247433 (21)\ttotal: 1m 13s\tremaining: 54.1s\n",
      "346:\ttest: 0.7960017\tbest: 0.8247433 (21)\ttotal: 1m 13s\tremaining: 53.9s\n",
      "347:\ttest: 0.7971750\tbest: 0.8247433 (21)\ttotal: 1m 14s\tremaining: 53.6s\n",
      "348:\ttest: 0.7968614\tbest: 0.8247433 (21)\ttotal: 1m 14s\tremaining: 53.4s\n",
      "349:\ttest: 0.7968502\tbest: 0.8247433 (21)\ttotal: 1m 14s\tremaining: 53.1s\n",
      "350:\ttest: 0.7965831\tbest: 0.8247433 (21)\ttotal: 1m 14s\tremaining: 52.9s\n",
      "351:\ttest: 0.7966104\tbest: 0.8247433 (21)\ttotal: 1m 14s\tremaining: 52.7s\n",
      "352:\ttest: 0.7964129\tbest: 0.8247433 (21)\ttotal: 1m 14s\tremaining: 52.5s\n",
      "353:\ttest: 0.7963498\tbest: 0.8247433 (21)\ttotal: 1m 15s\tremaining: 52.2s\n",
      "354:\ttest: 0.7961243\tbest: 0.8247433 (21)\ttotal: 1m 15s\tremaining: 52s\n",
      "355:\ttest: 0.7963841\tbest: 0.8247433 (21)\ttotal: 1m 15s\tremaining: 51.8s\n",
      "356:\ttest: 0.7963355\tbest: 0.8247433 (21)\ttotal: 1m 15s\tremaining: 51.5s\n",
      "357:\ttest: 0.7963713\tbest: 0.8247433 (21)\ttotal: 1m 15s\tremaining: 51.3s\n",
      "358:\ttest: 0.7968403\tbest: 0.8247433 (21)\ttotal: 1m 16s\tremaining: 51.1s\n",
      "359:\ttest: 0.7971982\tbest: 0.8247433 (21)\ttotal: 1m 16s\tremaining: 50.8s\n",
      "360:\ttest: 0.7975586\tbest: 0.8247433 (21)\ttotal: 1m 16s\tremaining: 50.6s\n",
      "361:\ttest: 0.7974725\tbest: 0.8247433 (21)\ttotal: 1m 16s\tremaining: 50.4s\n",
      "362:\ttest: 0.7974541\tbest: 0.8247433 (21)\ttotal: 1m 16s\tremaining: 50.1s\n",
      "363:\ttest: 0.7977793\tbest: 0.8247433 (21)\ttotal: 1m 17s\tremaining: 49.9s\n",
      "364:\ttest: 0.7977766\tbest: 0.8247433 (21)\ttotal: 1m 17s\tremaining: 49.7s\n",
      "365:\ttest: 0.7976692\tbest: 0.8247433 (21)\ttotal: 1m 17s\tremaining: 49.5s\n",
      "366:\ttest: 0.7975379\tbest: 0.8247433 (21)\ttotal: 1m 17s\tremaining: 49.3s\n",
      "367:\ttest: 0.7974442\tbest: 0.8247433 (21)\ttotal: 1m 17s\tremaining: 49s\n",
      "368:\ttest: 0.7977528\tbest: 0.8247433 (21)\ttotal: 1m 18s\tremaining: 48.8s\n",
      "369:\ttest: 0.7976195\tbest: 0.8247433 (21)\ttotal: 1m 18s\tremaining: 48.6s\n",
      "370:\ttest: 0.7975911\tbest: 0.8247433 (21)\ttotal: 1m 18s\tremaining: 48.4s\n",
      "371:\ttest: 0.7975857\tbest: 0.8247433 (21)\ttotal: 1m 18s\tremaining: 48.2s\n",
      "372:\ttest: 0.7974323\tbest: 0.8247433 (21)\ttotal: 1m 18s\tremaining: 48s\n",
      "373:\ttest: 0.7973755\tbest: 0.8247433 (21)\ttotal: 1m 19s\tremaining: 47.8s\n",
      "374:\ttest: 0.7977593\tbest: 0.8247433 (21)\ttotal: 1m 19s\tremaining: 47.5s\n",
      "375:\ttest: 0.7977040\tbest: 0.8247433 (21)\ttotal: 1m 19s\tremaining: 47.3s\n",
      "376:\ttest: 0.7977027\tbest: 0.8247433 (21)\ttotal: 1m 19s\tremaining: 47.1s\n",
      "377:\ttest: 0.7973375\tbest: 0.8247433 (21)\ttotal: 1m 19s\tremaining: 46.9s\n",
      "378:\ttest: 0.7973137\tbest: 0.8247433 (21)\ttotal: 1m 20s\tremaining: 46.7s\n",
      "379:\ttest: 0.7971637\tbest: 0.8247433 (21)\ttotal: 1m 20s\tremaining: 46.5s\n",
      "380:\ttest: 0.7971726\tbest: 0.8247433 (21)\ttotal: 1m 20s\tremaining: 46.3s\n",
      "381:\ttest: 0.7971593\tbest: 0.8247433 (21)\ttotal: 1m 20s\tremaining: 46s\n",
      "382:\ttest: 0.7971317\tbest: 0.8247433 (21)\ttotal: 1m 20s\tremaining: 45.8s\n",
      "383:\ttest: 0.7971863\tbest: 0.8247433 (21)\ttotal: 1m 21s\tremaining: 45.6s\n",
      "384:\ttest: 0.7969872\tbest: 0.8247433 (21)\ttotal: 1m 21s\tremaining: 45.5s\n",
      "385:\ttest: 0.7971203\tbest: 0.8247433 (21)\ttotal: 1m 21s\tremaining: 45.3s\n",
      "386:\ttest: 0.7968656\tbest: 0.8247433 (21)\ttotal: 1m 22s\tremaining: 45.3s\n",
      "387:\ttest: 0.7970867\tbest: 0.8247433 (21)\ttotal: 1m 22s\tremaining: 45.1s\n",
      "388:\ttest: 0.7972555\tbest: 0.8247433 (21)\ttotal: 1m 22s\tremaining: 44.9s\n",
      "389:\ttest: 0.7970064\tbest: 0.8247433 (21)\ttotal: 1m 23s\tremaining: 44.8s\n",
      "390:\ttest: 0.7970172\tbest: 0.8247433 (21)\ttotal: 1m 23s\tremaining: 44.5s\n",
      "391:\ttest: 0.7967054\tbest: 0.8247433 (21)\ttotal: 1m 23s\tremaining: 44.3s\n",
      "392:\ttest: 0.7966359\tbest: 0.8247433 (21)\ttotal: 1m 23s\tremaining: 44.1s\n",
      "393:\ttest: 0.7968225\tbest: 0.8247433 (21)\ttotal: 1m 23s\tremaining: 43.8s\n",
      "394:\ttest: 0.7967765\tbest: 0.8247433 (21)\ttotal: 1m 24s\tremaining: 43.6s\n",
      "395:\ttest: 0.7967642\tbest: 0.8247433 (21)\ttotal: 1m 24s\tremaining: 43.4s\n",
      "396:\ttest: 0.7967622\tbest: 0.8247433 (21)\ttotal: 1m 24s\tremaining: 43.2s\n",
      "397:\ttest: 0.7967824\tbest: 0.8247433 (21)\ttotal: 1m 24s\tremaining: 43s\n",
      "398:\ttest: 0.7965201\tbest: 0.8247433 (21)\ttotal: 1m 24s\tremaining: 42.7s\n",
      "399:\ttest: 0.7964307\tbest: 0.8247433 (21)\ttotal: 1m 25s\tremaining: 42.5s\n",
      "400:\ttest: 0.7961125\tbest: 0.8247433 (21)\ttotal: 1m 25s\tremaining: 42.3s\n",
      "401:\ttest: 0.7961949\tbest: 0.8247433 (21)\ttotal: 1m 25s\tremaining: 42.1s\n",
      "402:\ttest: 0.7963617\tbest: 0.8247433 (21)\ttotal: 1m 25s\tremaining: 41.9s\n",
      "403:\ttest: 0.7964414\tbest: 0.8247433 (21)\ttotal: 1m 25s\tremaining: 41.6s\n",
      "404:\ttest: 0.7965962\tbest: 0.8247433 (21)\ttotal: 1m 26s\tremaining: 41.4s\n",
      "405:\ttest: 0.7966084\tbest: 0.8247433 (21)\ttotal: 1m 26s\tremaining: 41.2s\n",
      "406:\ttest: 0.7966407\tbest: 0.8247433 (21)\ttotal: 1m 26s\tremaining: 41s\n",
      "407:\ttest: 0.7967097\tbest: 0.8247433 (21)\ttotal: 1m 26s\tremaining: 40.8s\n",
      "408:\ttest: 0.7964327\tbest: 0.8247433 (21)\ttotal: 1m 26s\tremaining: 40.5s\n",
      "409:\ttest: 0.7962894\tbest: 0.8247433 (21)\ttotal: 1m 27s\tremaining: 40.3s\n",
      "410:\ttest: 0.7960541\tbest: 0.8247433 (21)\ttotal: 1m 27s\tremaining: 40.1s\n",
      "411:\ttest: 0.7960387\tbest: 0.8247433 (21)\ttotal: 1m 27s\tremaining: 39.9s\n",
      "412:\ttest: 0.7961981\tbest: 0.8247433 (21)\ttotal: 1m 27s\tremaining: 39.7s\n",
      "413:\ttest: 0.7955008\tbest: 0.8247433 (21)\ttotal: 1m 27s\tremaining: 39.5s\n",
      "414:\ttest: 0.7953092\tbest: 0.8247433 (21)\ttotal: 1m 28s\tremaining: 39.2s\n",
      "415:\ttest: 0.7953014\tbest: 0.8247433 (21)\ttotal: 1m 28s\tremaining: 39s\n",
      "416:\ttest: 0.7953536\tbest: 0.8247433 (21)\ttotal: 1m 28s\tremaining: 38.8s\n",
      "417:\ttest: 0.7952262\tbest: 0.8247433 (21)\ttotal: 1m 28s\tremaining: 38.6s\n",
      "418:\ttest: 0.7951801\tbest: 0.8247433 (21)\ttotal: 1m 28s\tremaining: 38.4s\n",
      "419:\ttest: 0.7951230\tbest: 0.8247433 (21)\ttotal: 1m 29s\tremaining: 38.1s\n",
      "420:\ttest: 0.7949781\tbest: 0.8247433 (21)\ttotal: 1m 29s\tremaining: 37.9s\n",
      "421:\ttest: 0.7949851\tbest: 0.8247433 (21)\ttotal: 1m 29s\tremaining: 37.7s\n",
      "422:\ttest: 0.7949400\tbest: 0.8247433 (21)\ttotal: 1m 29s\tremaining: 37.5s\n",
      "423:\ttest: 0.7951265\tbest: 0.8247433 (21)\ttotal: 1m 29s\tremaining: 37.4s\n",
      "424:\ttest: 0.7950971\tbest: 0.8247433 (21)\ttotal: 1m 30s\tremaining: 37.1s\n",
      "425:\ttest: 0.7952135\tbest: 0.8247433 (21)\ttotal: 1m 30s\tremaining: 36.9s\n",
      "426:\ttest: 0.7951414\tbest: 0.8247433 (21)\ttotal: 1m 30s\tremaining: 36.7s\n",
      "427:\ttest: 0.7953166\tbest: 0.8247433 (21)\ttotal: 1m 30s\tremaining: 36.5s\n",
      "428:\ttest: 0.7951243\tbest: 0.8247433 (21)\ttotal: 1m 31s\tremaining: 36.3s\n",
      "429:\ttest: 0.7950161\tbest: 0.8247433 (21)\ttotal: 1m 31s\tremaining: 36.1s\n",
      "430:\ttest: 0.7948001\tbest: 0.8247433 (21)\ttotal: 1m 31s\tremaining: 35.8s\n",
      "431:\ttest: 0.7949199\tbest: 0.8247433 (21)\ttotal: 1m 31s\tremaining: 35.6s\n",
      "432:\ttest: 0.7946730\tbest: 0.8247433 (21)\ttotal: 1m 31s\tremaining: 35.4s\n",
      "433:\ttest: 0.7948146\tbest: 0.8247433 (21)\ttotal: 1m 32s\tremaining: 35.2s\n",
      "434:\ttest: 0.7950777\tbest: 0.8247433 (21)\ttotal: 1m 32s\tremaining: 35s\n",
      "435:\ttest: 0.7952108\tbest: 0.8247433 (21)\ttotal: 1m 32s\tremaining: 34.8s\n",
      "436:\ttest: 0.7952140\tbest: 0.8247433 (21)\ttotal: 1m 32s\tremaining: 34.6s\n",
      "437:\ttest: 0.7950692\tbest: 0.8247433 (21)\ttotal: 1m 32s\tremaining: 34.4s\n",
      "438:\ttest: 0.7949723\tbest: 0.8247433 (21)\ttotal: 1m 33s\tremaining: 34.1s\n",
      "439:\ttest: 0.7947791\tbest: 0.8247433 (21)\ttotal: 1m 33s\tremaining: 33.9s\n",
      "440:\ttest: 0.7945002\tbest: 0.8247433 (21)\ttotal: 1m 33s\tremaining: 33.7s\n",
      "441:\ttest: 0.7940944\tbest: 0.8247433 (21)\ttotal: 1m 33s\tremaining: 33.5s\n",
      "442:\ttest: 0.7950115\tbest: 0.8247433 (21)\ttotal: 1m 33s\tremaining: 33.3s\n",
      "443:\ttest: 0.7950705\tbest: 0.8247433 (21)\ttotal: 1m 34s\tremaining: 33.1s\n",
      "444:\ttest: 0.7950209\tbest: 0.8247433 (21)\ttotal: 1m 34s\tremaining: 32.8s\n",
      "445:\ttest: 0.7951308\tbest: 0.8247433 (21)\ttotal: 1m 34s\tremaining: 32.6s\n",
      "446:\ttest: 0.7948360\tbest: 0.8247433 (21)\ttotal: 1m 34s\tremaining: 32.4s\n",
      "447:\ttest: 0.7948036\tbest: 0.8247433 (21)\ttotal: 1m 34s\tremaining: 32.2s\n",
      "448:\ttest: 0.7947126\tbest: 0.8247433 (21)\ttotal: 1m 35s\tremaining: 32s\n",
      "449:\ttest: 0.7948064\tbest: 0.8247433 (21)\ttotal: 1m 35s\tremaining: 31.7s\n",
      "450:\ttest: 0.7947512\tbest: 0.8247433 (21)\ttotal: 1m 35s\tremaining: 31.5s\n",
      "451:\ttest: 0.7946981\tbest: 0.8247433 (21)\ttotal: 1m 35s\tremaining: 31.3s\n",
      "452:\ttest: 0.7946670\tbest: 0.8247433 (21)\ttotal: 1m 35s\tremaining: 31.1s\n",
      "453:\ttest: 0.7946590\tbest: 0.8247433 (21)\ttotal: 1m 36s\tremaining: 30.9s\n",
      "454:\ttest: 0.7948832\tbest: 0.8247433 (21)\ttotal: 1m 36s\tremaining: 30.7s\n",
      "455:\ttest: 0.7949253\tbest: 0.8247433 (21)\ttotal: 1m 36s\tremaining: 30.5s\n"
     ]
    },
    {
     "name": "stdout",
     "output_type": "stream",
     "text": [
      "456:\ttest: 0.7950711\tbest: 0.8247433 (21)\ttotal: 1m 36s\tremaining: 30.2s\n",
      "457:\ttest: 0.7947317\tbest: 0.8247433 (21)\ttotal: 1m 36s\tremaining: 30s\n",
      "458:\ttest: 0.7947925\tbest: 0.8247433 (21)\ttotal: 1m 37s\tremaining: 29.8s\n",
      "459:\ttest: 0.7946355\tbest: 0.8247433 (21)\ttotal: 1m 37s\tremaining: 29.6s\n",
      "460:\ttest: 0.7947011\tbest: 0.8247433 (21)\ttotal: 1m 37s\tremaining: 29.4s\n",
      "461:\ttest: 0.7943547\tbest: 0.8247433 (21)\ttotal: 1m 37s\tremaining: 29.2s\n",
      "462:\ttest: 0.7944756\tbest: 0.8247433 (21)\ttotal: 1m 37s\tremaining: 29s\n",
      "463:\ttest: 0.7945837\tbest: 0.8247433 (21)\ttotal: 1m 38s\tremaining: 28.8s\n",
      "464:\ttest: 0.7946359\tbest: 0.8247433 (21)\ttotal: 1m 38s\tremaining: 28.6s\n",
      "465:\ttest: 0.7945281\tbest: 0.8247433 (21)\ttotal: 1m 38s\tremaining: 28.4s\n",
      "466:\ttest: 0.7943376\tbest: 0.8247433 (21)\ttotal: 1m 39s\tremaining: 28.2s\n",
      "467:\ttest: 0.7938147\tbest: 0.8247433 (21)\ttotal: 1m 39s\tremaining: 28s\n",
      "468:\ttest: 0.7933340\tbest: 0.8247433 (21)\ttotal: 1m 39s\tremaining: 27.8s\n",
      "469:\ttest: 0.7933548\tbest: 0.8247433 (21)\ttotal: 1m 39s\tremaining: 27.6s\n",
      "470:\ttest: 0.7933336\tbest: 0.8247433 (21)\ttotal: 1m 39s\tremaining: 27.4s\n",
      "471:\ttest: 0.7936930\tbest: 0.8247433 (21)\ttotal: 1m 40s\tremaining: 27.2s\n",
      "472:\ttest: 0.7935111\tbest: 0.8247433 (21)\ttotal: 1m 40s\tremaining: 26.9s\n",
      "473:\ttest: 0.7933288\tbest: 0.8247433 (21)\ttotal: 1m 40s\tremaining: 26.7s\n",
      "474:\ttest: 0.7935353\tbest: 0.8247433 (21)\ttotal: 1m 40s\tremaining: 26.5s\n",
      "475:\ttest: 0.7933763\tbest: 0.8247433 (21)\ttotal: 1m 40s\tremaining: 26.3s\n",
      "476:\ttest: 0.7937242\tbest: 0.8247433 (21)\ttotal: 1m 41s\tremaining: 26.1s\n",
      "477:\ttest: 0.7937202\tbest: 0.8247433 (21)\ttotal: 1m 41s\tremaining: 25.9s\n",
      "478:\ttest: 0.7935904\tbest: 0.8247433 (21)\ttotal: 1m 41s\tremaining: 25.7s\n",
      "479:\ttest: 0.7938019\tbest: 0.8247433 (21)\ttotal: 1m 41s\tremaining: 25.4s\n",
      "480:\ttest: 0.7935596\tbest: 0.8247433 (21)\ttotal: 1m 41s\tremaining: 25.2s\n",
      "481:\ttest: 0.7935126\tbest: 0.8247433 (21)\ttotal: 1m 42s\tremaining: 25s\n",
      "482:\ttest: 0.7934226\tbest: 0.8247433 (21)\ttotal: 1m 42s\tremaining: 24.8s\n",
      "483:\ttest: 0.7936433\tbest: 0.8247433 (21)\ttotal: 1m 42s\tremaining: 24.6s\n",
      "484:\ttest: 0.7937026\tbest: 0.8247433 (21)\ttotal: 1m 42s\tremaining: 24.4s\n",
      "485:\ttest: 0.7940229\tbest: 0.8247433 (21)\ttotal: 1m 42s\tremaining: 24.1s\n",
      "486:\ttest: 0.7939482\tbest: 0.8247433 (21)\ttotal: 1m 43s\tremaining: 23.9s\n",
      "487:\ttest: 0.7939684\tbest: 0.8247433 (21)\ttotal: 1m 43s\tremaining: 23.7s\n",
      "488:\ttest: 0.7940031\tbest: 0.8247433 (21)\ttotal: 1m 43s\tremaining: 23.5s\n",
      "489:\ttest: 0.7941670\tbest: 0.8247433 (21)\ttotal: 1m 43s\tremaining: 23.3s\n",
      "490:\ttest: 0.7941365\tbest: 0.8247433 (21)\ttotal: 1m 43s\tremaining: 23.1s\n",
      "491:\ttest: 0.7941108\tbest: 0.8247433 (21)\ttotal: 1m 44s\tremaining: 22.9s\n",
      "492:\ttest: 0.7941585\tbest: 0.8247433 (21)\ttotal: 1m 44s\tremaining: 22.6s\n",
      "493:\ttest: 0.7936044\tbest: 0.8247433 (21)\ttotal: 1m 44s\tremaining: 22.4s\n",
      "494:\ttest: 0.7934889\tbest: 0.8247433 (21)\ttotal: 1m 44s\tremaining: 22.2s\n",
      "495:\ttest: 0.7937361\tbest: 0.8247433 (21)\ttotal: 1m 44s\tremaining: 22s\n",
      "496:\ttest: 0.7937364\tbest: 0.8247433 (21)\ttotal: 1m 45s\tremaining: 21.8s\n",
      "497:\ttest: 0.7937470\tbest: 0.8247433 (21)\ttotal: 1m 45s\tremaining: 21.6s\n",
      "498:\ttest: 0.7935173\tbest: 0.8247433 (21)\ttotal: 1m 45s\tremaining: 21.4s\n",
      "499:\ttest: 0.7934001\tbest: 0.8247433 (21)\ttotal: 1m 45s\tremaining: 21.1s\n",
      "500:\ttest: 0.7934428\tbest: 0.8247433 (21)\ttotal: 1m 45s\tremaining: 20.9s\n",
      "501:\ttest: 0.7936690\tbest: 0.8247433 (21)\ttotal: 1m 46s\tremaining: 20.7s\n",
      "502:\ttest: 0.7936223\tbest: 0.8247433 (21)\ttotal: 1m 46s\tremaining: 20.5s\n",
      "503:\ttest: 0.7937000\tbest: 0.8247433 (21)\ttotal: 1m 46s\tremaining: 20.3s\n",
      "504:\ttest: 0.7934257\tbest: 0.8247433 (21)\ttotal: 1m 46s\tremaining: 20.1s\n",
      "505:\ttest: 0.7934403\tbest: 0.8247433 (21)\ttotal: 1m 46s\tremaining: 19.9s\n",
      "506:\ttest: 0.7936280\tbest: 0.8247433 (21)\ttotal: 1m 47s\tremaining: 19.6s\n",
      "507:\ttest: 0.7937961\tbest: 0.8247433 (21)\ttotal: 1m 47s\tremaining: 19.4s\n",
      "508:\ttest: 0.7935134\tbest: 0.8247433 (21)\ttotal: 1m 47s\tremaining: 19.2s\n",
      "509:\ttest: 0.7934036\tbest: 0.8247433 (21)\ttotal: 1m 47s\tremaining: 19s\n",
      "510:\ttest: 0.7932734\tbest: 0.8247433 (21)\ttotal: 1m 48s\tremaining: 18.8s\n",
      "511:\ttest: 0.7933709\tbest: 0.8247433 (21)\ttotal: 1m 48s\tremaining: 18.6s\n",
      "512:\ttest: 0.7936515\tbest: 0.8247433 (21)\ttotal: 1m 48s\tremaining: 18.4s\n",
      "513:\ttest: 0.7935618\tbest: 0.8247433 (21)\ttotal: 1m 48s\tremaining: 18.2s\n",
      "514:\ttest: 0.7931547\tbest: 0.8247433 (21)\ttotal: 1m 48s\tremaining: 18s\n",
      "515:\ttest: 0.7930237\tbest: 0.8247433 (21)\ttotal: 1m 49s\tremaining: 17.7s\n",
      "516:\ttest: 0.7927954\tbest: 0.8247433 (21)\ttotal: 1m 49s\tremaining: 17.5s\n",
      "517:\ttest: 0.7929854\tbest: 0.8247433 (21)\ttotal: 1m 49s\tremaining: 17.3s\n",
      "518:\ttest: 0.7929967\tbest: 0.8247433 (21)\ttotal: 1m 49s\tremaining: 17.1s\n",
      "519:\ttest: 0.7930146\tbest: 0.8247433 (21)\ttotal: 1m 49s\tremaining: 16.9s\n",
      "520:\ttest: 0.7926772\tbest: 0.8247433 (21)\ttotal: 1m 50s\tremaining: 16.7s\n",
      "521:\ttest: 0.7928840\tbest: 0.8247433 (21)\ttotal: 1m 50s\tremaining: 16.5s\n",
      "522:\ttest: 0.7930812\tbest: 0.8247433 (21)\ttotal: 1m 50s\tremaining: 16.3s\n",
      "523:\ttest: 0.7930413\tbest: 0.8247433 (21)\ttotal: 1m 50s\tremaining: 16s\n",
      "524:\ttest: 0.7931948\tbest: 0.8247433 (21)\ttotal: 1m 50s\tremaining: 15.8s\n",
      "525:\ttest: 0.7932926\tbest: 0.8247433 (21)\ttotal: 1m 51s\tremaining: 15.6s\n",
      "526:\ttest: 0.7950700\tbest: 0.8247433 (21)\ttotal: 1m 51s\tremaining: 15.4s\n",
      "527:\ttest: 0.7950364\tbest: 0.8247433 (21)\ttotal: 1m 51s\tremaining: 15.2s\n",
      "528:\ttest: 0.7948993\tbest: 0.8247433 (21)\ttotal: 1m 51s\tremaining: 15s\n",
      "529:\ttest: 0.7948539\tbest: 0.8247433 (21)\ttotal: 1m 51s\tremaining: 14.8s\n",
      "530:\ttest: 0.7947508\tbest: 0.8247433 (21)\ttotal: 1m 52s\tremaining: 14.6s\n",
      "531:\ttest: 0.7945686\tbest: 0.8247433 (21)\ttotal: 1m 52s\tremaining: 14.3s\n",
      "532:\ttest: 0.7946172\tbest: 0.8247433 (21)\ttotal: 1m 52s\tremaining: 14.1s\n",
      "533:\ttest: 0.7945434\tbest: 0.8247433 (21)\ttotal: 1m 52s\tremaining: 13.9s\n",
      "534:\ttest: 0.7945888\tbest: 0.8247433 (21)\ttotal: 1m 52s\tremaining: 13.7s\n",
      "535:\ttest: 0.7948041\tbest: 0.8247433 (21)\ttotal: 1m 53s\tremaining: 13.5s\n",
      "536:\ttest: 0.7948274\tbest: 0.8247433 (21)\ttotal: 1m 53s\tremaining: 13.3s\n",
      "537:\ttest: 0.7947039\tbest: 0.8247433 (21)\ttotal: 1m 53s\tremaining: 13.1s\n",
      "538:\ttest: 0.7945554\tbest: 0.8247433 (21)\ttotal: 1m 53s\tremaining: 12.9s\n",
      "539:\ttest: 0.7944752\tbest: 0.8247433 (21)\ttotal: 1m 53s\tremaining: 12.6s\n",
      "540:\ttest: 0.7944637\tbest: 0.8247433 (21)\ttotal: 1m 54s\tremaining: 12.4s\n",
      "541:\ttest: 0.7945158\tbest: 0.8247433 (21)\ttotal: 1m 54s\tremaining: 12.2s\n",
      "542:\ttest: 0.7943669\tbest: 0.8247433 (21)\ttotal: 1m 54s\tremaining: 12s\n",
      "543:\ttest: 0.7942914\tbest: 0.8247433 (21)\ttotal: 1m 54s\tremaining: 11.8s\n",
      "544:\ttest: 0.7941998\tbest: 0.8247433 (21)\ttotal: 1m 54s\tremaining: 11.6s\n",
      "545:\ttest: 0.7941349\tbest: 0.8247433 (21)\ttotal: 1m 55s\tremaining: 11.4s\n",
      "546:\ttest: 0.7940307\tbest: 0.8247433 (21)\ttotal: 1m 55s\tremaining: 11.2s\n",
      "547:\ttest: 0.7940482\tbest: 0.8247433 (21)\ttotal: 1m 55s\tremaining: 10.9s\n",
      "548:\ttest: 0.7940882\tbest: 0.8247433 (21)\ttotal: 1m 55s\tremaining: 10.7s\n",
      "549:\ttest: 0.7940982\tbest: 0.8247433 (21)\ttotal: 1m 55s\tremaining: 10.5s\n",
      "550:\ttest: 0.7941039\tbest: 0.8247433 (21)\ttotal: 1m 55s\tremaining: 10.3s\n",
      "551:\ttest: 0.7940020\tbest: 0.8247433 (21)\ttotal: 1m 56s\tremaining: 10.1s\n",
      "552:\ttest: 0.7940143\tbest: 0.8247433 (21)\ttotal: 1m 56s\tremaining: 9.88s\n",
      "553:\ttest: 0.7940364\tbest: 0.8247433 (21)\ttotal: 1m 56s\tremaining: 9.67s\n",
      "554:\ttest: 0.7940118\tbest: 0.8247433 (21)\ttotal: 1m 56s\tremaining: 9.46s\n",
      "555:\ttest: 0.7941788\tbest: 0.8247433 (21)\ttotal: 1m 56s\tremaining: 9.25s\n",
      "556:\ttest: 0.7942103\tbest: 0.8247433 (21)\ttotal: 1m 57s\tremaining: 9.04s\n",
      "557:\ttest: 0.7942148\tbest: 0.8247433 (21)\ttotal: 1m 57s\tremaining: 8.83s\n",
      "558:\ttest: 0.7941639\tbest: 0.8247433 (21)\ttotal: 1m 57s\tremaining: 8.62s\n",
      "559:\ttest: 0.7942755\tbest: 0.8247433 (21)\ttotal: 1m 57s\tremaining: 8.41s\n",
      "560:\ttest: 0.7941201\tbest: 0.8247433 (21)\ttotal: 1m 57s\tremaining: 8.2s\n",
      "561:\ttest: 0.7940584\tbest: 0.8247433 (21)\ttotal: 1m 58s\tremaining: 7.99s\n",
      "562:\ttest: 0.7939420\tbest: 0.8247433 (21)\ttotal: 1m 58s\tremaining: 7.77s\n",
      "563:\ttest: 0.7938678\tbest: 0.8247433 (21)\ttotal: 1m 58s\tremaining: 7.57s\n",
      "564:\ttest: 0.7939564\tbest: 0.8247433 (21)\ttotal: 1m 58s\tremaining: 7.35s\n",
      "565:\ttest: 0.7939863\tbest: 0.8247433 (21)\ttotal: 1m 58s\tremaining: 7.13s\n",
      "566:\ttest: 0.7938614\tbest: 0.8247433 (21)\ttotal: 1m 58s\tremaining: 6.92s\n",
      "567:\ttest: 0.7937466\tbest: 0.8247433 (21)\ttotal: 1m 59s\tremaining: 6.71s\n",
      "568:\ttest: 0.7935357\tbest: 0.8247433 (21)\ttotal: 1m 59s\tremaining: 6.5s\n"
     ]
    },
    {
     "name": "stdout",
     "output_type": "stream",
     "text": [
      "569:\ttest: 0.7935930\tbest: 0.8247433 (21)\ttotal: 1m 59s\tremaining: 6.29s\n",
      "570:\ttest: 0.7936797\tbest: 0.8247433 (21)\ttotal: 1m 59s\tremaining: 6.08s\n",
      "571:\ttest: 0.7936681\tbest: 0.8247433 (21)\ttotal: 1m 59s\tremaining: 5.87s\n",
      "572:\ttest: 0.7935289\tbest: 0.8247433 (21)\ttotal: 2m\tremaining: 5.67s\n",
      "573:\ttest: 0.7937323\tbest: 0.8247433 (21)\ttotal: 2m\tremaining: 5.46s\n",
      "574:\ttest: 0.7937454\tbest: 0.8247433 (21)\ttotal: 2m\tremaining: 5.25s\n",
      "575:\ttest: 0.7936732\tbest: 0.8247433 (21)\ttotal: 2m\tremaining: 5.03s\n",
      "576:\ttest: 0.7937599\tbest: 0.8247433 (21)\ttotal: 2m 1s\tremaining: 4.82s\n",
      "577:\ttest: 0.7937742\tbest: 0.8247433 (21)\ttotal: 2m 1s\tremaining: 4.61s\n",
      "578:\ttest: 0.7938391\tbest: 0.8247433 (21)\ttotal: 2m 1s\tremaining: 4.4s\n",
      "579:\ttest: 0.7935314\tbest: 0.8247433 (21)\ttotal: 2m 1s\tremaining: 4.19s\n",
      "580:\ttest: 0.7935351\tbest: 0.8247433 (21)\ttotal: 2m 1s\tremaining: 3.98s\n",
      "581:\ttest: 0.7935575\tbest: 0.8247433 (21)\ttotal: 2m 1s\tremaining: 3.77s\n",
      "582:\ttest: 0.7933461\tbest: 0.8247433 (21)\ttotal: 2m 2s\tremaining: 3.56s\n",
      "583:\ttest: 0.7933643\tbest: 0.8247433 (21)\ttotal: 2m 2s\tremaining: 3.35s\n",
      "584:\ttest: 0.7934256\tbest: 0.8247433 (21)\ttotal: 2m 2s\tremaining: 3.14s\n",
      "585:\ttest: 0.7934715\tbest: 0.8247433 (21)\ttotal: 2m 2s\tremaining: 2.93s\n",
      "586:\ttest: 0.7934370\tbest: 0.8247433 (21)\ttotal: 2m 2s\tremaining: 2.72s\n",
      "587:\ttest: 0.7933908\tbest: 0.8247433 (21)\ttotal: 2m 3s\tremaining: 2.51s\n",
      "588:\ttest: 0.7934936\tbest: 0.8247433 (21)\ttotal: 2m 3s\tremaining: 2.3s\n",
      "589:\ttest: 0.7935107\tbest: 0.8247433 (21)\ttotal: 2m 3s\tremaining: 2.09s\n",
      "590:\ttest: 0.7933992\tbest: 0.8247433 (21)\ttotal: 2m 3s\tremaining: 1.88s\n",
      "591:\ttest: 0.7931734\tbest: 0.8247433 (21)\ttotal: 2m 4s\tremaining: 1.68s\n",
      "592:\ttest: 0.7931541\tbest: 0.8247433 (21)\ttotal: 2m 4s\tremaining: 1.47s\n",
      "593:\ttest: 0.7931143\tbest: 0.8247433 (21)\ttotal: 2m 4s\tremaining: 1.26s\n",
      "594:\ttest: 0.7931342\tbest: 0.8247433 (21)\ttotal: 2m 4s\tremaining: 1.05s\n",
      "595:\ttest: 0.7928448\tbest: 0.8247433 (21)\ttotal: 2m 4s\tremaining: 837ms\n",
      "596:\ttest: 0.7926326\tbest: 0.8247433 (21)\ttotal: 2m 4s\tremaining: 628ms\n",
      "597:\ttest: 0.7925619\tbest: 0.8247433 (21)\ttotal: 2m 5s\tremaining: 419ms\n",
      "598:\ttest: 0.7922094\tbest: 0.8247433 (21)\ttotal: 2m 5s\tremaining: 209ms\n",
      "599:\ttest: 0.7922844\tbest: 0.8247433 (21)\ttotal: 2m 5s\tremaining: 0us\n",
      "\n",
      "bestTest = 0.8247433459\n",
      "bestIteration = 21\n",
      "\n",
      "Shrink model to first 22 iterations.\n"
     ]
    },
    {
     "data": {
      "text/plain": [
       "<catboost.core.CatBoostClassifier at 0x19f83a46880>"
      ]
     },
     "execution_count": 52,
     "metadata": {},
     "output_type": "execute_result"
    }
   ],
   "source": [
    "\n",
    "model=CatBoostClassifier(**best_params)\n",
    "model.fit(X_train, y_train, cat_features=categorical_features_indices,eval_set=(X_validation, y_validation),plot=True)"
   ]
  },
  {
   "cell_type": "code",
   "execution_count": 53,
   "id": "e26adf13",
   "metadata": {},
   "outputs": [],
   "source": [
    "pred = model.predict(X_validation)"
   ]
  },
  {
   "cell_type": "code",
   "execution_count": 54,
   "id": "1b6e931f",
   "metadata": {},
   "outputs": [],
   "source": [
    "pred_bool = (pred == 'True')"
   ]
  },
  {
   "cell_type": "code",
   "execution_count": 55,
   "id": "8847e1e1",
   "metadata": {},
   "outputs": [],
   "source": [
    "true_y = np.array(y_validation.to_list())"
   ]
  },
  {
   "cell_type": "code",
   "execution_count": 56,
   "id": "cd59a711",
   "metadata": {},
   "outputs": [
    {
     "data": {
      "text/plain": [
       "array([ True,  True,  True, ..., False,  True,  True])"
      ]
     },
     "execution_count": 56,
     "metadata": {},
     "output_type": "execute_result"
    }
   ],
   "source": [
    "true_y"
   ]
  },
  {
   "cell_type": "code",
   "execution_count": 57,
   "id": "c38cdd16",
   "metadata": {},
   "outputs": [
    {
     "name": "stdout",
     "output_type": "stream",
     "text": [
      "Accuracy_score: 0.756577801010629\n",
      "Precision_score: 0.7849074741648642\n",
      "Recall_score: 0.8667728237791932\n",
      "f1_score: 0.8238113255139362\n"
     ]
    }
   ],
   "source": [
    "# Model Accuracy, how often is the classifier correct?\n",
    "print(\"Accuracy_score:\",accuracy_score(true_y, pred_bool))\n",
    "print(\"Precision_score:\",precision_score(true_y, pred_bool))\n",
    "print(\"Recall_score:\",recall_score(true_y, pred_bool))\n",
    "print(\"f1_score:\",f1_score(true_y, pred_bool))"
   ]
  },
  {
   "cell_type": "code",
   "execution_count": 58,
   "id": "dc4d2be1",
   "metadata": {},
   "outputs": [
    {
     "data": {
      "text/plain": [
       "<AxesSubplot:>"
      ]
     },
     "execution_count": 58,
     "metadata": {},
     "output_type": "execute_result"
    },
    {
     "data": {
      "image/png": "[encoded data removed]",
      "text/plain": [
       "<Figure size 432x288 with 2 Axes>"
      ]
     },
     "metadata": {
      "needs_background": "light"
     },
     "output_type": "display_data"
    }
   ],
   "source": [
    "cf_matrix = confusion_matrix(true_y, pred_bool)\n",
    "\n",
    "group_names  = ['TN','FP','FN','TP']\n",
    "\n",
    "group_counts = [\"{0:0.0f}\".format(value) for value in\n",
    "                cf_matrix.flatten()]\n",
    "group_percentages = [\"{0:.2%}\".format(value) for value in\n",
    "                     cf_matrix.flatten()/np.sum(cf_matrix)]\n",
    "labels = [f\"{v1}\\n{v2}\\n{v3}\" for v1, v2, v3 in\n",
    "          zip(group_names,group_counts,group_percentages)]\n",
    "labels = np.asarray(labels).reshape(2,2)\n",
    "sns.heatmap(cf_matrix, annot=labels, fmt='', cmap='Blues')"
   ]
  },
  {
   "cell_type": "markdown",
   "id": "391b1549",
   "metadata": {},
   "source": [
    "https://medium.com/@dtuk81/confusion-matrix-visualization-fc31e3f30fea"
   ]
  },
  {
   "cell_type": "markdown",
   "id": "fe5f1d21",
   "metadata": {},
   "source": [
    "https://towardsdatascience.com/understanding-data-science-classification-metrics-in-scikit-learn-in-python-3bc336865019"
   ]
  },
  {
   "cell_type": "markdown",
   "id": "27ea52c7",
   "metadata": {},
   "source": [
    "### Spliting Data to Train and Test"
   ]
  },
  {
   "cell_type": "code",
   "execution_count": 59,
   "id": "eb18f6af",
   "metadata": {},
   "outputs": [],
   "source": [
    "dummy_svm = pd.get_dummies(data_processed_drop_nan_sla)"
   ]
  },
  {
   "cell_type": "code",
   "execution_count": 60,
   "id": "e0dca311",
   "metadata": {},
   "outputs": [],
   "source": [
    "X_svm = dummy_svm.drop(['made_sla'], axis=1)\n",
    "y_svm = dummy_svm.made_sla"
   ]
  },
  {
   "cell_type": "code",
   "execution_count": 61,
   "id": "392e5fd8",
   "metadata": {},
   "outputs": [],
   "source": [
    "X_train_svm, X_validation_svm, y_train_svm, y_validation_svm = train_test_split(X_svm, y_svm, train_size=0.7, random_state=1234, stratify=y_svm)\n"
   ]
  },
  {
   "cell_type": "markdown",
   "id": "f4fbd422",
   "metadata": {},
   "source": [
    "### svm Classifier"
   ]
  },
  {
   "cell_type": "code",
   "execution_count": 62,
   "id": "5940bde9",
   "metadata": {},
   "outputs": [],
   "source": [
    "#Create a svm Classifier\n",
    "clf = svm.SVC(kernel='linear') # Linear Kernel\n"
   ]
  },
  {
   "cell_type": "code",
   "execution_count": 63,
   "id": "f828876c",
   "metadata": {},
   "outputs": [
    {
     "data": {
      "text/plain": [
       "SVC(kernel='linear')"
      ]
     },
     "execution_count": 63,
     "metadata": {},
     "output_type": "execute_result"
    }
   ],
   "source": [
    "#Train the model using the training sets\n",
    "clf.fit(X_train_svm, y_train_svm)\n"
   ]
  },
  {
   "cell_type": "code",
   "execution_count": 64,
   "id": "eeffa032",
   "metadata": {},
   "outputs": [],
   "source": [
    "#Predict the response for test dataset\n",
    "y_pred = clf.predict(X_validation_svm)"
   ]
  },
  {
   "cell_type": "code",
   "execution_count": 65,
   "id": "3998c589",
   "metadata": {},
   "outputs": [
    {
     "name": "stdout",
     "output_type": "stream",
     "text": [
      "Accuracy_score: 0.745600278794215\n",
      "Precision_score: 0.8009911319770475\n",
      "Recall_score: 0.8150212314225053\n",
      "f1_score: 0.8079452775585373\n"
     ]
    }
   ],
   "source": [
    "# Model Accuracy, how often is the classifier correct?\n",
    "print(\"Accuracy_score:\",metrics.accuracy_score(y_validation_svm, y_pred))\n",
    "print(\"Precision_score:\",metrics.precision_score(y_validation_svm, y_pred))\n",
    "print(\"Recall_score:\",metrics.recall_score(y_validation_svm, y_pred))\n",
    "print(\"f1_score:\",metrics.f1_score(y_validation_svm, y_pred))"
   ]
  },
  {
   "cell_type": "code",
   "execution_count": 66,
   "id": "f13074b2",
   "metadata": {},
   "outputs": [
    {
     "data": {
      "text/plain": [
       "<AxesSubplot:>"
      ]
     },
     "execution_count": 66,
     "metadata": {},
     "output_type": "execute_result"
    },
    {
     "data": {
      "image/png": "[encoded data removed]",
      "text/plain": [
       "<Figure size 432x288 with 2 Axes>"
      ]
     },
     "metadata": {
      "needs_background": "light"
     },
     "output_type": "display_data"
    }
   ],
   "source": [
    "cf_matrix = confusion_matrix(y_validation_svm, y_pred)\n",
    "\n",
    "group_names  = ['TN','FP','FN','TP']\n",
    "\n",
    "group_counts = [\"{0:0.0f}\".format(value) for value in\n",
    "                cf_matrix.flatten()]\n",
    "group_percentages = [\"{0:.2%}\".format(value) for value in\n",
    "                     cf_matrix.flatten()/np.sum(cf_matrix)]\n",
    "labels = [f\"{v1}\\n{v2}\\n{v3}\" for v1, v2, v3 in\n",
    "          zip(group_names,group_counts,group_percentages)]\n",
    "labels = np.asarray(labels).reshape(2,2)\n",
    "sns.heatmap(cf_matrix, annot=labels, fmt='', cmap='Blues')"
   ]
  },
  {
   "cell_type": "markdown",
   "id": "e9a2a3ab",
   "metadata": {},
   "source": [
    "### Logistic regression"
   ]
  },
  {
   "cell_type": "code",
   "execution_count": 67,
   "id": "53ef8072",
   "metadata": {},
   "outputs": [],
   "source": [
    "\n",
    "from sklearn.linear_model import LogisticRegression"
   ]
  },
  {
   "cell_type": "code",
   "execution_count": 68,
   "id": "94db3636",
   "metadata": {},
   "outputs": [],
   "source": [
    "# all parameters not specified are set to their defaults\n",
    "logisticRegr = LogisticRegression()"
   ]
  },
  {
   "cell_type": "code",
   "execution_count": 69,
   "id": "31c2be9a",
   "metadata": {},
   "outputs": [
    {
     "name": "stderr",
     "output_type": "stream",
     "text": [
      "C:\\Users\\isuri\\anaconda3\\lib\\site-packages\\sklearn\\linear_model\\_logistic.py:763: ConvergenceWarning: lbfgs failed to converge (status=1):\n",
      "STOP: TOTAL NO. of ITERATIONS REACHED LIMIT.\n",
      "\n",
      "Increase the number of iterations (max_iter) or scale the data as shown in:\n",
      "    https://scikit-learn.org/stable/modules/preprocessing.html\n",
      "Please also refer to the documentation for alternative solver options:\n",
      "    https://scikit-learn.org/stable/modules/linear_model.html#logistic-regression\n",
      "  n_iter_i = _check_optimize_result(\n"
     ]
    }
   ],
   "source": [
    "# Train Decision Tree Classifer\n",
    "logisticRegr = logisticRegr.fit(X_train_svm,y_train_svm)"
   ]
  },
  {
   "cell_type": "code",
   "execution_count": 70,
   "id": "e786c3f8",
   "metadata": {},
   "outputs": [],
   "source": [
    "#Predict the response for test dataset\n",
    "y_pred = logisticRegr.predict(X_validation_svm)"
   ]
  },
  {
   "cell_type": "code",
   "execution_count": 71,
   "id": "132c0581",
   "metadata": {},
   "outputs": [
    {
     "name": "stdout",
     "output_type": "stream",
     "text": [
      "LogisticRegression()\n"
     ]
    }
   ],
   "source": [
    "print (logisticRegr)"
   ]
  },
  {
   "cell_type": "code",
   "execution_count": 72,
   "id": "8e5e107f",
   "metadata": {},
   "outputs": [
    {
     "name": "stdout",
     "output_type": "stream",
     "text": [
      "Accuracy_score: 0.7584945112388918\n",
      "Precision_score: 0.7849282296650718\n",
      "Recall_score: 0.8707537154989384\n",
      "f1_score: 0.8256165072974333\n"
     ]
    }
   ],
   "source": [
    "# Model Accuracy, how often is the classifier correct?\n",
    "print(\"Accuracy_score:\",metrics.accuracy_score(y_validation_svm, y_pred))\n",
    "print(\"Precision_score:\",metrics.precision_score(y_validation_svm, y_pred))\n",
    "print(\"Recall_score:\",metrics.recall_score(y_validation_svm, y_pred))\n",
    "print(\"f1_score:\",metrics.f1_score(y_validation_svm, y_pred))"
   ]
  },
  {
   "cell_type": "code",
   "execution_count": 73,
   "id": "76687395",
   "metadata": {},
   "outputs": [
    {
     "data": {
      "text/plain": [
       "<AxesSubplot:>"
      ]
     },
     "execution_count": 73,
     "metadata": {},
     "output_type": "execute_result"
    },
    {
     "data": {
      "image/png": "[encoded data removed]",
      "text/plain": [
       "<Figure size 432x288 with 2 Axes>"
      ]
     },
     "metadata": {
      "needs_background": "light"
     },
     "output_type": "display_data"
    }
   ],
   "source": [
    "cf_matrix = confusion_matrix(y_validation_svm, y_pred)\n",
    "\n",
    "group_names  = ['TN','FP','FN','TP']\n",
    "\n",
    "group_counts = [\"{0:0.0f}\".format(value) for value in\n",
    "                cf_matrix.flatten()]\n",
    "group_percentages = [\"{0:.2%}\".format(value) for value in\n",
    "                     cf_matrix.flatten()/np.sum(cf_matrix)]\n",
    "labels = [f\"{v1}\\n{v2}\\n{v3}\" for v1, v2, v3 in\n",
    "          zip(group_names,group_counts,group_percentages)]\n",
    "labels = np.asarray(labels).reshape(2,2)\n",
    "sns.heatmap(cf_matrix, annot=labels, fmt='', cmap='Blues')"
   ]
  },
  {
   "cell_type": "markdown",
   "id": "0c4952ac",
   "metadata": {},
   "source": [
    "### Random Forest Model(Gaussian Classifier)"
   ]
  },
  {
   "cell_type": "markdown",
   "id": "b201ce76",
   "metadata": {},
   "source": [
    "https://www.datacamp.com/community/tutorials/random-forests-classifier-python"
   ]
  },
  {
   "cell_type": "code",
   "execution_count": 74,
   "id": "e694a7a0",
   "metadata": {},
   "outputs": [],
   "source": [
    "#Create a Gaussian Classifier\n",
    "RF_clf=RandomForestClassifier(n_estimators=80)"
   ]
  },
  {
   "cell_type": "code",
   "execution_count": 75,
   "id": "73a67db6",
   "metadata": {},
   "outputs": [
    {
     "data": {
      "text/plain": [
       "RandomForestClassifier(n_estimators=80)"
      ]
     },
     "execution_count": 75,
     "metadata": {},
     "output_type": "execute_result"
    }
   ],
   "source": [
    "#Train the model using the training sets y_pred=clf.predict(X_test)\n",
    "RF_clf.fit(X_train_svm,y_train_svm)"
   ]
  },
  {
   "cell_type": "code",
   "execution_count": 76,
   "id": "dca95cbe",
   "metadata": {},
   "outputs": [],
   "source": [
    "y_pred=RF_clf.predict(X_validation_svm)"
   ]
  },
  {
   "cell_type": "code",
   "execution_count": 77,
   "id": "6649466c",
   "metadata": {},
   "outputs": [
    {
     "name": "stdout",
     "output_type": "stream",
     "text": [
      "Accuracy_score: 0.7534413660916536\n",
      "Precision_score: 0.7895643613093773\n",
      "Recall_score: 0.851380042462845\n",
      "f1_score: 0.8193078789426638\n"
     ]
    }
   ],
   "source": [
    "# Model Accuracy, how often is the classifier correct?\n",
    "print(\"Accuracy_score:\",metrics.accuracy_score(y_validation_svm, y_pred))\n",
    "print(\"Precision_score:\",metrics.precision_score(y_validation_svm, y_pred))\n",
    "print(\"Recall_score:\",metrics.recall_score(y_validation_svm, y_pred))\n",
    "print(\"f1_score:\",metrics.f1_score(y_validation_svm, y_pred))\n"
   ]
  },
  {
   "cell_type": "code",
   "execution_count": 78,
   "id": "fc0a3185",
   "metadata": {},
   "outputs": [
    {
     "data": {
      "text/plain": [
       "<AxesSubplot:>"
      ]
     },
     "execution_count": 78,
     "metadata": {},
     "output_type": "execute_result"
    },
    {
     "data": {
      "image/png": "[encoded data removed]",
      "text/plain": [
       "<Figure size 432x288 with 2 Axes>"
      ]
     },
     "metadata": {
      "needs_background": "light"
     },
     "output_type": "display_data"
    }
   ],
   "source": [
    "cf_matrix = confusion_matrix(y_validation_svm, y_pred)\n",
    "\n",
    "group_names  = ['TN','FP','FN','TP']\n",
    "\n",
    "group_counts = [\"{0:0.0f}\".format(value) for value in\n",
    "                cf_matrix.flatten()]\n",
    "group_percentages = [\"{0:.2%}\".format(value) for value in\n",
    "                     cf_matrix.flatten()/np.sum(cf_matrix)]\n",
    "labels = [f\"{v1}\\n{v2}\\n{v3}\" for v1, v2, v3 in\n",
    "          zip(group_names,group_counts,group_percentages)]\n",
    "labels = np.asarray(labels).reshape(2,2)\n",
    "sns.heatmap(cf_matrix, annot=labels, fmt='', cmap='Blues')"
   ]
  },
  {
   "cell_type": "markdown",
   "id": "30e664b7",
   "metadata": {},
   "source": [
    "### Decision Tree Classifier"
   ]
  },
  {
   "cell_type": "code",
   "execution_count": 79,
   "id": "7d8184e1",
   "metadata": {},
   "outputs": [],
   "source": [
    "# Create Decision Tree classifer object\n",
    "DT_clf = DecisionTreeClassifier()"
   ]
  },
  {
   "cell_type": "code",
   "execution_count": 80,
   "id": "ec7fa4ed",
   "metadata": {},
   "outputs": [],
   "source": [
    "# Train Decision Tree Classifer\n",
    "DT_clf = clf.fit(X_train_svm,y_train_svm)"
   ]
  },
  {
   "cell_type": "code",
   "execution_count": 81,
   "id": "def11b96",
   "metadata": {},
   "outputs": [],
   "source": [
    "#Predict the response for test dataset\n",
    "y_pred = DT_clf.predict(X_validation_svm)"
   ]
  },
  {
   "cell_type": "code",
   "execution_count": 82,
   "id": "bb91eb4c",
   "metadata": {},
   "outputs": [
    {
     "name": "stdout",
     "output_type": "stream",
     "text": [
      "Accuracy: 0.745600278794215\n"
     ]
    }
   ],
   "source": [
    "# Model Accuracy, how often is the classifier correct?\n",
    "print(\"Accuracy:\",metrics.accuracy_score(y_validation_svm, y_pred))"
   ]
  },
  {
   "cell_type": "code",
   "execution_count": 83,
   "id": "4916fc54",
   "metadata": {},
   "outputs": [
    {
     "name": "stdout",
     "output_type": "stream",
     "text": [
      "Accuracy_score: 0.745600278794215\n",
      "Precision_score: 0.8009911319770475\n",
      "Recall_score: 0.8150212314225053\n",
      "f1_score: 0.8079452775585373\n"
     ]
    }
   ],
   "source": [
    "# Model Accuracy, how often is the classifier correct?\n",
    "print(\"Accuracy_score:\",metrics.accuracy_score(y_validation_svm, y_pred))\n",
    "print(\"Precision_score:\",metrics.precision_score(y_validation_svm, y_pred))\n",
    "print(\"Recall_score:\",metrics.recall_score(y_validation_svm, y_pred))\n",
    "print(\"f1_score:\",metrics.f1_score(y_validation_svm, y_pred))"
   ]
  },
  {
   "cell_type": "code",
   "execution_count": 84,
   "id": "61ac1444",
   "metadata": {},
   "outputs": [
    {
     "data": {
      "text/plain": [
       "<AxesSubplot:>"
      ]
     },
     "execution_count": 84,
     "metadata": {},
     "output_type": "execute_result"
    },
    {
     "data": {
      "image/png": "[encoded data removed]",
      "text/plain": [
       "<Figure size 432x288 with 2 Axes>"
      ]
     },
     "metadata": {
      "needs_background": "light"
     },
     "output_type": "display_data"
    }
   ],
   "source": [
    "cf_matrix = confusion_matrix(y_validation_svm, y_pred)\n",
    "\n",
    "group_names  = ['TN','FP','FN','TP']\n",
    "\n",
    "group_counts = [\"{0:0.0f}\".format(value) for value in\n",
    "                cf_matrix.flatten()]\n",
    "group_percentages = [\"{0:.2%}\".format(value) for value in\n",
    "                     cf_matrix.flatten()/np.sum(cf_matrix)]\n",
    "labels = [f\"{v1}\\n{v2}\\n{v3}\" for v1, v2, v3 in\n",
    "          zip(group_names,group_counts,group_percentages)]\n",
    "labels = np.asarray(labels).reshape(2,2)\n",
    "sns.heatmap(cf_matrix, annot=labels, fmt='', cmap='Blues')"
   ]
  },
  {
   "cell_type": "markdown",
   "id": "0dfda10a",
   "metadata": {},
   "source": [
    "## Data cleansing"
   ]
  },
  {
   "cell_type": "markdown",
   "id": "a3c1e066",
   "metadata": {},
   "source": [
    "## Creating a method to check for values in the list"
   ]
  },
  {
   "cell_type": "markdown",
   "id": "624805d5",
   "metadata": {},
   "source": [
    "## Predicting and Evaluating the dataset"
   ]
  },
  {
   "cell_type": "markdown",
   "id": "2eaeb982",
   "metadata": {},
   "source": [
    "https://towardsdatascience.com/machine-learning-classifiers-comparison-with-python-33149aecdbca"
   ]
  },
  {
   "cell_type": "code",
   "execution_count": 85,
   "id": "974a3828",
   "metadata": {},
   "outputs": [],
   "source": [
    "# Define dictionary with performance metrics\n",
    "scoring = {'accuracy':make_scorer(accuracy_score), \n",
    "           'precision':make_scorer(precision_score),\n",
    "           'recall':make_scorer(recall_score), \n",
    "           'f1_score':make_scorer(f1_score)}"
   ]
  },
  {
   "cell_type": "code",
   "execution_count": 86,
   "id": "bf604fd3",
   "metadata": {},
   "outputs": [],
   "source": [
    "# Instantiate the machine learning classifiers\n",
    "log_model = LogisticRegression(max_iter=10000)\n",
    "svc_model = LinearSVC(dual=False)\n",
    "dtr_model = DecisionTreeClassifier()\n",
    "rfc_model = RandomForestClassifier()\n",
    "gnb_model = GaussianNB()"
   ]
  },
  {
   "cell_type": "code",
   "execution_count": 87,
   "id": "4773546c",
   "metadata": {},
   "outputs": [],
   "source": [
    "# Define the models evaluation function\n",
    "def models_evaluation(X_train_svm,y_train_svm):\n",
    "    \n",
    "    '''\n",
    "    X : data set features\n",
    "    y : data set target\n",
    "    folds : number of cross-validation folds\n",
    "    \n",
    "    '''"
   ]
  },
  {
   "cell_type": "markdown",
   "id": "b9fef5f7",
   "metadata": {},
   "source": [
    "### Perform cross-validation to each machine learning classifier"
   ]
  },
  {
   "cell_type": "code",
   "execution_count": 88,
   "id": "39a7dfc9",
   "metadata": {},
   "outputs": [],
   "source": [
    "  log = cross_validate(log_model, X_train_svm,y_train_svm, scoring=scoring)"
   ]
  },
  {
   "cell_type": "code",
   "execution_count": 89,
   "id": "290ece7d",
   "metadata": {},
   "outputs": [],
   "source": [
    "  svc = cross_validate(svc_model, X_train_svm,y_train_svm, scoring=scoring)"
   ]
  },
  {
   "cell_type": "code",
   "execution_count": 90,
   "id": "1fbc41f7",
   "metadata": {},
   "outputs": [],
   "source": [
    "dtr = cross_validate(dtr_model, X_train_svm,y_train_svm, scoring=scoring)"
   ]
  },
  {
   "cell_type": "code",
   "execution_count": 91,
   "id": "7b332867",
   "metadata": {},
   "outputs": [],
   "source": [
    "rfc = cross_validate(rfc_model,X_train_svm,y_train_svm, scoring=scoring)"
   ]
  },
  {
   "cell_type": "code",
   "execution_count": 92,
   "id": "1601ac7d",
   "metadata": {},
   "outputs": [],
   "source": [
    "gnb = cross_validate(gnb_model, X_train_svm,y_train_svm, scoring=scoring)"
   ]
  },
  {
   "cell_type": "code",
   "execution_count": 93,
   "id": "3eb097e3",
   "metadata": {},
   "outputs": [],
   "source": [
    "# Create a data frame with the models perfoamnce metrics scores\n",
    "models_scores_table = pd.DataFrame({'Logistic Regression':[log['test_accuracy'].mean(),\n",
    "                                                               log['test_precision'].mean(),\n",
    "                                                               log['test_recall'].mean(),\n",
    "                                                               log['test_f1_score'].mean()],\n",
    "                                       \n",
    "                                      'Support Vector Classifier':[svc['test_accuracy'].mean(),\n",
    "                                                                   svc['test_precision'].mean(),\n",
    "                                                                   svc['test_recall'].mean(),\n",
    "                                                                   svc['test_f1_score'].mean()],\n",
    "                                       \n",
    "                                      'Decision Tree':[dtr['test_accuracy'].mean(),\n",
    "                                                       dtr['test_precision'].mean(),\n",
    "                                                       dtr['test_recall'].mean(),\n",
    "                                                       dtr['test_f1_score'].mean()],\n",
    "                                       \n",
    "                                      'Random Forest':[rfc['test_accuracy'].mean(),\n",
    "                                                       rfc['test_precision'].mean(),\n",
    "                                                       rfc['test_recall'].mean(),\n",
    "                                                       rfc['test_f1_score'].mean()],\n",
    "                                       \n",
    "                                      'Gaussian Naive Bayes':[gnb['test_accuracy'].mean(),\n",
    "                                                              gnb['test_precision'].mean(),\n",
    "                                                              gnb['test_recall'].mean(),\n",
    "                                                              gnb['test_f1_score'].mean()]},\n",
    "                                      \n",
    "                                      index=['Accuracy', 'Precision', 'Recall', 'F1 Score'])\n",
    "    \n",
    "     \n",
    "    \n",
    "    # Add 'Best Score' column\n",
    "models_scores_table['Best Score'] = models_scores_table.idxmax(axis=1)\n",
    "    \n",
    "    \n",
    "  \n",
    "\n",
    "    \n",
    "   "
   ]
  },
  {
   "cell_type": "code",
   "execution_count": 94,
   "id": "069c941f",
   "metadata": {},
   "outputs": [
    {
     "data": {
      "text/html": [
       "<div>\n",
       "<style scoped>\n",
       "    .dataframe tbody tr th:only-of-type {\n",
       "        vertical-align: middle;\n",
       "    }\n",
       "\n",
       "    .dataframe tbody tr th {\n",
       "        vertical-align: top;\n",
       "    }\n",
       "\n",
       "    .dataframe thead th {\n",
       "        text-align: right;\n",
       "    }\n",
       "</style>\n",
       "<table border=\"1\" class=\"dataframe\">\n",
       "  <thead>\n",
       "    <tr style=\"text-align: right;\">\n",
       "      <th></th>\n",
       "      <th>Logistic Regression</th>\n",
       "      <th>Support Vector Classifier</th>\n",
       "      <th>Decision Tree</th>\n",
       "      <th>Random Forest</th>\n",
       "      <th>Gaussian Naive Bayes</th>\n",
       "      <th>Best Score</th>\n",
       "    </tr>\n",
       "  </thead>\n",
       "  <tbody>\n",
       "    <tr>\n",
       "      <th>Accuracy</th>\n",
       "      <td>0.741748</td>\n",
       "      <td>0.740777</td>\n",
       "      <td>0.716206</td>\n",
       "      <td>0.738312</td>\n",
       "      <td>0.712099</td>\n",
       "      <td>Logistic Regression</td>\n",
       "    </tr>\n",
       "    <tr>\n",
       "      <th>Precision</th>\n",
       "      <td>0.774825</td>\n",
       "      <td>0.773658</td>\n",
       "      <td>0.778221</td>\n",
       "      <td>0.779427</td>\n",
       "      <td>0.734361</td>\n",
       "      <td>Random Forest</td>\n",
       "    </tr>\n",
       "    <tr>\n",
       "      <th>Recall</th>\n",
       "      <td>0.855339</td>\n",
       "      <td>0.855566</td>\n",
       "      <td>0.794267</td>\n",
       "      <td>0.839076</td>\n",
       "      <td>0.880697</td>\n",
       "      <td>Gaussian Naive Bayes</td>\n",
       "    </tr>\n",
       "    <tr>\n",
       "      <th>F1 Score</th>\n",
       "      <td>0.813069</td>\n",
       "      <td>0.812528</td>\n",
       "      <td>0.786100</td>\n",
       "      <td>0.808089</td>\n",
       "      <td>0.800692</td>\n",
       "      <td>Logistic Regression</td>\n",
       "    </tr>\n",
       "  </tbody>\n",
       "</table>\n",
       "</div>"
      ],
      "text/plain": [
       "           Logistic Regression  Support Vector Classifier  Decision Tree  \\\n",
       "Accuracy              0.741748                   0.740777       0.716206   \n",
       "Precision             0.774825                   0.773658       0.778221   \n",
       "Recall                0.855339                   0.855566       0.794267   \n",
       "F1 Score              0.813069                   0.812528       0.786100   \n",
       "\n",
       "           Random Forest  Gaussian Naive Bayes            Best Score  \n",
       "Accuracy        0.738312              0.712099   Logistic Regression  \n",
       "Precision       0.779427              0.734361         Random Forest  \n",
       "Recall          0.839076              0.880697  Gaussian Naive Bayes  \n",
       "F1 Score        0.808089              0.800692   Logistic Regression  "
      ]
     },
     "execution_count": 94,
     "metadata": {},
     "output_type": "execute_result"
    }
   ],
   "source": [
    "models_scores_table"
   ]
  }
 ],
 "metadata": {
  "kernelspec": {
   "display_name": "Python 3",
   "language": "python",
   "name": "python3"
  },
  "language_info": {
   "codemirror_mode": {
    "name": "ipython",
    "version": 3
   },
   "file_extension": ".py",
   "mimetype": "text/x-python",
   "name": "python",
   "nbconvert_exporter": "python",
   "pygments_lexer": "ipython3",
   "version": "3.8.8"
  }
 },
 "nbformat": 4,
 "nbformat_minor": 5
}
